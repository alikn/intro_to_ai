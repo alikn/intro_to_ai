{
  "cells": [
    {
      "cell_type": "markdown",
      "metadata": {},
      "source": [
        "[![Open In Colab](https://colab.research.google.com/assets/colab-badge.svg)](https://colab.research.google.com/github/alikn/intro_to_ai/blob/master/intro_to_pandas.ipynb)"
      ]
    },
    {
      "cell_type": "markdown",
      "metadata": {},
      "source": [
        "This notebook is forked from [mjghorbany](https://github.com/mjghorbany)'s [Machine Learning Fundamentals](https://github.com/mjghorbany/Machine-Learning-Fundamentals) Github repo."
      ]
    },
    {
      "cell_type": "markdown",
      "metadata": {
        "id": "BJzlSj9Ryg-y"
      },
      "source": [
        "# Data Manipulation with Pandas"
      ]
    },
    {
      "cell_type": "markdown",
      "metadata": {
        "id": "bWAYdgrsyg-z"
      },
      "source": [
        "<img src=\"https://alik-courses.web.app/intro-to-ai/intro-to-pandas/images/pandas.jpeg\" width=\"300\" height=\"300\" style=\"float:right\"/>\n",
        "\n",
        "## Learning Objectives\n",
        "*In this lesson, we will go over the following:*\n",
        "\n",
        "- Define what Pandas is and how it relates to data science.\n",
        "- Manipulate Pandas `DataFrames` and `Series`.\n",
        "- Filter and sort data using Pandas.\n",
        "- Manipulate `DataFrame` columns.\n",
        "- Know how to handle null and missing values."
      ]
    },
    {
      "cell_type": "markdown",
      "metadata": {
        "id": "HcUx6vfPyg-0"
      },
      "source": [
        "## Lesson Guide\n",
        "\n",
        "- [What Is Pandas?](#pandas)\n",
        "- [Reading Files, Selecting Columns, and Summarizing](#reading-files)\n",
        "    - [Exercise 1](#exercise-one)\n",
        "    \n",
        "    \n",
        "- [Filtering and Sorting](#filtering-and-sorting)\n",
        "    - [Exercise 2](#exercise-two)\n",
        "    \n",
        "    \n",
        "- [Renaming, Adding, and Removing Columns](#columns)\n",
        "- [Handling Missing Values](#missing-values)\n",
        "    - [Exercise 3](#exercise-three)\n",
        "    \n",
        "    \n",
        "- [Split-Apply-Combine](#split-apply-combine)\n",
        "    - [Exercise 4](#exercise-four)\n",
        "    \n",
        "    \n",
        "- [Selecting Multiple Columns and Filtering Rows](#multiple-columns)\n",
        "- [Joining (Merging) DataFrames](#joining-dataframes)\n",
        "- [OPTIONAL: Other Commonly Used Features](#other-features)\n",
        "- [OPTIONAL: Other Less Used Features of Pandas](#uncommon-features)\n",
        "- [Summary](#summary)"
      ]
    },
    {
      "cell_type": "markdown",
      "metadata": {
        "id": "q3F4HqAXyg-0"
      },
      "source": [
        "<a id=\"pandas\"></a>\n",
        "\n",
        "## What Is Pandas?\n",
        "\n",
        "- **Objective:** Define what Pandas is and how it relates to data science.\n",
        "\n",
        "Pandas is a Python library that primarily adds two new datatypes to Python: `DataFrame` and `Series`.\n",
        "\n",
        "- A `Series` is a sequence of items, where each item has a unique label (called an `index`).\n",
        "- A `DataFrame` is a table of data. Each row has a unique label (the `row index`), and each column has a unique label (the `column index`).\n",
        "- Note that each column in a `DataFrame` can be considered a `Series` (`Series` index).\n",
        "\n",
        "> Behind the scenes, these datatypes use the NumPy (\"Numerical Python\") library. NumPy primarily adds the `ndarray` (n-dimensional array) datatype to Pandas. An `ndarray` is similar to a Python list — it stores ordered data. However, it differs in three respects:\n",
        "> - Each element has the same datatype (typically fixed-size, e.g., a 32-bit integer).\n",
        "> - Elements are stored contiguously (immediately after each other) in memory for fast retrieval.\n",
        "> - The total size of an `ndarray` is fixed.\n",
        "\n",
        "> Storing `Series` and `DataFrame` data in `ndarray`s makes Pandas faster and uses less memory than standard Python datatypes. Many libraries (such as scikit-learn) accept `ndarray`s as input rather than Pandas datatypes, so we will frequently convert between them.\n"
      ]
    },
    {
      "cell_type": "markdown",
      "metadata": {
        "id": "MGunMau4yg-1"
      },
      "source": [
        "## Why Pandas is so popular ?\n",
        "<img src=\"https://alik-courses.web.app/intro-to-ai/intro-to-pandas/images/pandas_stack.png\" width=\"500\" height=\"400\" align=\"center\"/>\n"
      ]
    },
    {
      "cell_type": "markdown",
      "metadata": {
        "id": "0pmVWQoHyg-1"
      },
      "source": [
        "## Using Pandas\n",
        "\n",
        "Pandas is frequently used in data science because it offers a large set of commonly used functions, is relatively fast, and has a large community. Because many data science libraries also use NumPy to manipulate data, you can easily transfer data between libraries (as we will often do in this class!).\n",
        "\n",
        "Pandas is a large library that typically takes a lot of practice to learn. It heavily overrides Python operators, resulting in odd-looking syntax. For example, given a `DataFrame` called `cars` which contains a column `mpg`, we might want to view all cars with mpg over 35. To do this, we might write: `cars[cars['mpg'] > 35]`. In standard Python, this would most likely give a syntax error. (**Challenge:** Using only built-in datatypes, can you define `cars` and `mpg` to make this expression valid?)\n",
        "\n",
        "Pandas also highly favors certain patterns of use. For example, looping through a `DataFrame` row by row is highly discouraged. Instead, Pandas favors using **vectorized functions** that operate column by column. (This is because each column is stored separately as an `ndarray`, and NumPy is optimized for operating on `ndarray`s.)\n",
        "\n",
        "Do not be discouraged if Pandas feels overwhelming. Gradually, as you use it, you will become familiar with which methods to use and the \"Pandas way\" of thinking about and manipulating data."
      ]
    },
    {
      "cell_type": "markdown",
      "metadata": {
        "id": "RyavMTs-yg-2"
      },
      "source": [
        "### Class Methods and Attributes\n",
        "\n",
        "Pandas `DataFrame`s are Pandas class objects and therefore come with attributes and methods. To access these, follow the variable name with a dot. For example, given a `DataFrame` called `users`:\n",
        "\n",
        "```\n",
        "- users.index       # accesses the `index` attribute -- note there are no parentheses. attributes are not callable\n",
        "- users.head()      # calls the `head` method (since there are open/closed parentheses)\n",
        "- users.head(10)    # calls the `head` method with parameter `10`, indicating the first 10 rows. this is the same as:\n",
        "- users.head(n=10)  # calls the `head` method, setting the named parameter `n` to have a value of `10`.\n",
        "```\n",
        "\n",
        "We know that the `head` method accepts one parameter with an optional name of `n` because it is in the documentation for that method. Let's see how to view the documentation next."
      ]
    },
    {
      "cell_type": "markdown",
      "metadata": {
        "id": "cFveV0SNyg-2"
      },
      "source": [
        "## First lets import Pandas"
      ]
    },
    {
      "cell_type": "code",
      "execution_count": 1,
      "metadata": {
        "id": "ur6xnW08yg-3"
      },
      "outputs": [],
      "source": [
        "# Load Pandas into Python\n",
        "import pandas as pd\n",
        "from matplotlib import pyplot as plt\n",
        "\n",
        "%matplotlib inline"
      ]
    },
    {
      "cell_type": "markdown",
      "metadata": {
        "id": "0AOT-LyAyg-3"
      },
      "source": [
        "<a id=\"reading-files\"></a>\n",
        "### Reading Files, Selecting Columns, and Summarizing"
      ]
    },
    {
      "cell_type": "code",
      "execution_count": 48,
      "metadata": {
        "id": "m2F7o14yyg-3"
      },
      "outputs": [],
      "source": [
        "# using the read_csv method of pandas we read file \n",
        "users = pd.read_csv('https://alik-courses.web.app/intro-to-ai/intro-to-pandas/data/user.tbl', sep='|')"
      ]
    },
    {
      "cell_type": "markdown",
      "metadata": {
        "id": "kyyG4UGUyg-3"
      },
      "source": [
        "**Examine the users data.**"
      ]
    },
    {
      "cell_type": "code",
      "execution_count": 3,
      "metadata": {
        "colab": {
          "base_uri": "https://localhost:8080/",
          "height": 424
        },
        "id": "Eeh5sScKyg-3",
        "outputId": "e8a620aa-c950-4c2d-d535-aa912b2af563"
      },
      "outputs": [
        {
          "data": {
            "text/html": [
              "<div>\n",
              "<style scoped>\n",
              "    .dataframe tbody tr th:only-of-type {\n",
              "        vertical-align: middle;\n",
              "    }\n",
              "\n",
              "    .dataframe tbody tr th {\n",
              "        vertical-align: top;\n",
              "    }\n",
              "\n",
              "    .dataframe thead th {\n",
              "        text-align: right;\n",
              "    }\n",
              "</style>\n",
              "<table border=\"1\" class=\"dataframe\">\n",
              "  <thead>\n",
              "    <tr style=\"text-align: right;\">\n",
              "      <th></th>\n",
              "      <th>user_id</th>\n",
              "      <th>age</th>\n",
              "      <th>gender</th>\n",
              "      <th>occupation</th>\n",
              "      <th>zip_code</th>\n",
              "    </tr>\n",
              "  </thead>\n",
              "  <tbody>\n",
              "    <tr>\n",
              "      <th>0</th>\n",
              "      <td>1</td>\n",
              "      <td>24</td>\n",
              "      <td>M</td>\n",
              "      <td>technician</td>\n",
              "      <td>85711</td>\n",
              "    </tr>\n",
              "    <tr>\n",
              "      <th>1</th>\n",
              "      <td>2</td>\n",
              "      <td>53</td>\n",
              "      <td>F</td>\n",
              "      <td>other</td>\n",
              "      <td>94043</td>\n",
              "    </tr>\n",
              "    <tr>\n",
              "      <th>2</th>\n",
              "      <td>3</td>\n",
              "      <td>23</td>\n",
              "      <td>M</td>\n",
              "      <td>writer</td>\n",
              "      <td>32067</td>\n",
              "    </tr>\n",
              "    <tr>\n",
              "      <th>3</th>\n",
              "      <td>4</td>\n",
              "      <td>24</td>\n",
              "      <td>M</td>\n",
              "      <td>technician</td>\n",
              "      <td>43537</td>\n",
              "    </tr>\n",
              "    <tr>\n",
              "      <th>4</th>\n",
              "      <td>5</td>\n",
              "      <td>33</td>\n",
              "      <td>F</td>\n",
              "      <td>other</td>\n",
              "      <td>15213</td>\n",
              "    </tr>\n",
              "    <tr>\n",
              "      <th>...</th>\n",
              "      <td>...</td>\n",
              "      <td>...</td>\n",
              "      <td>...</td>\n",
              "      <td>...</td>\n",
              "      <td>...</td>\n",
              "    </tr>\n",
              "    <tr>\n",
              "      <th>938</th>\n",
              "      <td>939</td>\n",
              "      <td>26</td>\n",
              "      <td>F</td>\n",
              "      <td>student</td>\n",
              "      <td>33319</td>\n",
              "    </tr>\n",
              "    <tr>\n",
              "      <th>939</th>\n",
              "      <td>940</td>\n",
              "      <td>32</td>\n",
              "      <td>M</td>\n",
              "      <td>administrator</td>\n",
              "      <td>02215</td>\n",
              "    </tr>\n",
              "    <tr>\n",
              "      <th>940</th>\n",
              "      <td>941</td>\n",
              "      <td>20</td>\n",
              "      <td>M</td>\n",
              "      <td>student</td>\n",
              "      <td>97229</td>\n",
              "    </tr>\n",
              "    <tr>\n",
              "      <th>941</th>\n",
              "      <td>942</td>\n",
              "      <td>48</td>\n",
              "      <td>F</td>\n",
              "      <td>librarian</td>\n",
              "      <td>78209</td>\n",
              "    </tr>\n",
              "    <tr>\n",
              "      <th>942</th>\n",
              "      <td>943</td>\n",
              "      <td>22</td>\n",
              "      <td>M</td>\n",
              "      <td>student</td>\n",
              "      <td>77841</td>\n",
              "    </tr>\n",
              "  </tbody>\n",
              "</table>\n",
              "<p>943 rows × 5 columns</p>\n",
              "</div>"
            ],
            "text/plain": [
              "     user_id  age gender     occupation zip_code\n",
              "0          1   24      M     technician    85711\n",
              "1          2   53      F          other    94043\n",
              "2          3   23      M         writer    32067\n",
              "3          4   24      M     technician    43537\n",
              "4          5   33      F          other    15213\n",
              "..       ...  ...    ...            ...      ...\n",
              "938      939   26      F        student    33319\n",
              "939      940   32      M  administrator    02215\n",
              "940      941   20      M        student    97229\n",
              "941      942   48      F      librarian    78209\n",
              "942      943   22      M        student    77841\n",
              "\n",
              "[943 rows x 5 columns]"
            ]
          },
          "execution_count": 3,
          "metadata": {},
          "output_type": "execute_result"
        }
      ],
      "source": [
        "users                   # Print the first 30 and last 30 rows."
      ]
    },
    {
      "cell_type": "code",
      "execution_count": 4,
      "metadata": {
        "colab": {
          "base_uri": "https://localhost:8080/"
        },
        "id": "5s3lqgoEyg-4",
        "outputId": "5cab76c5-eda4-4fe3-b250-85e7582f33c1"
      },
      "outputs": [
        {
          "data": {
            "text/plain": [
              "pandas.core.frame.DataFrame"
            ]
          },
          "execution_count": 4,
          "metadata": {},
          "output_type": "execute_result"
        }
      ],
      "source": [
        "type(users)             # DataFrame"
      ]
    },
    {
      "cell_type": "code",
      "execution_count": 5,
      "metadata": {
        "colab": {
          "base_uri": "https://localhost:8080/"
        },
        "id": "XzI1F4Kpyg-4",
        "outputId": "93fe64d9-735c-4282-ca92-d892920fe738"
      },
      "outputs": [
        {
          "data": {
            "text/plain": [
              "(943, 5)"
            ]
          },
          "execution_count": 5,
          "metadata": {},
          "output_type": "execute_result"
        }
      ],
      "source": [
        "# how to get the size of the dtaframe?\n",
        "users.shape"
      ]
    },
    {
      "cell_type": "code",
      "execution_count": 6,
      "metadata": {
        "colab": {
          "base_uri": "https://localhost:8080/",
          "height": 143
        },
        "id": "tigmMTIvyg-5",
        "outputId": "af96f0b8-51eb-4d3d-d55b-acd6f332af03"
      },
      "outputs": [
        {
          "data": {
            "text/html": [
              "<div>\n",
              "<style scoped>\n",
              "    .dataframe tbody tr th:only-of-type {\n",
              "        vertical-align: middle;\n",
              "    }\n",
              "\n",
              "    .dataframe tbody tr th {\n",
              "        vertical-align: top;\n",
              "    }\n",
              "\n",
              "    .dataframe thead th {\n",
              "        text-align: right;\n",
              "    }\n",
              "</style>\n",
              "<table border=\"1\" class=\"dataframe\">\n",
              "  <thead>\n",
              "    <tr style=\"text-align: right;\">\n",
              "      <th></th>\n",
              "      <th>user_id</th>\n",
              "      <th>age</th>\n",
              "      <th>gender</th>\n",
              "      <th>occupation</th>\n",
              "      <th>zip_code</th>\n",
              "    </tr>\n",
              "  </thead>\n",
              "  <tbody>\n",
              "    <tr>\n",
              "      <th>0</th>\n",
              "      <td>1</td>\n",
              "      <td>24</td>\n",
              "      <td>M</td>\n",
              "      <td>technician</td>\n",
              "      <td>85711</td>\n",
              "    </tr>\n",
              "    <tr>\n",
              "      <th>1</th>\n",
              "      <td>2</td>\n",
              "      <td>53</td>\n",
              "      <td>F</td>\n",
              "      <td>other</td>\n",
              "      <td>94043</td>\n",
              "    </tr>\n",
              "    <tr>\n",
              "      <th>2</th>\n",
              "      <td>3</td>\n",
              "      <td>23</td>\n",
              "      <td>M</td>\n",
              "      <td>writer</td>\n",
              "      <td>32067</td>\n",
              "    </tr>\n",
              "  </tbody>\n",
              "</table>\n",
              "</div>"
            ],
            "text/plain": [
              "   user_id  age gender  occupation zip_code\n",
              "0        1   24      M  technician    85711\n",
              "1        2   53      F       other    94043\n",
              "2        3   23      M      writer    32067"
            ]
          },
          "execution_count": 6,
          "metadata": {},
          "output_type": "execute_result"
        }
      ],
      "source": [
        "users.head(3)          # Print the first five rows."
      ]
    },
    {
      "cell_type": "code",
      "execution_count": 7,
      "metadata": {
        "colab": {
          "base_uri": "https://localhost:8080/",
          "height": 363
        },
        "id": "9VG2oH0Jyg-5",
        "outputId": "8c6b037c-2b1d-428e-d54a-72e68fbec790"
      },
      "outputs": [
        {
          "data": {
            "text/html": [
              "<div>\n",
              "<style scoped>\n",
              "    .dataframe tbody tr th:only-of-type {\n",
              "        vertical-align: middle;\n",
              "    }\n",
              "\n",
              "    .dataframe tbody tr th {\n",
              "        vertical-align: top;\n",
              "    }\n",
              "\n",
              "    .dataframe thead th {\n",
              "        text-align: right;\n",
              "    }\n",
              "</style>\n",
              "<table border=\"1\" class=\"dataframe\">\n",
              "  <thead>\n",
              "    <tr style=\"text-align: right;\">\n",
              "      <th></th>\n",
              "      <th>user_id</th>\n",
              "      <th>age</th>\n",
              "      <th>gender</th>\n",
              "      <th>occupation</th>\n",
              "      <th>zip_code</th>\n",
              "    </tr>\n",
              "  </thead>\n",
              "  <tbody>\n",
              "    <tr>\n",
              "      <th>0</th>\n",
              "      <td>1</td>\n",
              "      <td>24</td>\n",
              "      <td>M</td>\n",
              "      <td>technician</td>\n",
              "      <td>85711</td>\n",
              "    </tr>\n",
              "    <tr>\n",
              "      <th>1</th>\n",
              "      <td>2</td>\n",
              "      <td>53</td>\n",
              "      <td>F</td>\n",
              "      <td>other</td>\n",
              "      <td>94043</td>\n",
              "    </tr>\n",
              "    <tr>\n",
              "      <th>2</th>\n",
              "      <td>3</td>\n",
              "      <td>23</td>\n",
              "      <td>M</td>\n",
              "      <td>writer</td>\n",
              "      <td>32067</td>\n",
              "    </tr>\n",
              "    <tr>\n",
              "      <th>3</th>\n",
              "      <td>4</td>\n",
              "      <td>24</td>\n",
              "      <td>M</td>\n",
              "      <td>technician</td>\n",
              "      <td>43537</td>\n",
              "    </tr>\n",
              "    <tr>\n",
              "      <th>4</th>\n",
              "      <td>5</td>\n",
              "      <td>33</td>\n",
              "      <td>F</td>\n",
              "      <td>other</td>\n",
              "      <td>15213</td>\n",
              "    </tr>\n",
              "    <tr>\n",
              "      <th>5</th>\n",
              "      <td>6</td>\n",
              "      <td>42</td>\n",
              "      <td>M</td>\n",
              "      <td>executive</td>\n",
              "      <td>98101</td>\n",
              "    </tr>\n",
              "    <tr>\n",
              "      <th>6</th>\n",
              "      <td>7</td>\n",
              "      <td>57</td>\n",
              "      <td>M</td>\n",
              "      <td>administrator</td>\n",
              "      <td>91344</td>\n",
              "    </tr>\n",
              "    <tr>\n",
              "      <th>7</th>\n",
              "      <td>8</td>\n",
              "      <td>36</td>\n",
              "      <td>M</td>\n",
              "      <td>administrator</td>\n",
              "      <td>05201</td>\n",
              "    </tr>\n",
              "    <tr>\n",
              "      <th>8</th>\n",
              "      <td>9</td>\n",
              "      <td>29</td>\n",
              "      <td>M</td>\n",
              "      <td>student</td>\n",
              "      <td>01002</td>\n",
              "    </tr>\n",
              "    <tr>\n",
              "      <th>9</th>\n",
              "      <td>10</td>\n",
              "      <td>53</td>\n",
              "      <td>M</td>\n",
              "      <td>lawyer</td>\n",
              "      <td>90703</td>\n",
              "    </tr>\n",
              "  </tbody>\n",
              "</table>\n",
              "</div>"
            ],
            "text/plain": [
              "   user_id  age gender     occupation zip_code\n",
              "0        1   24      M     technician    85711\n",
              "1        2   53      F          other    94043\n",
              "2        3   23      M         writer    32067\n",
              "3        4   24      M     technician    43537\n",
              "4        5   33      F          other    15213\n",
              "5        6   42      M      executive    98101\n",
              "6        7   57      M  administrator    91344\n",
              "7        8   36      M  administrator    05201\n",
              "8        9   29      M        student    01002\n",
              "9       10   53      M         lawyer    90703"
            ]
          },
          "execution_count": 7,
          "metadata": {},
          "output_type": "execute_result"
        }
      ],
      "source": [
        "users.head(10)          # Print the first 10 rows."
      ]
    },
    {
      "cell_type": "code",
      "execution_count": 8,
      "metadata": {
        "colab": {
          "base_uri": "https://localhost:8080/",
          "height": 206
        },
        "id": "bNwjytB7yg-5",
        "outputId": "c10bf033-880c-40e5-a7ed-35807a24aaa5"
      },
      "outputs": [
        {
          "data": {
            "text/html": [
              "<div>\n",
              "<style scoped>\n",
              "    .dataframe tbody tr th:only-of-type {\n",
              "        vertical-align: middle;\n",
              "    }\n",
              "\n",
              "    .dataframe tbody tr th {\n",
              "        vertical-align: top;\n",
              "    }\n",
              "\n",
              "    .dataframe thead th {\n",
              "        text-align: right;\n",
              "    }\n",
              "</style>\n",
              "<table border=\"1\" class=\"dataframe\">\n",
              "  <thead>\n",
              "    <tr style=\"text-align: right;\">\n",
              "      <th></th>\n",
              "      <th>user_id</th>\n",
              "      <th>age</th>\n",
              "      <th>gender</th>\n",
              "      <th>occupation</th>\n",
              "      <th>zip_code</th>\n",
              "    </tr>\n",
              "  </thead>\n",
              "  <tbody>\n",
              "    <tr>\n",
              "      <th>0</th>\n",
              "      <td>1</td>\n",
              "      <td>24</td>\n",
              "      <td>M</td>\n",
              "      <td>technician</td>\n",
              "      <td>85711</td>\n",
              "    </tr>\n",
              "    <tr>\n",
              "      <th>1</th>\n",
              "      <td>2</td>\n",
              "      <td>53</td>\n",
              "      <td>F</td>\n",
              "      <td>other</td>\n",
              "      <td>94043</td>\n",
              "    </tr>\n",
              "    <tr>\n",
              "      <th>2</th>\n",
              "      <td>3</td>\n",
              "      <td>23</td>\n",
              "      <td>M</td>\n",
              "      <td>writer</td>\n",
              "      <td>32067</td>\n",
              "    </tr>\n",
              "    <tr>\n",
              "      <th>3</th>\n",
              "      <td>4</td>\n",
              "      <td>24</td>\n",
              "      <td>M</td>\n",
              "      <td>technician</td>\n",
              "      <td>43537</td>\n",
              "    </tr>\n",
              "    <tr>\n",
              "      <th>4</th>\n",
              "      <td>5</td>\n",
              "      <td>33</td>\n",
              "      <td>F</td>\n",
              "      <td>other</td>\n",
              "      <td>15213</td>\n",
              "    </tr>\n",
              "  </tbody>\n",
              "</table>\n",
              "</div>"
            ],
            "text/plain": [
              "   user_id  age gender  occupation zip_code\n",
              "0        1   24      M  technician    85711\n",
              "1        2   53      F       other    94043\n",
              "2        3   23      M      writer    32067\n",
              "3        4   24      M  technician    43537\n",
              "4        5   33      F       other    15213"
            ]
          },
          "execution_count": 8,
          "metadata": {},
          "output_type": "execute_result"
        }
      ],
      "source": [
        "users.head()            # Print the last five rows."
      ]
    },
    {
      "cell_type": "code",
      "execution_count": 9,
      "metadata": {
        "colab": {
          "base_uri": "https://localhost:8080/",
          "height": 174
        },
        "id": "nlHO2X5dyg-5",
        "outputId": "63b7df23-fd07-496f-d1db-157dcd01af34"
      },
      "outputs": [
        {
          "data": {
            "text/html": [
              "<div>\n",
              "<style scoped>\n",
              "    .dataframe tbody tr th:only-of-type {\n",
              "        vertical-align: middle;\n",
              "    }\n",
              "\n",
              "    .dataframe tbody tr th {\n",
              "        vertical-align: top;\n",
              "    }\n",
              "\n",
              "    .dataframe thead th {\n",
              "        text-align: right;\n",
              "    }\n",
              "</style>\n",
              "<table border=\"1\" class=\"dataframe\">\n",
              "  <thead>\n",
              "    <tr style=\"text-align: right;\">\n",
              "      <th></th>\n",
              "      <th>user_id</th>\n",
              "      <th>age</th>\n",
              "      <th>gender</th>\n",
              "      <th>occupation</th>\n",
              "      <th>zip_code</th>\n",
              "    </tr>\n",
              "  </thead>\n",
              "  <tbody>\n",
              "    <tr>\n",
              "      <th>939</th>\n",
              "      <td>940</td>\n",
              "      <td>32</td>\n",
              "      <td>M</td>\n",
              "      <td>administrator</td>\n",
              "      <td>02215</td>\n",
              "    </tr>\n",
              "    <tr>\n",
              "      <th>940</th>\n",
              "      <td>941</td>\n",
              "      <td>20</td>\n",
              "      <td>M</td>\n",
              "      <td>student</td>\n",
              "      <td>97229</td>\n",
              "    </tr>\n",
              "    <tr>\n",
              "      <th>941</th>\n",
              "      <td>942</td>\n",
              "      <td>48</td>\n",
              "      <td>F</td>\n",
              "      <td>librarian</td>\n",
              "      <td>78209</td>\n",
              "    </tr>\n",
              "    <tr>\n",
              "      <th>942</th>\n",
              "      <td>943</td>\n",
              "      <td>22</td>\n",
              "      <td>M</td>\n",
              "      <td>student</td>\n",
              "      <td>77841</td>\n",
              "    </tr>\n",
              "  </tbody>\n",
              "</table>\n",
              "</div>"
            ],
            "text/plain": [
              "     user_id  age gender     occupation zip_code\n",
              "939      940   32      M  administrator    02215\n",
              "940      941   20      M        student    97229\n",
              "941      942   48      F      librarian    78209\n",
              "942      943   22      M        student    77841"
            ]
          },
          "execution_count": 9,
          "metadata": {},
          "output_type": "execute_result"
        }
      ],
      "source": [
        "users.tail(4)"
      ]
    },
    {
      "cell_type": "code",
      "execution_count": 10,
      "metadata": {
        "colab": {
          "base_uri": "https://localhost:8080/"
        },
        "id": "4B1XkUE-yg-5",
        "outputId": "ff505973-0497-4e68-b1e8-b0a8fe637445"
      },
      "outputs": [
        {
          "data": {
            "text/plain": [
              "RangeIndex(start=0, stop=943, step=1)"
            ]
          },
          "execution_count": 10,
          "metadata": {},
          "output_type": "execute_result"
        }
      ],
      "source": [
        " # The row index (aka \"the row labels\" — in this case integers)\n",
        "users.index            "
      ]
    },
    {
      "cell_type": "code",
      "execution_count": 11,
      "metadata": {
        "colab": {
          "base_uri": "https://localhost:8080/"
        },
        "id": "TeMB42Foyg-6",
        "outputId": "4a1f7a74-8cff-4cd7-d180-99e4d46d2916"
      },
      "outputs": [
        {
          "data": {
            "text/plain": [
              "Index(['user_id', 'age', 'gender', 'occupation', 'zip_code'], dtype='object')"
            ]
          },
          "execution_count": 11,
          "metadata": {},
          "output_type": "execute_result"
        }
      ],
      "source": [
        "# Column names (which is \"an index\")\n",
        "users.columns"
      ]
    },
    {
      "cell_type": "code",
      "execution_count": 12,
      "metadata": {
        "colab": {
          "base_uri": "https://localhost:8080/"
        },
        "id": "cNGEA_obyg-6",
        "outputId": "71b1dd66-778b-4e7d-e054-114b421c35b6"
      },
      "outputs": [
        {
          "data": {
            "text/plain": [
              "user_id        int64\n",
              "age            int64\n",
              "gender        object\n",
              "occupation    object\n",
              "zip_code      object\n",
              "dtype: object"
            ]
          },
          "execution_count": 12,
          "metadata": {},
          "output_type": "execute_result"
        }
      ],
      "source": [
        "# Datatypes of each column — each column is stored as an ndarray, which has a datatype\n",
        "users.dtypes"
      ]
    },
    {
      "cell_type": "code",
      "execution_count": null,
      "metadata": {
        "colab": {
          "base_uri": "https://localhost:8080/"
        },
        "id": "8HvwUXIHyg-6",
        "outputId": "4bcda94d-58d9-4b88-e6ee-e7ae195b73f9"
      },
      "outputs": [
        {
          "data": {
            "text/plain": [
              "(943, 5)"
            ]
          },
          "execution_count": 13,
          "metadata": {},
          "output_type": "execute_result"
        }
      ],
      "source": [
        "# Number of rows and columns\n",
        "users.shape"
      ]
    },
    {
      "cell_type": "code",
      "execution_count": 13,
      "metadata": {
        "colab": {
          "base_uri": "https://localhost:8080/"
        },
        "id": "tj6EZK0Qyg-6",
        "outputId": "f64daca9-6644-43d6-cdc3-7dceaae71068"
      },
      "outputs": [
        {
          "data": {
            "text/plain": [
              "943"
            ]
          },
          "execution_count": 13,
          "metadata": {},
          "output_type": "execute_result"
        }
      ],
      "source": [
        "users.shape[0]"
      ]
    },
    {
      "cell_type": "code",
      "execution_count": 14,
      "metadata": {
        "colab": {
          "base_uri": "https://localhost:8080/"
        },
        "id": "iBNXLGZtyg-6",
        "outputId": "d1c0009a-d414-4735-9a05-80faba83ab6a"
      },
      "outputs": [
        {
          "data": {
            "text/plain": [
              "array([[1, 24, 'M', 'technician', '85711'],\n",
              "       [2, 53, 'F', 'other', '94043'],\n",
              "       [3, 23, 'M', 'writer', '32067'],\n",
              "       ...,\n",
              "       [941, 20, 'M', 'student', '97229'],\n",
              "       [942, 48, 'F', 'librarian', '78209'],\n",
              "       [943, 22, 'M', 'student', '77841']], dtype=object)"
            ]
          },
          "execution_count": 14,
          "metadata": {},
          "output_type": "execute_result"
        }
      ],
      "source": [
        "# All values as a NumPy array\n",
        "users.values"
      ]
    },
    {
      "cell_type": "code",
      "execution_count": 15,
      "metadata": {
        "colab": {
          "base_uri": "https://localhost:8080/"
        },
        "id": "lcBxv016yg-7",
        "outputId": "b7be06c8-58b6-4249-fdfb-64c9083a7cd2",
        "scrolled": true
      },
      "outputs": [
        {
          "name": "stdout",
          "output_type": "stream",
          "text": [
            "<class 'pandas.core.frame.DataFrame'>\n",
            "RangeIndex: 943 entries, 0 to 942\n",
            "Data columns (total 5 columns):\n",
            " #   Column      Non-Null Count  Dtype \n",
            "---  ------      --------------  ----- \n",
            " 0   user_id     943 non-null    int64 \n",
            " 1   age         943 non-null    int64 \n",
            " 2   gender      943 non-null    object\n",
            " 3   occupation  943 non-null    object\n",
            " 4   zip_code    943 non-null    object\n",
            "dtypes: int64(2), object(3)\n",
            "memory usage: 37.0+ KB\n"
          ]
        }
      ],
      "source": [
        "# Concise summary (including memory usage) — useful to quickly see if nulls exist\n",
        "users.info()"
      ]
    },
    {
      "cell_type": "markdown",
      "metadata": {
        "id": "g3IcSg6Tyg-7"
      },
      "source": [
        "**Select or index data**  \n",
        "Pandas `DataFrame`s have structural similarities with Python-style lists and dictionaries.  \n",
        "In the example below, we select a column of data using the name of the column in a similar manner to how we select a dictionary value with the dictionary key."
      ]
    },
    {
      "cell_type": "code",
      "execution_count": 16,
      "metadata": {
        "colab": {
          "base_uri": "https://localhost:8080/"
        },
        "id": "7SFzFoxsyg-7",
        "outputId": "e8884a9f-817f-440e-a5c7-69775db2f412"
      },
      "outputs": [
        {
          "data": {
            "text/plain": [
              "0      M\n",
              "1      F\n",
              "2      M\n",
              "3      M\n",
              "4      F\n",
              "      ..\n",
              "938    F\n",
              "939    M\n",
              "940    M\n",
              "941    F\n",
              "942    M\n",
              "Name: gender, Length: 943, dtype: object"
            ]
          },
          "execution_count": 16,
          "metadata": {},
          "output_type": "execute_result"
        }
      ],
      "source": [
        "# Select a column — returns a Pandas Series (essentially an ndarray with an index)\n",
        "users['gender']"
      ]
    },
    {
      "cell_type": "code",
      "execution_count": 17,
      "metadata": {
        "colab": {
          "base_uri": "https://localhost:8080/"
        },
        "id": "iuvroP2Xyg-7",
        "outputId": "ed04eb77-ed77-4bf9-8022-fce619c5371d"
      },
      "outputs": [
        {
          "data": {
            "text/plain": [
              "pandas.core.series.Series"
            ]
          },
          "execution_count": 17,
          "metadata": {},
          "output_type": "execute_result"
        }
      ],
      "source": [
        "# DataFrame columns are Pandas Series.\n",
        "type(users['age'])"
      ]
    },
    {
      "cell_type": "code",
      "execution_count": 18,
      "metadata": {
        "colab": {
          "base_uri": "https://localhost:8080/"
        },
        "id": "76YrfLCnyg-7",
        "outputId": "15bba6b0-be50-42cc-b59d-a3ccb3fbe6f2"
      },
      "outputs": [
        {
          "data": {
            "text/plain": [
              "0      M\n",
              "1      F\n",
              "2      M\n",
              "3      M\n",
              "4      F\n",
              "      ..\n",
              "938    F\n",
              "939    M\n",
              "940    M\n",
              "941    F\n",
              "942    M\n",
              "Name: gender, Length: 943, dtype: object"
            ]
          },
          "execution_count": 18,
          "metadata": {},
          "output_type": "execute_result"
        }
      ],
      "source": [
        "# Select one column using the DataFrame attribute.\n",
        "users.gender\n",
        "# While a useful shorthand, these attributes only exist\n",
        "# if the column name has no punctuations or spaces."
      ]
    },
    {
      "cell_type": "markdown",
      "metadata": {
        "id": "4UY79nb8yg-7"
      },
      "source": [
        "**Summarize (describe) the data.**  \n",
        "Pandas has a bunch of built-in methods to quickly summarize your data and provide you with a quick general understanding."
      ]
    },
    {
      "cell_type": "code",
      "execution_count": null,
      "metadata": {
        "colab": {
          "base_uri": "https://localhost:8080/",
          "height": 300
        },
        "id": "SdfhL_4Cyg-7",
        "outputId": "931ff29f-09ae-4825-f714-f740c9fde85a"
      },
      "outputs": [
        {
          "data": {
            "text/html": [
              "\n",
              "  <div id=\"df-dfa8231f-7c3e-427d-964a-af46e8ad561b\">\n",
              "    <div class=\"colab-df-container\">\n",
              "      <div>\n",
              "<style scoped>\n",
              "    .dataframe tbody tr th:only-of-type {\n",
              "        vertical-align: middle;\n",
              "    }\n",
              "\n",
              "    .dataframe tbody tr th {\n",
              "        vertical-align: top;\n",
              "    }\n",
              "\n",
              "    .dataframe thead th {\n",
              "        text-align: right;\n",
              "    }\n",
              "</style>\n",
              "<table border=\"1\" class=\"dataframe\">\n",
              "  <thead>\n",
              "    <tr style=\"text-align: right;\">\n",
              "      <th></th>\n",
              "      <th>user_id</th>\n",
              "      <th>age</th>\n",
              "    </tr>\n",
              "  </thead>\n",
              "  <tbody>\n",
              "    <tr>\n",
              "      <th>count</th>\n",
              "      <td>943.000000</td>\n",
              "      <td>943.000000</td>\n",
              "    </tr>\n",
              "    <tr>\n",
              "      <th>mean</th>\n",
              "      <td>472.000000</td>\n",
              "      <td>34.051962</td>\n",
              "    </tr>\n",
              "    <tr>\n",
              "      <th>std</th>\n",
              "      <td>272.364951</td>\n",
              "      <td>12.192740</td>\n",
              "    </tr>\n",
              "    <tr>\n",
              "      <th>min</th>\n",
              "      <td>1.000000</td>\n",
              "      <td>7.000000</td>\n",
              "    </tr>\n",
              "    <tr>\n",
              "      <th>25%</th>\n",
              "      <td>236.500000</td>\n",
              "      <td>25.000000</td>\n",
              "    </tr>\n",
              "    <tr>\n",
              "      <th>50%</th>\n",
              "      <td>472.000000</td>\n",
              "      <td>31.000000</td>\n",
              "    </tr>\n",
              "    <tr>\n",
              "      <th>75%</th>\n",
              "      <td>707.500000</td>\n",
              "      <td>43.000000</td>\n",
              "    </tr>\n",
              "    <tr>\n",
              "      <th>max</th>\n",
              "      <td>943.000000</td>\n",
              "      <td>73.000000</td>\n",
              "    </tr>\n",
              "  </tbody>\n",
              "</table>\n",
              "</div>\n",
              "      <button class=\"colab-df-convert\" onclick=\"convertToInteractive('df-dfa8231f-7c3e-427d-964a-af46e8ad561b')\"\n",
              "              title=\"Convert this dataframe to an interactive table.\"\n",
              "              style=\"display:none;\">\n",
              "        \n",
              "  <svg xmlns=\"http://www.w3.org/2000/svg\" height=\"24px\"viewBox=\"0 0 24 24\"\n",
              "       width=\"24px\">\n",
              "    <path d=\"M0 0h24v24H0V0z\" fill=\"none\"/>\n",
              "    <path d=\"M18.56 5.44l.94 2.06.94-2.06 2.06-.94-2.06-.94-.94-2.06-.94 2.06-2.06.94zm-11 1L8.5 8.5l.94-2.06 2.06-.94-2.06-.94L8.5 2.5l-.94 2.06-2.06.94zm10 10l.94 2.06.94-2.06 2.06-.94-2.06-.94-.94-2.06-.94 2.06-2.06.94z\"/><path d=\"M17.41 7.96l-1.37-1.37c-.4-.4-.92-.59-1.43-.59-.52 0-1.04.2-1.43.59L10.3 9.45l-7.72 7.72c-.78.78-.78 2.05 0 2.83L4 21.41c.39.39.9.59 1.41.59.51 0 1.02-.2 1.41-.59l7.78-7.78 2.81-2.81c.8-.78.8-2.07 0-2.86zM5.41 20L4 18.59l7.72-7.72 1.47 1.35L5.41 20z\"/>\n",
              "  </svg>\n",
              "      </button>\n",
              "      \n",
              "  <style>\n",
              "    .colab-df-container {\n",
              "      display:flex;\n",
              "      flex-wrap:wrap;\n",
              "      gap: 12px;\n",
              "    }\n",
              "\n",
              "    .colab-df-convert {\n",
              "      background-color: #E8F0FE;\n",
              "      border: none;\n",
              "      border-radius: 50%;\n",
              "      cursor: pointer;\n",
              "      display: none;\n",
              "      fill: #1967D2;\n",
              "      height: 32px;\n",
              "      padding: 0 0 0 0;\n",
              "      width: 32px;\n",
              "    }\n",
              "\n",
              "    .colab-df-convert:hover {\n",
              "      background-color: #E2EBFA;\n",
              "      box-shadow: 0px 1px 2px rgba(60, 64, 67, 0.3), 0px 1px 3px 1px rgba(60, 64, 67, 0.15);\n",
              "      fill: #174EA6;\n",
              "    }\n",
              "\n",
              "    [theme=dark] .colab-df-convert {\n",
              "      background-color: #3B4455;\n",
              "      fill: #D2E3FC;\n",
              "    }\n",
              "\n",
              "    [theme=dark] .colab-df-convert:hover {\n",
              "      background-color: #434B5C;\n",
              "      box-shadow: 0px 1px 3px 1px rgba(0, 0, 0, 0.15);\n",
              "      filter: drop-shadow(0px 1px 2px rgba(0, 0, 0, 0.3));\n",
              "      fill: #FFFFFF;\n",
              "    }\n",
              "  </style>\n",
              "\n",
              "      <script>\n",
              "        const buttonEl =\n",
              "          document.querySelector('#df-dfa8231f-7c3e-427d-964a-af46e8ad561b button.colab-df-convert');\n",
              "        buttonEl.style.display =\n",
              "          google.colab.kernel.accessAllowed ? 'block' : 'none';\n",
              "\n",
              "        async function convertToInteractive(key) {\n",
              "          const element = document.querySelector('#df-dfa8231f-7c3e-427d-964a-af46e8ad561b');\n",
              "          const dataTable =\n",
              "            await google.colab.kernel.invokeFunction('convertToInteractive',\n",
              "                                                     [key], {});\n",
              "          if (!dataTable) return;\n",
              "\n",
              "          const docLinkHtml = 'Like what you see? Visit the ' +\n",
              "            '<a target=\"_blank\" href=https://colab.research.google.com/notebooks/data_table.ipynb>data table notebook</a>'\n",
              "            + ' to learn more about interactive tables.';\n",
              "          element.innerHTML = '';\n",
              "          dataTable['output_type'] = 'display_data';\n",
              "          await google.colab.output.renderOutput(dataTable, element);\n",
              "          const docLink = document.createElement('div');\n",
              "          docLink.innerHTML = docLinkHtml;\n",
              "          element.appendChild(docLink);\n",
              "        }\n",
              "      </script>\n",
              "    </div>\n",
              "  </div>\n",
              "  "
            ],
            "text/plain": [
              "          user_id         age\n",
              "count  943.000000  943.000000\n",
              "mean   472.000000   34.051962\n",
              "std    272.364951   12.192740\n",
              "min      1.000000    7.000000\n",
              "25%    236.500000   25.000000\n",
              "50%    472.000000   31.000000\n",
              "75%    707.500000   43.000000\n",
              "max    943.000000   73.000000"
            ]
          },
          "execution_count": 20,
          "metadata": {},
          "output_type": "execute_result"
        }
      ],
      "source": [
        "# Describe all numeric columns.\n",
        "users.describe()"
      ]
    },
    {
      "cell_type": "code",
      "execution_count": null,
      "metadata": {
        "colab": {
          "base_uri": "https://localhost:8080/",
          "height": 394
        },
        "id": "39K1kmu3yg-8",
        "outputId": "2e1c0d35-c0fb-43eb-83f6-747a7ec77b95"
      },
      "outputs": [
        {
          "data": {
            "text/html": [
              "\n",
              "  <div id=\"df-78916a2f-3e26-4878-97a9-04732e90ce64\">\n",
              "    <div class=\"colab-df-container\">\n",
              "      <div>\n",
              "<style scoped>\n",
              "    .dataframe tbody tr th:only-of-type {\n",
              "        vertical-align: middle;\n",
              "    }\n",
              "\n",
              "    .dataframe tbody tr th {\n",
              "        vertical-align: top;\n",
              "    }\n",
              "\n",
              "    .dataframe thead th {\n",
              "        text-align: right;\n",
              "    }\n",
              "</style>\n",
              "<table border=\"1\" class=\"dataframe\">\n",
              "  <thead>\n",
              "    <tr style=\"text-align: right;\">\n",
              "      <th></th>\n",
              "      <th>user_id</th>\n",
              "      <th>age</th>\n",
              "      <th>gender</th>\n",
              "      <th>occupation</th>\n",
              "      <th>zip_code</th>\n",
              "    </tr>\n",
              "  </thead>\n",
              "  <tbody>\n",
              "    <tr>\n",
              "      <th>count</th>\n",
              "      <td>943.000000</td>\n",
              "      <td>943.000000</td>\n",
              "      <td>943</td>\n",
              "      <td>943</td>\n",
              "      <td>943</td>\n",
              "    </tr>\n",
              "    <tr>\n",
              "      <th>unique</th>\n",
              "      <td>NaN</td>\n",
              "      <td>NaN</td>\n",
              "      <td>2</td>\n",
              "      <td>21</td>\n",
              "      <td>795</td>\n",
              "    </tr>\n",
              "    <tr>\n",
              "      <th>top</th>\n",
              "      <td>NaN</td>\n",
              "      <td>NaN</td>\n",
              "      <td>M</td>\n",
              "      <td>student</td>\n",
              "      <td>55414</td>\n",
              "    </tr>\n",
              "    <tr>\n",
              "      <th>freq</th>\n",
              "      <td>NaN</td>\n",
              "      <td>NaN</td>\n",
              "      <td>670</td>\n",
              "      <td>196</td>\n",
              "      <td>9</td>\n",
              "    </tr>\n",
              "    <tr>\n",
              "      <th>mean</th>\n",
              "      <td>472.000000</td>\n",
              "      <td>34.051962</td>\n",
              "      <td>NaN</td>\n",
              "      <td>NaN</td>\n",
              "      <td>NaN</td>\n",
              "    </tr>\n",
              "    <tr>\n",
              "      <th>std</th>\n",
              "      <td>272.364951</td>\n",
              "      <td>12.192740</td>\n",
              "      <td>NaN</td>\n",
              "      <td>NaN</td>\n",
              "      <td>NaN</td>\n",
              "    </tr>\n",
              "    <tr>\n",
              "      <th>min</th>\n",
              "      <td>1.000000</td>\n",
              "      <td>7.000000</td>\n",
              "      <td>NaN</td>\n",
              "      <td>NaN</td>\n",
              "      <td>NaN</td>\n",
              "    </tr>\n",
              "    <tr>\n",
              "      <th>25%</th>\n",
              "      <td>236.500000</td>\n",
              "      <td>25.000000</td>\n",
              "      <td>NaN</td>\n",
              "      <td>NaN</td>\n",
              "      <td>NaN</td>\n",
              "    </tr>\n",
              "    <tr>\n",
              "      <th>50%</th>\n",
              "      <td>472.000000</td>\n",
              "      <td>31.000000</td>\n",
              "      <td>NaN</td>\n",
              "      <td>NaN</td>\n",
              "      <td>NaN</td>\n",
              "    </tr>\n",
              "    <tr>\n",
              "      <th>75%</th>\n",
              "      <td>707.500000</td>\n",
              "      <td>43.000000</td>\n",
              "      <td>NaN</td>\n",
              "      <td>NaN</td>\n",
              "      <td>NaN</td>\n",
              "    </tr>\n",
              "    <tr>\n",
              "      <th>max</th>\n",
              "      <td>943.000000</td>\n",
              "      <td>73.000000</td>\n",
              "      <td>NaN</td>\n",
              "      <td>NaN</td>\n",
              "      <td>NaN</td>\n",
              "    </tr>\n",
              "  </tbody>\n",
              "</table>\n",
              "</div>\n",
              "      <button class=\"colab-df-convert\" onclick=\"convertToInteractive('df-78916a2f-3e26-4878-97a9-04732e90ce64')\"\n",
              "              title=\"Convert this dataframe to an interactive table.\"\n",
              "              style=\"display:none;\">\n",
              "        \n",
              "  <svg xmlns=\"http://www.w3.org/2000/svg\" height=\"24px\"viewBox=\"0 0 24 24\"\n",
              "       width=\"24px\">\n",
              "    <path d=\"M0 0h24v24H0V0z\" fill=\"none\"/>\n",
              "    <path d=\"M18.56 5.44l.94 2.06.94-2.06 2.06-.94-2.06-.94-.94-2.06-.94 2.06-2.06.94zm-11 1L8.5 8.5l.94-2.06 2.06-.94-2.06-.94L8.5 2.5l-.94 2.06-2.06.94zm10 10l.94 2.06.94-2.06 2.06-.94-2.06-.94-.94-2.06-.94 2.06-2.06.94z\"/><path d=\"M17.41 7.96l-1.37-1.37c-.4-.4-.92-.59-1.43-.59-.52 0-1.04.2-1.43.59L10.3 9.45l-7.72 7.72c-.78.78-.78 2.05 0 2.83L4 21.41c.39.39.9.59 1.41.59.51 0 1.02-.2 1.41-.59l7.78-7.78 2.81-2.81c.8-.78.8-2.07 0-2.86zM5.41 20L4 18.59l7.72-7.72 1.47 1.35L5.41 20z\"/>\n",
              "  </svg>\n",
              "      </button>\n",
              "      \n",
              "  <style>\n",
              "    .colab-df-container {\n",
              "      display:flex;\n",
              "      flex-wrap:wrap;\n",
              "      gap: 12px;\n",
              "    }\n",
              "\n",
              "    .colab-df-convert {\n",
              "      background-color: #E8F0FE;\n",
              "      border: none;\n",
              "      border-radius: 50%;\n",
              "      cursor: pointer;\n",
              "      display: none;\n",
              "      fill: #1967D2;\n",
              "      height: 32px;\n",
              "      padding: 0 0 0 0;\n",
              "      width: 32px;\n",
              "    }\n",
              "\n",
              "    .colab-df-convert:hover {\n",
              "      background-color: #E2EBFA;\n",
              "      box-shadow: 0px 1px 2px rgba(60, 64, 67, 0.3), 0px 1px 3px 1px rgba(60, 64, 67, 0.15);\n",
              "      fill: #174EA6;\n",
              "    }\n",
              "\n",
              "    [theme=dark] .colab-df-convert {\n",
              "      background-color: #3B4455;\n",
              "      fill: #D2E3FC;\n",
              "    }\n",
              "\n",
              "    [theme=dark] .colab-df-convert:hover {\n",
              "      background-color: #434B5C;\n",
              "      box-shadow: 0px 1px 3px 1px rgba(0, 0, 0, 0.15);\n",
              "      filter: drop-shadow(0px 1px 2px rgba(0, 0, 0, 0.3));\n",
              "      fill: #FFFFFF;\n",
              "    }\n",
              "  </style>\n",
              "\n",
              "      <script>\n",
              "        const buttonEl =\n",
              "          document.querySelector('#df-78916a2f-3e26-4878-97a9-04732e90ce64 button.colab-df-convert');\n",
              "        buttonEl.style.display =\n",
              "          google.colab.kernel.accessAllowed ? 'block' : 'none';\n",
              "\n",
              "        async function convertToInteractive(key) {\n",
              "          const element = document.querySelector('#df-78916a2f-3e26-4878-97a9-04732e90ce64');\n",
              "          const dataTable =\n",
              "            await google.colab.kernel.invokeFunction('convertToInteractive',\n",
              "                                                     [key], {});\n",
              "          if (!dataTable) return;\n",
              "\n",
              "          const docLinkHtml = 'Like what you see? Visit the ' +\n",
              "            '<a target=\"_blank\" href=https://colab.research.google.com/notebooks/data_table.ipynb>data table notebook</a>'\n",
              "            + ' to learn more about interactive tables.';\n",
              "          element.innerHTML = '';\n",
              "          dataTable['output_type'] = 'display_data';\n",
              "          await google.colab.output.renderOutput(dataTable, element);\n",
              "          const docLink = document.createElement('div');\n",
              "          docLink.innerHTML = docLinkHtml;\n",
              "          element.appendChild(docLink);\n",
              "        }\n",
              "      </script>\n",
              "    </div>\n",
              "  </div>\n",
              "  "
            ],
            "text/plain": [
              "           user_id         age gender occupation zip_code\n",
              "count   943.000000  943.000000    943        943      943\n",
              "unique         NaN         NaN      2         21      795\n",
              "top            NaN         NaN      M    student    55414\n",
              "freq           NaN         NaN    670        196        9\n",
              "mean    472.000000   34.051962    NaN        NaN      NaN\n",
              "std     272.364951   12.192740    NaN        NaN      NaN\n",
              "min       1.000000    7.000000    NaN        NaN      NaN\n",
              "25%     236.500000   25.000000    NaN        NaN      NaN\n",
              "50%     472.000000   31.000000    NaN        NaN      NaN\n",
              "75%     707.500000   43.000000    NaN        NaN      NaN\n",
              "max     943.000000   73.000000    NaN        NaN      NaN"
            ]
          },
          "execution_count": 21,
          "metadata": {},
          "output_type": "execute_result"
        }
      ],
      "source": [
        "# Describe all columns, including non-numeric.\n",
        "users.describe(include='all')"
      ]
    },
    {
      "cell_type": "code",
      "execution_count": null,
      "metadata": {
        "colab": {
          "base_uri": "https://localhost:8080/"
        },
        "id": "MKpg5XmZyg-8",
        "outputId": "438ace5c-4341-40fa-f8fe-9a0b1536c8e9"
      },
      "outputs": [
        {
          "data": {
            "text/plain": [
              "count     943\n",
              "unique      2\n",
              "top         M\n",
              "freq      670\n",
              "Name: gender, dtype: object"
            ]
          },
          "execution_count": 22,
          "metadata": {},
          "output_type": "execute_result"
        }
      ],
      "source": [
        "# Describe a single column — recall that \"users.gender\" refers to a Series.\n",
        "users.gender.describe()"
      ]
    },
    {
      "cell_type": "code",
      "execution_count": null,
      "metadata": {
        "colab": {
          "base_uri": "https://localhost:8080/"
        },
        "id": "Goqq7qZKyg-8",
        "outputId": "137b846f-477e-4840-d2e5-8d30059335b2"
      },
      "outputs": [
        {
          "data": {
            "text/plain": [
              "34.05196182396607"
            ]
          },
          "execution_count": 23,
          "metadata": {},
          "output_type": "execute_result"
        }
      ],
      "source": [
        "# Calculate the mean of the ages.\n",
        "users.age.mean()"
      ]
    },
    {
      "cell_type": "code",
      "execution_count": 19,
      "metadata": {
        "colab": {
          "base_uri": "https://localhost:8080/",
          "height": 265
        },
        "id": "MenF3FJXyg-8",
        "outputId": "0786a61a-c8db-4c29-81b5-50d7d6f4167d"
      },
      "outputs": [
        {
          "data": {
            "text/plain": [
              "<AxesSubplot: >"
            ]
          },
          "execution_count": 19,
          "metadata": {},
          "output_type": "execute_result"
        },
        {
          "data": {
            "image/png": "[encoded data removed]",
            "text/plain": [
              "<Figure size 640x480 with 1 Axes>"
            ]
          },
          "metadata": {},
          "output_type": "display_data"
        }
      ],
      "source": [
        "# Draw a histogram of a column (the distribution of ages).\n",
        "users.age.hist(bins=5)"
      ]
    },
    {
      "cell_type": "markdown",
      "metadata": {
        "id": "KmZvSAPMyg-8"
      },
      "source": [
        "**Count the number of occurrences of each value.**"
      ]
    },
    {
      "cell_type": "code",
      "execution_count": 20,
      "metadata": {
        "colab": {
          "base_uri": "https://localhost:8080/"
        },
        "id": "hS1hK506yg-8",
        "outputId": "2b5d7ac8-042e-48a9-8136-08d56d472ff0"
      },
      "outputs": [
        {
          "data": {
            "text/plain": [
              "M    670\n",
              "F    273\n",
              "Name: gender, dtype: int64"
            ]
          },
          "execution_count": 20,
          "metadata": {},
          "output_type": "execute_result"
        }
      ],
      "source": [
        "users.gender.value_counts()  \n",
        "\n",
        "# Most useful for categorical variables"
      ]
    },
    {
      "cell_type": "code",
      "execution_count": 21,
      "metadata": {
        "colab": {
          "base_uri": "https://localhost:8080/"
        },
        "id": "rN50ki5Dyg-8",
        "outputId": "918190a2-edf3-433a-af92-59c5c966a9ed"
      },
      "outputs": [
        {
          "data": {
            "text/plain": [
              "55414    9\n",
              "55105    6\n",
              "55337    5\n",
              "10003    5\n",
              "20009    5\n",
              "        ..\n",
              "24060    1\n",
              "55413    1\n",
              "19149    1\n",
              "02176    1\n",
              "77841    1\n",
              "Name: zip_code, Length: 795, dtype: int64"
            ]
          },
          "execution_count": 21,
          "metadata": {},
          "output_type": "execute_result"
        }
      ],
      "source": [
        "# How many of each zip codes do we have? \n",
        "users.zip_code.value_counts()"
      ]
    },
    {
      "cell_type": "code",
      "execution_count": null,
      "metadata": {
        "colab": {
          "base_uri": "https://localhost:8080/"
        },
        "id": "dIWxvN3Dyg-8",
        "outputId": "fab688c0-60fe-4f16-9647-505cd2143606"
      },
      "outputs": [
        {
          "data": {
            "text/plain": [
              "M    670\n",
              "F    273\n",
              "Name: gender, dtype: int64"
            ]
          },
          "execution_count": 27,
          "metadata": {},
          "output_type": "execute_result"
        }
      ],
      "source": [
        "users.gender.value_counts()"
      ]
    },
    {
      "cell_type": "code",
      "execution_count": 22,
      "metadata": {
        "colab": {
          "base_uri": "https://localhost:8080/",
          "height": 284
        },
        "id": "VDtN8sINyg-9",
        "outputId": "4106deca-dcd2-4915-c4a6-a9f141dcd75a"
      },
      "outputs": [
        {
          "data": {
            "text/plain": [
              "<AxesSubplot: >"
            ]
          },
          "execution_count": 22,
          "metadata": {},
          "output_type": "execute_result"
        },
        {
          "data": {
            "image/png": "[encoded data removed]",
            "text/plain": [
              "<Figure size 640x480 with 1 Axes>"
            ]
          },
          "metadata": {},
          "output_type": "display_data"
        }
      ],
      "source": [
        "users.gender.value_counts().plot(kind='bar')     # Quick plot by category"
      ]
    },
    {
      "cell_type": "code",
      "execution_count": 23,
      "metadata": {
        "colab": {
          "base_uri": "https://localhost:8080/"
        },
        "id": "uVLU7rRkyg-9",
        "outputId": "1e2ade94-79d0-4682-8b01-0fcdf87db7ac"
      },
      "outputs": [
        {
          "data": {
            "text/plain": [
              "30    39\n",
              "25    38\n",
              "22    37\n",
              "28    36\n",
              "27    35\n",
              "      ..\n",
              "7      1\n",
              "66     1\n",
              "11     1\n",
              "10     1\n",
              "73     1\n",
              "Name: age, Length: 61, dtype: int64"
            ]
          },
          "execution_count": 23,
          "metadata": {},
          "output_type": "execute_result"
        }
      ],
      "source": [
        "# Can also be used with numeric variables\n",
        "#   Try .sort_index() to sort by indices or .sort_values() to sort by counts.\n",
        "users.age.value_counts()"
      ]
    },
    {
      "cell_type": "code",
      "execution_count": null,
      "metadata": {
        "colab": {
          "base_uri": "https://localhost:8080/"
        },
        "id": "I4eTzorsyg-9",
        "outputId": "4a2d6d08-da82-42dd-f6be-63cafe96ed00"
      },
      "outputs": [
        {
          "data": {
            "text/plain": [
              "7     1\n",
              "10    1\n",
              "11    1\n",
              "13    5\n",
              "14    3\n",
              "     ..\n",
              "66    1\n",
              "68    2\n",
              "69    2\n",
              "70    3\n",
              "73    1\n",
              "Name: age, Length: 61, dtype: int64"
            ]
          },
          "execution_count": 30,
          "metadata": {},
          "output_type": "execute_result"
        }
      ],
      "source": [
        "users.age.value_counts().sort_index()"
      ]
    },
    {
      "cell_type": "code",
      "execution_count": 25,
      "metadata": {
        "colab": {
          "base_uri": "https://localhost:8080/",
          "height": 352
        },
        "id": "vKEm1CqPyg-9",
        "outputId": "f4f74c2e-e15c-4788-b79e-8f4d264f4b05"
      },
      "outputs": [
        {
          "data": {
            "image/png": "[encoded data removed]",
            "text/plain": [
              "<Figure size 1600x500 with 1 Axes>"
            ]
          },
          "metadata": {},
          "output_type": "display_data"
        }
      ],
      "source": [
        "users.age.value_counts().sort_index().plot(kind='bar', figsize=(16,5));     # Bigger plot by increasing age\n",
        "plt.xlabel('Age');\n",
        "plt.ylabel('Number of users');\n",
        "plt.title('Number of users per age');"
      ]
    },
    {
      "cell_type": "markdown",
      "metadata": {
        "id": "Ki2JjQlFyg-9"
      },
      "source": [
        "<img src=\"https://alik-courses.web.app/intro-to-ai/intro-to-pandas/images/hands_on.jpg\" width=\"100\" height=\"100\" style=\"float:right\"/>\n",
        "# Excercise 1 "
      ]
    },
    {
      "cell_type": "code",
      "execution_count": 34,
      "metadata": {
        "colab": {
          "base_uri": "https://localhost:8080/",
          "height": 270
        },
        "id": "99Ni5X9myg-9",
        "outputId": "05dbe03d-02c9-4a32-ff5d-f9deeab1ac14"
      },
      "outputs": [],
      "source": [
        "# Read drinks.csv into a DataFrame called \"drinks\".\n",
        "# Here is the url of the data file: \n",
        "# 'https://alik-courses.web.app/intro-to-ai/intro-to-pandas/data/drinks.csv'\n"
      ]
    },
    {
      "cell_type": "code",
      "execution_count": 35,
      "metadata": {
        "colab": {
          "base_uri": "https://localhost:8080/",
          "height": 206
        },
        "id": "l0-ixd3gyg-9",
        "outputId": "301a0df6-276e-4ad4-a27c-ac0f194dc9d2"
      },
      "outputs": [],
      "source": [
        "# Print the head of the dataframe\n"
      ]
    },
    {
      "cell_type": "code",
      "execution_count": 36,
      "metadata": {
        "colab": {
          "base_uri": "https://localhost:8080/",
          "height": 206
        },
        "id": "ADha1GyVxhIw",
        "outputId": "08d4a60f-0489-4e27-aa36-7edf155ab6a4"
      },
      "outputs": [],
      "source": [
        "# Print the tail of the dataframe"
      ]
    },
    {
      "cell_type": "code",
      "execution_count": 37,
      "metadata": {
        "colab": {
          "base_uri": "https://localhost:8080/"
        },
        "id": "V5H67mAkyg-9",
        "outputId": "1e7ea4e9-2b4a-4b26-892e-d0efe882e23c"
      },
      "outputs": [],
      "source": [
        "# Examine the default index, datatypes, and shape"
      ]
    },
    {
      "cell_type": "code",
      "execution_count": 38,
      "metadata": {
        "colab": {
          "base_uri": "https://localhost:8080/"
        },
        "id": "pAFFNizVyg--",
        "outputId": "444915c0-13a6-440d-e25e-98c289e4bf44"
      },
      "outputs": [],
      "source": [
        "# Print the beer_servings column"
      ]
    },
    {
      "cell_type": "code",
      "execution_count": 39,
      "metadata": {
        "colab": {
          "base_uri": "https://localhost:8080/"
        },
        "id": "-3pb9Qy7yg--",
        "outputId": "a4bed55c-53bf-45c2-c97a-9b0a3869c788"
      },
      "outputs": [],
      "source": [
        "# Calculate the average beer_servings for the entire data set"
      ]
    },
    {
      "cell_type": "code",
      "execution_count": 40,
      "metadata": {
        "colab": {
          "base_uri": "https://localhost:8080/"
        },
        "id": "dKF3KYYTyg--",
        "outputId": "0b6de0af-11d0-4a24-967b-4a0939c6a3de"
      },
      "outputs": [],
      "source": [
        "# Count the number of occurrences of each \"continent\" value and see if it looks correct"
      ]
    },
    {
      "cell_type": "markdown",
      "metadata": {
        "id": "zFpgVHERyg--"
      },
      "source": [
        "<a id=\"filtering-and-sorting\"></a>\n",
        "### Filtering and Sorting\n",
        "\n",
        "<img src=\"https://alik-courses.web.app/intro-to-ai/intro-to-pandas/images/panda_sort.jpg\" width=\"300\" height=\"300\" align=\"right\"/>\n",
        "\n",
        "\n",
        "\n",
        "- **Objective:** Filter and sort data using Pandas.\n",
        "\n",
        "We can use simple operator comparisons on columns to extract relevant or drop irrelevant information."
      ]
    },
    {
      "cell_type": "markdown",
      "metadata": {
        "id": "FOhtHza4yg--"
      },
      "source": [
        "**Logical filtering: Only show users with age < 20.**"
      ]
    },
    {
      "cell_type": "code",
      "execution_count": 49,
      "metadata": {
        "id": "QJLvJl3fyg--",
        "outputId": "c501941e-f7a5-4de3-dc60-68ae90d98f69"
      },
      "outputs": [
        {
          "data": {
            "text/plain": [
              "0      False\n",
              "1      False\n",
              "2      False\n",
              "3      False\n",
              "4      False\n",
              "       ...  \n",
              "938    False\n",
              "939    False\n",
              "940    False\n",
              "941    False\n",
              "942    False\n",
              "Name: age, Length: 943, dtype: bool"
            ]
          },
          "execution_count": 49,
          "metadata": {},
          "output_type": "execute_result"
        }
      ],
      "source": [
        "# Create a Series of Booleans…\n",
        "# In Pandas, this comparison is performed element-wise on each row of data.\n",
        "young_bool = users.age < 20\n",
        "young_bool"
      ]
    },
    {
      "cell_type": "code",
      "execution_count": 44,
      "metadata": {
        "colab": {
          "base_uri": "https://localhost:8080/",
          "height": 143
        },
        "id": "7vrmsy00yg--",
        "outputId": "eb7d5983-6ed6-468b-ef3b-37b69ca162e7"
      },
      "outputs": [
        {
          "data": {
            "text/html": [
              "<div>\n",
              "<style scoped>\n",
              "    .dataframe tbody tr th:only-of-type {\n",
              "        vertical-align: middle;\n",
              "    }\n",
              "\n",
              "    .dataframe tbody tr th {\n",
              "        vertical-align: top;\n",
              "    }\n",
              "\n",
              "    .dataframe thead th {\n",
              "        text-align: right;\n",
              "    }\n",
              "</style>\n",
              "<table border=\"1\" class=\"dataframe\">\n",
              "  <thead>\n",
              "    <tr style=\"text-align: right;\">\n",
              "      <th></th>\n",
              "      <th>user_id</th>\n",
              "      <th>age</th>\n",
              "      <th>gender</th>\n",
              "      <th>occupation</th>\n",
              "      <th>zip_code</th>\n",
              "      <th>boolage</th>\n",
              "    </tr>\n",
              "  </thead>\n",
              "  <tbody>\n",
              "    <tr>\n",
              "      <th>29</th>\n",
              "      <td>30</td>\n",
              "      <td>7</td>\n",
              "      <td>M</td>\n",
              "      <td>student</td>\n",
              "      <td>55436</td>\n",
              "      <td>True</td>\n",
              "    </tr>\n",
              "    <tr>\n",
              "      <th>35</th>\n",
              "      <td>36</td>\n",
              "      <td>19</td>\n",
              "      <td>F</td>\n",
              "      <td>student</td>\n",
              "      <td>93117</td>\n",
              "      <td>True</td>\n",
              "    </tr>\n",
              "    <tr>\n",
              "      <th>51</th>\n",
              "      <td>52</td>\n",
              "      <td>18</td>\n",
              "      <td>F</td>\n",
              "      <td>student</td>\n",
              "      <td>55105</td>\n",
              "      <td>True</td>\n",
              "    </tr>\n",
              "    <tr>\n",
              "      <th>56</th>\n",
              "      <td>57</td>\n",
              "      <td>16</td>\n",
              "      <td>M</td>\n",
              "      <td>none</td>\n",
              "      <td>84010</td>\n",
              "      <td>True</td>\n",
              "    </tr>\n",
              "    <tr>\n",
              "      <th>66</th>\n",
              "      <td>67</td>\n",
              "      <td>17</td>\n",
              "      <td>M</td>\n",
              "      <td>student</td>\n",
              "      <td>60402</td>\n",
              "      <td>True</td>\n",
              "    </tr>\n",
              "    <tr>\n",
              "      <th>...</th>\n",
              "      <td>...</td>\n",
              "      <td>...</td>\n",
              "      <td>...</td>\n",
              "      <td>...</td>\n",
              "      <td>...</td>\n",
              "      <td>...</td>\n",
              "    </tr>\n",
              "    <tr>\n",
              "      <th>871</th>\n",
              "      <td>872</td>\n",
              "      <td>19</td>\n",
              "      <td>F</td>\n",
              "      <td>student</td>\n",
              "      <td>74078</td>\n",
              "      <td>True</td>\n",
              "    </tr>\n",
              "    <tr>\n",
              "      <th>879</th>\n",
              "      <td>880</td>\n",
              "      <td>13</td>\n",
              "      <td>M</td>\n",
              "      <td>student</td>\n",
              "      <td>83702</td>\n",
              "      <td>True</td>\n",
              "    </tr>\n",
              "    <tr>\n",
              "      <th>886</th>\n",
              "      <td>887</td>\n",
              "      <td>14</td>\n",
              "      <td>F</td>\n",
              "      <td>student</td>\n",
              "      <td>27249</td>\n",
              "      <td>True</td>\n",
              "    </tr>\n",
              "    <tr>\n",
              "      <th>903</th>\n",
              "      <td>904</td>\n",
              "      <td>17</td>\n",
              "      <td>F</td>\n",
              "      <td>student</td>\n",
              "      <td>61073</td>\n",
              "      <td>True</td>\n",
              "    </tr>\n",
              "    <tr>\n",
              "      <th>924</th>\n",
              "      <td>925</td>\n",
              "      <td>18</td>\n",
              "      <td>F</td>\n",
              "      <td>salesman</td>\n",
              "      <td>49036</td>\n",
              "      <td>True</td>\n",
              "    </tr>\n",
              "  </tbody>\n",
              "</table>\n",
              "<p>77 rows × 6 columns</p>\n",
              "</div>"
            ],
            "text/plain": [
              "     user_id  age gender occupation zip_code  boolage\n",
              "29        30    7      M    student    55436     True\n",
              "35        36   19      F    student    93117     True\n",
              "51        52   18      F    student    55105     True\n",
              "56        57   16      M       none    84010     True\n",
              "66        67   17      M    student    60402     True\n",
              "..       ...  ...    ...        ...      ...      ...\n",
              "871      872   19      F    student    74078     True\n",
              "879      880   13      M    student    83702     True\n",
              "886      887   14      F    student    27249     True\n",
              "903      904   17      F    student    61073     True\n",
              "924      925   18      F   salesman    49036     True\n",
              "\n",
              "[77 rows x 6 columns]"
            ]
          },
          "execution_count": 44,
          "metadata": {},
          "output_type": "execute_result"
        }
      ],
      "source": [
        "# …and use that Series to filter rows.\n",
        "# In Pandas, indexing a DataFrame by a Series of Booleans only selects rows that are True in the Boolean.\n",
        "users[young_bool]"
      ]
    },
    {
      "cell_type": "code",
      "execution_count": 45,
      "metadata": {
        "colab": {
          "base_uri": "https://localhost:8080/",
          "height": 423
        },
        "id": "-UCRYGxMyg--",
        "outputId": "c5ce2bf3-c299-435f-94dc-ead444b7cc70"
      },
      "outputs": [
        {
          "data": {
            "text/html": [
              "<div>\n",
              "<style scoped>\n",
              "    .dataframe tbody tr th:only-of-type {\n",
              "        vertical-align: middle;\n",
              "    }\n",
              "\n",
              "    .dataframe tbody tr th {\n",
              "        vertical-align: top;\n",
              "    }\n",
              "\n",
              "    .dataframe thead th {\n",
              "        text-align: right;\n",
              "    }\n",
              "</style>\n",
              "<table border=\"1\" class=\"dataframe\">\n",
              "  <thead>\n",
              "    <tr style=\"text-align: right;\">\n",
              "      <th></th>\n",
              "      <th>user_id</th>\n",
              "      <th>age</th>\n",
              "      <th>gender</th>\n",
              "      <th>occupation</th>\n",
              "      <th>zip_code</th>\n",
              "      <th>boolage</th>\n",
              "    </tr>\n",
              "  </thead>\n",
              "  <tbody>\n",
              "    <tr>\n",
              "      <th>29</th>\n",
              "      <td>30</td>\n",
              "      <td>7</td>\n",
              "      <td>M</td>\n",
              "      <td>student</td>\n",
              "      <td>55436</td>\n",
              "      <td>True</td>\n",
              "    </tr>\n",
              "    <tr>\n",
              "      <th>35</th>\n",
              "      <td>36</td>\n",
              "      <td>19</td>\n",
              "      <td>F</td>\n",
              "      <td>student</td>\n",
              "      <td>93117</td>\n",
              "      <td>True</td>\n",
              "    </tr>\n",
              "    <tr>\n",
              "      <th>51</th>\n",
              "      <td>52</td>\n",
              "      <td>18</td>\n",
              "      <td>F</td>\n",
              "      <td>student</td>\n",
              "      <td>55105</td>\n",
              "      <td>True</td>\n",
              "    </tr>\n",
              "    <tr>\n",
              "      <th>56</th>\n",
              "      <td>57</td>\n",
              "      <td>16</td>\n",
              "      <td>M</td>\n",
              "      <td>none</td>\n",
              "      <td>84010</td>\n",
              "      <td>True</td>\n",
              "    </tr>\n",
              "    <tr>\n",
              "      <th>66</th>\n",
              "      <td>67</td>\n",
              "      <td>17</td>\n",
              "      <td>M</td>\n",
              "      <td>student</td>\n",
              "      <td>60402</td>\n",
              "      <td>True</td>\n",
              "    </tr>\n",
              "    <tr>\n",
              "      <th>...</th>\n",
              "      <td>...</td>\n",
              "      <td>...</td>\n",
              "      <td>...</td>\n",
              "      <td>...</td>\n",
              "      <td>...</td>\n",
              "      <td>...</td>\n",
              "    </tr>\n",
              "    <tr>\n",
              "      <th>871</th>\n",
              "      <td>872</td>\n",
              "      <td>19</td>\n",
              "      <td>F</td>\n",
              "      <td>student</td>\n",
              "      <td>74078</td>\n",
              "      <td>True</td>\n",
              "    </tr>\n",
              "    <tr>\n",
              "      <th>879</th>\n",
              "      <td>880</td>\n",
              "      <td>13</td>\n",
              "      <td>M</td>\n",
              "      <td>student</td>\n",
              "      <td>83702</td>\n",
              "      <td>True</td>\n",
              "    </tr>\n",
              "    <tr>\n",
              "      <th>886</th>\n",
              "      <td>887</td>\n",
              "      <td>14</td>\n",
              "      <td>F</td>\n",
              "      <td>student</td>\n",
              "      <td>27249</td>\n",
              "      <td>True</td>\n",
              "    </tr>\n",
              "    <tr>\n",
              "      <th>903</th>\n",
              "      <td>904</td>\n",
              "      <td>17</td>\n",
              "      <td>F</td>\n",
              "      <td>student</td>\n",
              "      <td>61073</td>\n",
              "      <td>True</td>\n",
              "    </tr>\n",
              "    <tr>\n",
              "      <th>924</th>\n",
              "      <td>925</td>\n",
              "      <td>18</td>\n",
              "      <td>F</td>\n",
              "      <td>salesman</td>\n",
              "      <td>49036</td>\n",
              "      <td>True</td>\n",
              "    </tr>\n",
              "  </tbody>\n",
              "</table>\n",
              "<p>77 rows × 6 columns</p>\n",
              "</div>"
            ],
            "text/plain": [
              "     user_id  age gender occupation zip_code  boolage\n",
              "29        30    7      M    student    55436     True\n",
              "35        36   19      F    student    93117     True\n",
              "51        52   18      F    student    55105     True\n",
              "56        57   16      M       none    84010     True\n",
              "66        67   17      M    student    60402     True\n",
              "..       ...  ...    ...        ...      ...      ...\n",
              "871      872   19      F    student    74078     True\n",
              "879      880   13      M    student    83702     True\n",
              "886      887   14      F    student    27249     True\n",
              "903      904   17      F    student    61073     True\n",
              "924      925   18      F   salesman    49036     True\n",
              "\n",
              "[77 rows x 6 columns]"
            ]
          },
          "execution_count": 45,
          "metadata": {},
          "output_type": "execute_result"
        }
      ],
      "source": [
        "# Or, combine into a single step.\n",
        "users[users.age < 20]"
      ]
    },
    {
      "cell_type": "code",
      "execution_count": 50,
      "metadata": {
        "colab": {
          "base_uri": "https://localhost:8080/"
        },
        "id": "9Ug5030uyg--",
        "outputId": "e7446fbd-64ea-41a5-a4f8-e8d20efeb0ff"
      },
      "outputs": [
        {
          "data": {
            "text/plain": [
              "Index(['user_id', 'age', 'gender', 'occupation', 'zip_code'], dtype='object')"
            ]
          },
          "execution_count": 50,
          "metadata": {},
          "output_type": "execute_result"
        }
      ],
      "source": [
        "users.columns"
      ]
    },
    {
      "cell_type": "code",
      "execution_count": 51,
      "metadata": {
        "id": "5RjoaCWqyg-_"
      },
      "outputs": [],
      "source": [
        "users['is_young'] = 0"
      ]
    },
    {
      "cell_type": "code",
      "execution_count": 52,
      "metadata": {
        "colab": {
          "base_uri": "https://localhost:8080/",
          "height": 206
        },
        "id": "LVlrvYZcyg-_",
        "outputId": "70a7e33a-6d4e-495d-c034-742b314a1490"
      },
      "outputs": [
        {
          "data": {
            "text/html": [
              "<div>\n",
              "<style scoped>\n",
              "    .dataframe tbody tr th:only-of-type {\n",
              "        vertical-align: middle;\n",
              "    }\n",
              "\n",
              "    .dataframe tbody tr th {\n",
              "        vertical-align: top;\n",
              "    }\n",
              "\n",
              "    .dataframe thead th {\n",
              "        text-align: right;\n",
              "    }\n",
              "</style>\n",
              "<table border=\"1\" class=\"dataframe\">\n",
              "  <thead>\n",
              "    <tr style=\"text-align: right;\">\n",
              "      <th></th>\n",
              "      <th>user_id</th>\n",
              "      <th>age</th>\n",
              "      <th>gender</th>\n",
              "      <th>occupation</th>\n",
              "      <th>zip_code</th>\n",
              "      <th>is_young</th>\n",
              "    </tr>\n",
              "  </thead>\n",
              "  <tbody>\n",
              "    <tr>\n",
              "      <th>0</th>\n",
              "      <td>1</td>\n",
              "      <td>24</td>\n",
              "      <td>M</td>\n",
              "      <td>technician</td>\n",
              "      <td>85711</td>\n",
              "      <td>0</td>\n",
              "    </tr>\n",
              "    <tr>\n",
              "      <th>1</th>\n",
              "      <td>2</td>\n",
              "      <td>53</td>\n",
              "      <td>F</td>\n",
              "      <td>other</td>\n",
              "      <td>94043</td>\n",
              "      <td>0</td>\n",
              "    </tr>\n",
              "    <tr>\n",
              "      <th>2</th>\n",
              "      <td>3</td>\n",
              "      <td>23</td>\n",
              "      <td>M</td>\n",
              "      <td>writer</td>\n",
              "      <td>32067</td>\n",
              "      <td>0</td>\n",
              "    </tr>\n",
              "    <tr>\n",
              "      <th>3</th>\n",
              "      <td>4</td>\n",
              "      <td>24</td>\n",
              "      <td>M</td>\n",
              "      <td>technician</td>\n",
              "      <td>43537</td>\n",
              "      <td>0</td>\n",
              "    </tr>\n",
              "    <tr>\n",
              "      <th>4</th>\n",
              "      <td>5</td>\n",
              "      <td>33</td>\n",
              "      <td>F</td>\n",
              "      <td>other</td>\n",
              "      <td>15213</td>\n",
              "      <td>0</td>\n",
              "    </tr>\n",
              "  </tbody>\n",
              "</table>\n",
              "</div>"
            ],
            "text/plain": [
              "   user_id  age gender  occupation zip_code  is_young\n",
              "0        1   24      M  technician    85711         0\n",
              "1        2   53      F       other    94043         0\n",
              "2        3   23      M      writer    32067         0\n",
              "3        4   24      M  technician    43537         0\n",
              "4        5   33      F       other    15213         0"
            ]
          },
          "execution_count": 52,
          "metadata": {},
          "output_type": "execute_result"
        }
      ],
      "source": [
        "users.head()"
      ]
    },
    {
      "cell_type": "code",
      "execution_count": 54,
      "metadata": {
        "id": "LJi7KQMfyg-_"
      },
      "outputs": [],
      "source": [
        "# Important: This creates a view of the original DataFrame, not a new DataFrame.\n",
        "# If you alter this view (e.g., by storing it in a variable and altering that)\n",
        "# You will alter the dataframe.\n",
        "\n",
        "users_under20 = users[users.age < 20]   # To resolve this warning, copy the `DataFrame` using `.copy()`."
      ]
    },
    {
      "cell_type": "code",
      "execution_count": 55,
      "metadata": {
        "id": "P-5CdBl0yg-_",
        "outputId": "ba1da951-d2e8-40c7-9748-9aa0c9e74b9c"
      },
      "outputs": [
        {
          "data": {
            "text/plain": [
              "29      student\n",
              "35      student\n",
              "51      student\n",
              "56         none\n",
              "66      student\n",
              "         ...   \n",
              "871     student\n",
              "879     student\n",
              "886     student\n",
              "903     student\n",
              "924    salesman\n",
              "Name: occupation, Length: 77, dtype: object"
            ]
          },
          "execution_count": 55,
          "metadata": {},
          "output_type": "execute_result"
        }
      ],
      "source": [
        "# Select one column from the filtered results.\n",
        "users[users.age < 20].occupation"
      ]
    },
    {
      "cell_type": "code",
      "execution_count": 56,
      "metadata": {
        "colab": {
          "base_uri": "https://localhost:8080/"
        },
        "id": "Obo6YGY4yg-_",
        "outputId": "b225b567-f04b-42f7-83fe-568749920361",
        "scrolled": true
      },
      "outputs": [
        {
          "data": {
            "text/plain": [
              "student          64\n",
              "other             4\n",
              "none              3\n",
              "entertainment     2\n",
              "writer            2\n",
              "artist            1\n",
              "salesman          1\n",
              "Name: occupation, dtype: int64"
            ]
          },
          "execution_count": 56,
          "metadata": {},
          "output_type": "execute_result"
        }
      ],
      "source": [
        "# value_counts of resulting Series\n",
        "users[users.age < 20].occupation.value_counts()"
      ]
    },
    {
      "cell_type": "markdown",
      "metadata": {
        "id": "LklctiStyg-_"
      },
      "source": [
        "**Logical filtering with multiple conditions**"
      ]
    },
    {
      "cell_type": "code",
      "execution_count": 57,
      "metadata": {
        "id": "Kbw_LTIgyg-_",
        "outputId": "aa289d70-13cd-4d4c-e7a0-4fefacbda8e5"
      },
      "outputs": [
        {
          "data": {
            "text/html": [
              "<div>\n",
              "<style scoped>\n",
              "    .dataframe tbody tr th:only-of-type {\n",
              "        vertical-align: middle;\n",
              "    }\n",
              "\n",
              "    .dataframe tbody tr th {\n",
              "        vertical-align: top;\n",
              "    }\n",
              "\n",
              "    .dataframe thead th {\n",
              "        text-align: right;\n",
              "    }\n",
              "</style>\n",
              "<table border=\"1\" class=\"dataframe\">\n",
              "  <thead>\n",
              "    <tr style=\"text-align: right;\">\n",
              "      <th></th>\n",
              "      <th>user_id</th>\n",
              "      <th>age</th>\n",
              "      <th>gender</th>\n",
              "      <th>occupation</th>\n",
              "      <th>zip_code</th>\n",
              "      <th>is_young</th>\n",
              "    </tr>\n",
              "  </thead>\n",
              "  <tbody>\n",
              "    <tr>\n",
              "      <th>29</th>\n",
              "      <td>30</td>\n",
              "      <td>7</td>\n",
              "      <td>M</td>\n",
              "      <td>student</td>\n",
              "      <td>55436</td>\n",
              "      <td>0</td>\n",
              "    </tr>\n",
              "    <tr>\n",
              "      <th>56</th>\n",
              "      <td>57</td>\n",
              "      <td>16</td>\n",
              "      <td>M</td>\n",
              "      <td>none</td>\n",
              "      <td>84010</td>\n",
              "      <td>0</td>\n",
              "    </tr>\n",
              "    <tr>\n",
              "      <th>66</th>\n",
              "      <td>67</td>\n",
              "      <td>17</td>\n",
              "      <td>M</td>\n",
              "      <td>student</td>\n",
              "      <td>60402</td>\n",
              "      <td>0</td>\n",
              "    </tr>\n",
              "    <tr>\n",
              "      <th>67</th>\n",
              "      <td>68</td>\n",
              "      <td>19</td>\n",
              "      <td>M</td>\n",
              "      <td>student</td>\n",
              "      <td>22904</td>\n",
              "      <td>0</td>\n",
              "    </tr>\n",
              "    <tr>\n",
              "      <th>100</th>\n",
              "      <td>101</td>\n",
              "      <td>15</td>\n",
              "      <td>M</td>\n",
              "      <td>student</td>\n",
              "      <td>05146</td>\n",
              "      <td>0</td>\n",
              "    </tr>\n",
              "    <tr>\n",
              "      <th>109</th>\n",
              "      <td>110</td>\n",
              "      <td>19</td>\n",
              "      <td>M</td>\n",
              "      <td>student</td>\n",
              "      <td>77840</td>\n",
              "      <td>0</td>\n",
              "    </tr>\n",
              "    <tr>\n",
              "      <th>141</th>\n",
              "      <td>142</td>\n",
              "      <td>13</td>\n",
              "      <td>M</td>\n",
              "      <td>other</td>\n",
              "      <td>48118</td>\n",
              "      <td>0</td>\n",
              "    </tr>\n",
              "    <tr>\n",
              "      <th>178</th>\n",
              "      <td>179</td>\n",
              "      <td>15</td>\n",
              "      <td>M</td>\n",
              "      <td>entertainment</td>\n",
              "      <td>20755</td>\n",
              "      <td>0</td>\n",
              "    </tr>\n",
              "    <tr>\n",
              "      <th>220</th>\n",
              "      <td>221</td>\n",
              "      <td>19</td>\n",
              "      <td>M</td>\n",
              "      <td>student</td>\n",
              "      <td>20685</td>\n",
              "      <td>0</td>\n",
              "    </tr>\n",
              "    <tr>\n",
              "      <th>245</th>\n",
              "      <td>246</td>\n",
              "      <td>19</td>\n",
              "      <td>M</td>\n",
              "      <td>student</td>\n",
              "      <td>28734</td>\n",
              "      <td>0</td>\n",
              "    </tr>\n",
              "    <tr>\n",
              "      <th>256</th>\n",
              "      <td>257</td>\n",
              "      <td>17</td>\n",
              "      <td>M</td>\n",
              "      <td>student</td>\n",
              "      <td>77005</td>\n",
              "      <td>0</td>\n",
              "    </tr>\n",
              "    <tr>\n",
              "      <th>288</th>\n",
              "      <td>289</td>\n",
              "      <td>11</td>\n",
              "      <td>M</td>\n",
              "      <td>none</td>\n",
              "      <td>94619</td>\n",
              "      <td>0</td>\n",
              "    </tr>\n",
              "    <tr>\n",
              "      <th>290</th>\n",
              "      <td>291</td>\n",
              "      <td>19</td>\n",
              "      <td>M</td>\n",
              "      <td>student</td>\n",
              "      <td>44106</td>\n",
              "      <td>0</td>\n",
              "    </tr>\n",
              "    <tr>\n",
              "      <th>302</th>\n",
              "      <td>303</td>\n",
              "      <td>19</td>\n",
              "      <td>M</td>\n",
              "      <td>student</td>\n",
              "      <td>14853</td>\n",
              "      <td>0</td>\n",
              "    </tr>\n",
              "    <tr>\n",
              "      <th>319</th>\n",
              "      <td>320</td>\n",
              "      <td>19</td>\n",
              "      <td>M</td>\n",
              "      <td>student</td>\n",
              "      <td>24060</td>\n",
              "      <td>0</td>\n",
              "    </tr>\n",
              "    <tr>\n",
              "      <th>346</th>\n",
              "      <td>347</td>\n",
              "      <td>18</td>\n",
              "      <td>M</td>\n",
              "      <td>student</td>\n",
              "      <td>90210</td>\n",
              "      <td>0</td>\n",
              "    </tr>\n",
              "    <tr>\n",
              "      <th>366</th>\n",
              "      <td>367</td>\n",
              "      <td>17</td>\n",
              "      <td>M</td>\n",
              "      <td>student</td>\n",
              "      <td>37411</td>\n",
              "      <td>0</td>\n",
              "    </tr>\n",
              "    <tr>\n",
              "      <th>367</th>\n",
              "      <td>368</td>\n",
              "      <td>18</td>\n",
              "      <td>M</td>\n",
              "      <td>student</td>\n",
              "      <td>92113</td>\n",
              "      <td>0</td>\n",
              "    </tr>\n",
              "    <tr>\n",
              "      <th>374</th>\n",
              "      <td>375</td>\n",
              "      <td>17</td>\n",
              "      <td>M</td>\n",
              "      <td>entertainment</td>\n",
              "      <td>37777</td>\n",
              "      <td>0</td>\n",
              "    </tr>\n",
              "    <tr>\n",
              "      <th>392</th>\n",
              "      <td>393</td>\n",
              "      <td>19</td>\n",
              "      <td>M</td>\n",
              "      <td>student</td>\n",
              "      <td>83686</td>\n",
              "      <td>0</td>\n",
              "    </tr>\n",
              "    <tr>\n",
              "      <th>396</th>\n",
              "      <td>397</td>\n",
              "      <td>17</td>\n",
              "      <td>M</td>\n",
              "      <td>student</td>\n",
              "      <td>27514</td>\n",
              "      <td>0</td>\n",
              "    </tr>\n",
              "    <tr>\n",
              "      <th>424</th>\n",
              "      <td>425</td>\n",
              "      <td>19</td>\n",
              "      <td>M</td>\n",
              "      <td>student</td>\n",
              "      <td>58644</td>\n",
              "      <td>0</td>\n",
              "    </tr>\n",
              "    <tr>\n",
              "      <th>450</th>\n",
              "      <td>451</td>\n",
              "      <td>16</td>\n",
              "      <td>M</td>\n",
              "      <td>student</td>\n",
              "      <td>48446</td>\n",
              "      <td>0</td>\n",
              "    </tr>\n",
              "    <tr>\n",
              "      <th>452</th>\n",
              "      <td>453</td>\n",
              "      <td>18</td>\n",
              "      <td>M</td>\n",
              "      <td>student</td>\n",
              "      <td>06333</td>\n",
              "      <td>0</td>\n",
              "    </tr>\n",
              "    <tr>\n",
              "      <th>460</th>\n",
              "      <td>461</td>\n",
              "      <td>15</td>\n",
              "      <td>M</td>\n",
              "      <td>student</td>\n",
              "      <td>98102</td>\n",
              "      <td>0</td>\n",
              "    </tr>\n",
              "    <tr>\n",
              "      <th>470</th>\n",
              "      <td>471</td>\n",
              "      <td>10</td>\n",
              "      <td>M</td>\n",
              "      <td>student</td>\n",
              "      <td>77459</td>\n",
              "      <td>0</td>\n",
              "    </tr>\n",
              "    <tr>\n",
              "      <th>520</th>\n",
              "      <td>521</td>\n",
              "      <td>19</td>\n",
              "      <td>M</td>\n",
              "      <td>student</td>\n",
              "      <td>02146</td>\n",
              "      <td>0</td>\n",
              "    </tr>\n",
              "    <tr>\n",
              "      <th>527</th>\n",
              "      <td>528</td>\n",
              "      <td>18</td>\n",
              "      <td>M</td>\n",
              "      <td>student</td>\n",
              "      <td>55104</td>\n",
              "      <td>0</td>\n",
              "    </tr>\n",
              "    <tr>\n",
              "      <th>579</th>\n",
              "      <td>580</td>\n",
              "      <td>16</td>\n",
              "      <td>M</td>\n",
              "      <td>student</td>\n",
              "      <td>17961</td>\n",
              "      <td>0</td>\n",
              "    </tr>\n",
              "    <tr>\n",
              "      <th>581</th>\n",
              "      <td>582</td>\n",
              "      <td>17</td>\n",
              "      <td>M</td>\n",
              "      <td>student</td>\n",
              "      <td>93003</td>\n",
              "      <td>0</td>\n",
              "    </tr>\n",
              "    <tr>\n",
              "      <th>591</th>\n",
              "      <td>592</td>\n",
              "      <td>18</td>\n",
              "      <td>M</td>\n",
              "      <td>student</td>\n",
              "      <td>97520</td>\n",
              "      <td>0</td>\n",
              "    </tr>\n",
              "    <tr>\n",
              "      <th>618</th>\n",
              "      <td>619</td>\n",
              "      <td>17</td>\n",
              "      <td>M</td>\n",
              "      <td>student</td>\n",
              "      <td>44134</td>\n",
              "      <td>0</td>\n",
              "    </tr>\n",
              "    <tr>\n",
              "      <th>620</th>\n",
              "      <td>621</td>\n",
              "      <td>17</td>\n",
              "      <td>M</td>\n",
              "      <td>student</td>\n",
              "      <td>60402</td>\n",
              "      <td>0</td>\n",
              "    </tr>\n",
              "    <tr>\n",
              "      <th>623</th>\n",
              "      <td>624</td>\n",
              "      <td>19</td>\n",
              "      <td>M</td>\n",
              "      <td>student</td>\n",
              "      <td>30067</td>\n",
              "      <td>0</td>\n",
              "    </tr>\n",
              "    <tr>\n",
              "      <th>627</th>\n",
              "      <td>628</td>\n",
              "      <td>13</td>\n",
              "      <td>M</td>\n",
              "      <td>none</td>\n",
              "      <td>94306</td>\n",
              "      <td>0</td>\n",
              "    </tr>\n",
              "    <tr>\n",
              "      <th>631</th>\n",
              "      <td>632</td>\n",
              "      <td>18</td>\n",
              "      <td>M</td>\n",
              "      <td>student</td>\n",
              "      <td>55454</td>\n",
              "      <td>0</td>\n",
              "    </tr>\n",
              "    <tr>\n",
              "      <th>699</th>\n",
              "      <td>700</td>\n",
              "      <td>17</td>\n",
              "      <td>M</td>\n",
              "      <td>student</td>\n",
              "      <td>76309</td>\n",
              "      <td>0</td>\n",
              "    </tr>\n",
              "    <tr>\n",
              "      <th>709</th>\n",
              "      <td>710</td>\n",
              "      <td>19</td>\n",
              "      <td>M</td>\n",
              "      <td>student</td>\n",
              "      <td>92020</td>\n",
              "      <td>0</td>\n",
              "    </tr>\n",
              "    <tr>\n",
              "      <th>728</th>\n",
              "      <td>729</td>\n",
              "      <td>19</td>\n",
              "      <td>M</td>\n",
              "      <td>student</td>\n",
              "      <td>56567</td>\n",
              "      <td>0</td>\n",
              "    </tr>\n",
              "    <tr>\n",
              "      <th>746</th>\n",
              "      <td>747</td>\n",
              "      <td>19</td>\n",
              "      <td>M</td>\n",
              "      <td>other</td>\n",
              "      <td>93612</td>\n",
              "      <td>0</td>\n",
              "    </tr>\n",
              "    <tr>\n",
              "      <th>760</th>\n",
              "      <td>761</td>\n",
              "      <td>17</td>\n",
              "      <td>M</td>\n",
              "      <td>student</td>\n",
              "      <td>97302</td>\n",
              "      <td>0</td>\n",
              "    </tr>\n",
              "    <tr>\n",
              "      <th>816</th>\n",
              "      <td>817</td>\n",
              "      <td>19</td>\n",
              "      <td>M</td>\n",
              "      <td>student</td>\n",
              "      <td>60152</td>\n",
              "      <td>0</td>\n",
              "    </tr>\n",
              "    <tr>\n",
              "      <th>850</th>\n",
              "      <td>851</td>\n",
              "      <td>18</td>\n",
              "      <td>M</td>\n",
              "      <td>other</td>\n",
              "      <td>29646</td>\n",
              "      <td>0</td>\n",
              "    </tr>\n",
              "    <tr>\n",
              "      <th>862</th>\n",
              "      <td>863</td>\n",
              "      <td>17</td>\n",
              "      <td>M</td>\n",
              "      <td>student</td>\n",
              "      <td>60089</td>\n",
              "      <td>0</td>\n",
              "    </tr>\n",
              "    <tr>\n",
              "      <th>879</th>\n",
              "      <td>880</td>\n",
              "      <td>13</td>\n",
              "      <td>M</td>\n",
              "      <td>student</td>\n",
              "      <td>83702</td>\n",
              "      <td>0</td>\n",
              "    </tr>\n",
              "  </tbody>\n",
              "</table>\n",
              "</div>"
            ],
            "text/plain": [
              "     user_id  age gender     occupation zip_code  is_young\n",
              "29        30    7      M        student    55436         0\n",
              "56        57   16      M           none    84010         0\n",
              "66        67   17      M        student    60402         0\n",
              "67        68   19      M        student    22904         0\n",
              "100      101   15      M        student    05146         0\n",
              "109      110   19      M        student    77840         0\n",
              "141      142   13      M          other    48118         0\n",
              "178      179   15      M  entertainment    20755         0\n",
              "220      221   19      M        student    20685         0\n",
              "245      246   19      M        student    28734         0\n",
              "256      257   17      M        student    77005         0\n",
              "288      289   11      M           none    94619         0\n",
              "290      291   19      M        student    44106         0\n",
              "302      303   19      M        student    14853         0\n",
              "319      320   19      M        student    24060         0\n",
              "346      347   18      M        student    90210         0\n",
              "366      367   17      M        student    37411         0\n",
              "367      368   18      M        student    92113         0\n",
              "374      375   17      M  entertainment    37777         0\n",
              "392      393   19      M        student    83686         0\n",
              "396      397   17      M        student    27514         0\n",
              "424      425   19      M        student    58644         0\n",
              "450      451   16      M        student    48446         0\n",
              "452      453   18      M        student    06333         0\n",
              "460      461   15      M        student    98102         0\n",
              "470      471   10      M        student    77459         0\n",
              "520      521   19      M        student    02146         0\n",
              "527      528   18      M        student    55104         0\n",
              "579      580   16      M        student    17961         0\n",
              "581      582   17      M        student    93003         0\n",
              "591      592   18      M        student    97520         0\n",
              "618      619   17      M        student    44134         0\n",
              "620      621   17      M        student    60402         0\n",
              "623      624   19      M        student    30067         0\n",
              "627      628   13      M           none    94306         0\n",
              "631      632   18      M        student    55454         0\n",
              "699      700   17      M        student    76309         0\n",
              "709      710   19      M        student    92020         0\n",
              "728      729   19      M        student    56567         0\n",
              "746      747   19      M          other    93612         0\n",
              "760      761   17      M        student    97302         0\n",
              "816      817   19      M        student    60152         0\n",
              "850      851   18      M          other    29646         0\n",
              "862      863   17      M        student    60089         0\n",
              "879      880   13      M        student    83702         0"
            ]
          },
          "execution_count": 57,
          "metadata": {},
          "output_type": "execute_result"
        }
      ],
      "source": [
        "# Ampersand for `AND` condition. (This is a \"bitwise\" `AND`.)\n",
        "# Important: You MUST put parentheses around each expression because `&` has a higher precedence than `<`.\n",
        "users[(users.age < 20) & (users.gender=='M')]"
      ]
    },
    {
      "cell_type": "code",
      "execution_count": 58,
      "metadata": {
        "id": "n2MVcyyKyg-_",
        "outputId": "4355c357-24a3-4caf-ee5b-06dd8078dd79"
      },
      "outputs": [
        {
          "data": {
            "text/html": [
              "<div>\n",
              "<style scoped>\n",
              "    .dataframe tbody tr th:only-of-type {\n",
              "        vertical-align: middle;\n",
              "    }\n",
              "\n",
              "    .dataframe tbody tr th {\n",
              "        vertical-align: top;\n",
              "    }\n",
              "\n",
              "    .dataframe thead th {\n",
              "        text-align: right;\n",
              "    }\n",
              "</style>\n",
              "<table border=\"1\" class=\"dataframe\">\n",
              "  <thead>\n",
              "    <tr style=\"text-align: right;\">\n",
              "      <th></th>\n",
              "      <th>user_id</th>\n",
              "      <th>age</th>\n",
              "      <th>gender</th>\n",
              "      <th>occupation</th>\n",
              "      <th>zip_code</th>\n",
              "      <th>is_young</th>\n",
              "    </tr>\n",
              "  </thead>\n",
              "  <tbody>\n",
              "    <tr>\n",
              "      <th>29</th>\n",
              "      <td>30</td>\n",
              "      <td>7</td>\n",
              "      <td>M</td>\n",
              "      <td>student</td>\n",
              "      <td>55436</td>\n",
              "      <td>0</td>\n",
              "    </tr>\n",
              "    <tr>\n",
              "      <th>35</th>\n",
              "      <td>36</td>\n",
              "      <td>19</td>\n",
              "      <td>F</td>\n",
              "      <td>student</td>\n",
              "      <td>93117</td>\n",
              "      <td>0</td>\n",
              "    </tr>\n",
              "    <tr>\n",
              "      <th>51</th>\n",
              "      <td>52</td>\n",
              "      <td>18</td>\n",
              "      <td>F</td>\n",
              "      <td>student</td>\n",
              "      <td>55105</td>\n",
              "      <td>0</td>\n",
              "    </tr>\n",
              "    <tr>\n",
              "      <th>56</th>\n",
              "      <td>57</td>\n",
              "      <td>16</td>\n",
              "      <td>M</td>\n",
              "      <td>none</td>\n",
              "      <td>84010</td>\n",
              "      <td>0</td>\n",
              "    </tr>\n",
              "    <tr>\n",
              "      <th>66</th>\n",
              "      <td>67</td>\n",
              "      <td>17</td>\n",
              "      <td>M</td>\n",
              "      <td>student</td>\n",
              "      <td>60402</td>\n",
              "      <td>0</td>\n",
              "    </tr>\n",
              "    <tr>\n",
              "      <th>...</th>\n",
              "      <td>...</td>\n",
              "      <td>...</td>\n",
              "      <td>...</td>\n",
              "      <td>...</td>\n",
              "      <td>...</td>\n",
              "      <td>...</td>\n",
              "    </tr>\n",
              "    <tr>\n",
              "      <th>879</th>\n",
              "      <td>880</td>\n",
              "      <td>13</td>\n",
              "      <td>M</td>\n",
              "      <td>student</td>\n",
              "      <td>83702</td>\n",
              "      <td>0</td>\n",
              "    </tr>\n",
              "    <tr>\n",
              "      <th>886</th>\n",
              "      <td>887</td>\n",
              "      <td>14</td>\n",
              "      <td>F</td>\n",
              "      <td>student</td>\n",
              "      <td>27249</td>\n",
              "      <td>0</td>\n",
              "    </tr>\n",
              "    <tr>\n",
              "      <th>903</th>\n",
              "      <td>904</td>\n",
              "      <td>17</td>\n",
              "      <td>F</td>\n",
              "      <td>student</td>\n",
              "      <td>61073</td>\n",
              "      <td>0</td>\n",
              "    </tr>\n",
              "    <tr>\n",
              "      <th>924</th>\n",
              "      <td>925</td>\n",
              "      <td>18</td>\n",
              "      <td>F</td>\n",
              "      <td>salesman</td>\n",
              "      <td>49036</td>\n",
              "      <td>0</td>\n",
              "    </tr>\n",
              "    <tr>\n",
              "      <th>933</th>\n",
              "      <td>934</td>\n",
              "      <td>61</td>\n",
              "      <td>M</td>\n",
              "      <td>engineer</td>\n",
              "      <td>22902</td>\n",
              "      <td>0</td>\n",
              "    </tr>\n",
              "  </tbody>\n",
              "</table>\n",
              "<p>99 rows × 6 columns</p>\n",
              "</div>"
            ],
            "text/plain": [
              "     user_id  age gender occupation zip_code  is_young\n",
              "29        30    7      M    student    55436         0\n",
              "35        36   19      F    student    93117         0\n",
              "51        52   18      F    student    55105         0\n",
              "56        57   16      M       none    84010         0\n",
              "66        67   17      M    student    60402         0\n",
              "..       ...  ...    ...        ...      ...       ...\n",
              "879      880   13      M    student    83702         0\n",
              "886      887   14      F    student    27249         0\n",
              "903      904   17      F    student    61073         0\n",
              "924      925   18      F   salesman    49036         0\n",
              "933      934   61      M   engineer    22902         0\n",
              "\n",
              "[99 rows x 6 columns]"
            ]
          },
          "execution_count": 58,
          "metadata": {},
          "output_type": "execute_result"
        }
      ],
      "source": [
        "# Pipe for `OR` condition. (This is a \"bitwise\" `OR`.)\n",
        "# Important: You MUST put parentheses around each expression because `|` has a higher precedence than `<`.\n",
        "users[(users.age < 20) | (users.age > 60)]"
      ]
    },
    {
      "cell_type": "code",
      "execution_count": 59,
      "metadata": {
        "id": "3juJgmgyyg_A",
        "outputId": "2d68efab-66e7-42f9-a3d4-c1f6481d7f99"
      },
      "outputs": [
        {
          "data": {
            "text/html": [
              "<div>\n",
              "<style scoped>\n",
              "    .dataframe tbody tr th:only-of-type {\n",
              "        vertical-align: middle;\n",
              "    }\n",
              "\n",
              "    .dataframe tbody tr th {\n",
              "        vertical-align: top;\n",
              "    }\n",
              "\n",
              "    .dataframe thead th {\n",
              "        text-align: right;\n",
              "    }\n",
              "</style>\n",
              "<table border=\"1\" class=\"dataframe\">\n",
              "  <thead>\n",
              "    <tr style=\"text-align: right;\">\n",
              "      <th></th>\n",
              "      <th>user_id</th>\n",
              "      <th>age</th>\n",
              "      <th>gender</th>\n",
              "      <th>occupation</th>\n",
              "      <th>zip_code</th>\n",
              "      <th>is_young</th>\n",
              "    </tr>\n",
              "  </thead>\n",
              "  <tbody>\n",
              "    <tr>\n",
              "      <th>9</th>\n",
              "      <td>10</td>\n",
              "      <td>53</td>\n",
              "      <td>M</td>\n",
              "      <td>lawyer</td>\n",
              "      <td>90703</td>\n",
              "      <td>0</td>\n",
              "    </tr>\n",
              "    <tr>\n",
              "      <th>124</th>\n",
              "      <td>125</td>\n",
              "      <td>30</td>\n",
              "      <td>M</td>\n",
              "      <td>lawyer</td>\n",
              "      <td>22202</td>\n",
              "      <td>0</td>\n",
              "    </tr>\n",
              "    <tr>\n",
              "      <th>125</th>\n",
              "      <td>126</td>\n",
              "      <td>28</td>\n",
              "      <td>F</td>\n",
              "      <td>lawyer</td>\n",
              "      <td>20015</td>\n",
              "      <td>0</td>\n",
              "    </tr>\n",
              "    <tr>\n",
              "      <th>137</th>\n",
              "      <td>138</td>\n",
              "      <td>46</td>\n",
              "      <td>M</td>\n",
              "      <td>doctor</td>\n",
              "      <td>53211</td>\n",
              "      <td>0</td>\n",
              "    </tr>\n",
              "    <tr>\n",
              "      <th>160</th>\n",
              "      <td>161</td>\n",
              "      <td>50</td>\n",
              "      <td>M</td>\n",
              "      <td>lawyer</td>\n",
              "      <td>55104</td>\n",
              "      <td>0</td>\n",
              "    </tr>\n",
              "    <tr>\n",
              "      <th>204</th>\n",
              "      <td>205</td>\n",
              "      <td>47</td>\n",
              "      <td>M</td>\n",
              "      <td>lawyer</td>\n",
              "      <td>06371</td>\n",
              "      <td>0</td>\n",
              "    </tr>\n",
              "    <tr>\n",
              "      <th>250</th>\n",
              "      <td>251</td>\n",
              "      <td>28</td>\n",
              "      <td>M</td>\n",
              "      <td>doctor</td>\n",
              "      <td>85032</td>\n",
              "      <td>0</td>\n",
              "    </tr>\n",
              "    <tr>\n",
              "      <th>298</th>\n",
              "      <td>299</td>\n",
              "      <td>29</td>\n",
              "      <td>M</td>\n",
              "      <td>doctor</td>\n",
              "      <td>63108</td>\n",
              "      <td>0</td>\n",
              "    </tr>\n",
              "    <tr>\n",
              "      <th>338</th>\n",
              "      <td>339</td>\n",
              "      <td>35</td>\n",
              "      <td>M</td>\n",
              "      <td>lawyer</td>\n",
              "      <td>37901</td>\n",
              "      <td>0</td>\n",
              "    </tr>\n",
              "    <tr>\n",
              "      <th>364</th>\n",
              "      <td>365</td>\n",
              "      <td>29</td>\n",
              "      <td>M</td>\n",
              "      <td>lawyer</td>\n",
              "      <td>20009</td>\n",
              "      <td>0</td>\n",
              "    </tr>\n",
              "    <tr>\n",
              "      <th>418</th>\n",
              "      <td>419</td>\n",
              "      <td>37</td>\n",
              "      <td>M</td>\n",
              "      <td>lawyer</td>\n",
              "      <td>43215</td>\n",
              "      <td>0</td>\n",
              "    </tr>\n",
              "    <tr>\n",
              "      <th>426</th>\n",
              "      <td>427</td>\n",
              "      <td>51</td>\n",
              "      <td>M</td>\n",
              "      <td>doctor</td>\n",
              "      <td>85258</td>\n",
              "      <td>0</td>\n",
              "    </tr>\n",
              "    <tr>\n",
              "      <th>443</th>\n",
              "      <td>444</td>\n",
              "      <td>51</td>\n",
              "      <td>F</td>\n",
              "      <td>lawyer</td>\n",
              "      <td>53202</td>\n",
              "      <td>0</td>\n",
              "    </tr>\n",
              "    <tr>\n",
              "      <th>588</th>\n",
              "      <td>589</td>\n",
              "      <td>21</td>\n",
              "      <td>M</td>\n",
              "      <td>lawyer</td>\n",
              "      <td>90034</td>\n",
              "      <td>0</td>\n",
              "    </tr>\n",
              "    <tr>\n",
              "      <th>679</th>\n",
              "      <td>680</td>\n",
              "      <td>33</td>\n",
              "      <td>M</td>\n",
              "      <td>lawyer</td>\n",
              "      <td>90405</td>\n",
              "      <td>0</td>\n",
              "    </tr>\n",
              "    <tr>\n",
              "      <th>840</th>\n",
              "      <td>841</td>\n",
              "      <td>45</td>\n",
              "      <td>M</td>\n",
              "      <td>doctor</td>\n",
              "      <td>47401</td>\n",
              "      <td>0</td>\n",
              "    </tr>\n",
              "    <tr>\n",
              "      <th>844</th>\n",
              "      <td>845</td>\n",
              "      <td>64</td>\n",
              "      <td>M</td>\n",
              "      <td>doctor</td>\n",
              "      <td>97405</td>\n",
              "      <td>0</td>\n",
              "    </tr>\n",
              "    <tr>\n",
              "      <th>845</th>\n",
              "      <td>846</td>\n",
              "      <td>27</td>\n",
              "      <td>M</td>\n",
              "      <td>lawyer</td>\n",
              "      <td>47130</td>\n",
              "      <td>0</td>\n",
              "    </tr>\n",
              "    <tr>\n",
              "      <th>934</th>\n",
              "      <td>935</td>\n",
              "      <td>42</td>\n",
              "      <td>M</td>\n",
              "      <td>doctor</td>\n",
              "      <td>66221</td>\n",
              "      <td>0</td>\n",
              "    </tr>\n",
              "  </tbody>\n",
              "</table>\n",
              "</div>"
            ],
            "text/plain": [
              "     user_id  age gender occupation zip_code  is_young\n",
              "9         10   53      M     lawyer    90703         0\n",
              "124      125   30      M     lawyer    22202         0\n",
              "125      126   28      F     lawyer    20015         0\n",
              "137      138   46      M     doctor    53211         0\n",
              "160      161   50      M     lawyer    55104         0\n",
              "204      205   47      M     lawyer    06371         0\n",
              "250      251   28      M     doctor    85032         0\n",
              "298      299   29      M     doctor    63108         0\n",
              "338      339   35      M     lawyer    37901         0\n",
              "364      365   29      M     lawyer    20009         0\n",
              "418      419   37      M     lawyer    43215         0\n",
              "426      427   51      M     doctor    85258         0\n",
              "443      444   51      F     lawyer    53202         0\n",
              "588      589   21      M     lawyer    90034         0\n",
              "679      680   33      M     lawyer    90405         0\n",
              "840      841   45      M     doctor    47401         0\n",
              "844      845   64      M     doctor    97405         0\n",
              "845      846   27      M     lawyer    47130         0\n",
              "934      935   42      M     doctor    66221         0"
            ]
          },
          "execution_count": 59,
          "metadata": {},
          "output_type": "execute_result"
        }
      ],
      "source": [
        "# Preferred alternative to multiple `OR` conditions\n",
        "\n",
        "users[(users['occupation'] == 'doctor') | (users['occupation'] == 'lawyer')]\n",
        "#users[users.occupation.isin(['doctor', 'lawyer'])]"
      ]
    },
    {
      "cell_type": "markdown",
      "metadata": {
        "id": "t1nfGPnVyg_A"
      },
      "source": [
        "**Sorting**"
      ]
    },
    {
      "cell_type": "code",
      "execution_count": 60,
      "metadata": {
        "id": "jkqDXtBTyg_A",
        "outputId": "b0ba2336-4fa2-44a1-c10f-fa9191b8c6a3"
      },
      "outputs": [
        {
          "data": {
            "text/plain": [
              "29      7\n",
              "470    10\n",
              "288    11\n",
              "879    13\n",
              "608    13\n",
              "       ..\n",
              "584    69\n",
              "766    70\n",
              "802    70\n",
              "859    70\n",
              "480    73\n",
              "Name: age, Length: 943, dtype: int64"
            ]
          },
          "execution_count": 60,
          "metadata": {},
          "output_type": "execute_result"
        }
      ],
      "source": [
        "# Sort a Series.\n",
        "users.age.sort_values()"
      ]
    },
    {
      "cell_type": "code",
      "execution_count": 61,
      "metadata": {
        "id": "57GEBJoQyg_A",
        "outputId": "cc03bcb8-d411-451c-f175-4be4e1529d8b"
      },
      "outputs": [
        {
          "data": {
            "text/html": [
              "<div>\n",
              "<style scoped>\n",
              "    .dataframe tbody tr th:only-of-type {\n",
              "        vertical-align: middle;\n",
              "    }\n",
              "\n",
              "    .dataframe tbody tr th {\n",
              "        vertical-align: top;\n",
              "    }\n",
              "\n",
              "    .dataframe thead th {\n",
              "        text-align: right;\n",
              "    }\n",
              "</style>\n",
              "<table border=\"1\" class=\"dataframe\">\n",
              "  <thead>\n",
              "    <tr style=\"text-align: right;\">\n",
              "      <th></th>\n",
              "      <th>user_id</th>\n",
              "      <th>age</th>\n",
              "      <th>gender</th>\n",
              "      <th>occupation</th>\n",
              "      <th>zip_code</th>\n",
              "      <th>is_young</th>\n",
              "    </tr>\n",
              "  </thead>\n",
              "  <tbody>\n",
              "    <tr>\n",
              "      <th>29</th>\n",
              "      <td>30</td>\n",
              "      <td>7</td>\n",
              "      <td>M</td>\n",
              "      <td>student</td>\n",
              "      <td>55436</td>\n",
              "      <td>0</td>\n",
              "    </tr>\n",
              "    <tr>\n",
              "      <th>470</th>\n",
              "      <td>471</td>\n",
              "      <td>10</td>\n",
              "      <td>M</td>\n",
              "      <td>student</td>\n",
              "      <td>77459</td>\n",
              "      <td>0</td>\n",
              "    </tr>\n",
              "    <tr>\n",
              "      <th>288</th>\n",
              "      <td>289</td>\n",
              "      <td>11</td>\n",
              "      <td>M</td>\n",
              "      <td>none</td>\n",
              "      <td>94619</td>\n",
              "      <td>0</td>\n",
              "    </tr>\n",
              "    <tr>\n",
              "      <th>879</th>\n",
              "      <td>880</td>\n",
              "      <td>13</td>\n",
              "      <td>M</td>\n",
              "      <td>student</td>\n",
              "      <td>83702</td>\n",
              "      <td>0</td>\n",
              "    </tr>\n",
              "    <tr>\n",
              "      <th>608</th>\n",
              "      <td>609</td>\n",
              "      <td>13</td>\n",
              "      <td>F</td>\n",
              "      <td>student</td>\n",
              "      <td>55106</td>\n",
              "      <td>0</td>\n",
              "    </tr>\n",
              "    <tr>\n",
              "      <th>...</th>\n",
              "      <td>...</td>\n",
              "      <td>...</td>\n",
              "      <td>...</td>\n",
              "      <td>...</td>\n",
              "      <td>...</td>\n",
              "      <td>...</td>\n",
              "    </tr>\n",
              "    <tr>\n",
              "      <th>584</th>\n",
              "      <td>585</td>\n",
              "      <td>69</td>\n",
              "      <td>M</td>\n",
              "      <td>librarian</td>\n",
              "      <td>98501</td>\n",
              "      <td>0</td>\n",
              "    </tr>\n",
              "    <tr>\n",
              "      <th>766</th>\n",
              "      <td>767</td>\n",
              "      <td>70</td>\n",
              "      <td>M</td>\n",
              "      <td>engineer</td>\n",
              "      <td>00000</td>\n",
              "      <td>0</td>\n",
              "    </tr>\n",
              "    <tr>\n",
              "      <th>802</th>\n",
              "      <td>803</td>\n",
              "      <td>70</td>\n",
              "      <td>M</td>\n",
              "      <td>administrator</td>\n",
              "      <td>78212</td>\n",
              "      <td>0</td>\n",
              "    </tr>\n",
              "    <tr>\n",
              "      <th>859</th>\n",
              "      <td>860</td>\n",
              "      <td>70</td>\n",
              "      <td>F</td>\n",
              "      <td>retired</td>\n",
              "      <td>48322</td>\n",
              "      <td>0</td>\n",
              "    </tr>\n",
              "    <tr>\n",
              "      <th>480</th>\n",
              "      <td>481</td>\n",
              "      <td>73</td>\n",
              "      <td>M</td>\n",
              "      <td>retired</td>\n",
              "      <td>37771</td>\n",
              "      <td>0</td>\n",
              "    </tr>\n",
              "  </tbody>\n",
              "</table>\n",
              "<p>943 rows × 6 columns</p>\n",
              "</div>"
            ],
            "text/plain": [
              "     user_id  age gender     occupation zip_code  is_young\n",
              "29        30    7      M        student    55436         0\n",
              "470      471   10      M        student    77459         0\n",
              "288      289   11      M           none    94619         0\n",
              "879      880   13      M        student    83702         0\n",
              "608      609   13      F        student    55106         0\n",
              "..       ...  ...    ...            ...      ...       ...\n",
              "584      585   69      M      librarian    98501         0\n",
              "766      767   70      M       engineer    00000         0\n",
              "802      803   70      M  administrator    78212         0\n",
              "859      860   70      F        retired    48322         0\n",
              "480      481   73      M        retired    37771         0\n",
              "\n",
              "[943 rows x 6 columns]"
            ]
          },
          "execution_count": 61,
          "metadata": {},
          "output_type": "execute_result"
        }
      ],
      "source": [
        "# Sort a DataFrame by a single column.\n",
        "users.sort_values('age')"
      ]
    },
    {
      "cell_type": "code",
      "execution_count": 62,
      "metadata": {
        "id": "f6613iiayg_A",
        "outputId": "1970221e-fb36-407c-d890-56c637c4bef2"
      },
      "outputs": [
        {
          "data": {
            "text/html": [
              "<div>\n",
              "<style scoped>\n",
              "    .dataframe tbody tr th:only-of-type {\n",
              "        vertical-align: middle;\n",
              "    }\n",
              "\n",
              "    .dataframe tbody tr th {\n",
              "        vertical-align: top;\n",
              "    }\n",
              "\n",
              "    .dataframe thead th {\n",
              "        text-align: right;\n",
              "    }\n",
              "</style>\n",
              "<table border=\"1\" class=\"dataframe\">\n",
              "  <thead>\n",
              "    <tr style=\"text-align: right;\">\n",
              "      <th></th>\n",
              "      <th>user_id</th>\n",
              "      <th>age</th>\n",
              "      <th>gender</th>\n",
              "      <th>occupation</th>\n",
              "      <th>zip_code</th>\n",
              "      <th>is_young</th>\n",
              "    </tr>\n",
              "  </thead>\n",
              "  <tbody>\n",
              "    <tr>\n",
              "      <th>480</th>\n",
              "      <td>481</td>\n",
              "      <td>73</td>\n",
              "      <td>M</td>\n",
              "      <td>retired</td>\n",
              "      <td>37771</td>\n",
              "      <td>0</td>\n",
              "    </tr>\n",
              "    <tr>\n",
              "      <th>802</th>\n",
              "      <td>803</td>\n",
              "      <td>70</td>\n",
              "      <td>M</td>\n",
              "      <td>administrator</td>\n",
              "      <td>78212</td>\n",
              "      <td>0</td>\n",
              "    </tr>\n",
              "    <tr>\n",
              "      <th>766</th>\n",
              "      <td>767</td>\n",
              "      <td>70</td>\n",
              "      <td>M</td>\n",
              "      <td>engineer</td>\n",
              "      <td>00000</td>\n",
              "      <td>0</td>\n",
              "    </tr>\n",
              "    <tr>\n",
              "      <th>859</th>\n",
              "      <td>860</td>\n",
              "      <td>70</td>\n",
              "      <td>F</td>\n",
              "      <td>retired</td>\n",
              "      <td>48322</td>\n",
              "      <td>0</td>\n",
              "    </tr>\n",
              "    <tr>\n",
              "      <th>584</th>\n",
              "      <td>585</td>\n",
              "      <td>69</td>\n",
              "      <td>M</td>\n",
              "      <td>librarian</td>\n",
              "      <td>98501</td>\n",
              "      <td>0</td>\n",
              "    </tr>\n",
              "    <tr>\n",
              "      <th>...</th>\n",
              "      <td>...</td>\n",
              "      <td>...</td>\n",
              "      <td>...</td>\n",
              "      <td>...</td>\n",
              "      <td>...</td>\n",
              "      <td>...</td>\n",
              "    </tr>\n",
              "    <tr>\n",
              "      <th>879</th>\n",
              "      <td>880</td>\n",
              "      <td>13</td>\n",
              "      <td>M</td>\n",
              "      <td>student</td>\n",
              "      <td>83702</td>\n",
              "      <td>0</td>\n",
              "    </tr>\n",
              "    <tr>\n",
              "      <th>608</th>\n",
              "      <td>609</td>\n",
              "      <td>13</td>\n",
              "      <td>F</td>\n",
              "      <td>student</td>\n",
              "      <td>55106</td>\n",
              "      <td>0</td>\n",
              "    </tr>\n",
              "    <tr>\n",
              "      <th>288</th>\n",
              "      <td>289</td>\n",
              "      <td>11</td>\n",
              "      <td>M</td>\n",
              "      <td>none</td>\n",
              "      <td>94619</td>\n",
              "      <td>0</td>\n",
              "    </tr>\n",
              "    <tr>\n",
              "      <th>470</th>\n",
              "      <td>471</td>\n",
              "      <td>10</td>\n",
              "      <td>M</td>\n",
              "      <td>student</td>\n",
              "      <td>77459</td>\n",
              "      <td>0</td>\n",
              "    </tr>\n",
              "    <tr>\n",
              "      <th>29</th>\n",
              "      <td>30</td>\n",
              "      <td>7</td>\n",
              "      <td>M</td>\n",
              "      <td>student</td>\n",
              "      <td>55436</td>\n",
              "      <td>0</td>\n",
              "    </tr>\n",
              "  </tbody>\n",
              "</table>\n",
              "<p>943 rows × 6 columns</p>\n",
              "</div>"
            ],
            "text/plain": [
              "     user_id  age gender     occupation zip_code  is_young\n",
              "480      481   73      M        retired    37771         0\n",
              "802      803   70      M  administrator    78212         0\n",
              "766      767   70      M       engineer    00000         0\n",
              "859      860   70      F        retired    48322         0\n",
              "584      585   69      M      librarian    98501         0\n",
              "..       ...  ...    ...            ...      ...       ...\n",
              "879      880   13      M        student    83702         0\n",
              "608      609   13      F        student    55106         0\n",
              "288      289   11      M           none    94619         0\n",
              "470      471   10      M        student    77459         0\n",
              "29        30    7      M        student    55436         0\n",
              "\n",
              "[943 rows x 6 columns]"
            ]
          },
          "execution_count": 62,
          "metadata": {},
          "output_type": "execute_result"
        }
      ],
      "source": [
        "# Use descending order instead.\n",
        "users.sort_values('age', ascending=False)"
      ]
    },
    {
      "cell_type": "code",
      "execution_count": 63,
      "metadata": {
        "id": "ipVqsXfxyg_A",
        "outputId": "ee079b72-7a33-4505-b3a8-04a1c852817f"
      },
      "outputs": [
        {
          "data": {
            "text/html": [
              "<div>\n",
              "<style scoped>\n",
              "    .dataframe tbody tr th:only-of-type {\n",
              "        vertical-align: middle;\n",
              "    }\n",
              "\n",
              "    .dataframe tbody tr th {\n",
              "        vertical-align: top;\n",
              "    }\n",
              "\n",
              "    .dataframe thead th {\n",
              "        text-align: right;\n",
              "    }\n",
              "</style>\n",
              "<table border=\"1\" class=\"dataframe\">\n",
              "  <thead>\n",
              "    <tr style=\"text-align: right;\">\n",
              "      <th></th>\n",
              "      <th>user_id</th>\n",
              "      <th>age</th>\n",
              "      <th>gender</th>\n",
              "      <th>occupation</th>\n",
              "      <th>zip_code</th>\n",
              "      <th>is_young</th>\n",
              "    </tr>\n",
              "  </thead>\n",
              "  <tbody>\n",
              "    <tr>\n",
              "      <th>117</th>\n",
              "      <td>118</td>\n",
              "      <td>21</td>\n",
              "      <td>M</td>\n",
              "      <td>administrator</td>\n",
              "      <td>90210</td>\n",
              "      <td>0</td>\n",
              "    </tr>\n",
              "    <tr>\n",
              "      <th>179</th>\n",
              "      <td>180</td>\n",
              "      <td>22</td>\n",
              "      <td>F</td>\n",
              "      <td>administrator</td>\n",
              "      <td>60202</td>\n",
              "      <td>0</td>\n",
              "    </tr>\n",
              "    <tr>\n",
              "      <th>281</th>\n",
              "      <td>282</td>\n",
              "      <td>22</td>\n",
              "      <td>M</td>\n",
              "      <td>administrator</td>\n",
              "      <td>20057</td>\n",
              "      <td>0</td>\n",
              "    </tr>\n",
              "    <tr>\n",
              "      <th>316</th>\n",
              "      <td>317</td>\n",
              "      <td>22</td>\n",
              "      <td>M</td>\n",
              "      <td>administrator</td>\n",
              "      <td>13210</td>\n",
              "      <td>0</td>\n",
              "    </tr>\n",
              "    <tr>\n",
              "      <th>438</th>\n",
              "      <td>439</td>\n",
              "      <td>23</td>\n",
              "      <td>F</td>\n",
              "      <td>administrator</td>\n",
              "      <td>20817</td>\n",
              "      <td>0</td>\n",
              "    </tr>\n",
              "    <tr>\n",
              "      <th>...</th>\n",
              "      <td>...</td>\n",
              "      <td>...</td>\n",
              "      <td>...</td>\n",
              "      <td>...</td>\n",
              "      <td>...</td>\n",
              "      <td>...</td>\n",
              "    </tr>\n",
              "    <tr>\n",
              "      <th>547</th>\n",
              "      <td>548</td>\n",
              "      <td>51</td>\n",
              "      <td>M</td>\n",
              "      <td>writer</td>\n",
              "      <td>95468</td>\n",
              "      <td>0</td>\n",
              "    </tr>\n",
              "    <tr>\n",
              "      <th>369</th>\n",
              "      <td>370</td>\n",
              "      <td>52</td>\n",
              "      <td>M</td>\n",
              "      <td>writer</td>\n",
              "      <td>08534</td>\n",
              "      <td>0</td>\n",
              "    </tr>\n",
              "    <tr>\n",
              "      <th>391</th>\n",
              "      <td>392</td>\n",
              "      <td>52</td>\n",
              "      <td>M</td>\n",
              "      <td>writer</td>\n",
              "      <td>59801</td>\n",
              "      <td>0</td>\n",
              "    </tr>\n",
              "    <tr>\n",
              "      <th>557</th>\n",
              "      <td>558</td>\n",
              "      <td>56</td>\n",
              "      <td>F</td>\n",
              "      <td>writer</td>\n",
              "      <td>63132</td>\n",
              "      <td>0</td>\n",
              "    </tr>\n",
              "    <tr>\n",
              "      <th>463</th>\n",
              "      <td>464</td>\n",
              "      <td>60</td>\n",
              "      <td>M</td>\n",
              "      <td>writer</td>\n",
              "      <td>94583</td>\n",
              "      <td>0</td>\n",
              "    </tr>\n",
              "  </tbody>\n",
              "</table>\n",
              "<p>943 rows × 6 columns</p>\n",
              "</div>"
            ],
            "text/plain": [
              "     user_id  age gender     occupation zip_code  is_young\n",
              "117      118   21      M  administrator    90210         0\n",
              "179      180   22      F  administrator    60202         0\n",
              "281      282   22      M  administrator    20057         0\n",
              "316      317   22      M  administrator    13210         0\n",
              "438      439   23      F  administrator    20817         0\n",
              "..       ...  ...    ...            ...      ...       ...\n",
              "547      548   51      M         writer    95468         0\n",
              "369      370   52      M         writer    08534         0\n",
              "391      392   52      M         writer    59801         0\n",
              "557      558   56      F         writer    63132         0\n",
              "463      464   60      M         writer    94583         0\n",
              "\n",
              "[943 rows x 6 columns]"
            ]
          },
          "execution_count": 63,
          "metadata": {},
          "output_type": "execute_result"
        }
      ],
      "source": [
        "# Sort by multiple columns.\n",
        "users.sort_values(['occupation', 'age'])"
      ]
    },
    {
      "cell_type": "markdown",
      "metadata": {
        "id": "J1DP5XzKyg_A"
      },
      "source": [
        "<a id=\"exercise-two\"></a>\n",
        "### Exercise 2\n",
        "\n",
        "<img src=\"https://alik-courses.web.app/intro-to-ai/intro-to-pandas/images/hands_on.jpg\" width=\"100\" height=\"100\" align=\"right\"/>\n",
        "\n",
        "Use the `drinks.csv` or `drinks` `DataFrame` from earlier to complete the following."
      ]
    },
    {
      "cell_type": "code",
      "execution_count": 64,
      "metadata": {
        "colab": {
          "base_uri": "https://localhost:8080/",
          "height": 112
        },
        "id": "m-LzNRVByg_A",
        "outputId": "3171d86c-8407-4fa2-ceda-567add0911ce"
      },
      "outputs": [
        {
          "data": {
            "text/html": [
              "<div>\n",
              "<style scoped>\n",
              "    .dataframe tbody tr th:only-of-type {\n",
              "        vertical-align: middle;\n",
              "    }\n",
              "\n",
              "    .dataframe tbody tr th {\n",
              "        vertical-align: top;\n",
              "    }\n",
              "\n",
              "    .dataframe thead th {\n",
              "        text-align: right;\n",
              "    }\n",
              "</style>\n",
              "<table border=\"1\" class=\"dataframe\">\n",
              "  <thead>\n",
              "    <tr style=\"text-align: right;\">\n",
              "      <th></th>\n",
              "      <th>country</th>\n",
              "      <th>beer_servings</th>\n",
              "      <th>spirit_servings</th>\n",
              "      <th>wine_servings</th>\n",
              "      <th>total_litres_of_pure_alcohol</th>\n",
              "      <th>continent</th>\n",
              "    </tr>\n",
              "  </thead>\n",
              "  <tbody>\n",
              "    <tr>\n",
              "      <th>0</th>\n",
              "      <td>Afghanistan</td>\n",
              "      <td>0</td>\n",
              "      <td>0</td>\n",
              "      <td>0</td>\n",
              "      <td>0.0</td>\n",
              "      <td>AS</td>\n",
              "    </tr>\n",
              "    <tr>\n",
              "      <th>1</th>\n",
              "      <td>Albania</td>\n",
              "      <td>89</td>\n",
              "      <td>132</td>\n",
              "      <td>54</td>\n",
              "      <td>4.9</td>\n",
              "      <td>EU</td>\n",
              "    </tr>\n",
              "  </tbody>\n",
              "</table>\n",
              "</div>"
            ],
            "text/plain": [
              "       country  beer_servings  spirit_servings  wine_servings  \\\n",
              "0  Afghanistan              0                0              0   \n",
              "1      Albania             89              132             54   \n",
              "\n",
              "   total_litres_of_pure_alcohol continent  \n",
              "0                           0.0        AS  \n",
              "1                           4.9        EU  "
            ]
          },
          "execution_count": 64,
          "metadata": {},
          "output_type": "execute_result"
        }
      ],
      "source": [
        "drinks.head(2)"
      ]
    },
    {
      "cell_type": "code",
      "execution_count": 65,
      "metadata": {
        "colab": {
          "base_uri": "https://localhost:8080/",
          "height": 1000
        },
        "id": "cl6li1Lryg_A",
        "outputId": "7a7620ae-789a-4f3c-8f3e-5f1a5286ac1b"
      },
      "outputs": [],
      "source": [
        "# Filter DataFrame to only include European countries."
      ]
    },
    {
      "cell_type": "code",
      "execution_count": 66,
      "metadata": {
        "colab": {
          "base_uri": "https://localhost:8080/",
          "height": 143
        },
        "id": "PVj4NlfKyg_B",
        "outputId": "9fc5a1fc-5975-42e8-a4e3-0f65f52b58e8"
      },
      "outputs": [],
      "source": [
        "# Filter DataFrame to only include European countries with wine_servings > 300."
      ]
    },
    {
      "cell_type": "code",
      "execution_count": 67,
      "metadata": {
        "colab": {
          "base_uri": "https://localhost:8080/"
        },
        "id": "vfjYI8yayg_B",
        "outputId": "64f76e1a-c57d-40ee-993c-0b767293cfc2"
      },
      "outputs": [],
      "source": [
        "# Calculate the average beer_servings for all of Europe."
      ]
    },
    {
      "cell_type": "code",
      "execution_count": 68,
      "metadata": {
        "colab": {
          "base_uri": "https://localhost:8080/",
          "height": 424
        },
        "id": "zZap0Loxyg_B",
        "outputId": "288360cd-410c-409c-d07c-afe77847ee6f"
      },
      "outputs": [],
      "source": [
        "# Determine which 10 countries have the highest total_litres_of_pure_alcohol."
      ]
    },
    {
      "cell_type": "markdown",
      "metadata": {
        "id": "457sycLzyg_B"
      },
      "source": [
        "<a id=\"columns\"></a>\n",
        "### Renaming, Adding, and Removing Columns\n",
        "\n",
        "<img src=\"https://alik-courses.web.app/intro-to-ai/intro-to-pandas/images/panda_api.jpeg\" width=\"300\" height=\"300\" align=\"right\"/>\n",
        "\n",
        "- **Objective:** Manipulate `DataFrame` columns."
      ]
    },
    {
      "cell_type": "code",
      "execution_count": null,
      "metadata": {
        "colab": {
          "base_uri": "https://localhost:8080/",
          "height": 270
        },
        "id": "yHW_Ckycyg_B",
        "outputId": "a203d4e2-7bce-4978-e343-3cb8df6d3c16"
      },
      "outputs": [
        {
          "data": {
            "text/html": [
              "\n",
              "  <div id=\"df-f290b923-828e-4429-a880-0d91b6f0331e\">\n",
              "    <div class=\"colab-df-container\">\n",
              "      <div>\n",
              "<style scoped>\n",
              "    .dataframe tbody tr th:only-of-type {\n",
              "        vertical-align: middle;\n",
              "    }\n",
              "\n",
              "    .dataframe tbody tr th {\n",
              "        vertical-align: top;\n",
              "    }\n",
              "\n",
              "    .dataframe thead th {\n",
              "        text-align: right;\n",
              "    }\n",
              "</style>\n",
              "<table border=\"1\" class=\"dataframe\">\n",
              "  <thead>\n",
              "    <tr style=\"text-align: right;\">\n",
              "      <th></th>\n",
              "      <th>country</th>\n",
              "      <th>beer_servings</th>\n",
              "      <th>spirit_servings</th>\n",
              "      <th>wine_servings</th>\n",
              "      <th>total_litres_of_pure_alcohol</th>\n",
              "      <th>continent</th>\n",
              "    </tr>\n",
              "  </thead>\n",
              "  <tbody>\n",
              "    <tr>\n",
              "      <th>0</th>\n",
              "      <td>Afghanistan</td>\n",
              "      <td>0</td>\n",
              "      <td>0</td>\n",
              "      <td>0</td>\n",
              "      <td>0.0</td>\n",
              "      <td>AS</td>\n",
              "    </tr>\n",
              "    <tr>\n",
              "      <th>1</th>\n",
              "      <td>Albania</td>\n",
              "      <td>89</td>\n",
              "      <td>132</td>\n",
              "      <td>54</td>\n",
              "      <td>4.9</td>\n",
              "      <td>EU</td>\n",
              "    </tr>\n",
              "    <tr>\n",
              "      <th>2</th>\n",
              "      <td>Algeria</td>\n",
              "      <td>25</td>\n",
              "      <td>0</td>\n",
              "      <td>14</td>\n",
              "      <td>0.7</td>\n",
              "      <td>AF</td>\n",
              "    </tr>\n",
              "    <tr>\n",
              "      <th>3</th>\n",
              "      <td>Andorra</td>\n",
              "      <td>245</td>\n",
              "      <td>138</td>\n",
              "      <td>312</td>\n",
              "      <td>12.4</td>\n",
              "      <td>EU</td>\n",
              "    </tr>\n",
              "    <tr>\n",
              "      <th>4</th>\n",
              "      <td>Angola</td>\n",
              "      <td>217</td>\n",
              "      <td>57</td>\n",
              "      <td>45</td>\n",
              "      <td>5.9</td>\n",
              "      <td>AF</td>\n",
              "    </tr>\n",
              "  </tbody>\n",
              "</table>\n",
              "</div>\n",
              "      <button class=\"colab-df-convert\" onclick=\"convertToInteractive('df-f290b923-828e-4429-a880-0d91b6f0331e')\"\n",
              "              title=\"Convert this dataframe to an interactive table.\"\n",
              "              style=\"display:none;\">\n",
              "        \n",
              "  <svg xmlns=\"http://www.w3.org/2000/svg\" height=\"24px\"viewBox=\"0 0 24 24\"\n",
              "       width=\"24px\">\n",
              "    <path d=\"M0 0h24v24H0V0z\" fill=\"none\"/>\n",
              "    <path d=\"M18.56 5.44l.94 2.06.94-2.06 2.06-.94-2.06-.94-.94-2.06-.94 2.06-2.06.94zm-11 1L8.5 8.5l.94-2.06 2.06-.94-2.06-.94L8.5 2.5l-.94 2.06-2.06.94zm10 10l.94 2.06.94-2.06 2.06-.94-2.06-.94-.94-2.06-.94 2.06-2.06.94z\"/><path d=\"M17.41 7.96l-1.37-1.37c-.4-.4-.92-.59-1.43-.59-.52 0-1.04.2-1.43.59L10.3 9.45l-7.72 7.72c-.78.78-.78 2.05 0 2.83L4 21.41c.39.39.9.59 1.41.59.51 0 1.02-.2 1.41-.59l7.78-7.78 2.81-2.81c.8-.78.8-2.07 0-2.86zM5.41 20L4 18.59l7.72-7.72 1.47 1.35L5.41 20z\"/>\n",
              "  </svg>\n",
              "      </button>\n",
              "      \n",
              "  <style>\n",
              "    .colab-df-container {\n",
              "      display:flex;\n",
              "      flex-wrap:wrap;\n",
              "      gap: 12px;\n",
              "    }\n",
              "\n",
              "    .colab-df-convert {\n",
              "      background-color: #E8F0FE;\n",
              "      border: none;\n",
              "      border-radius: 50%;\n",
              "      cursor: pointer;\n",
              "      display: none;\n",
              "      fill: #1967D2;\n",
              "      height: 32px;\n",
              "      padding: 0 0 0 0;\n",
              "      width: 32px;\n",
              "    }\n",
              "\n",
              "    .colab-df-convert:hover {\n",
              "      background-color: #E2EBFA;\n",
              "      box-shadow: 0px 1px 2px rgba(60, 64, 67, 0.3), 0px 1px 3px 1px rgba(60, 64, 67, 0.15);\n",
              "      fill: #174EA6;\n",
              "    }\n",
              "\n",
              "    [theme=dark] .colab-df-convert {\n",
              "      background-color: #3B4455;\n",
              "      fill: #D2E3FC;\n",
              "    }\n",
              "\n",
              "    [theme=dark] .colab-df-convert:hover {\n",
              "      background-color: #434B5C;\n",
              "      box-shadow: 0px 1px 3px 1px rgba(0, 0, 0, 0.15);\n",
              "      filter: drop-shadow(0px 1px 2px rgba(0, 0, 0, 0.3));\n",
              "      fill: #FFFFFF;\n",
              "    }\n",
              "  </style>\n",
              "\n",
              "      <script>\n",
              "        const buttonEl =\n",
              "          document.querySelector('#df-f290b923-828e-4429-a880-0d91b6f0331e button.colab-df-convert');\n",
              "        buttonEl.style.display =\n",
              "          google.colab.kernel.accessAllowed ? 'block' : 'none';\n",
              "\n",
              "        async function convertToInteractive(key) {\n",
              "          const element = document.querySelector('#df-f290b923-828e-4429-a880-0d91b6f0331e');\n",
              "          const dataTable =\n",
              "            await google.colab.kernel.invokeFunction('convertToInteractive',\n",
              "                                                     [key], {});\n",
              "          if (!dataTable) return;\n",
              "\n",
              "          const docLinkHtml = 'Like what you see? Visit the ' +\n",
              "            '<a target=\"_blank\" href=https://colab.research.google.com/notebooks/data_table.ipynb>data table notebook</a>'\n",
              "            + ' to learn more about interactive tables.';\n",
              "          element.innerHTML = '';\n",
              "          dataTable['output_type'] = 'display_data';\n",
              "          await google.colab.output.renderOutput(dataTable, element);\n",
              "          const docLink = document.createElement('div');\n",
              "          docLink.innerHTML = docLinkHtml;\n",
              "          element.appendChild(docLink);\n",
              "        }\n",
              "      </script>\n",
              "    </div>\n",
              "  </div>\n",
              "  "
            ],
            "text/plain": [
              "       country  beer_servings  spirit_servings  wine_servings  \\\n",
              "0  Afghanistan              0                0              0   \n",
              "1      Albania             89              132             54   \n",
              "2      Algeria             25                0             14   \n",
              "3      Andorra            245              138            312   \n",
              "4       Angola            217               57             45   \n",
              "\n",
              "   total_litres_of_pure_alcohol continent  \n",
              "0                           0.0        AS  \n",
              "1                           4.9        EU  \n",
              "2                           0.7        AF  \n",
              "3                          12.4        EU  \n",
              "4                           5.9        AF  "
            ]
          },
          "execution_count": 12,
          "metadata": {},
          "output_type": "execute_result"
        }
      ],
      "source": [
        "drinks.head()"
      ]
    },
    {
      "cell_type": "code",
      "execution_count": 69,
      "metadata": {
        "colab": {
          "base_uri": "https://localhost:8080/",
          "height": 468
        },
        "id": "O4D9725Ayg_B",
        "outputId": "0066b426-6ac1-4e68-cc14-2a523e46533a"
      },
      "outputs": [
        {
          "data": {
            "text/html": [
              "<div>\n",
              "<style scoped>\n",
              "    .dataframe tbody tr th:only-of-type {\n",
              "        vertical-align: middle;\n",
              "    }\n",
              "\n",
              "    .dataframe tbody tr th {\n",
              "        vertical-align: top;\n",
              "    }\n",
              "\n",
              "    .dataframe thead th {\n",
              "        text-align: right;\n",
              "    }\n",
              "</style>\n",
              "<table border=\"1\" class=\"dataframe\">\n",
              "  <thead>\n",
              "    <tr style=\"text-align: right;\">\n",
              "      <th></th>\n",
              "      <th>country</th>\n",
              "      <th>beer</th>\n",
              "      <th>spirit</th>\n",
              "      <th>wine</th>\n",
              "      <th>total_litres_of_pure_alcohol</th>\n",
              "      <th>continent</th>\n",
              "    </tr>\n",
              "  </thead>\n",
              "  <tbody>\n",
              "    <tr>\n",
              "      <th>0</th>\n",
              "      <td>Afghanistan</td>\n",
              "      <td>0</td>\n",
              "      <td>0</td>\n",
              "      <td>0</td>\n",
              "      <td>0.0</td>\n",
              "      <td>AS</td>\n",
              "    </tr>\n",
              "    <tr>\n",
              "      <th>1</th>\n",
              "      <td>Albania</td>\n",
              "      <td>89</td>\n",
              "      <td>132</td>\n",
              "      <td>54</td>\n",
              "      <td>4.9</td>\n",
              "      <td>EU</td>\n",
              "    </tr>\n",
              "    <tr>\n",
              "      <th>2</th>\n",
              "      <td>Algeria</td>\n",
              "      <td>25</td>\n",
              "      <td>0</td>\n",
              "      <td>14</td>\n",
              "      <td>0.7</td>\n",
              "      <td>AF</td>\n",
              "    </tr>\n",
              "    <tr>\n",
              "      <th>3</th>\n",
              "      <td>Andorra</td>\n",
              "      <td>245</td>\n",
              "      <td>138</td>\n",
              "      <td>312</td>\n",
              "      <td>12.4</td>\n",
              "      <td>EU</td>\n",
              "    </tr>\n",
              "    <tr>\n",
              "      <th>4</th>\n",
              "      <td>Angola</td>\n",
              "      <td>217</td>\n",
              "      <td>57</td>\n",
              "      <td>45</td>\n",
              "      <td>5.9</td>\n",
              "      <td>AF</td>\n",
              "    </tr>\n",
              "    <tr>\n",
              "      <th>...</th>\n",
              "      <td>...</td>\n",
              "      <td>...</td>\n",
              "      <td>...</td>\n",
              "      <td>...</td>\n",
              "      <td>...</td>\n",
              "      <td>...</td>\n",
              "    </tr>\n",
              "    <tr>\n",
              "      <th>188</th>\n",
              "      <td>Venezuela</td>\n",
              "      <td>333</td>\n",
              "      <td>100</td>\n",
              "      <td>3</td>\n",
              "      <td>7.7</td>\n",
              "      <td>SA</td>\n",
              "    </tr>\n",
              "    <tr>\n",
              "      <th>189</th>\n",
              "      <td>Vietnam</td>\n",
              "      <td>111</td>\n",
              "      <td>2</td>\n",
              "      <td>1</td>\n",
              "      <td>2.0</td>\n",
              "      <td>AS</td>\n",
              "    </tr>\n",
              "    <tr>\n",
              "      <th>190</th>\n",
              "      <td>Yemen</td>\n",
              "      <td>6</td>\n",
              "      <td>0</td>\n",
              "      <td>0</td>\n",
              "      <td>0.1</td>\n",
              "      <td>AS</td>\n",
              "    </tr>\n",
              "    <tr>\n",
              "      <th>191</th>\n",
              "      <td>Zambia</td>\n",
              "      <td>32</td>\n",
              "      <td>19</td>\n",
              "      <td>4</td>\n",
              "      <td>2.5</td>\n",
              "      <td>AF</td>\n",
              "    </tr>\n",
              "    <tr>\n",
              "      <th>192</th>\n",
              "      <td>Zimbabwe</td>\n",
              "      <td>64</td>\n",
              "      <td>18</td>\n",
              "      <td>4</td>\n",
              "      <td>4.7</td>\n",
              "      <td>AF</td>\n",
              "    </tr>\n",
              "  </tbody>\n",
              "</table>\n",
              "<p>193 rows × 6 columns</p>\n",
              "</div>"
            ],
            "text/plain": [
              "         country  beer  spirit  wine  total_litres_of_pure_alcohol continent\n",
              "0    Afghanistan     0       0     0                           0.0        AS\n",
              "1        Albania    89     132    54                           4.9        EU\n",
              "2        Algeria    25       0    14                           0.7        AF\n",
              "3        Andorra   245     138   312                          12.4        EU\n",
              "4         Angola   217      57    45                           5.9        AF\n",
              "..           ...   ...     ...   ...                           ...       ...\n",
              "188    Venezuela   333     100     3                           7.7        SA\n",
              "189      Vietnam   111       2     1                           2.0        AS\n",
              "190        Yemen     6       0     0                           0.1        AS\n",
              "191       Zambia    32      19     4                           2.5        AF\n",
              "192     Zimbabwe    64      18     4                           4.7        AF\n",
              "\n",
              "[193 rows x 6 columns]"
            ]
          },
          "execution_count": 69,
          "metadata": {},
          "output_type": "execute_result"
        }
      ],
      "source": [
        "# Rename one or more columns in a single output using value mapping.\n",
        "drinks.rename(columns={'beer_servings':'beer', 'wine_servings':'wine','spirit_servings':'spirit'})"
      ]
    },
    {
      "cell_type": "code",
      "execution_count": 70,
      "metadata": {
        "colab": {
          "base_uri": "https://localhost:8080/",
          "height": 112
        },
        "id": "DLejUnDxyg_B",
        "outputId": "7aa12241-e5c5-42dc-e95a-a441d15d820d"
      },
      "outputs": [
        {
          "data": {
            "text/html": [
              "<div>\n",
              "<style scoped>\n",
              "    .dataframe tbody tr th:only-of-type {\n",
              "        vertical-align: middle;\n",
              "    }\n",
              "\n",
              "    .dataframe tbody tr th {\n",
              "        vertical-align: top;\n",
              "    }\n",
              "\n",
              "    .dataframe thead th {\n",
              "        text-align: right;\n",
              "    }\n",
              "</style>\n",
              "<table border=\"1\" class=\"dataframe\">\n",
              "  <thead>\n",
              "    <tr style=\"text-align: right;\">\n",
              "      <th></th>\n",
              "      <th>country</th>\n",
              "      <th>beer_servings</th>\n",
              "      <th>spirit_servings</th>\n",
              "      <th>wine_servings</th>\n",
              "      <th>total_litres_of_pure_alcohol</th>\n",
              "      <th>continent</th>\n",
              "    </tr>\n",
              "  </thead>\n",
              "  <tbody>\n",
              "    <tr>\n",
              "      <th>0</th>\n",
              "      <td>Afghanistan</td>\n",
              "      <td>0</td>\n",
              "      <td>0</td>\n",
              "      <td>0</td>\n",
              "      <td>0.0</td>\n",
              "      <td>AS</td>\n",
              "    </tr>\n",
              "    <tr>\n",
              "      <th>1</th>\n",
              "      <td>Albania</td>\n",
              "      <td>89</td>\n",
              "      <td>132</td>\n",
              "      <td>54</td>\n",
              "      <td>4.9</td>\n",
              "      <td>EU</td>\n",
              "    </tr>\n",
              "  </tbody>\n",
              "</table>\n",
              "</div>"
            ],
            "text/plain": [
              "       country  beer_servings  spirit_servings  wine_servings  \\\n",
              "0  Afghanistan              0                0              0   \n",
              "1      Albania             89              132             54   \n",
              "\n",
              "   total_litres_of_pure_alcohol continent  \n",
              "0                           0.0        AS  \n",
              "1                           4.9        EU  "
            ]
          },
          "execution_count": 70,
          "metadata": {},
          "output_type": "execute_result"
        }
      ],
      "source": [
        "drinks.head(2)"
      ]
    },
    {
      "cell_type": "code",
      "execution_count": 71,
      "metadata": {
        "id": "GAFq_Ng1yg_B"
      },
      "outputs": [],
      "source": [
        "# Rename one or more columns in the original DataFrame.\n",
        "drinks.rename(columns={'beer_servings':'beer', 'wine_servings':'wine'\n",
        "                       ,'spirit_servings':'spirit','total_litres_of_pure_alcohol':'liters'}, inplace=True)"
      ]
    },
    {
      "cell_type": "code",
      "execution_count": 72,
      "metadata": {
        "colab": {
          "base_uri": "https://localhost:8080/",
          "height": 112
        },
        "id": "2bg5Uf2byg_E",
        "outputId": "e3059e2d-6a1b-4b4b-ba40-6531587428d1"
      },
      "outputs": [
        {
          "data": {
            "text/html": [
              "<div>\n",
              "<style scoped>\n",
              "    .dataframe tbody tr th:only-of-type {\n",
              "        vertical-align: middle;\n",
              "    }\n",
              "\n",
              "    .dataframe tbody tr th {\n",
              "        vertical-align: top;\n",
              "    }\n",
              "\n",
              "    .dataframe thead th {\n",
              "        text-align: right;\n",
              "    }\n",
              "</style>\n",
              "<table border=\"1\" class=\"dataframe\">\n",
              "  <thead>\n",
              "    <tr style=\"text-align: right;\">\n",
              "      <th></th>\n",
              "      <th>country</th>\n",
              "      <th>beer</th>\n",
              "      <th>spirit</th>\n",
              "      <th>wine</th>\n",
              "      <th>liters</th>\n",
              "      <th>continent</th>\n",
              "    </tr>\n",
              "  </thead>\n",
              "  <tbody>\n",
              "    <tr>\n",
              "      <th>0</th>\n",
              "      <td>Afghanistan</td>\n",
              "      <td>0</td>\n",
              "      <td>0</td>\n",
              "      <td>0</td>\n",
              "      <td>0.0</td>\n",
              "      <td>AS</td>\n",
              "    </tr>\n",
              "    <tr>\n",
              "      <th>1</th>\n",
              "      <td>Albania</td>\n",
              "      <td>89</td>\n",
              "      <td>132</td>\n",
              "      <td>54</td>\n",
              "      <td>4.9</td>\n",
              "      <td>EU</td>\n",
              "    </tr>\n",
              "  </tbody>\n",
              "</table>\n",
              "</div>"
            ],
            "text/plain": [
              "       country  beer  spirit  wine  liters continent\n",
              "0  Afghanistan     0       0     0     0.0        AS\n",
              "1      Albania    89     132    54     4.9        EU"
            ]
          },
          "execution_count": 72,
          "metadata": {},
          "output_type": "execute_result"
        }
      ],
      "source": [
        "drinks.head(2)"
      ]
    },
    {
      "cell_type": "markdown",
      "metadata": {
        "id": "CTgVJSjlyg_F"
      },
      "source": [
        "**Easy Column Operations**<br>\n",
        "Rather than having to reference indexes and create for loops to do column-wise operations, Pandas is smart and knows that when we add columns together we want to add the values in each row together."
      ]
    },
    {
      "cell_type": "code",
      "execution_count": 73,
      "metadata": {
        "colab": {
          "base_uri": "https://localhost:8080/",
          "height": 206
        },
        "id": "rjgunNkyyg_F",
        "outputId": "b1163400-4886-4ef2-8bb2-83312f921b7d"
      },
      "outputs": [
        {
          "data": {
            "text/html": [
              "<div>\n",
              "<style scoped>\n",
              "    .dataframe tbody tr th:only-of-type {\n",
              "        vertical-align: middle;\n",
              "    }\n",
              "\n",
              "    .dataframe tbody tr th {\n",
              "        vertical-align: top;\n",
              "    }\n",
              "\n",
              "    .dataframe thead th {\n",
              "        text-align: right;\n",
              "    }\n",
              "</style>\n",
              "<table border=\"1\" class=\"dataframe\">\n",
              "  <thead>\n",
              "    <tr style=\"text-align: right;\">\n",
              "      <th></th>\n",
              "      <th>country</th>\n",
              "      <th>beer</th>\n",
              "      <th>spirit</th>\n",
              "      <th>wine</th>\n",
              "      <th>liters</th>\n",
              "      <th>continent</th>\n",
              "      <th>servings</th>\n",
              "      <th>mL</th>\n",
              "    </tr>\n",
              "  </thead>\n",
              "  <tbody>\n",
              "    <tr>\n",
              "      <th>0</th>\n",
              "      <td>Afghanistan</td>\n",
              "      <td>0</td>\n",
              "      <td>0</td>\n",
              "      <td>0</td>\n",
              "      <td>0.0</td>\n",
              "      <td>AS</td>\n",
              "      <td>0</td>\n",
              "      <td>0.0</td>\n",
              "    </tr>\n",
              "    <tr>\n",
              "      <th>1</th>\n",
              "      <td>Albania</td>\n",
              "      <td>89</td>\n",
              "      <td>132</td>\n",
              "      <td>54</td>\n",
              "      <td>4.9</td>\n",
              "      <td>EU</td>\n",
              "      <td>275</td>\n",
              "      <td>4900.0</td>\n",
              "    </tr>\n",
              "    <tr>\n",
              "      <th>2</th>\n",
              "      <td>Algeria</td>\n",
              "      <td>25</td>\n",
              "      <td>0</td>\n",
              "      <td>14</td>\n",
              "      <td>0.7</td>\n",
              "      <td>AF</td>\n",
              "      <td>39</td>\n",
              "      <td>700.0</td>\n",
              "    </tr>\n",
              "    <tr>\n",
              "      <th>3</th>\n",
              "      <td>Andorra</td>\n",
              "      <td>245</td>\n",
              "      <td>138</td>\n",
              "      <td>312</td>\n",
              "      <td>12.4</td>\n",
              "      <td>EU</td>\n",
              "      <td>695</td>\n",
              "      <td>12400.0</td>\n",
              "    </tr>\n",
              "    <tr>\n",
              "      <th>4</th>\n",
              "      <td>Angola</td>\n",
              "      <td>217</td>\n",
              "      <td>57</td>\n",
              "      <td>45</td>\n",
              "      <td>5.9</td>\n",
              "      <td>AF</td>\n",
              "      <td>319</td>\n",
              "      <td>5900.0</td>\n",
              "    </tr>\n",
              "  </tbody>\n",
              "</table>\n",
              "</div>"
            ],
            "text/plain": [
              "       country  beer  spirit  wine  liters continent  servings       mL\n",
              "0  Afghanistan     0       0     0     0.0        AS         0      0.0\n",
              "1      Albania    89     132    54     4.9        EU       275   4900.0\n",
              "2      Algeria    25       0    14     0.7        AF        39    700.0\n",
              "3      Andorra   245     138   312    12.4        EU       695  12400.0\n",
              "4       Angola   217      57    45     5.9        AF       319   5900.0"
            ]
          },
          "execution_count": 73,
          "metadata": {},
          "output_type": "execute_result"
        }
      ],
      "source": [
        "# Add a new column as a function of existing columns.\n",
        "drinks['servings'] = drinks.beer + drinks.spirit + drinks.wine\n",
        "drinks['mL'] = drinks.liters * 1000\n",
        "\n",
        "drinks.head()"
      ]
    },
    {
      "cell_type": "markdown",
      "metadata": {
        "id": "anGdxCLiyg_F"
      },
      "source": [
        "**Removing Columns**"
      ]
    },
    {
      "cell_type": "code",
      "execution_count": 74,
      "metadata": {
        "id": "vY2bbU1Vyg_F",
        "outputId": "529085ab-93c5-4bf9-e919-13cbd47a9f48"
      },
      "outputs": [
        {
          "data": {
            "text/html": [
              "<div>\n",
              "<style scoped>\n",
              "    .dataframe tbody tr th:only-of-type {\n",
              "        vertical-align: middle;\n",
              "    }\n",
              "\n",
              "    .dataframe tbody tr th {\n",
              "        vertical-align: top;\n",
              "    }\n",
              "\n",
              "    .dataframe thead th {\n",
              "        text-align: right;\n",
              "    }\n",
              "</style>\n",
              "<table border=\"1\" class=\"dataframe\">\n",
              "  <thead>\n",
              "    <tr style=\"text-align: right;\">\n",
              "      <th></th>\n",
              "      <th>country</th>\n",
              "      <th>beer</th>\n",
              "      <th>spirit</th>\n",
              "      <th>wine</th>\n",
              "      <th>liters</th>\n",
              "      <th>continent</th>\n",
              "    </tr>\n",
              "  </thead>\n",
              "  <tbody>\n",
              "    <tr>\n",
              "      <th>0</th>\n",
              "      <td>Afghanistan</td>\n",
              "      <td>0</td>\n",
              "      <td>0</td>\n",
              "      <td>0</td>\n",
              "      <td>0.0</td>\n",
              "      <td>AS</td>\n",
              "    </tr>\n",
              "    <tr>\n",
              "      <th>1</th>\n",
              "      <td>Albania</td>\n",
              "      <td>89</td>\n",
              "      <td>132</td>\n",
              "      <td>54</td>\n",
              "      <td>4.9</td>\n",
              "      <td>EU</td>\n",
              "    </tr>\n",
              "    <tr>\n",
              "      <th>2</th>\n",
              "      <td>Algeria</td>\n",
              "      <td>25</td>\n",
              "      <td>0</td>\n",
              "      <td>14</td>\n",
              "      <td>0.7</td>\n",
              "      <td>AF</td>\n",
              "    </tr>\n",
              "    <tr>\n",
              "      <th>3</th>\n",
              "      <td>Andorra</td>\n",
              "      <td>245</td>\n",
              "      <td>138</td>\n",
              "      <td>312</td>\n",
              "      <td>12.4</td>\n",
              "      <td>EU</td>\n",
              "    </tr>\n",
              "    <tr>\n",
              "      <th>4</th>\n",
              "      <td>Angola</td>\n",
              "      <td>217</td>\n",
              "      <td>57</td>\n",
              "      <td>45</td>\n",
              "      <td>5.9</td>\n",
              "      <td>AF</td>\n",
              "    </tr>\n",
              "    <tr>\n",
              "      <th>...</th>\n",
              "      <td>...</td>\n",
              "      <td>...</td>\n",
              "      <td>...</td>\n",
              "      <td>...</td>\n",
              "      <td>...</td>\n",
              "      <td>...</td>\n",
              "    </tr>\n",
              "    <tr>\n",
              "      <th>188</th>\n",
              "      <td>Venezuela</td>\n",
              "      <td>333</td>\n",
              "      <td>100</td>\n",
              "      <td>3</td>\n",
              "      <td>7.7</td>\n",
              "      <td>SA</td>\n",
              "    </tr>\n",
              "    <tr>\n",
              "      <th>189</th>\n",
              "      <td>Vietnam</td>\n",
              "      <td>111</td>\n",
              "      <td>2</td>\n",
              "      <td>1</td>\n",
              "      <td>2.0</td>\n",
              "      <td>AS</td>\n",
              "    </tr>\n",
              "    <tr>\n",
              "      <th>190</th>\n",
              "      <td>Yemen</td>\n",
              "      <td>6</td>\n",
              "      <td>0</td>\n",
              "      <td>0</td>\n",
              "      <td>0.1</td>\n",
              "      <td>AS</td>\n",
              "    </tr>\n",
              "    <tr>\n",
              "      <th>191</th>\n",
              "      <td>Zambia</td>\n",
              "      <td>32</td>\n",
              "      <td>19</td>\n",
              "      <td>4</td>\n",
              "      <td>2.5</td>\n",
              "      <td>AF</td>\n",
              "    </tr>\n",
              "    <tr>\n",
              "      <th>192</th>\n",
              "      <td>Zimbabwe</td>\n",
              "      <td>64</td>\n",
              "      <td>18</td>\n",
              "      <td>4</td>\n",
              "      <td>4.7</td>\n",
              "      <td>AF</td>\n",
              "    </tr>\n",
              "  </tbody>\n",
              "</table>\n",
              "<p>193 rows × 6 columns</p>\n",
              "</div>"
            ],
            "text/plain": [
              "         country  beer  spirit  wine  liters continent\n",
              "0    Afghanistan     0       0     0     0.0        AS\n",
              "1        Albania    89     132    54     4.9        EU\n",
              "2        Algeria    25       0    14     0.7        AF\n",
              "3        Andorra   245     138   312    12.4        EU\n",
              "4         Angola   217      57    45     5.9        AF\n",
              "..           ...   ...     ...   ...     ...       ...\n",
              "188    Venezuela   333     100     3     7.7        SA\n",
              "189      Vietnam   111       2     1     2.0        AS\n",
              "190        Yemen     6       0     0     0.1        AS\n",
              "191       Zambia    32      19     4     2.5        AF\n",
              "192     Zimbabwe    64      18     4     4.7        AF\n",
              "\n",
              "[193 rows x 6 columns]"
            ]
          },
          "execution_count": 74,
          "metadata": {},
          "output_type": "execute_result"
        }
      ],
      "source": [
        "# Drop multiple columns.\n",
        "drinks.drop(['mL', 'servings'], axis=1)"
      ]
    },
    {
      "cell_type": "code",
      "execution_count": 75,
      "metadata": {
        "colab": {
          "base_uri": "https://localhost:8080/",
          "height": 143
        },
        "id": "4DJZs9Zoyg_F",
        "outputId": "bfce8fb2-509b-4439-ed2a-38408747c084"
      },
      "outputs": [
        {
          "data": {
            "text/html": [
              "<div>\n",
              "<style scoped>\n",
              "    .dataframe tbody tr th:only-of-type {\n",
              "        vertical-align: middle;\n",
              "    }\n",
              "\n",
              "    .dataframe tbody tr th {\n",
              "        vertical-align: top;\n",
              "    }\n",
              "\n",
              "    .dataframe thead th {\n",
              "        text-align: right;\n",
              "    }\n",
              "</style>\n",
              "<table border=\"1\" class=\"dataframe\">\n",
              "  <thead>\n",
              "    <tr style=\"text-align: right;\">\n",
              "      <th></th>\n",
              "      <th>country</th>\n",
              "      <th>beer</th>\n",
              "      <th>spirit</th>\n",
              "      <th>wine</th>\n",
              "      <th>liters</th>\n",
              "      <th>continent</th>\n",
              "      <th>servings</th>\n",
              "      <th>mL</th>\n",
              "    </tr>\n",
              "  </thead>\n",
              "  <tbody>\n",
              "    <tr>\n",
              "      <th>0</th>\n",
              "      <td>Afghanistan</td>\n",
              "      <td>0</td>\n",
              "      <td>0</td>\n",
              "      <td>0</td>\n",
              "      <td>0.0</td>\n",
              "      <td>AS</td>\n",
              "      <td>0</td>\n",
              "      <td>0.0</td>\n",
              "    </tr>\n",
              "    <tr>\n",
              "      <th>1</th>\n",
              "      <td>Albania</td>\n",
              "      <td>89</td>\n",
              "      <td>132</td>\n",
              "      <td>54</td>\n",
              "      <td>4.9</td>\n",
              "      <td>EU</td>\n",
              "      <td>275</td>\n",
              "      <td>4900.0</td>\n",
              "    </tr>\n",
              "    <tr>\n",
              "      <th>2</th>\n",
              "      <td>Algeria</td>\n",
              "      <td>25</td>\n",
              "      <td>0</td>\n",
              "      <td>14</td>\n",
              "      <td>0.7</td>\n",
              "      <td>AF</td>\n",
              "      <td>39</td>\n",
              "      <td>700.0</td>\n",
              "    </tr>\n",
              "  </tbody>\n",
              "</table>\n",
              "</div>"
            ],
            "text/plain": [
              "       country  beer  spirit  wine  liters continent  servings      mL\n",
              "0  Afghanistan     0       0     0     0.0        AS         0     0.0\n",
              "1      Albania    89     132    54     4.9        EU       275  4900.0\n",
              "2      Algeria    25       0    14     0.7        AF        39   700.0"
            ]
          },
          "execution_count": 75,
          "metadata": {},
          "output_type": "execute_result"
        }
      ],
      "source": [
        "drinks.head(3)"
      ]
    },
    {
      "cell_type": "code",
      "execution_count": 76,
      "metadata": {
        "id": "gqmwKdOcyg_F"
      },
      "outputs": [],
      "source": [
        "# Drop on the original DataFrame rather than returning a new one.\n",
        "drinks.drop(['mL', 'servings'], axis=1, inplace=True)"
      ]
    },
    {
      "cell_type": "code",
      "execution_count": 77,
      "metadata": {
        "colab": {
          "base_uri": "https://localhost:8080/",
          "height": 143
        },
        "id": "7p-PfFmyyg_F",
        "outputId": "9b1c0c65-82be-49b4-9b2a-dab35043d451"
      },
      "outputs": [
        {
          "data": {
            "text/html": [
              "<div>\n",
              "<style scoped>\n",
              "    .dataframe tbody tr th:only-of-type {\n",
              "        vertical-align: middle;\n",
              "    }\n",
              "\n",
              "    .dataframe tbody tr th {\n",
              "        vertical-align: top;\n",
              "    }\n",
              "\n",
              "    .dataframe thead th {\n",
              "        text-align: right;\n",
              "    }\n",
              "</style>\n",
              "<table border=\"1\" class=\"dataframe\">\n",
              "  <thead>\n",
              "    <tr style=\"text-align: right;\">\n",
              "      <th></th>\n",
              "      <th>country</th>\n",
              "      <th>beer</th>\n",
              "      <th>spirit</th>\n",
              "      <th>wine</th>\n",
              "      <th>liters</th>\n",
              "      <th>continent</th>\n",
              "    </tr>\n",
              "  </thead>\n",
              "  <tbody>\n",
              "    <tr>\n",
              "      <th>0</th>\n",
              "      <td>Afghanistan</td>\n",
              "      <td>0</td>\n",
              "      <td>0</td>\n",
              "      <td>0</td>\n",
              "      <td>0.0</td>\n",
              "      <td>AS</td>\n",
              "    </tr>\n",
              "    <tr>\n",
              "      <th>1</th>\n",
              "      <td>Albania</td>\n",
              "      <td>89</td>\n",
              "      <td>132</td>\n",
              "      <td>54</td>\n",
              "      <td>4.9</td>\n",
              "      <td>EU</td>\n",
              "    </tr>\n",
              "    <tr>\n",
              "      <th>2</th>\n",
              "      <td>Algeria</td>\n",
              "      <td>25</td>\n",
              "      <td>0</td>\n",
              "      <td>14</td>\n",
              "      <td>0.7</td>\n",
              "      <td>AF</td>\n",
              "    </tr>\n",
              "  </tbody>\n",
              "</table>\n",
              "</div>"
            ],
            "text/plain": [
              "       country  beer  spirit  wine  liters continent\n",
              "0  Afghanistan     0       0     0     0.0        AS\n",
              "1      Albania    89     132    54     4.9        EU\n",
              "2      Algeria    25       0    14     0.7        AF"
            ]
          },
          "execution_count": 77,
          "metadata": {},
          "output_type": "execute_result"
        }
      ],
      "source": [
        "drinks.head(3)"
      ]
    },
    {
      "cell_type": "markdown",
      "metadata": {
        "id": "qJ0dd5S9yg_F"
      },
      "source": [
        "<a id=\"missing-values\"></a>\n",
        "### Handling Missing Values\n",
        "\n",
        "\n",
        "<img src=\"https://alik-courses.web.app/intro-to-ai/intro-to-pandas/images/panda_analysis.jpeg\" width=\"300\" height=\"300\" align=\"right\"/>\n",
        "\n",
        "- **Objective:** Know how to handle null and missing values.\n",
        "\n",
        "Sometimes, values will be missing from the source data or as a byproduct of manipulations. It is very important to detect missing data. Missing data can:\n",
        "\n",
        "- Make the entire row ineligible to be training data for a model.\n",
        "- Hint at data-collection errors.\n",
        "- Indicate improper conversion or manipulation.\n",
        "- Actually not be missing — it sometimes means \"zero,\" \"false,\" \"not applicable,\" or \"entered an empty string.\"\n",
        "\n",
        "For example, a `.csv` file might have a missing value in some data fields:\n",
        "\n",
        "```\n",
        "tool_name,material,cost\n",
        "hammer,wood,8\n",
        "chainsaw,,\n",
        "wrench,metal,5\n",
        "```\n",
        "\n",
        "When this data is imported, \"null\" values will be stored in the second row (in the \"material\" and \"cost\" columns).\n",
        "\n",
        "> In Pandas, a \"null\" value is either `None` or `np.NaN` (Not a Number). Many fixed-size numeric datatypes (such as integers) do not have a way of representing `np.NaN`. So, numeric columns will be promoted to floating-point datatypes that do support it. For example, when importing the `.csv` file above:\n",
        "\n",
        "> - **For the second row:** `None` will be stored in the \"material\" column and `np.NaN` will be stored in the \"cost\" column. The entire \"cost\" column (stored as a single `ndarray`) must be stored as floating-point values to accommodate the `np.NaN`, even though an integer `8` is in the first row."
      ]
    },
    {
      "cell_type": "code",
      "execution_count": 78,
      "metadata": {
        "colab": {
          "base_uri": "https://localhost:8080/"
        },
        "id": "s1PxkaVayg_F",
        "outputId": "cc55541c-aab6-4b99-bbb5-c6f16f690bd7",
        "scrolled": true
      },
      "outputs": [
        {
          "data": {
            "text/plain": [
              "AF    53\n",
              "EU    45\n",
              "AS    44\n",
              "OC    16\n",
              "SA    12\n",
              "Name: continent, dtype: int64"
            ]
          },
          "execution_count": 78,
          "metadata": {},
          "output_type": "execute_result"
        }
      ],
      "source": [
        "# Missing values are usually excluded in calculations by default.\n",
        "drinks.continent.value_counts()              # Excludes missing values in the calculation"
      ]
    },
    {
      "cell_type": "code",
      "execution_count": 79,
      "metadata": {
        "colab": {
          "base_uri": "https://localhost:8080/"
        },
        "id": "6lDo68_5yg_G",
        "outputId": "fdaed490-4390-44d4-b034-ecf5ee3174c0"
      },
      "outputs": [
        {
          "data": {
            "text/plain": [
              "AF     53\n",
              "EU     45\n",
              "AS     44\n",
              "NaN    23\n",
              "OC     16\n",
              "SA     12\n",
              "Name: continent, dtype: int64"
            ]
          },
          "execution_count": 79,
          "metadata": {},
          "output_type": "execute_result"
        }
      ],
      "source": [
        "# Includes missing values\n",
        "drinks.continent.value_counts(dropna=False)"
      ]
    },
    {
      "cell_type": "code",
      "execution_count": 80,
      "metadata": {
        "id": "ask6ARIzyg_G",
        "outputId": "aabccbf0-a1a9-4d40-9a14-93d9399c13db"
      },
      "outputs": [
        {
          "data": {
            "text/plain": [
              "0      False\n",
              "1      False\n",
              "2      False\n",
              "3      False\n",
              "4      False\n",
              "       ...  \n",
              "188    False\n",
              "189    False\n",
              "190    False\n",
              "191    False\n",
              "192    False\n",
              "Name: continent, Length: 193, dtype: bool"
            ]
          },
          "execution_count": 80,
          "metadata": {},
          "output_type": "execute_result"
        }
      ],
      "source": [
        "# Count the missing values — sum() works because True is 1 and False is 0.\n",
        "drinks.continent.isnull()"
      ]
    },
    {
      "cell_type": "code",
      "execution_count": 82,
      "metadata": {
        "id": "EwZkZuVHyg_G",
        "outputId": "ff57bf8c-b3e1-4cbb-aae4-ead87d66f70f"
      },
      "outputs": [
        {
          "data": {
            "text/plain": [
              "23"
            ]
          },
          "execution_count": 82,
          "metadata": {},
          "output_type": "execute_result"
        }
      ],
      "source": [
        "# Find missing values in a Series.\n",
        "# True if missing, False if not missing\n",
        "drinks.continent.isnull().sum()"
      ]
    },
    {
      "cell_type": "code",
      "execution_count": 83,
      "metadata": {
        "id": "Hy7vqUbhyg_G",
        "outputId": "f92b1923-a78d-4f7a-b8b3-b2a22f2e8547"
      },
      "outputs": [
        {
          "data": {
            "text/html": [
              "<div>\n",
              "<style scoped>\n",
              "    .dataframe tbody tr th:only-of-type {\n",
              "        vertical-align: middle;\n",
              "    }\n",
              "\n",
              "    .dataframe tbody tr th {\n",
              "        vertical-align: top;\n",
              "    }\n",
              "\n",
              "    .dataframe thead th {\n",
              "        text-align: right;\n",
              "    }\n",
              "</style>\n",
              "<table border=\"1\" class=\"dataframe\">\n",
              "  <thead>\n",
              "    <tr style=\"text-align: right;\">\n",
              "      <th></th>\n",
              "      <th>country</th>\n",
              "      <th>beer</th>\n",
              "      <th>spirit</th>\n",
              "      <th>wine</th>\n",
              "      <th>liters</th>\n",
              "      <th>continent</th>\n",
              "    </tr>\n",
              "  </thead>\n",
              "  <tbody>\n",
              "    <tr>\n",
              "      <th>5</th>\n",
              "      <td>Antigua &amp; Barbuda</td>\n",
              "      <td>102</td>\n",
              "      <td>128</td>\n",
              "      <td>45</td>\n",
              "      <td>4.9</td>\n",
              "      <td>NaN</td>\n",
              "    </tr>\n",
              "    <tr>\n",
              "      <th>11</th>\n",
              "      <td>Bahamas</td>\n",
              "      <td>122</td>\n",
              "      <td>176</td>\n",
              "      <td>51</td>\n",
              "      <td>6.3</td>\n",
              "      <td>NaN</td>\n",
              "    </tr>\n",
              "    <tr>\n",
              "      <th>14</th>\n",
              "      <td>Barbados</td>\n",
              "      <td>143</td>\n",
              "      <td>173</td>\n",
              "      <td>36</td>\n",
              "      <td>6.3</td>\n",
              "      <td>NaN</td>\n",
              "    </tr>\n",
              "    <tr>\n",
              "      <th>17</th>\n",
              "      <td>Belize</td>\n",
              "      <td>263</td>\n",
              "      <td>114</td>\n",
              "      <td>8</td>\n",
              "      <td>6.8</td>\n",
              "      <td>NaN</td>\n",
              "    </tr>\n",
              "    <tr>\n",
              "      <th>32</th>\n",
              "      <td>Canada</td>\n",
              "      <td>240</td>\n",
              "      <td>122</td>\n",
              "      <td>100</td>\n",
              "      <td>8.2</td>\n",
              "      <td>NaN</td>\n",
              "    </tr>\n",
              "    <tr>\n",
              "      <th>41</th>\n",
              "      <td>Costa Rica</td>\n",
              "      <td>149</td>\n",
              "      <td>87</td>\n",
              "      <td>11</td>\n",
              "      <td>4.4</td>\n",
              "      <td>NaN</td>\n",
              "    </tr>\n",
              "    <tr>\n",
              "      <th>43</th>\n",
              "      <td>Cuba</td>\n",
              "      <td>93</td>\n",
              "      <td>137</td>\n",
              "      <td>5</td>\n",
              "      <td>4.2</td>\n",
              "      <td>NaN</td>\n",
              "    </tr>\n",
              "    <tr>\n",
              "      <th>50</th>\n",
              "      <td>Dominica</td>\n",
              "      <td>52</td>\n",
              "      <td>286</td>\n",
              "      <td>26</td>\n",
              "      <td>6.6</td>\n",
              "      <td>NaN</td>\n",
              "    </tr>\n",
              "    <tr>\n",
              "      <th>51</th>\n",
              "      <td>Dominican Republic</td>\n",
              "      <td>193</td>\n",
              "      <td>147</td>\n",
              "      <td>9</td>\n",
              "      <td>6.2</td>\n",
              "      <td>NaN</td>\n",
              "    </tr>\n",
              "    <tr>\n",
              "      <th>54</th>\n",
              "      <td>El Salvador</td>\n",
              "      <td>52</td>\n",
              "      <td>69</td>\n",
              "      <td>2</td>\n",
              "      <td>2.2</td>\n",
              "      <td>NaN</td>\n",
              "    </tr>\n",
              "    <tr>\n",
              "      <th>68</th>\n",
              "      <td>Grenada</td>\n",
              "      <td>199</td>\n",
              "      <td>438</td>\n",
              "      <td>28</td>\n",
              "      <td>11.9</td>\n",
              "      <td>NaN</td>\n",
              "    </tr>\n",
              "    <tr>\n",
              "      <th>69</th>\n",
              "      <td>Guatemala</td>\n",
              "      <td>53</td>\n",
              "      <td>69</td>\n",
              "      <td>2</td>\n",
              "      <td>2.2</td>\n",
              "      <td>NaN</td>\n",
              "    </tr>\n",
              "    <tr>\n",
              "      <th>73</th>\n",
              "      <td>Haiti</td>\n",
              "      <td>1</td>\n",
              "      <td>326</td>\n",
              "      <td>1</td>\n",
              "      <td>5.9</td>\n",
              "      <td>NaN</td>\n",
              "    </tr>\n",
              "    <tr>\n",
              "      <th>74</th>\n",
              "      <td>Honduras</td>\n",
              "      <td>69</td>\n",
              "      <td>98</td>\n",
              "      <td>2</td>\n",
              "      <td>3.0</td>\n",
              "      <td>NaN</td>\n",
              "    </tr>\n",
              "    <tr>\n",
              "      <th>84</th>\n",
              "      <td>Jamaica</td>\n",
              "      <td>82</td>\n",
              "      <td>97</td>\n",
              "      <td>9</td>\n",
              "      <td>3.4</td>\n",
              "      <td>NaN</td>\n",
              "    </tr>\n",
              "    <tr>\n",
              "      <th>109</th>\n",
              "      <td>Mexico</td>\n",
              "      <td>238</td>\n",
              "      <td>68</td>\n",
              "      <td>5</td>\n",
              "      <td>5.5</td>\n",
              "      <td>NaN</td>\n",
              "    </tr>\n",
              "    <tr>\n",
              "      <th>122</th>\n",
              "      <td>Nicaragua</td>\n",
              "      <td>78</td>\n",
              "      <td>118</td>\n",
              "      <td>1</td>\n",
              "      <td>3.5</td>\n",
              "      <td>NaN</td>\n",
              "    </tr>\n",
              "    <tr>\n",
              "      <th>130</th>\n",
              "      <td>Panama</td>\n",
              "      <td>285</td>\n",
              "      <td>104</td>\n",
              "      <td>18</td>\n",
              "      <td>7.2</td>\n",
              "      <td>NaN</td>\n",
              "    </tr>\n",
              "    <tr>\n",
              "      <th>143</th>\n",
              "      <td>St. Kitts &amp; Nevis</td>\n",
              "      <td>194</td>\n",
              "      <td>205</td>\n",
              "      <td>32</td>\n",
              "      <td>7.7</td>\n",
              "      <td>NaN</td>\n",
              "    </tr>\n",
              "    <tr>\n",
              "      <th>144</th>\n",
              "      <td>St. Lucia</td>\n",
              "      <td>171</td>\n",
              "      <td>315</td>\n",
              "      <td>71</td>\n",
              "      <td>10.1</td>\n",
              "      <td>NaN</td>\n",
              "    </tr>\n",
              "    <tr>\n",
              "      <th>145</th>\n",
              "      <td>St. Vincent &amp; the Grenadines</td>\n",
              "      <td>120</td>\n",
              "      <td>221</td>\n",
              "      <td>11</td>\n",
              "      <td>6.3</td>\n",
              "      <td>NaN</td>\n",
              "    </tr>\n",
              "    <tr>\n",
              "      <th>174</th>\n",
              "      <td>Trinidad &amp; Tobago</td>\n",
              "      <td>197</td>\n",
              "      <td>156</td>\n",
              "      <td>7</td>\n",
              "      <td>6.4</td>\n",
              "      <td>NaN</td>\n",
              "    </tr>\n",
              "    <tr>\n",
              "      <th>184</th>\n",
              "      <td>USA</td>\n",
              "      <td>249</td>\n",
              "      <td>158</td>\n",
              "      <td>84</td>\n",
              "      <td>8.7</td>\n",
              "      <td>NaN</td>\n",
              "    </tr>\n",
              "  </tbody>\n",
              "</table>\n",
              "</div>"
            ],
            "text/plain": [
              "                          country  beer  spirit  wine  liters continent\n",
              "5               Antigua & Barbuda   102     128    45     4.9       NaN\n",
              "11                        Bahamas   122     176    51     6.3       NaN\n",
              "14                       Barbados   143     173    36     6.3       NaN\n",
              "17                         Belize   263     114     8     6.8       NaN\n",
              "32                         Canada   240     122   100     8.2       NaN\n",
              "41                     Costa Rica   149      87    11     4.4       NaN\n",
              "43                           Cuba    93     137     5     4.2       NaN\n",
              "50                       Dominica    52     286    26     6.6       NaN\n",
              "51             Dominican Republic   193     147     9     6.2       NaN\n",
              "54                    El Salvador    52      69     2     2.2       NaN\n",
              "68                        Grenada   199     438    28    11.9       NaN\n",
              "69                      Guatemala    53      69     2     2.2       NaN\n",
              "73                          Haiti     1     326     1     5.9       NaN\n",
              "74                       Honduras    69      98     2     3.0       NaN\n",
              "84                        Jamaica    82      97     9     3.4       NaN\n",
              "109                        Mexico   238      68     5     5.5       NaN\n",
              "122                     Nicaragua    78     118     1     3.5       NaN\n",
              "130                        Panama   285     104    18     7.2       NaN\n",
              "143             St. Kitts & Nevis   194     205    32     7.7       NaN\n",
              "144                     St. Lucia   171     315    71    10.1       NaN\n",
              "145  St. Vincent & the Grenadines   120     221    11     6.3       NaN\n",
              "174             Trinidad & Tobago   197     156     7     6.4       NaN\n",
              "184                           USA   249     158    84     8.7       NaN"
            ]
          },
          "execution_count": 83,
          "metadata": {},
          "output_type": "execute_result"
        }
      ],
      "source": [
        "# Only show rows where continent is not missing.\n",
        "drinks[drinks.continent.isnull()]\n",
        "#drinks[drinks.continent.notnull()]"
      ]
    },
    {
      "cell_type": "markdown",
      "metadata": {
        "id": "VnpR1Z3qyg_G"
      },
      "source": [
        "**Find missing values in a `DataFrame`.**"
      ]
    },
    {
      "cell_type": "code",
      "execution_count": 84,
      "metadata": {
        "colab": {
          "base_uri": "https://localhost:8080/",
          "height": 441
        },
        "id": "ocLjjKAKyg_G",
        "outputId": "0ccd1a88-ebd0-48cc-9e48-00d07d183251"
      },
      "outputs": [
        {
          "name": "stdout",
          "output_type": "stream",
          "text": [
            "country       0\n",
            "beer          0\n",
            "spirit        0\n",
            "wine          0\n",
            "liters        0\n",
            "continent    23\n",
            "dtype: int64\n"
          ]
        },
        {
          "data": {
            "image/png": "[encoded data removed]",
            "text/plain": [
              "<Figure size 640x480 with 1 Axes>"
            ]
          },
          "metadata": {},
          "output_type": "display_data"
        }
      ],
      "source": [
        "# Count the missing values in each column — remember by default, axis=0.\n",
        "print((drinks.isnull().sum()))\n",
        "\n",
        "drinks.isnull().sum().plot(kind='bar');         # visually\n",
        "plt.title('Number of null values per column');"
      ]
    },
    {
      "cell_type": "markdown",
      "metadata": {
        "id": "Fi-xB12lyg_G"
      },
      "source": [
        "**Dropping Missing Values**"
      ]
    },
    {
      "cell_type": "code",
      "execution_count": 85,
      "metadata": {
        "colab": {
          "base_uri": "https://localhost:8080/"
        },
        "id": "m1a6AXrlyg_G",
        "outputId": "f30f6113-3e29-4ebc-b3b1-ead476a2ef67"
      },
      "outputs": [
        {
          "data": {
            "text/plain": [
              "(193, 6)"
            ]
          },
          "execution_count": 85,
          "metadata": {},
          "output_type": "execute_result"
        }
      ],
      "source": [
        "drinks.shape"
      ]
    },
    {
      "cell_type": "code",
      "execution_count": 86,
      "metadata": {
        "id": "2CjWIU5fyg_G",
        "outputId": "715f5871-4882-46ac-b18c-232d9fcc748a"
      },
      "outputs": [
        {
          "data": {
            "text/html": [
              "<div>\n",
              "<style scoped>\n",
              "    .dataframe tbody tr th:only-of-type {\n",
              "        vertical-align: middle;\n",
              "    }\n",
              "\n",
              "    .dataframe tbody tr th {\n",
              "        vertical-align: top;\n",
              "    }\n",
              "\n",
              "    .dataframe thead th {\n",
              "        text-align: right;\n",
              "    }\n",
              "</style>\n",
              "<table border=\"1\" class=\"dataframe\">\n",
              "  <thead>\n",
              "    <tr style=\"text-align: right;\">\n",
              "      <th></th>\n",
              "      <th>country</th>\n",
              "      <th>beer</th>\n",
              "      <th>spirit</th>\n",
              "      <th>wine</th>\n",
              "      <th>liters</th>\n",
              "      <th>continent</th>\n",
              "    </tr>\n",
              "  </thead>\n",
              "  <tbody>\n",
              "    <tr>\n",
              "      <th>0</th>\n",
              "      <td>Afghanistan</td>\n",
              "      <td>0</td>\n",
              "      <td>0</td>\n",
              "      <td>0</td>\n",
              "      <td>0.0</td>\n",
              "      <td>AS</td>\n",
              "    </tr>\n",
              "    <tr>\n",
              "      <th>1</th>\n",
              "      <td>Albania</td>\n",
              "      <td>89</td>\n",
              "      <td>132</td>\n",
              "      <td>54</td>\n",
              "      <td>4.9</td>\n",
              "      <td>EU</td>\n",
              "    </tr>\n",
              "    <tr>\n",
              "      <th>2</th>\n",
              "      <td>Algeria</td>\n",
              "      <td>25</td>\n",
              "      <td>0</td>\n",
              "      <td>14</td>\n",
              "      <td>0.7</td>\n",
              "      <td>AF</td>\n",
              "    </tr>\n",
              "    <tr>\n",
              "      <th>3</th>\n",
              "      <td>Andorra</td>\n",
              "      <td>245</td>\n",
              "      <td>138</td>\n",
              "      <td>312</td>\n",
              "      <td>12.4</td>\n",
              "      <td>EU</td>\n",
              "    </tr>\n",
              "    <tr>\n",
              "      <th>4</th>\n",
              "      <td>Angola</td>\n",
              "      <td>217</td>\n",
              "      <td>57</td>\n",
              "      <td>45</td>\n",
              "      <td>5.9</td>\n",
              "      <td>AF</td>\n",
              "    </tr>\n",
              "    <tr>\n",
              "      <th>...</th>\n",
              "      <td>...</td>\n",
              "      <td>...</td>\n",
              "      <td>...</td>\n",
              "      <td>...</td>\n",
              "      <td>...</td>\n",
              "      <td>...</td>\n",
              "    </tr>\n",
              "    <tr>\n",
              "      <th>188</th>\n",
              "      <td>Venezuela</td>\n",
              "      <td>333</td>\n",
              "      <td>100</td>\n",
              "      <td>3</td>\n",
              "      <td>7.7</td>\n",
              "      <td>SA</td>\n",
              "    </tr>\n",
              "    <tr>\n",
              "      <th>189</th>\n",
              "      <td>Vietnam</td>\n",
              "      <td>111</td>\n",
              "      <td>2</td>\n",
              "      <td>1</td>\n",
              "      <td>2.0</td>\n",
              "      <td>AS</td>\n",
              "    </tr>\n",
              "    <tr>\n",
              "      <th>190</th>\n",
              "      <td>Yemen</td>\n",
              "      <td>6</td>\n",
              "      <td>0</td>\n",
              "      <td>0</td>\n",
              "      <td>0.1</td>\n",
              "      <td>AS</td>\n",
              "    </tr>\n",
              "    <tr>\n",
              "      <th>191</th>\n",
              "      <td>Zambia</td>\n",
              "      <td>32</td>\n",
              "      <td>19</td>\n",
              "      <td>4</td>\n",
              "      <td>2.5</td>\n",
              "      <td>AF</td>\n",
              "    </tr>\n",
              "    <tr>\n",
              "      <th>192</th>\n",
              "      <td>Zimbabwe</td>\n",
              "      <td>64</td>\n",
              "      <td>18</td>\n",
              "      <td>4</td>\n",
              "      <td>4.7</td>\n",
              "      <td>AF</td>\n",
              "    </tr>\n",
              "  </tbody>\n",
              "</table>\n",
              "<p>170 rows × 6 columns</p>\n",
              "</div>"
            ],
            "text/plain": [
              "         country  beer  spirit  wine  liters continent\n",
              "0    Afghanistan     0       0     0     0.0        AS\n",
              "1        Albania    89     132    54     4.9        EU\n",
              "2        Algeria    25       0    14     0.7        AF\n",
              "3        Andorra   245     138   312    12.4        EU\n",
              "4         Angola   217      57    45     5.9        AF\n",
              "..           ...   ...     ...   ...     ...       ...\n",
              "188    Venezuela   333     100     3     7.7        SA\n",
              "189      Vietnam   111       2     1     2.0        AS\n",
              "190        Yemen     6       0     0     0.1        AS\n",
              "191       Zambia    32      19     4     2.5        AF\n",
              "192     Zimbabwe    64      18     4     4.7        AF\n",
              "\n",
              "[170 rows x 6 columns]"
            ]
          },
          "execution_count": 86,
          "metadata": {},
          "output_type": "execute_result"
        }
      ],
      "source": [
        "# Drop a row if ANY values are missing from any column — can be dangerous!\n",
        "drinks.dropna()"
      ]
    },
    {
      "cell_type": "code",
      "execution_count": 87,
      "metadata": {
        "id": "8JS-sBvTyg_H",
        "outputId": "c8a92810-9bdb-4555-acb7-79ed8a4a2923"
      },
      "outputs": [
        {
          "data": {
            "text/html": [
              "<div>\n",
              "<style scoped>\n",
              "    .dataframe tbody tr th:only-of-type {\n",
              "        vertical-align: middle;\n",
              "    }\n",
              "\n",
              "    .dataframe tbody tr th {\n",
              "        vertical-align: top;\n",
              "    }\n",
              "\n",
              "    .dataframe thead th {\n",
              "        text-align: right;\n",
              "    }\n",
              "</style>\n",
              "<table border=\"1\" class=\"dataframe\">\n",
              "  <thead>\n",
              "    <tr style=\"text-align: right;\">\n",
              "      <th></th>\n",
              "      <th>country</th>\n",
              "      <th>beer</th>\n",
              "      <th>spirit</th>\n",
              "      <th>wine</th>\n",
              "      <th>liters</th>\n",
              "      <th>continent</th>\n",
              "    </tr>\n",
              "  </thead>\n",
              "  <tbody>\n",
              "    <tr>\n",
              "      <th>0</th>\n",
              "      <td>Afghanistan</td>\n",
              "      <td>0</td>\n",
              "      <td>0</td>\n",
              "      <td>0</td>\n",
              "      <td>0.0</td>\n",
              "      <td>AS</td>\n",
              "    </tr>\n",
              "    <tr>\n",
              "      <th>1</th>\n",
              "      <td>Albania</td>\n",
              "      <td>89</td>\n",
              "      <td>132</td>\n",
              "      <td>54</td>\n",
              "      <td>4.9</td>\n",
              "      <td>EU</td>\n",
              "    </tr>\n",
              "    <tr>\n",
              "      <th>2</th>\n",
              "      <td>Algeria</td>\n",
              "      <td>25</td>\n",
              "      <td>0</td>\n",
              "      <td>14</td>\n",
              "      <td>0.7</td>\n",
              "      <td>AF</td>\n",
              "    </tr>\n",
              "    <tr>\n",
              "      <th>3</th>\n",
              "      <td>Andorra</td>\n",
              "      <td>245</td>\n",
              "      <td>138</td>\n",
              "      <td>312</td>\n",
              "      <td>12.4</td>\n",
              "      <td>EU</td>\n",
              "    </tr>\n",
              "    <tr>\n",
              "      <th>4</th>\n",
              "      <td>Angola</td>\n",
              "      <td>217</td>\n",
              "      <td>57</td>\n",
              "      <td>45</td>\n",
              "      <td>5.9</td>\n",
              "      <td>AF</td>\n",
              "    </tr>\n",
              "    <tr>\n",
              "      <th>...</th>\n",
              "      <td>...</td>\n",
              "      <td>...</td>\n",
              "      <td>...</td>\n",
              "      <td>...</td>\n",
              "      <td>...</td>\n",
              "      <td>...</td>\n",
              "    </tr>\n",
              "    <tr>\n",
              "      <th>188</th>\n",
              "      <td>Venezuela</td>\n",
              "      <td>333</td>\n",
              "      <td>100</td>\n",
              "      <td>3</td>\n",
              "      <td>7.7</td>\n",
              "      <td>SA</td>\n",
              "    </tr>\n",
              "    <tr>\n",
              "      <th>189</th>\n",
              "      <td>Vietnam</td>\n",
              "      <td>111</td>\n",
              "      <td>2</td>\n",
              "      <td>1</td>\n",
              "      <td>2.0</td>\n",
              "      <td>AS</td>\n",
              "    </tr>\n",
              "    <tr>\n",
              "      <th>190</th>\n",
              "      <td>Yemen</td>\n",
              "      <td>6</td>\n",
              "      <td>0</td>\n",
              "      <td>0</td>\n",
              "      <td>0.1</td>\n",
              "      <td>AS</td>\n",
              "    </tr>\n",
              "    <tr>\n",
              "      <th>191</th>\n",
              "      <td>Zambia</td>\n",
              "      <td>32</td>\n",
              "      <td>19</td>\n",
              "      <td>4</td>\n",
              "      <td>2.5</td>\n",
              "      <td>AF</td>\n",
              "    </tr>\n",
              "    <tr>\n",
              "      <th>192</th>\n",
              "      <td>Zimbabwe</td>\n",
              "      <td>64</td>\n",
              "      <td>18</td>\n",
              "      <td>4</td>\n",
              "      <td>4.7</td>\n",
              "      <td>AF</td>\n",
              "    </tr>\n",
              "  </tbody>\n",
              "</table>\n",
              "<p>193 rows × 6 columns</p>\n",
              "</div>"
            ],
            "text/plain": [
              "         country  beer  spirit  wine  liters continent\n",
              "0    Afghanistan     0       0     0     0.0        AS\n",
              "1        Albania    89     132    54     4.9        EU\n",
              "2        Algeria    25       0    14     0.7        AF\n",
              "3        Andorra   245     138   312    12.4        EU\n",
              "4         Angola   217      57    45     5.9        AF\n",
              "..           ...   ...     ...   ...     ...       ...\n",
              "188    Venezuela   333     100     3     7.7        SA\n",
              "189      Vietnam   111       2     1     2.0        AS\n",
              "190        Yemen     6       0     0     0.1        AS\n",
              "191       Zambia    32      19     4     2.5        AF\n",
              "192     Zimbabwe    64      18     4     4.7        AF\n",
              "\n",
              "[193 rows x 6 columns]"
            ]
          },
          "execution_count": 87,
          "metadata": {},
          "output_type": "execute_result"
        }
      ],
      "source": [
        "# Drop a row only if ALL values are missing.\n",
        "drinks.dropna(how='all')"
      ]
    },
    {
      "cell_type": "markdown",
      "metadata": {
        "id": "DYLj2Wl-yg_H"
      },
      "source": [
        "**Filling Missing Values**<br>\n",
        "You may have noticed that the continent North America (NA) does not appear in the `continent` column. Pandas read in the original data and saw \"NA\", thought it was a missing value, and converted it to a `NaN`, missing value."
      ]
    },
    {
      "cell_type": "code",
      "execution_count": 88,
      "metadata": {
        "id": "earIr3Snyg_H",
        "outputId": "f0e414bd-5f50-4483-9945-800a752d566a"
      },
      "outputs": [
        {
          "data": {
            "text/plain": [
              "0      AS\n",
              "1      EU\n",
              "2      AF\n",
              "3      EU\n",
              "4      AF\n",
              "       ..\n",
              "188    SA\n",
              "189    AS\n",
              "190    AS\n",
              "191    AF\n",
              "192    AF\n",
              "Name: continent, Length: 193, dtype: object"
            ]
          },
          "execution_count": 88,
          "metadata": {},
          "output_type": "execute_result"
        }
      ],
      "source": [
        "# Fill in missing values with \"NA\" — this is dangerous to do without manually verifying them!\n",
        "drinks.continent.fillna(value='NA')"
      ]
    },
    {
      "cell_type": "code",
      "execution_count": 89,
      "metadata": {
        "id": "Ujvpdhm2yg_H"
      },
      "outputs": [],
      "source": [
        "# Modifies \"drinks\" in-place\n",
        "drinks.continent.fillna(value='NA', inplace=True)"
      ]
    },
    {
      "cell_type": "markdown",
      "metadata": {
        "id": "gct3Hrq-yg_H"
      },
      "source": [
        "<img src=\"https://alik-courses.web.app/intro-to-ai/intro-to-pandas/images/hands_on.jpg\" width=\"100\" height=\"100\" style=\"float:right\"/>\n",
        "\n",
        "<a id=\"exercise-three\"></a>\n",
        "### Exercise 3"
      ]
    },
    {
      "cell_type": "code",
      "execution_count": 90,
      "metadata": {
        "colab": {
          "base_uri": "https://localhost:8080/",
          "height": 112
        },
        "id": "fLoQA7Ozyg_H",
        "outputId": "5dfa4e50-dfcd-4b55-c50d-888a6f4bbb7b"
      },
      "outputs": [
        {
          "data": {
            "text/html": [
              "<div>\n",
              "<style scoped>\n",
              "    .dataframe tbody tr th:only-of-type {\n",
              "        vertical-align: middle;\n",
              "    }\n",
              "\n",
              "    .dataframe tbody tr th {\n",
              "        vertical-align: top;\n",
              "    }\n",
              "\n",
              "    .dataframe thead th {\n",
              "        text-align: right;\n",
              "    }\n",
              "</style>\n",
              "<table border=\"1\" class=\"dataframe\">\n",
              "  <thead>\n",
              "    <tr style=\"text-align: right;\">\n",
              "      <th></th>\n",
              "      <th>City</th>\n",
              "      <th>Colors Reported</th>\n",
              "      <th>Shape Reported</th>\n",
              "      <th>State</th>\n",
              "      <th>Time</th>\n",
              "    </tr>\n",
              "  </thead>\n",
              "  <tbody>\n",
              "    <tr>\n",
              "      <th>0</th>\n",
              "      <td>Ithaca</td>\n",
              "      <td>NaN</td>\n",
              "      <td>TRIANGLE</td>\n",
              "      <td>NY</td>\n",
              "      <td>6/1/1930 22:00</td>\n",
              "    </tr>\n",
              "    <tr>\n",
              "      <th>1</th>\n",
              "      <td>Willingboro</td>\n",
              "      <td>NaN</td>\n",
              "      <td>OTHER</td>\n",
              "      <td>NJ</td>\n",
              "      <td>6/30/1930 20:00</td>\n",
              "    </tr>\n",
              "  </tbody>\n",
              "</table>\n",
              "</div>"
            ],
            "text/plain": [
              "          City Colors Reported Shape Reported State             Time\n",
              "0       Ithaca             NaN       TRIANGLE    NY   6/1/1930 22:00\n",
              "1  Willingboro             NaN          OTHER    NJ  6/30/1930 20:00"
            ]
          },
          "execution_count": 90,
          "metadata": {},
          "output_type": "execute_result"
        }
      ],
      "source": [
        "# Read ufo.csv into a DataFrame called \"ufo\".\n",
        "ufo= pd.read_csv('https://alik-courses.web.app/intro-to-ai/intro-to-pandas/data/ufo.csv')\n",
        "ufo.head(2)"
      ]
    },
    {
      "cell_type": "code",
      "execution_count": 91,
      "metadata": {
        "colab": {
          "base_uri": "https://localhost:8080/"
        },
        "id": "OADT8Wi9yg_H",
        "outputId": "de6f1c14-0707-42d7-9c9a-d6ec8c3c12bc"
      },
      "outputs": [],
      "source": [
        "# Check the shape of the DataFrame."
      ]
    },
    {
      "cell_type": "code",
      "execution_count": 92,
      "metadata": {
        "colab": {
          "base_uri": "https://localhost:8080/"
        },
        "id": "PLBD88EVyg_H",
        "outputId": "eab68874-fafa-4520-cded-c4b5fa4d198b"
      },
      "outputs": [],
      "source": [
        "# What are the three most common colors reported?"
      ]
    },
    {
      "cell_type": "code",
      "execution_count": 93,
      "metadata": {
        "id": "6UJNkaElyg_H"
      },
      "outputs": [],
      "source": [
        "# Rename any columns with spaces so that they don't contain spaces.\n"
      ]
    },
    {
      "cell_type": "code",
      "execution_count": 94,
      "metadata": {
        "colab": {
          "base_uri": "https://localhost:8080/"
        },
        "id": "9STUuXYiyg_H",
        "outputId": "21de9fd9-8544-41d3-ad9b-9a92ef09b52b"
      },
      "outputs": [],
      "source": [
        "# For reports in VA, what's the most common city?"
      ]
    },
    {
      "cell_type": "code",
      "execution_count": 95,
      "metadata": {
        "colab": {
          "base_uri": "https://localhost:8080/",
          "height": 990
        },
        "id": "ZJ5Huv5iyg_I",
        "outputId": "403a0a2d-4bbe-4704-f720-93fecd9de68f"
      },
      "outputs": [],
      "source": [
        "# Print a DataFrame containing only reports from Arlington, VA."
      ]
    },
    {
      "cell_type": "code",
      "execution_count": 96,
      "metadata": {
        "colab": {
          "base_uri": "https://localhost:8080/"
        },
        "id": "8MhgDY6yyg_I",
        "outputId": "4318ea73-435e-4582-99db-6be02bc2c2c9"
      },
      "outputs": [],
      "source": [
        "# Count the number of missing values in each column."
      ]
    },
    {
      "cell_type": "code",
      "execution_count": 97,
      "metadata": {
        "colab": {
          "base_uri": "https://localhost:8080/"
        },
        "id": "sXO3R5kDyg_I",
        "outputId": "f4659459-b236-407b-cb00-b5deda3c6140"
      },
      "outputs": [],
      "source": [
        "# How many rows remain if you drop all rows with any missing values?"
      ]
    },
    {
      "cell_type": "markdown",
      "metadata": {
        "id": "cY7j0CC9yg_I"
      },
      "source": [
        "<a id=\"split-apply-combine\"></a>\n",
        "### Split-Apply-Combine\n",
        "\n",
        "<img src=\"https://alik-courses.web.app/intro-to-ai/intro-to-pandas/images/pandas_tool.jpg\" width=\"300\" height=\"300\" align=\"right\"/>\n",
        "\n",
        "Split-apply-combine is a pattern for analyzing data. Suppose we want to find mean beer consumption per country. Then:\n",
        "\n",
        "- **Split:** We group data by continent.\n",
        "- **Apply:** For each group, we apply the `mean()` function to find the average beer consumption.\n",
        "- **Combine:** We now combine the continent names with the `mean()`s to produce a summary of our findings."
      ]
    },
    {
      "cell_type": "code",
      "execution_count": null,
      "metadata": {
        "id": "7zcww8ILyg_I",
        "outputId": "e46d1d12-ffae-40ed-ac55-c5193823ed8e"
      },
      "outputs": [
        {
          "data": {
            "text/html": [
              "<div>\n",
              "<style scoped>\n",
              "    .dataframe tbody tr th:only-of-type {\n",
              "        vertical-align: middle;\n",
              "    }\n",
              "\n",
              "    .dataframe tbody tr th {\n",
              "        vertical-align: top;\n",
              "    }\n",
              "\n",
              "    .dataframe thead th {\n",
              "        text-align: right;\n",
              "    }\n",
              "</style>\n",
              "<table border=\"1\" class=\"dataframe\">\n",
              "  <thead>\n",
              "    <tr style=\"text-align: right;\">\n",
              "      <th></th>\n",
              "      <th>country</th>\n",
              "      <th>beer</th>\n",
              "      <th>spirit</th>\n",
              "      <th>wine</th>\n",
              "      <th>liters</th>\n",
              "      <th>continent</th>\n",
              "    </tr>\n",
              "  </thead>\n",
              "  <tbody>\n",
              "    <tr>\n",
              "      <th>0</th>\n",
              "      <td>Afghanistan</td>\n",
              "      <td>0</td>\n",
              "      <td>0</td>\n",
              "      <td>0</td>\n",
              "      <td>0.0</td>\n",
              "      <td>AS</td>\n",
              "    </tr>\n",
              "    <tr>\n",
              "      <th>1</th>\n",
              "      <td>Albania</td>\n",
              "      <td>89</td>\n",
              "      <td>132</td>\n",
              "      <td>54</td>\n",
              "      <td>4.9</td>\n",
              "      <td>EU</td>\n",
              "    </tr>\n",
              "    <tr>\n",
              "      <th>2</th>\n",
              "      <td>Algeria</td>\n",
              "      <td>25</td>\n",
              "      <td>0</td>\n",
              "      <td>14</td>\n",
              "      <td>0.7</td>\n",
              "      <td>AF</td>\n",
              "    </tr>\n",
              "  </tbody>\n",
              "</table>\n",
              "</div>"
            ],
            "text/plain": [
              "       country  beer  spirit  wine  liters continent\n",
              "0  Afghanistan     0       0     0     0.0        AS\n",
              "1      Albania    89     132    54     4.9        EU\n",
              "2      Algeria    25       0    14     0.7        AF"
            ]
          },
          "execution_count": 91,
          "metadata": {},
          "output_type": "execute_result"
        }
      ],
      "source": [
        "drinks.head(3)"
      ]
    },
    {
      "cell_type": "code",
      "execution_count": null,
      "metadata": {
        "colab": {
          "base_uri": "https://localhost:8080/"
        },
        "id": "IQOKFtV1yg_I",
        "outputId": "f4cfa487-44cf-48fd-fb35-79debacef925"
      },
      "outputs": [
        {
          "data": {
            "text/plain": [
              "continent\n",
              "AF     61.471698\n",
              "AS     37.045455\n",
              "EU    193.777778\n",
              "OC     89.687500\n",
              "SA    175.083333\n",
              "Name: beer, dtype: float64"
            ]
          },
          "execution_count": 40,
          "metadata": {},
          "output_type": "execute_result"
        }
      ],
      "source": [
        "# For each continent, calculate the mean beer servings.\n",
        "drinks.groupby('continent').beer.mean()"
      ]
    },
    {
      "cell_type": "code",
      "execution_count": null,
      "metadata": {
        "id": "AUwSLYy7yg_I",
        "outputId": "1753a348-73e9-4d13-8f25-260db86e47d4"
      },
      "outputs": [
        {
          "data": {
            "text/html": [
              "<div>\n",
              "<style scoped>\n",
              "    .dataframe tbody tr th:only-of-type {\n",
              "        vertical-align: middle;\n",
              "    }\n",
              "\n",
              "    .dataframe tbody tr th {\n",
              "        vertical-align: top;\n",
              "    }\n",
              "\n",
              "    .dataframe thead th {\n",
              "        text-align: right;\n",
              "    }\n",
              "</style>\n",
              "<table border=\"1\" class=\"dataframe\">\n",
              "  <thead>\n",
              "    <tr style=\"text-align: right;\">\n",
              "      <th></th>\n",
              "      <th>beer</th>\n",
              "      <th>spirit</th>\n",
              "      <th>wine</th>\n",
              "      <th>liters</th>\n",
              "    </tr>\n",
              "    <tr>\n",
              "      <th>continent</th>\n",
              "      <th></th>\n",
              "      <th></th>\n",
              "      <th></th>\n",
              "      <th></th>\n",
              "    </tr>\n",
              "  </thead>\n",
              "  <tbody>\n",
              "    <tr>\n",
              "      <th>AF</th>\n",
              "      <td>61.471698</td>\n",
              "      <td>16.339623</td>\n",
              "      <td>16.264151</td>\n",
              "      <td>3.007547</td>\n",
              "    </tr>\n",
              "    <tr>\n",
              "      <th>AS</th>\n",
              "      <td>37.045455</td>\n",
              "      <td>60.840909</td>\n",
              "      <td>9.068182</td>\n",
              "      <td>2.170455</td>\n",
              "    </tr>\n",
              "    <tr>\n",
              "      <th>EU</th>\n",
              "      <td>193.777778</td>\n",
              "      <td>132.555556</td>\n",
              "      <td>142.222222</td>\n",
              "      <td>8.617778</td>\n",
              "    </tr>\n",
              "    <tr>\n",
              "      <th>NA</th>\n",
              "      <td>145.434783</td>\n",
              "      <td>165.739130</td>\n",
              "      <td>24.521739</td>\n",
              "      <td>5.995652</td>\n",
              "    </tr>\n",
              "    <tr>\n",
              "      <th>OC</th>\n",
              "      <td>89.687500</td>\n",
              "      <td>58.437500</td>\n",
              "      <td>35.625000</td>\n",
              "      <td>3.381250</td>\n",
              "    </tr>\n",
              "    <tr>\n",
              "      <th>SA</th>\n",
              "      <td>175.083333</td>\n",
              "      <td>114.750000</td>\n",
              "      <td>62.416667</td>\n",
              "      <td>6.308333</td>\n",
              "    </tr>\n",
              "  </tbody>\n",
              "</table>\n",
              "</div>"
            ],
            "text/plain": [
              "                 beer      spirit        wine    liters\n",
              "continent                                              \n",
              "AF          61.471698   16.339623   16.264151  3.007547\n",
              "AS          37.045455   60.840909    9.068182  2.170455\n",
              "EU         193.777778  132.555556  142.222222  8.617778\n",
              "NA         145.434783  165.739130   24.521739  5.995652\n",
              "OC          89.687500   58.437500   35.625000  3.381250\n",
              "SA         175.083333  114.750000   62.416667  6.308333"
            ]
          },
          "execution_count": 93,
          "metadata": {},
          "output_type": "execute_result"
        }
      ],
      "source": [
        "# For each continent, calculate the mean of all numeric columns.\n",
        "drinks.groupby('continent').mean()"
      ]
    },
    {
      "cell_type": "code",
      "execution_count": null,
      "metadata": {
        "id": "QBWb7b7Myg_I",
        "outputId": "d5a419f7-adf3-4a82-b589-0c04a492f4ce"
      },
      "outputs": [
        {
          "data": {
            "text/html": [
              "<div>\n",
              "<style scoped>\n",
              "    .dataframe tbody tr th:only-of-type {\n",
              "        vertical-align: middle;\n",
              "    }\n",
              "\n",
              "    .dataframe tbody tr th {\n",
              "        vertical-align: top;\n",
              "    }\n",
              "\n",
              "    .dataframe thead th {\n",
              "        text-align: right;\n",
              "    }\n",
              "</style>\n",
              "<table border=\"1\" class=\"dataframe\">\n",
              "  <thead>\n",
              "    <tr style=\"text-align: right;\">\n",
              "      <th></th>\n",
              "      <th>count</th>\n",
              "      <th>mean</th>\n",
              "      <th>std</th>\n",
              "      <th>min</th>\n",
              "      <th>25%</th>\n",
              "      <th>50%</th>\n",
              "      <th>75%</th>\n",
              "      <th>max</th>\n",
              "    </tr>\n",
              "    <tr>\n",
              "      <th>continent</th>\n",
              "      <th></th>\n",
              "      <th></th>\n",
              "      <th></th>\n",
              "      <th></th>\n",
              "      <th></th>\n",
              "      <th></th>\n",
              "      <th></th>\n",
              "      <th></th>\n",
              "    </tr>\n",
              "  </thead>\n",
              "  <tbody>\n",
              "    <tr>\n",
              "      <th>AF</th>\n",
              "      <td>53.0</td>\n",
              "      <td>61.471698</td>\n",
              "      <td>80.557816</td>\n",
              "      <td>0.0</td>\n",
              "      <td>15.00</td>\n",
              "      <td>32.0</td>\n",
              "      <td>76.00</td>\n",
              "      <td>376.0</td>\n",
              "    </tr>\n",
              "    <tr>\n",
              "      <th>AS</th>\n",
              "      <td>44.0</td>\n",
              "      <td>37.045455</td>\n",
              "      <td>49.469725</td>\n",
              "      <td>0.0</td>\n",
              "      <td>4.25</td>\n",
              "      <td>17.5</td>\n",
              "      <td>60.50</td>\n",
              "      <td>247.0</td>\n",
              "    </tr>\n",
              "    <tr>\n",
              "      <th>EU</th>\n",
              "      <td>45.0</td>\n",
              "      <td>193.777778</td>\n",
              "      <td>99.631569</td>\n",
              "      <td>0.0</td>\n",
              "      <td>127.00</td>\n",
              "      <td>219.0</td>\n",
              "      <td>270.00</td>\n",
              "      <td>361.0</td>\n",
              "    </tr>\n",
              "    <tr>\n",
              "      <th>NA</th>\n",
              "      <td>23.0</td>\n",
              "      <td>145.434783</td>\n",
              "      <td>79.621163</td>\n",
              "      <td>1.0</td>\n",
              "      <td>80.00</td>\n",
              "      <td>143.0</td>\n",
              "      <td>198.00</td>\n",
              "      <td>285.0</td>\n",
              "    </tr>\n",
              "    <tr>\n",
              "      <th>OC</th>\n",
              "      <td>16.0</td>\n",
              "      <td>89.687500</td>\n",
              "      <td>96.641412</td>\n",
              "      <td>0.0</td>\n",
              "      <td>21.00</td>\n",
              "      <td>52.5</td>\n",
              "      <td>125.75</td>\n",
              "      <td>306.0</td>\n",
              "    </tr>\n",
              "    <tr>\n",
              "      <th>SA</th>\n",
              "      <td>12.0</td>\n",
              "      <td>175.083333</td>\n",
              "      <td>65.242845</td>\n",
              "      <td>93.0</td>\n",
              "      <td>129.50</td>\n",
              "      <td>162.5</td>\n",
              "      <td>198.00</td>\n",
              "      <td>333.0</td>\n",
              "    </tr>\n",
              "  </tbody>\n",
              "</table>\n",
              "</div>"
            ],
            "text/plain": [
              "           count        mean        std   min     25%    50%     75%    max\n",
              "continent                                                                  \n",
              "AF          53.0   61.471698  80.557816   0.0   15.00   32.0   76.00  376.0\n",
              "AS          44.0   37.045455  49.469725   0.0    4.25   17.5   60.50  247.0\n",
              "EU          45.0  193.777778  99.631569   0.0  127.00  219.0  270.00  361.0\n",
              "NA          23.0  145.434783  79.621163   1.0   80.00  143.0  198.00  285.0\n",
              "OC          16.0   89.687500  96.641412   0.0   21.00   52.5  125.75  306.0\n",
              "SA          12.0  175.083333  65.242845  93.0  129.50  162.5  198.00  333.0"
            ]
          },
          "execution_count": 94,
          "metadata": {},
          "output_type": "execute_result"
        }
      ],
      "source": [
        "# For each continent, describe beer servings.\n",
        "drinks.groupby('continent').beer.describe()"
      ]
    },
    {
      "cell_type": "code",
      "execution_count": null,
      "metadata": {
        "id": "Sepvw9G0yg_I",
        "outputId": "1129d0a7-d5d8-4de4-88b6-e252eeef6900"
      },
      "outputs": [
        {
          "data": {
            "text/html": [
              "<div>\n",
              "<style scoped>\n",
              "    .dataframe tbody tr th:only-of-type {\n",
              "        vertical-align: middle;\n",
              "    }\n",
              "\n",
              "    .dataframe tbody tr th {\n",
              "        vertical-align: top;\n",
              "    }\n",
              "\n",
              "    .dataframe thead tr th {\n",
              "        text-align: left;\n",
              "    }\n",
              "\n",
              "    .dataframe thead tr:last-of-type th {\n",
              "        text-align: right;\n",
              "    }\n",
              "</style>\n",
              "<table border=\"1\" class=\"dataframe\">\n",
              "  <thead>\n",
              "    <tr>\n",
              "      <th></th>\n",
              "      <th colspan=\"8\" halign=\"left\">beer</th>\n",
              "      <th colspan=\"2\" halign=\"left\">spirit</th>\n",
              "      <th>...</th>\n",
              "      <th colspan=\"2\" halign=\"left\">wine</th>\n",
              "      <th colspan=\"8\" halign=\"left\">liters</th>\n",
              "    </tr>\n",
              "    <tr>\n",
              "      <th></th>\n",
              "      <th>count</th>\n",
              "      <th>mean</th>\n",
              "      <th>std</th>\n",
              "      <th>min</th>\n",
              "      <th>25%</th>\n",
              "      <th>50%</th>\n",
              "      <th>75%</th>\n",
              "      <th>max</th>\n",
              "      <th>count</th>\n",
              "      <th>mean</th>\n",
              "      <th>...</th>\n",
              "      <th>75%</th>\n",
              "      <th>max</th>\n",
              "      <th>count</th>\n",
              "      <th>mean</th>\n",
              "      <th>std</th>\n",
              "      <th>min</th>\n",
              "      <th>25%</th>\n",
              "      <th>50%</th>\n",
              "      <th>75%</th>\n",
              "      <th>max</th>\n",
              "    </tr>\n",
              "    <tr>\n",
              "      <th>continent</th>\n",
              "      <th></th>\n",
              "      <th></th>\n",
              "      <th></th>\n",
              "      <th></th>\n",
              "      <th></th>\n",
              "      <th></th>\n",
              "      <th></th>\n",
              "      <th></th>\n",
              "      <th></th>\n",
              "      <th></th>\n",
              "      <th></th>\n",
              "      <th></th>\n",
              "      <th></th>\n",
              "      <th></th>\n",
              "      <th></th>\n",
              "      <th></th>\n",
              "      <th></th>\n",
              "      <th></th>\n",
              "      <th></th>\n",
              "      <th></th>\n",
              "      <th></th>\n",
              "    </tr>\n",
              "  </thead>\n",
              "  <tbody>\n",
              "    <tr>\n",
              "      <th>AF</th>\n",
              "      <td>53.0</td>\n",
              "      <td>61.471698</td>\n",
              "      <td>80.557816</td>\n",
              "      <td>0.0</td>\n",
              "      <td>15.00</td>\n",
              "      <td>32.0</td>\n",
              "      <td>76.00</td>\n",
              "      <td>376.0</td>\n",
              "      <td>53.0</td>\n",
              "      <td>16.339623</td>\n",
              "      <td>...</td>\n",
              "      <td>13.00</td>\n",
              "      <td>233.0</td>\n",
              "      <td>53.0</td>\n",
              "      <td>3.007547</td>\n",
              "      <td>2.647557</td>\n",
              "      <td>0.0</td>\n",
              "      <td>0.70</td>\n",
              "      <td>2.30</td>\n",
              "      <td>4.700</td>\n",
              "      <td>9.1</td>\n",
              "    </tr>\n",
              "    <tr>\n",
              "      <th>AS</th>\n",
              "      <td>44.0</td>\n",
              "      <td>37.045455</td>\n",
              "      <td>49.469725</td>\n",
              "      <td>0.0</td>\n",
              "      <td>4.25</td>\n",
              "      <td>17.5</td>\n",
              "      <td>60.50</td>\n",
              "      <td>247.0</td>\n",
              "      <td>44.0</td>\n",
              "      <td>60.840909</td>\n",
              "      <td>...</td>\n",
              "      <td>8.00</td>\n",
              "      <td>123.0</td>\n",
              "      <td>44.0</td>\n",
              "      <td>2.170455</td>\n",
              "      <td>2.770239</td>\n",
              "      <td>0.0</td>\n",
              "      <td>0.10</td>\n",
              "      <td>1.20</td>\n",
              "      <td>2.425</td>\n",
              "      <td>11.5</td>\n",
              "    </tr>\n",
              "    <tr>\n",
              "      <th>EU</th>\n",
              "      <td>45.0</td>\n",
              "      <td>193.777778</td>\n",
              "      <td>99.631569</td>\n",
              "      <td>0.0</td>\n",
              "      <td>127.00</td>\n",
              "      <td>219.0</td>\n",
              "      <td>270.00</td>\n",
              "      <td>361.0</td>\n",
              "      <td>45.0</td>\n",
              "      <td>132.555556</td>\n",
              "      <td>...</td>\n",
              "      <td>195.00</td>\n",
              "      <td>370.0</td>\n",
              "      <td>45.0</td>\n",
              "      <td>8.617778</td>\n",
              "      <td>3.358455</td>\n",
              "      <td>0.0</td>\n",
              "      <td>6.60</td>\n",
              "      <td>10.00</td>\n",
              "      <td>10.900</td>\n",
              "      <td>14.4</td>\n",
              "    </tr>\n",
              "    <tr>\n",
              "      <th>NA</th>\n",
              "      <td>23.0</td>\n",
              "      <td>145.434783</td>\n",
              "      <td>79.621163</td>\n",
              "      <td>1.0</td>\n",
              "      <td>80.00</td>\n",
              "      <td>143.0</td>\n",
              "      <td>198.00</td>\n",
              "      <td>285.0</td>\n",
              "      <td>23.0</td>\n",
              "      <td>165.739130</td>\n",
              "      <td>...</td>\n",
              "      <td>34.00</td>\n",
              "      <td>100.0</td>\n",
              "      <td>23.0</td>\n",
              "      <td>5.995652</td>\n",
              "      <td>2.409353</td>\n",
              "      <td>2.2</td>\n",
              "      <td>4.30</td>\n",
              "      <td>6.30</td>\n",
              "      <td>7.000</td>\n",
              "      <td>11.9</td>\n",
              "    </tr>\n",
              "    <tr>\n",
              "      <th>OC</th>\n",
              "      <td>16.0</td>\n",
              "      <td>89.687500</td>\n",
              "      <td>96.641412</td>\n",
              "      <td>0.0</td>\n",
              "      <td>21.00</td>\n",
              "      <td>52.5</td>\n",
              "      <td>125.75</td>\n",
              "      <td>306.0</td>\n",
              "      <td>16.0</td>\n",
              "      <td>58.437500</td>\n",
              "      <td>...</td>\n",
              "      <td>23.25</td>\n",
              "      <td>212.0</td>\n",
              "      <td>16.0</td>\n",
              "      <td>3.381250</td>\n",
              "      <td>3.345688</td>\n",
              "      <td>0.0</td>\n",
              "      <td>1.00</td>\n",
              "      <td>1.75</td>\n",
              "      <td>6.150</td>\n",
              "      <td>10.4</td>\n",
              "    </tr>\n",
              "    <tr>\n",
              "      <th>SA</th>\n",
              "      <td>12.0</td>\n",
              "      <td>175.083333</td>\n",
              "      <td>65.242845</td>\n",
              "      <td>93.0</td>\n",
              "      <td>129.50</td>\n",
              "      <td>162.5</td>\n",
              "      <td>198.00</td>\n",
              "      <td>333.0</td>\n",
              "      <td>12.0</td>\n",
              "      <td>114.750000</td>\n",
              "      <td>...</td>\n",
              "      <td>98.50</td>\n",
              "      <td>221.0</td>\n",
              "      <td>12.0</td>\n",
              "      <td>6.308333</td>\n",
              "      <td>1.531166</td>\n",
              "      <td>3.8</td>\n",
              "      <td>5.25</td>\n",
              "      <td>6.85</td>\n",
              "      <td>7.375</td>\n",
              "      <td>8.3</td>\n",
              "    </tr>\n",
              "  </tbody>\n",
              "</table>\n",
              "<p>6 rows × 32 columns</p>\n",
              "</div>"
            ],
            "text/plain": [
              "           beer                                                             \\\n",
              "          count        mean        std   min     25%    50%     75%    max   \n",
              "continent                                                                    \n",
              "AF         53.0   61.471698  80.557816   0.0   15.00   32.0   76.00  376.0   \n",
              "AS         44.0   37.045455  49.469725   0.0    4.25   17.5   60.50  247.0   \n",
              "EU         45.0  193.777778  99.631569   0.0  127.00  219.0  270.00  361.0   \n",
              "NA         23.0  145.434783  79.621163   1.0   80.00  143.0  198.00  285.0   \n",
              "OC         16.0   89.687500  96.641412   0.0   21.00   52.5  125.75  306.0   \n",
              "SA         12.0  175.083333  65.242845  93.0  129.50  162.5  198.00  333.0   \n",
              "\n",
              "          spirit              ...    wine        liters                      \\\n",
              "           count        mean  ...     75%    max  count      mean       std   \n",
              "continent                     ...                                             \n",
              "AF          53.0   16.339623  ...   13.00  233.0   53.0  3.007547  2.647557   \n",
              "AS          44.0   60.840909  ...    8.00  123.0   44.0  2.170455  2.770239   \n",
              "EU          45.0  132.555556  ...  195.00  370.0   45.0  8.617778  3.358455   \n",
              "NA          23.0  165.739130  ...   34.00  100.0   23.0  5.995652  2.409353   \n",
              "OC          16.0   58.437500  ...   23.25  212.0   16.0  3.381250  3.345688   \n",
              "SA          12.0  114.750000  ...   98.50  221.0   12.0  6.308333  1.531166   \n",
              "\n",
              "                                           \n",
              "           min   25%    50%     75%   max  \n",
              "continent                                  \n",
              "AF         0.0  0.70   2.30   4.700   9.1  \n",
              "AS         0.0  0.10   1.20   2.425  11.5  \n",
              "EU         0.0  6.60  10.00  10.900  14.4  \n",
              "NA         2.2  4.30   6.30   7.000  11.9  \n",
              "OC         0.0  1.00   1.75   6.150  10.4  \n",
              "SA         3.8  5.25   6.85   7.375   8.3  \n",
              "\n",
              "[6 rows x 32 columns]"
            ]
          },
          "execution_count": 95,
          "metadata": {},
          "output_type": "execute_result"
        }
      ],
      "source": [
        "# For each continent, describe all numeric columns.\n",
        "drinks.groupby('continent').describe()"
      ]
    },
    {
      "cell_type": "code",
      "execution_count": null,
      "metadata": {
        "id": "f7JX9vGgyg_J",
        "outputId": "dfbcc5ef-71a9-472b-e283-3766b647876b",
        "scrolled": true
      },
      "outputs": [
        {
          "name": "stdout",
          "output_type": "stream",
          "text": [
            "AF    53\n",
            "EU    45\n",
            "AS    44\n",
            "NA    23\n",
            "OC    16\n",
            "SA    12\n",
            "Name: continent, dtype: int64\n"
          ]
        }
      ],
      "source": [
        "# For each continent, count the number of rows.\n",
        "print((drinks.continent.value_counts()))   # should be the same"
      ]
    },
    {
      "cell_type": "markdown",
      "metadata": {
        "id": "eAK-XMeNyg_J"
      },
      "source": [
        "<img src=\"https://alik-courses.web.app/intro-to-ai/intro-to-pandas/images/hands_on.jpg\" width=\"100\" height=\"100\" style=\"float:right\"/>\n",
        "\n",
        "<a id=\"exercise-four\"></a>\n",
        "### Exercise 4 : TAKE HOME\n",
        "\n",
        "Use the \"users\" `DataFrame` or \"users\" file in the Data folder to complete the following."
      ]
    },
    {
      "cell_type": "code",
      "execution_count": null,
      "metadata": {
        "colab": {
          "base_uri": "https://localhost:8080/",
          "height": 112
        },
        "id": "agf8tAfhyg_J",
        "outputId": "dc9c808d-f7da-4903-e3fd-4c23ab4c4d7e"
      },
      "outputs": [
        {
          "data": {
            "text/html": [
              "\n",
              "  <div id=\"df-dfc45c7d-31fa-45fa-bbc2-18c1719cc85c\">\n",
              "    <div class=\"colab-df-container\">\n",
              "      <div>\n",
              "<style scoped>\n",
              "    .dataframe tbody tr th:only-of-type {\n",
              "        vertical-align: middle;\n",
              "    }\n",
              "\n",
              "    .dataframe tbody tr th {\n",
              "        vertical-align: top;\n",
              "    }\n",
              "\n",
              "    .dataframe thead th {\n",
              "        text-align: right;\n",
              "    }\n",
              "</style>\n",
              "<table border=\"1\" class=\"dataframe\">\n",
              "  <thead>\n",
              "    <tr style=\"text-align: right;\">\n",
              "      <th></th>\n",
              "      <th>user_id</th>\n",
              "      <th>age</th>\n",
              "      <th>gender</th>\n",
              "      <th>occupation</th>\n",
              "      <th>zip_code</th>\n",
              "      <th>boolage</th>\n",
              "    </tr>\n",
              "  </thead>\n",
              "  <tbody>\n",
              "    <tr>\n",
              "      <th>0</th>\n",
              "      <td>1</td>\n",
              "      <td>24</td>\n",
              "      <td>M</td>\n",
              "      <td>technician</td>\n",
              "      <td>85711</td>\n",
              "      <td>True</td>\n",
              "    </tr>\n",
              "    <tr>\n",
              "      <th>1</th>\n",
              "      <td>2</td>\n",
              "      <td>53</td>\n",
              "      <td>F</td>\n",
              "      <td>other</td>\n",
              "      <td>94043</td>\n",
              "      <td>False</td>\n",
              "    </tr>\n",
              "  </tbody>\n",
              "</table>\n",
              "</div>\n",
              "      <button class=\"colab-df-convert\" onclick=\"convertToInteractive('df-dfc45c7d-31fa-45fa-bbc2-18c1719cc85c')\"\n",
              "              title=\"Convert this dataframe to an interactive table.\"\n",
              "              style=\"display:none;\">\n",
              "        \n",
              "  <svg xmlns=\"http://www.w3.org/2000/svg\" height=\"24px\"viewBox=\"0 0 24 24\"\n",
              "       width=\"24px\">\n",
              "    <path d=\"M0 0h24v24H0V0z\" fill=\"none\"/>\n",
              "    <path d=\"M18.56 5.44l.94 2.06.94-2.06 2.06-.94-2.06-.94-.94-2.06-.94 2.06-2.06.94zm-11 1L8.5 8.5l.94-2.06 2.06-.94-2.06-.94L8.5 2.5l-.94 2.06-2.06.94zm10 10l.94 2.06.94-2.06 2.06-.94-2.06-.94-.94-2.06-.94 2.06-2.06.94z\"/><path d=\"M17.41 7.96l-1.37-1.37c-.4-.4-.92-.59-1.43-.59-.52 0-1.04.2-1.43.59L10.3 9.45l-7.72 7.72c-.78.78-.78 2.05 0 2.83L4 21.41c.39.39.9.59 1.41.59.51 0 1.02-.2 1.41-.59l7.78-7.78 2.81-2.81c.8-.78.8-2.07 0-2.86zM5.41 20L4 18.59l7.72-7.72 1.47 1.35L5.41 20z\"/>\n",
              "  </svg>\n",
              "      </button>\n",
              "      \n",
              "  <style>\n",
              "    .colab-df-container {\n",
              "      display:flex;\n",
              "      flex-wrap:wrap;\n",
              "      gap: 12px;\n",
              "    }\n",
              "\n",
              "    .colab-df-convert {\n",
              "      background-color: #E8F0FE;\n",
              "      border: none;\n",
              "      border-radius: 50%;\n",
              "      cursor: pointer;\n",
              "      display: none;\n",
              "      fill: #1967D2;\n",
              "      height: 32px;\n",
              "      padding: 0 0 0 0;\n",
              "      width: 32px;\n",
              "    }\n",
              "\n",
              "    .colab-df-convert:hover {\n",
              "      background-color: #E2EBFA;\n",
              "      box-shadow: 0px 1px 2px rgba(60, 64, 67, 0.3), 0px 1px 3px 1px rgba(60, 64, 67, 0.15);\n",
              "      fill: #174EA6;\n",
              "    }\n",
              "\n",
              "    [theme=dark] .colab-df-convert {\n",
              "      background-color: #3B4455;\n",
              "      fill: #D2E3FC;\n",
              "    }\n",
              "\n",
              "    [theme=dark] .colab-df-convert:hover {\n",
              "      background-color: #434B5C;\n",
              "      box-shadow: 0px 1px 3px 1px rgba(0, 0, 0, 0.15);\n",
              "      filter: drop-shadow(0px 1px 2px rgba(0, 0, 0, 0.3));\n",
              "      fill: #FFFFFF;\n",
              "    }\n",
              "  </style>\n",
              "\n",
              "      <script>\n",
              "        const buttonEl =\n",
              "          document.querySelector('#df-dfc45c7d-31fa-45fa-bbc2-18c1719cc85c button.colab-df-convert');\n",
              "        buttonEl.style.display =\n",
              "          google.colab.kernel.accessAllowed ? 'block' : 'none';\n",
              "\n",
              "        async function convertToInteractive(key) {\n",
              "          const element = document.querySelector('#df-dfc45c7d-31fa-45fa-bbc2-18c1719cc85c');\n",
              "          const dataTable =\n",
              "            await google.colab.kernel.invokeFunction('convertToInteractive',\n",
              "                                                     [key], {});\n",
              "          if (!dataTable) return;\n",
              "\n",
              "          const docLinkHtml = 'Like what you see? Visit the ' +\n",
              "            '<a target=\"_blank\" href=https://colab.research.google.com/notebooks/data_table.ipynb>data table notebook</a>'\n",
              "            + ' to learn more about interactive tables.';\n",
              "          element.innerHTML = '';\n",
              "          dataTable['output_type'] = 'display_data';\n",
              "          await google.colab.output.renderOutput(dataTable, element);\n",
              "          const docLink = document.createElement('div');\n",
              "          docLink.innerHTML = docLinkHtml;\n",
              "          element.appendChild(docLink);\n",
              "        }\n",
              "      </script>\n",
              "    </div>\n",
              "  </div>\n",
              "  "
            ],
            "text/plain": [
              "   user_id  age gender  occupation zip_code  boolage\n",
              "0        1   24      M  technician    85711     True\n",
              "1        2   53      F       other    94043    False"
            ]
          },
          "execution_count": 59,
          "metadata": {},
          "output_type": "execute_result"
        }
      ],
      "source": [
        "users.head(2)"
      ]
    },
    {
      "cell_type": "code",
      "execution_count": null,
      "metadata": {
        "id": "UGGbO9meyg_J"
      },
      "outputs": [],
      "source": [
        "# For each occupation in \"users\", count the number of occurrences.\n"
      ]
    },
    {
      "cell_type": "code",
      "execution_count": null,
      "metadata": {
        "id": "iutbzF--yg_J"
      },
      "outputs": [],
      "source": [
        "# For each occupation, calculate the mean age.\n"
      ]
    },
    {
      "cell_type": "code",
      "execution_count": null,
      "metadata": {
        "id": "7NC7jOGFyg_J",
        "scrolled": true
      },
      "outputs": [],
      "source": [
        "# For each occupation, calculate the minimum and maximum ages.\n"
      ]
    },
    {
      "cell_type": "code",
      "execution_count": null,
      "metadata": {
        "id": "E9XE2gXxyg_J"
      },
      "outputs": [],
      "source": [
        "# For each combination of occupation and gender, calculate the mean age.\n"
      ]
    },
    {
      "cell_type": "markdown",
      "metadata": {
        "id": "Fj-BJQ71yg_J"
      },
      "source": [
        "----"
      ]
    },
    {
      "cell_type": "markdown",
      "metadata": {
        "id": "WAHmnGK5yg_K"
      },
      "source": [
        "<a id=\"multiple-columns\"></a>\n",
        "## Selecting Multiple Columns and Filtering Rows"
      ]
    },
    {
      "cell_type": "code",
      "execution_count": null,
      "metadata": {
        "id": "btr4pAqHyg_K",
        "outputId": "b5b29471-fe5b-40fb-ff42-483fdf840faf"
      },
      "outputs": [
        {
          "data": {
            "text/html": [
              "<div>\n",
              "<style scoped>\n",
              "    .dataframe tbody tr th:only-of-type {\n",
              "        vertical-align: middle;\n",
              "    }\n",
              "\n",
              "    .dataframe tbody tr th {\n",
              "        vertical-align: top;\n",
              "    }\n",
              "\n",
              "    .dataframe thead th {\n",
              "        text-align: right;\n",
              "    }\n",
              "</style>\n",
              "<table border=\"1\" class=\"dataframe\">\n",
              "  <thead>\n",
              "    <tr style=\"text-align: right;\">\n",
              "      <th></th>\n",
              "      <th>City</th>\n",
              "      <th>Colors Reported</th>\n",
              "      <th>Shape Reported</th>\n",
              "      <th>State</th>\n",
              "      <th>Time</th>\n",
              "    </tr>\n",
              "  </thead>\n",
              "  <tbody>\n",
              "    <tr>\n",
              "      <th>0</th>\n",
              "      <td>Ithaca</td>\n",
              "      <td>NaN</td>\n",
              "      <td>TRIANGLE</td>\n",
              "      <td>NY</td>\n",
              "      <td>6/1/1930 22:00</td>\n",
              "    </tr>\n",
              "    <tr>\n",
              "      <th>1</th>\n",
              "      <td>Willingboro</td>\n",
              "      <td>NaN</td>\n",
              "      <td>OTHER</td>\n",
              "      <td>NJ</td>\n",
              "      <td>6/30/1930 20:00</td>\n",
              "    </tr>\n",
              "    <tr>\n",
              "      <th>2</th>\n",
              "      <td>Holyoke</td>\n",
              "      <td>NaN</td>\n",
              "      <td>OVAL</td>\n",
              "      <td>CO</td>\n",
              "      <td>2/15/1931 14:00</td>\n",
              "    </tr>\n",
              "    <tr>\n",
              "      <th>3</th>\n",
              "      <td>Abilene</td>\n",
              "      <td>NaN</td>\n",
              "      <td>DISK</td>\n",
              "      <td>KS</td>\n",
              "      <td>6/1/1931 13:00</td>\n",
              "    </tr>\n",
              "    <tr>\n",
              "      <th>4</th>\n",
              "      <td>New York Worlds Fair</td>\n",
              "      <td>NaN</td>\n",
              "      <td>LIGHT</td>\n",
              "      <td>NY</td>\n",
              "      <td>4/18/1933 19:00</td>\n",
              "    </tr>\n",
              "  </tbody>\n",
              "</table>\n",
              "</div>"
            ],
            "text/plain": [
              "                   City Colors Reported Shape Reported State             Time\n",
              "0                Ithaca             NaN       TRIANGLE    NY   6/1/1930 22:00\n",
              "1           Willingboro             NaN          OTHER    NJ  6/30/1930 20:00\n",
              "2               Holyoke             NaN           OVAL    CO  2/15/1931 14:00\n",
              "3               Abilene             NaN           DISK    KS   6/1/1931 13:00\n",
              "4  New York Worlds Fair             NaN          LIGHT    NY  4/18/1933 19:00"
            ]
          },
          "execution_count": 102,
          "metadata": {},
          "output_type": "execute_result"
        }
      ],
      "source": [
        "ufo.head()"
      ]
    },
    {
      "cell_type": "code",
      "execution_count": null,
      "metadata": {
        "id": "0HOhSx9oyg_K",
        "outputId": "b60a9f61-6e15-4f0e-b14a-6310e24acb58"
      },
      "outputs": [
        {
          "data": {
            "text/html": [
              "<div>\n",
              "<style scoped>\n",
              "    .dataframe tbody tr th:only-of-type {\n",
              "        vertical-align: middle;\n",
              "    }\n",
              "\n",
              "    .dataframe tbody tr th {\n",
              "        vertical-align: top;\n",
              "    }\n",
              "\n",
              "    .dataframe thead th {\n",
              "        text-align: right;\n",
              "    }\n",
              "</style>\n",
              "<table border=\"1\" class=\"dataframe\">\n",
              "  <thead>\n",
              "    <tr style=\"text-align: right;\">\n",
              "      <th></th>\n",
              "      <th>City</th>\n",
              "      <th>State</th>\n",
              "    </tr>\n",
              "  </thead>\n",
              "  <tbody>\n",
              "    <tr>\n",
              "      <th>0</th>\n",
              "      <td>Ithaca</td>\n",
              "      <td>NY</td>\n",
              "    </tr>\n",
              "    <tr>\n",
              "      <th>1</th>\n",
              "      <td>Willingboro</td>\n",
              "      <td>NJ</td>\n",
              "    </tr>\n",
              "    <tr>\n",
              "      <th>2</th>\n",
              "      <td>Holyoke</td>\n",
              "      <td>CO</td>\n",
              "    </tr>\n",
              "    <tr>\n",
              "      <th>3</th>\n",
              "      <td>Abilene</td>\n",
              "      <td>KS</td>\n",
              "    </tr>\n",
              "    <tr>\n",
              "      <th>4</th>\n",
              "      <td>New York Worlds Fair</td>\n",
              "      <td>NY</td>\n",
              "    </tr>\n",
              "  </tbody>\n",
              "</table>\n",
              "</div>"
            ],
            "text/plain": [
              "                   City State\n",
              "0                Ithaca    NY\n",
              "1           Willingboro    NJ\n",
              "2               Holyoke    CO\n",
              "3               Abilene    KS\n",
              "4  New York Worlds Fair    NY"
            ]
          },
          "execution_count": 103,
          "metadata": {},
          "output_type": "execute_result"
        }
      ],
      "source": [
        "# Or, combine into a single step (this is a Python list inside of the Python index operator!).\n",
        "ufo[['City', 'State']].head()"
      ]
    },
    {
      "cell_type": "markdown",
      "metadata": {
        "id": "6sFfgixvyg_K"
      },
      "source": [
        "**Use `loc` to select columns by name.**"
      ]
    },
    {
      "cell_type": "code",
      "execution_count": null,
      "metadata": {
        "colab": {
          "base_uri": "https://localhost:8080/"
        },
        "id": "tsHf_H-4-2U6",
        "outputId": "a48f2765-0d80-4074-c803-c458f5986ac7"
      },
      "outputs": [
        {
          "data": {
            "text/plain": [
              "0         Ithaca\n",
              "1    Willingboro\n",
              "2        Holyoke\n",
              "Name: City, dtype: object"
            ]
          },
          "execution_count": 43,
          "metadata": {},
          "output_type": "execute_result"
        }
      ],
      "source": [
        "ufo.City[:3]"
      ]
    },
    {
      "cell_type": "code",
      "execution_count": null,
      "metadata": {
        "colab": {
          "base_uri": "https://localhost:8080/"
        },
        "id": "IzeDrsEfyg_K",
        "outputId": "1a8c3670-dbdc-4e5e-d191-932742076469"
      },
      "outputs": [
        {
          "data": {
            "text/plain": [
              "0         Ithaca\n",
              "1    Willingboro\n",
              "2        Holyoke\n",
              "Name: City, dtype: object"
            ]
          },
          "execution_count": 48,
          "metadata": {},
          "output_type": "execute_result"
        }
      ],
      "source": [
        "# \"loc\" locates the values from the first parameter (colon means \"all rows\"), and the column \"City\".\n",
        "ufo.iloc[:, 'City'] "
      ]
    },
    {
      "cell_type": "code",
      "execution_count": 98,
      "metadata": {
        "id": "jt-hdlF-yg_K",
        "outputId": "ff92e3da-264e-478a-8175-f330a3736fca"
      },
      "outputs": [
        {
          "data": {
            "text/html": [
              "<div>\n",
              "<style scoped>\n",
              "    .dataframe tbody tr th:only-of-type {\n",
              "        vertical-align: middle;\n",
              "    }\n",
              "\n",
              "    .dataframe tbody tr th {\n",
              "        vertical-align: top;\n",
              "    }\n",
              "\n",
              "    .dataframe thead th {\n",
              "        text-align: right;\n",
              "    }\n",
              "</style>\n",
              "<table border=\"1\" class=\"dataframe\">\n",
              "  <thead>\n",
              "    <tr style=\"text-align: right;\">\n",
              "      <th></th>\n",
              "      <th>City</th>\n",
              "      <th>State</th>\n",
              "    </tr>\n",
              "  </thead>\n",
              "  <tbody>\n",
              "    <tr>\n",
              "      <th>0</th>\n",
              "      <td>Ithaca</td>\n",
              "      <td>NY</td>\n",
              "    </tr>\n",
              "    <tr>\n",
              "      <th>1</th>\n",
              "      <td>Willingboro</td>\n",
              "      <td>NJ</td>\n",
              "    </tr>\n",
              "    <tr>\n",
              "      <th>2</th>\n",
              "      <td>Holyoke</td>\n",
              "      <td>CO</td>\n",
              "    </tr>\n",
              "    <tr>\n",
              "      <th>3</th>\n",
              "      <td>Abilene</td>\n",
              "      <td>KS</td>\n",
              "    </tr>\n",
              "    <tr>\n",
              "      <th>4</th>\n",
              "      <td>New York Worlds Fair</td>\n",
              "      <td>NY</td>\n",
              "    </tr>\n",
              "    <tr>\n",
              "      <th>...</th>\n",
              "      <td>...</td>\n",
              "      <td>...</td>\n",
              "    </tr>\n",
              "    <tr>\n",
              "      <th>80538</th>\n",
              "      <td>Neligh</td>\n",
              "      <td>NE</td>\n",
              "    </tr>\n",
              "    <tr>\n",
              "      <th>80539</th>\n",
              "      <td>Uhrichsville</td>\n",
              "      <td>OH</td>\n",
              "    </tr>\n",
              "    <tr>\n",
              "      <th>80540</th>\n",
              "      <td>Tucson</td>\n",
              "      <td>AZ</td>\n",
              "    </tr>\n",
              "    <tr>\n",
              "      <th>80541</th>\n",
              "      <td>Orland park</td>\n",
              "      <td>IL</td>\n",
              "    </tr>\n",
              "    <tr>\n",
              "      <th>80542</th>\n",
              "      <td>Loughman</td>\n",
              "      <td>FL</td>\n",
              "    </tr>\n",
              "  </tbody>\n",
              "</table>\n",
              "<p>80543 rows × 2 columns</p>\n",
              "</div>"
            ],
            "text/plain": [
              "                       City State\n",
              "0                    Ithaca    NY\n",
              "1               Willingboro    NJ\n",
              "2                   Holyoke    CO\n",
              "3                   Abilene    KS\n",
              "4      New York Worlds Fair    NY\n",
              "...                     ...   ...\n",
              "80538                Neligh    NE\n",
              "80539          Uhrichsville    OH\n",
              "80540                Tucson    AZ\n",
              "80541           Orland park    IL\n",
              "80542              Loughman    FL\n",
              "\n",
              "[80543 rows x 2 columns]"
            ]
          },
          "execution_count": 98,
          "metadata": {},
          "output_type": "execute_result"
        }
      ],
      "source": [
        "# Select two columns.\n",
        "ufo.loc[:, ['City', 'State']]"
      ]
    },
    {
      "cell_type": "code",
      "execution_count": 99,
      "metadata": {
        "id": "oGGQihs3yg_K",
        "outputId": "8d6f3a7c-79a3-4ee9-cb98-4a442f795745"
      },
      "outputs": [
        {
          "data": {
            "text/html": [
              "<div>\n",
              "<style scoped>\n",
              "    .dataframe tbody tr th:only-of-type {\n",
              "        vertical-align: middle;\n",
              "    }\n",
              "\n",
              "    .dataframe tbody tr th {\n",
              "        vertical-align: top;\n",
              "    }\n",
              "\n",
              "    .dataframe thead th {\n",
              "        text-align: right;\n",
              "    }\n",
              "</style>\n",
              "<table border=\"1\" class=\"dataframe\">\n",
              "  <thead>\n",
              "    <tr style=\"text-align: right;\">\n",
              "      <th></th>\n",
              "      <th>City</th>\n",
              "      <th>Colors Reported</th>\n",
              "      <th>Shape Reported</th>\n",
              "      <th>State</th>\n",
              "    </tr>\n",
              "  </thead>\n",
              "  <tbody>\n",
              "    <tr>\n",
              "      <th>0</th>\n",
              "      <td>Ithaca</td>\n",
              "      <td>NaN</td>\n",
              "      <td>TRIANGLE</td>\n",
              "      <td>NY</td>\n",
              "    </tr>\n",
              "    <tr>\n",
              "      <th>1</th>\n",
              "      <td>Willingboro</td>\n",
              "      <td>NaN</td>\n",
              "      <td>OTHER</td>\n",
              "      <td>NJ</td>\n",
              "    </tr>\n",
              "    <tr>\n",
              "      <th>2</th>\n",
              "      <td>Holyoke</td>\n",
              "      <td>NaN</td>\n",
              "      <td>OVAL</td>\n",
              "      <td>CO</td>\n",
              "    </tr>\n",
              "    <tr>\n",
              "      <th>3</th>\n",
              "      <td>Abilene</td>\n",
              "      <td>NaN</td>\n",
              "      <td>DISK</td>\n",
              "      <td>KS</td>\n",
              "    </tr>\n",
              "    <tr>\n",
              "      <th>4</th>\n",
              "      <td>New York Worlds Fair</td>\n",
              "      <td>NaN</td>\n",
              "      <td>LIGHT</td>\n",
              "      <td>NY</td>\n",
              "    </tr>\n",
              "    <tr>\n",
              "      <th>...</th>\n",
              "      <td>...</td>\n",
              "      <td>...</td>\n",
              "      <td>...</td>\n",
              "      <td>...</td>\n",
              "    </tr>\n",
              "    <tr>\n",
              "      <th>80538</th>\n",
              "      <td>Neligh</td>\n",
              "      <td>NaN</td>\n",
              "      <td>CIRCLE</td>\n",
              "      <td>NE</td>\n",
              "    </tr>\n",
              "    <tr>\n",
              "      <th>80539</th>\n",
              "      <td>Uhrichsville</td>\n",
              "      <td>NaN</td>\n",
              "      <td>LIGHT</td>\n",
              "      <td>OH</td>\n",
              "    </tr>\n",
              "    <tr>\n",
              "      <th>80540</th>\n",
              "      <td>Tucson</td>\n",
              "      <td>RED BLUE</td>\n",
              "      <td>NaN</td>\n",
              "      <td>AZ</td>\n",
              "    </tr>\n",
              "    <tr>\n",
              "      <th>80541</th>\n",
              "      <td>Orland park</td>\n",
              "      <td>RED</td>\n",
              "      <td>LIGHT</td>\n",
              "      <td>IL</td>\n",
              "    </tr>\n",
              "    <tr>\n",
              "      <th>80542</th>\n",
              "      <td>Loughman</td>\n",
              "      <td>NaN</td>\n",
              "      <td>LIGHT</td>\n",
              "      <td>FL</td>\n",
              "    </tr>\n",
              "  </tbody>\n",
              "</table>\n",
              "<p>80543 rows × 4 columns</p>\n",
              "</div>"
            ],
            "text/plain": [
              "                       City Colors Reported Shape Reported State\n",
              "0                    Ithaca             NaN       TRIANGLE    NY\n",
              "1               Willingboro             NaN          OTHER    NJ\n",
              "2                   Holyoke             NaN           OVAL    CO\n",
              "3                   Abilene             NaN           DISK    KS\n",
              "4      New York Worlds Fair             NaN          LIGHT    NY\n",
              "...                     ...             ...            ...   ...\n",
              "80538                Neligh             NaN         CIRCLE    NE\n",
              "80539          Uhrichsville             NaN          LIGHT    OH\n",
              "80540                Tucson        RED BLUE            NaN    AZ\n",
              "80541           Orland park             RED          LIGHT    IL\n",
              "80542              Loughman             NaN          LIGHT    FL\n",
              "\n",
              "[80543 rows x 4 columns]"
            ]
          },
          "execution_count": 99,
          "metadata": {},
          "output_type": "execute_result"
        }
      ],
      "source": [
        "# Select a range of columns — unlike Python ranges, Pandas index ranges INCLUDE the final column in the range.\n",
        "ufo.loc[:, 'City':'State']\n"
      ]
    },
    {
      "cell_type": "code",
      "execution_count": null,
      "metadata": {
        "id": "g5q8lNSvyg_K",
        "outputId": "0dba71cf-e303-49d5-e628-724c94f81c4d"
      },
      "outputs": [
        {
          "data": {
            "text/plain": [
              "City                       Ithaca\n",
              "Colors Reported               NaN\n",
              "Shape Reported           TRIANGLE\n",
              "State                          NY\n",
              "Time               6/1/1930 22:00\n",
              "Name: 0, dtype: object"
            ]
          },
          "execution_count": 107,
          "metadata": {},
          "output_type": "execute_result"
        }
      ],
      "source": [
        "# \"loc\" can also filter rows by \"name\" (the index).\n",
        "# Row 0, all columns\n",
        "ufo.loc[0, :]"
      ]
    },
    {
      "cell_type": "code",
      "execution_count": null,
      "metadata": {
        "id": "wIlVsDQlyg_K",
        "outputId": "66e8b715-0661-4589-e6b8-06b58fedb44f"
      },
      "outputs": [
        {
          "data": {
            "text/html": [
              "<div>\n",
              "<style scoped>\n",
              "    .dataframe tbody tr th:only-of-type {\n",
              "        vertical-align: middle;\n",
              "    }\n",
              "\n",
              "    .dataframe tbody tr th {\n",
              "        vertical-align: top;\n",
              "    }\n",
              "\n",
              "    .dataframe thead th {\n",
              "        text-align: right;\n",
              "    }\n",
              "</style>\n",
              "<table border=\"1\" class=\"dataframe\">\n",
              "  <thead>\n",
              "    <tr style=\"text-align: right;\">\n",
              "      <th></th>\n",
              "      <th>City</th>\n",
              "      <th>Colors Reported</th>\n",
              "      <th>Shape Reported</th>\n",
              "      <th>State</th>\n",
              "      <th>Time</th>\n",
              "    </tr>\n",
              "  </thead>\n",
              "  <tbody>\n",
              "    <tr>\n",
              "      <th>0</th>\n",
              "      <td>Ithaca</td>\n",
              "      <td>NaN</td>\n",
              "      <td>TRIANGLE</td>\n",
              "      <td>NY</td>\n",
              "      <td>6/1/1930 22:00</td>\n",
              "    </tr>\n",
              "    <tr>\n",
              "      <th>1</th>\n",
              "      <td>Willingboro</td>\n",
              "      <td>NaN</td>\n",
              "      <td>OTHER</td>\n",
              "      <td>NJ</td>\n",
              "      <td>6/30/1930 20:00</td>\n",
              "    </tr>\n",
              "    <tr>\n",
              "      <th>2</th>\n",
              "      <td>Holyoke</td>\n",
              "      <td>NaN</td>\n",
              "      <td>OVAL</td>\n",
              "      <td>CO</td>\n",
              "      <td>2/15/1931 14:00</td>\n",
              "    </tr>\n",
              "  </tbody>\n",
              "</table>\n",
              "</div>"
            ],
            "text/plain": [
              "          City Colors Reported Shape Reported State             Time\n",
              "0       Ithaca             NaN       TRIANGLE    NY   6/1/1930 22:00\n",
              "1  Willingboro             NaN          OTHER    NJ  6/30/1930 20:00\n",
              "2      Holyoke             NaN           OVAL    CO  2/15/1931 14:00"
            ]
          },
          "execution_count": 108,
          "metadata": {},
          "output_type": "execute_result"
        }
      ],
      "source": [
        "# Rows 0/1/2, all columns\n",
        "ufo.loc[0:2, :]"
      ]
    },
    {
      "cell_type": "code",
      "execution_count": null,
      "metadata": {
        "id": "IARC7umeyg_L",
        "outputId": "ba467a78-96e0-4236-b782-c81054bc9de3"
      },
      "outputs": [
        {
          "data": {
            "text/html": [
              "<div>\n",
              "<style scoped>\n",
              "    .dataframe tbody tr th:only-of-type {\n",
              "        vertical-align: middle;\n",
              "    }\n",
              "\n",
              "    .dataframe tbody tr th {\n",
              "        vertical-align: top;\n",
              "    }\n",
              "\n",
              "    .dataframe thead th {\n",
              "        text-align: right;\n",
              "    }\n",
              "</style>\n",
              "<table border=\"1\" class=\"dataframe\">\n",
              "  <thead>\n",
              "    <tr style=\"text-align: right;\">\n",
              "      <th></th>\n",
              "      <th>City</th>\n",
              "      <th>Colors Reported</th>\n",
              "      <th>Shape Reported</th>\n",
              "      <th>State</th>\n",
              "    </tr>\n",
              "  </thead>\n",
              "  <tbody>\n",
              "    <tr>\n",
              "      <th>0</th>\n",
              "      <td>Ithaca</td>\n",
              "      <td>NaN</td>\n",
              "      <td>TRIANGLE</td>\n",
              "      <td>NY</td>\n",
              "    </tr>\n",
              "    <tr>\n",
              "      <th>1</th>\n",
              "      <td>Willingboro</td>\n",
              "      <td>NaN</td>\n",
              "      <td>OTHER</td>\n",
              "      <td>NJ</td>\n",
              "    </tr>\n",
              "    <tr>\n",
              "      <th>2</th>\n",
              "      <td>Holyoke</td>\n",
              "      <td>NaN</td>\n",
              "      <td>OVAL</td>\n",
              "      <td>CO</td>\n",
              "    </tr>\n",
              "  </tbody>\n",
              "</table>\n",
              "</div>"
            ],
            "text/plain": [
              "          City Colors Reported Shape Reported State\n",
              "0       Ithaca             NaN       TRIANGLE    NY\n",
              "1  Willingboro             NaN          OTHER    NJ\n",
              "2      Holyoke             NaN           OVAL    CO"
            ]
          },
          "execution_count": 109,
          "metadata": {},
          "output_type": "execute_result"
        }
      ],
      "source": [
        "# Rows 0/1/2, range of columns\n",
        "ufo.loc[0:2, 'City':'State'] "
      ]
    },
    {
      "cell_type": "markdown",
      "metadata": {
        "id": "lWCrxoASyg_L"
      },
      "source": [
        "<a id=\"joining-dataframes\"></a>\n",
        "### Joining (Merging) `DataFrames`\n",
        "\n",
        "\n",
        "<img src=\"https://alik-courses.web.app/intro-to-ai/intro-to-pandas/images/panda_science.jpeg\" width=\"300\" height=\"300\" align=\"right\"/>"
      ]
    },
    {
      "cell_type": "code",
      "execution_count": 100,
      "metadata": {
        "colab": {
          "base_uri": "https://localhost:8080/",
          "height": 206
        },
        "id": "7FdFWE4Wyg_L",
        "outputId": "a1c7630c-d945-4476-a888-d40d54a94fa9"
      },
      "outputs": [
        {
          "data": {
            "text/html": [
              "<div>\n",
              "<style scoped>\n",
              "    .dataframe tbody tr th:only-of-type {\n",
              "        vertical-align: middle;\n",
              "    }\n",
              "\n",
              "    .dataframe tbody tr th {\n",
              "        vertical-align: top;\n",
              "    }\n",
              "\n",
              "    .dataframe thead th {\n",
              "        text-align: right;\n",
              "    }\n",
              "</style>\n",
              "<table border=\"1\" class=\"dataframe\">\n",
              "  <thead>\n",
              "    <tr style=\"text-align: right;\">\n",
              "      <th></th>\n",
              "      <th>movie_id</th>\n",
              "      <th>title</th>\n",
              "    </tr>\n",
              "  </thead>\n",
              "  <tbody>\n",
              "    <tr>\n",
              "      <th>0</th>\n",
              "      <td>1</td>\n",
              "      <td>Toy Story (1995)</td>\n",
              "    </tr>\n",
              "    <tr>\n",
              "      <th>1</th>\n",
              "      <td>2</td>\n",
              "      <td>GoldenEye (1995)</td>\n",
              "    </tr>\n",
              "    <tr>\n",
              "      <th>2</th>\n",
              "      <td>3</td>\n",
              "      <td>Four Rooms (1995)</td>\n",
              "    </tr>\n",
              "    <tr>\n",
              "      <th>3</th>\n",
              "      <td>4</td>\n",
              "      <td>Get Shorty (1995)</td>\n",
              "    </tr>\n",
              "    <tr>\n",
              "      <th>4</th>\n",
              "      <td>5</td>\n",
              "      <td>Copycat (1995)</td>\n",
              "    </tr>\n",
              "  </tbody>\n",
              "</table>\n",
              "</div>"
            ],
            "text/plain": [
              "   movie_id              title\n",
              "0         1   Toy Story (1995)\n",
              "1         2   GoldenEye (1995)\n",
              "2         3  Four Rooms (1995)\n",
              "3         4  Get Shorty (1995)\n",
              "4         5     Copycat (1995)"
            ]
          },
          "execution_count": 100,
          "metadata": {},
          "output_type": "execute_result"
        }
      ],
      "source": [
        "import pandas as pd\n",
        "movie_cols = ['movie_id', 'title']\n",
        "u_item = 'https://alik-courses.web.app/intro-to-ai/intro-to-pandas/data/movies.tbl'\n",
        "movies = pd.read_csv(u_item, sep='|', header=None, names=movie_cols, usecols=[0, 1], encoding='latin-1')\n",
        "movies.head()"
      ]
    },
    {
      "cell_type": "code",
      "execution_count": 101,
      "metadata": {
        "colab": {
          "base_uri": "https://localhost:8080/",
          "height": 206
        },
        "id": "UE3ro4Kfyg_L",
        "outputId": "4e6b3d05-978c-4243-8cce-b96fa4d9e3b3"
      },
      "outputs": [
        {
          "data": {
            "text/html": [
              "<div>\n",
              "<style scoped>\n",
              "    .dataframe tbody tr th:only-of-type {\n",
              "        vertical-align: middle;\n",
              "    }\n",
              "\n",
              "    .dataframe tbody tr th {\n",
              "        vertical-align: top;\n",
              "    }\n",
              "\n",
              "    .dataframe thead th {\n",
              "        text-align: right;\n",
              "    }\n",
              "</style>\n",
              "<table border=\"1\" class=\"dataframe\">\n",
              "  <thead>\n",
              "    <tr style=\"text-align: right;\">\n",
              "      <th></th>\n",
              "      <th>user_id</th>\n",
              "      <th>movie_id</th>\n",
              "      <th>rating</th>\n",
              "      <th>timestamp</th>\n",
              "    </tr>\n",
              "  </thead>\n",
              "  <tbody>\n",
              "    <tr>\n",
              "      <th>0</th>\n",
              "      <td>196</td>\n",
              "      <td>242</td>\n",
              "      <td>3</td>\n",
              "      <td>881250949</td>\n",
              "    </tr>\n",
              "    <tr>\n",
              "      <th>1</th>\n",
              "      <td>186</td>\n",
              "      <td>302</td>\n",
              "      <td>3</td>\n",
              "      <td>891717742</td>\n",
              "    </tr>\n",
              "    <tr>\n",
              "      <th>2</th>\n",
              "      <td>22</td>\n",
              "      <td>377</td>\n",
              "      <td>1</td>\n",
              "      <td>878887116</td>\n",
              "    </tr>\n",
              "    <tr>\n",
              "      <th>3</th>\n",
              "      <td>244</td>\n",
              "      <td>51</td>\n",
              "      <td>2</td>\n",
              "      <td>880606923</td>\n",
              "    </tr>\n",
              "    <tr>\n",
              "      <th>4</th>\n",
              "      <td>166</td>\n",
              "      <td>346</td>\n",
              "      <td>1</td>\n",
              "      <td>886397596</td>\n",
              "    </tr>\n",
              "  </tbody>\n",
              "</table>\n",
              "</div>"
            ],
            "text/plain": [
              "   user_id  movie_id  rating  timestamp\n",
              "0      196       242       3  881250949\n",
              "1      186       302       3  891717742\n",
              "2       22       377       1  878887116\n",
              "3      244        51       2  880606923\n",
              "4      166       346       1  886397596"
            ]
          },
          "execution_count": 101,
          "metadata": {},
          "output_type": "execute_result"
        }
      ],
      "source": [
        "rating_cols = ['user_id', 'movie_id', 'rating', 'timestamp']\n",
        "ratings_filename = 'https://alik-courses.web.app/intro-to-ai/intro-to-pandas/data/movie_ratings.tsv'\n",
        "\n",
        "ratings = pd.read_csv(ratings_filename, sep='\\t', header=None, names=rating_cols)\n",
        "ratings.head()"
      ]
    },
    {
      "cell_type": "code",
      "execution_count": null,
      "metadata": {
        "colab": {
          "base_uri": "https://localhost:8080/",
          "height": 206
        },
        "id": "rFGsEHeyyg_L",
        "outputId": "33475e42-246f-4238-a7e7-d8bdab37b67b"
      },
      "outputs": [
        {
          "data": {
            "text/html": [
              "\n",
              "  <div id=\"df-1583a8ea-af75-4a48-8bf3-cd18f0bfbd1f\">\n",
              "    <div class=\"colab-df-container\">\n",
              "      <div>\n",
              "<style scoped>\n",
              "    .dataframe tbody tr th:only-of-type {\n",
              "        vertical-align: middle;\n",
              "    }\n",
              "\n",
              "    .dataframe tbody tr th {\n",
              "        vertical-align: top;\n",
              "    }\n",
              "\n",
              "    .dataframe thead th {\n",
              "        text-align: right;\n",
              "    }\n",
              "</style>\n",
              "<table border=\"1\" class=\"dataframe\">\n",
              "  <thead>\n",
              "    <tr style=\"text-align: right;\">\n",
              "      <th></th>\n",
              "      <th>movie_id</th>\n",
              "      <th>title</th>\n",
              "      <th>user_id</th>\n",
              "      <th>rating</th>\n",
              "      <th>timestamp</th>\n",
              "    </tr>\n",
              "  </thead>\n",
              "  <tbody>\n",
              "    <tr>\n",
              "      <th>0</th>\n",
              "      <td>1</td>\n",
              "      <td>Toy Story (1995)</td>\n",
              "      <td>308</td>\n",
              "      <td>4</td>\n",
              "      <td>887736532</td>\n",
              "    </tr>\n",
              "    <tr>\n",
              "      <th>1</th>\n",
              "      <td>1</td>\n",
              "      <td>Toy Story (1995)</td>\n",
              "      <td>287</td>\n",
              "      <td>5</td>\n",
              "      <td>875334088</td>\n",
              "    </tr>\n",
              "    <tr>\n",
              "      <th>2</th>\n",
              "      <td>1</td>\n",
              "      <td>Toy Story (1995)</td>\n",
              "      <td>148</td>\n",
              "      <td>4</td>\n",
              "      <td>877019411</td>\n",
              "    </tr>\n",
              "    <tr>\n",
              "      <th>3</th>\n",
              "      <td>1</td>\n",
              "      <td>Toy Story (1995)</td>\n",
              "      <td>280</td>\n",
              "      <td>4</td>\n",
              "      <td>891700426</td>\n",
              "    </tr>\n",
              "    <tr>\n",
              "      <th>4</th>\n",
              "      <td>1</td>\n",
              "      <td>Toy Story (1995)</td>\n",
              "      <td>66</td>\n",
              "      <td>3</td>\n",
              "      <td>883601324</td>\n",
              "    </tr>\n",
              "  </tbody>\n",
              "</table>\n",
              "</div>\n",
              "      <button class=\"colab-df-convert\" onclick=\"convertToInteractive('df-1583a8ea-af75-4a48-8bf3-cd18f0bfbd1f')\"\n",
              "              title=\"Convert this dataframe to an interactive table.\"\n",
              "              style=\"display:none;\">\n",
              "        \n",
              "  <svg xmlns=\"http://www.w3.org/2000/svg\" height=\"24px\"viewBox=\"0 0 24 24\"\n",
              "       width=\"24px\">\n",
              "    <path d=\"M0 0h24v24H0V0z\" fill=\"none\"/>\n",
              "    <path d=\"M18.56 5.44l.94 2.06.94-2.06 2.06-.94-2.06-.94-.94-2.06-.94 2.06-2.06.94zm-11 1L8.5 8.5l.94-2.06 2.06-.94-2.06-.94L8.5 2.5l-.94 2.06-2.06.94zm10 10l.94 2.06.94-2.06 2.06-.94-2.06-.94-.94-2.06-.94 2.06-2.06.94z\"/><path d=\"M17.41 7.96l-1.37-1.37c-.4-.4-.92-.59-1.43-.59-.52 0-1.04.2-1.43.59L10.3 9.45l-7.72 7.72c-.78.78-.78 2.05 0 2.83L4 21.41c.39.39.9.59 1.41.59.51 0 1.02-.2 1.41-.59l7.78-7.78 2.81-2.81c.8-.78.8-2.07 0-2.86zM5.41 20L4 18.59l7.72-7.72 1.47 1.35L5.41 20z\"/>\n",
              "  </svg>\n",
              "      </button>\n",
              "      \n",
              "  <style>\n",
              "    .colab-df-container {\n",
              "      display:flex;\n",
              "      flex-wrap:wrap;\n",
              "      gap: 12px;\n",
              "    }\n",
              "\n",
              "    .colab-df-convert {\n",
              "      background-color: #E8F0FE;\n",
              "      border: none;\n",
              "      border-radius: 50%;\n",
              "      cursor: pointer;\n",
              "      display: none;\n",
              "      fill: #1967D2;\n",
              "      height: 32px;\n",
              "      padding: 0 0 0 0;\n",
              "      width: 32px;\n",
              "    }\n",
              "\n",
              "    .colab-df-convert:hover {\n",
              "      background-color: #E2EBFA;\n",
              "      box-shadow: 0px 1px 2px rgba(60, 64, 67, 0.3), 0px 1px 3px 1px rgba(60, 64, 67, 0.15);\n",
              "      fill: #174EA6;\n",
              "    }\n",
              "\n",
              "    [theme=dark] .colab-df-convert {\n",
              "      background-color: #3B4455;\n",
              "      fill: #D2E3FC;\n",
              "    }\n",
              "\n",
              "    [theme=dark] .colab-df-convert:hover {\n",
              "      background-color: #434B5C;\n",
              "      box-shadow: 0px 1px 3px 1px rgba(0, 0, 0, 0.15);\n",
              "      filter: drop-shadow(0px 1px 2px rgba(0, 0, 0, 0.3));\n",
              "      fill: #FFFFFF;\n",
              "    }\n",
              "  </style>\n",
              "\n",
              "      <script>\n",
              "        const buttonEl =\n",
              "          document.querySelector('#df-1583a8ea-af75-4a48-8bf3-cd18f0bfbd1f button.colab-df-convert');\n",
              "        buttonEl.style.display =\n",
              "          google.colab.kernel.accessAllowed ? 'block' : 'none';\n",
              "\n",
              "        async function convertToInteractive(key) {\n",
              "          const element = document.querySelector('#df-1583a8ea-af75-4a48-8bf3-cd18f0bfbd1f');\n",
              "          const dataTable =\n",
              "            await google.colab.kernel.invokeFunction('convertToInteractive',\n",
              "                                                     [key], {});\n",
              "          if (!dataTable) return;\n",
              "\n",
              "          const docLinkHtml = 'Like what you see? Visit the ' +\n",
              "            '<a target=\"_blank\" href=https://colab.research.google.com/notebooks/data_table.ipynb>data table notebook</a>'\n",
              "            + ' to learn more about interactive tables.';\n",
              "          element.innerHTML = '';\n",
              "          dataTable['output_type'] = 'display_data';\n",
              "          await google.colab.output.renderOutput(dataTable, element);\n",
              "          const docLink = document.createElement('div');\n",
              "          docLink.innerHTML = docLinkHtml;\n",
              "          element.appendChild(docLink);\n",
              "        }\n",
              "      </script>\n",
              "    </div>\n",
              "  </div>\n",
              "  "
            ],
            "text/plain": [
              "   movie_id             title  user_id  rating  timestamp\n",
              "0         1  Toy Story (1995)      308       4  887736532\n",
              "1         1  Toy Story (1995)      287       5  875334088\n",
              "2         1  Toy Story (1995)      148       4  877019411\n",
              "3         1  Toy Story (1995)      280       4  891700426\n",
              "4         1  Toy Story (1995)       66       3  883601324"
            ]
          },
          "execution_count": 53,
          "metadata": {},
          "output_type": "execute_result"
        }
      ],
      "source": [
        "# Merge \"movies\" and \"ratings\" (inner join on \"movie_id\").\n",
        "movie_ratings = pd.merge(movies, ratings)\n",
        "movie_ratings.head()"
      ]
    },
    {
      "cell_type": "code",
      "execution_count": null,
      "metadata": {
        "id": "KGMHRN_Vyg_L",
        "outputId": "fbef3710-a8f2-40c5-e756-a058d28a84ba"
      },
      "outputs": [
        {
          "name": "stdout",
          "output_type": "stream",
          "text": [
            "(1682, 2)\n",
            "(100000, 4)\n",
            "(100000, 5)\n"
          ]
        }
      ],
      "source": [
        "print(movies.shape)\n",
        "print(ratings.shape)\n",
        "print(movie_ratings.shape)"
      ]
    },
    {
      "cell_type": "markdown",
      "metadata": {
        "id": "tjBc3cHxyg_L"
      },
      "source": [
        "## How to export your file?"
      ]
    },
    {
      "cell_type": "code",
      "execution_count": null,
      "metadata": {
        "id": "RQtmWrhTyg_L"
      },
      "outputs": [],
      "source": [
        "movie_ratings.to_csv('./new_movies.csv')"
      ]
    },
    {
      "cell_type": "markdown",
      "metadata": {
        "id": "yX8mtyyOyg_L"
      },
      "source": [
        "### More Details about Merging \n",
        "https://pandas.pydata.org/pandas-docs/stable/user_guide/merging.html"
      ]
    },
    {
      "cell_type": "markdown",
      "metadata": {
        "id": "JhelVCbhyg_M"
      },
      "source": [
        "## Pandas CheatSheet\n",
        "https://pandas.pydata.org/Pandas_Cheat_Sheet.pdf"
      ]
    },
    {
      "cell_type": "markdown",
      "metadata": {
        "id": "JpXsR0ONyg_M"
      },
      "source": [
        "<a id=\"other-features\"></a>\n",
        "### OPTIONAL: Other Commonly Used Features"
      ]
    },
    {
      "cell_type": "code",
      "execution_count": null,
      "metadata": {
        "id": "7Ge6mYGuyg_M"
      },
      "outputs": [],
      "source": [
        "# Apply an arbitrary function to each value of a Pandas column, storing the result in a new column.\n",
        "users['under30'] = users.age.apply(lambda age: age < 30)"
      ]
    },
    {
      "cell_type": "code",
      "execution_count": null,
      "metadata": {
        "id": "AFGMdF7Oyg_M"
      },
      "outputs": [],
      "source": [
        "# Apply an arbitrary function to each row of a DataFrame, storing the result in a new column.\n",
        "#  (Remember that, by default, axis=0. Since we want to go row by row, we set axis=1.)\n",
        "users['under30male'] = users.apply(lambda row: row.age < 30 and row.gender == 'M', axis=1)"
      ]
    },
    {
      "cell_type": "code",
      "execution_count": null,
      "metadata": {
        "id": "LHlgQEx9yg_M"
      },
      "outputs": [],
      "source": [
        "# Map existing values to a different set of values.\n",
        "users['is_male'] = users.gender.map({'F':0, 'M':1})"
      ]
    },
    {
      "cell_type": "code",
      "execution_count": null,
      "metadata": {
        "id": "85l98yqmyg_M"
      },
      "outputs": [],
      "source": [
        "# Replace all instances of a value in a column (must match entire value).\n",
        "ufo.State.replace('Fl', 'FL', inplace=True)"
      ]
    },
    {
      "cell_type": "code",
      "execution_count": 102,
      "metadata": {
        "id": "JM9WYqsHyg_M",
        "outputId": "2e173d0a-edea-4c91-8be9-ad8ffaff1be0"
      },
      "outputs": [
        {
          "data": {
            "text/plain": [
              "0        False\n",
              "1        False\n",
              "2        False\n",
              "3        False\n",
              "4        False\n",
              "         ...  \n",
              "80538    False\n",
              "80539    False\n",
              "80540     True\n",
              "80541     True\n",
              "80542    False\n",
              "Name: Colors Reported, Length: 80543, dtype: object"
            ]
          },
          "execution_count": 102,
          "metadata": {},
          "output_type": "execute_result"
        }
      ],
      "source": [
        "# String methods are accessed via \"str\".\n",
        "ufo.State.str.upper()                               # Converts to upper case\n",
        "# checks for a substring\n",
        "ufo['Colors Reported'].str.contains('RED', na='False') "
      ]
    },
    {
      "cell_type": "code",
      "execution_count": null,
      "metadata": {
        "id": "_8qTHhK3yg_M",
        "outputId": "a9ac5b00-5f6f-4cfe-bb89-4aaccb70616b"
      },
      "outputs": [
        {
          "data": {
            "text/plain": [
              "30776"
            ]
          },
          "execution_count": 119,
          "metadata": {},
          "output_type": "execute_result"
        }
      ],
      "source": [
        "# Convert a string to the datetime format (this is often slow — consider doing it in the \"read_csv()\" method.)\n",
        "ufo['Time'] = pd.to_datetime(ufo.Time)\n",
        "ufo.Time.dt.hour                        # Datetime format exposes convenient attributes\n",
        "(ufo.Time.max() - ufo.Time.min()).days  # Also allows you to do datetime \"math\""
      ]
    },
    {
      "cell_type": "code",
      "execution_count": null,
      "metadata": {
        "id": "LiSOg0OWyg_M"
      },
      "outputs": [],
      "source": [
        "# Set and then remove an index.\n",
        "ufo.set_index('Time', inplace=True)\n",
        "ufo.reset_index(inplace=True)"
      ]
    },
    {
      "cell_type": "code",
      "execution_count": null,
      "metadata": {
        "id": "gtk7G7vzyg_N"
      },
      "outputs": [],
      "source": [
        "# Change the datatype of a column.\n",
        "drinks['beer'] = drinks.beer.astype('float')"
      ]
    },
    {
      "cell_type": "code",
      "execution_count": null,
      "metadata": {
        "id": "51c9d_j-yg_N"
      },
      "outputs": [],
      "source": [
        "# Create dummy variables for \"continent\" and exclude first dummy column.\n",
        "continent_dummies = pd.get_dummies(drinks.continent, prefix='cont').iloc[:, 1:]"
      ]
    },
    {
      "cell_type": "code",
      "execution_count": null,
      "metadata": {
        "id": "sj-lBvy_yg_N"
      },
      "outputs": [],
      "source": [
        "# Concatenate two DataFrames (axis=0 for rows, axis=1 for columns).\n",
        "drinks = pd.concat([drinks, continent_dummies], axis=1)"
      ]
    },
    {
      "cell_type": "markdown",
      "metadata": {
        "id": "ddECwxbqyg_N"
      },
      "source": [
        "<a id=\"uncommon-features\"></a>\n",
        "### OPTIONAL: Other Less-Used Features of Pandas"
      ]
    },
    {
      "cell_type": "code",
      "execution_count": null,
      "metadata": {
        "id": "Pv07NRusyg_N",
        "outputId": "214285fc-fe9f-46d6-b485-a60391e54273"
      },
      "outputs": [
        {
          "data": {
            "text/plain": [
              "13"
            ]
          },
          "execution_count": 124,
          "metadata": {},
          "output_type": "execute_result"
        }
      ],
      "source": [
        "# Detecting duplicate rows\n",
        "users.duplicated()          # True if a row is identical to a previous row\n",
        "users.duplicated().sum()    # Count of duplicates\n",
        "users[users.duplicated()]   # Only show duplicates\n",
        "users.drop_duplicates()     # Drop duplicate rows\n",
        "users.age.duplicated()      # Check a single column for duplicates\n",
        "users.duplicated(['age', 'gender', 'zip_code']).sum()   # Specify columns for finding duplicates"
      ]
    },
    {
      "cell_type": "code",
      "execution_count": 104,
      "metadata": {
        "id": "w_f8qZyeyg_N"
      },
      "outputs": [],
      "source": [
        "# Convert a range of values into descriptive groups.\n",
        "drinks['beer_level'] = 'low'    # Initially set all values to \"low\"\n",
        "drinks.loc[drinks.beer.between(101, 200), 'beer_level'] = 'med'     # Change 101-200 to \"med\"\n",
        "drinks.loc[drinks.beer.between(201, 400), 'beer_level'] = 'high'    # Change 201-400 to \"high\""
      ]
    },
    {
      "cell_type": "code",
      "execution_count": null,
      "metadata": {
        "id": "1_jTEk8Yyg_N",
        "outputId": "41066bd2-9af0-44db-b191-7919f5ea14f0"
      },
      "outputs": [
        {
          "data": {
            "text/html": [
              "<div>\n",
              "<style scoped>\n",
              "    .dataframe tbody tr th:only-of-type {\n",
              "        vertical-align: middle;\n",
              "    }\n",
              "\n",
              "    .dataframe tbody tr th {\n",
              "        vertical-align: top;\n",
              "    }\n",
              "\n",
              "    .dataframe thead th {\n",
              "        text-align: right;\n",
              "    }\n",
              "</style>\n",
              "<table border=\"1\" class=\"dataframe\">\n",
              "  <thead>\n",
              "    <tr style=\"text-align: right;\">\n",
              "      <th>beer_level</th>\n",
              "      <th>high</th>\n",
              "      <th>low</th>\n",
              "      <th>med</th>\n",
              "    </tr>\n",
              "    <tr>\n",
              "      <th>continent</th>\n",
              "      <th></th>\n",
              "      <th></th>\n",
              "      <th></th>\n",
              "    </tr>\n",
              "  </thead>\n",
              "  <tbody>\n",
              "    <tr>\n",
              "      <th>AF</th>\n",
              "      <td>4</td>\n",
              "      <td>45</td>\n",
              "      <td>4</td>\n",
              "    </tr>\n",
              "    <tr>\n",
              "      <th>AS</th>\n",
              "      <td>1</td>\n",
              "      <td>40</td>\n",
              "      <td>3</td>\n",
              "    </tr>\n",
              "    <tr>\n",
              "      <th>EU</th>\n",
              "      <td>24</td>\n",
              "      <td>9</td>\n",
              "      <td>12</td>\n",
              "    </tr>\n",
              "    <tr>\n",
              "      <th>NA</th>\n",
              "      <td>5</td>\n",
              "      <td>8</td>\n",
              "      <td>10</td>\n",
              "    </tr>\n",
              "    <tr>\n",
              "      <th>OC</th>\n",
              "      <td>3</td>\n",
              "      <td>11</td>\n",
              "      <td>2</td>\n",
              "    </tr>\n",
              "    <tr>\n",
              "      <th>SA</th>\n",
              "      <td>3</td>\n",
              "      <td>1</td>\n",
              "      <td>8</td>\n",
              "    </tr>\n",
              "  </tbody>\n",
              "</table>\n",
              "</div>"
            ],
            "text/plain": [
              "beer_level  high  low  med\n",
              "continent                 \n",
              "AF             4   45    4\n",
              "AS             1   40    3\n",
              "EU            24    9   12\n",
              "NA             5    8   10\n",
              "OC             3   11    2\n",
              "SA             3    1    8"
            ]
          },
          "execution_count": 126,
          "metadata": {},
          "output_type": "execute_result"
        }
      ],
      "source": [
        "# Display a cross-tabulation of two Series.\n",
        "pd.crosstab(drinks.continent, drinks.beer_level)"
      ]
    },
    {
      "cell_type": "code",
      "execution_count": 105,
      "metadata": {
        "id": "-nasLnP4yg_N",
        "outputId": "cfc7d60c-f150-4848-88bb-e76108d27155"
      },
      "outputs": [
        {
          "data": {
            "text/html": [
              "<div>\n",
              "<style scoped>\n",
              "    .dataframe tbody tr th:only-of-type {\n",
              "        vertical-align: middle;\n",
              "    }\n",
              "\n",
              "    .dataframe tbody tr th {\n",
              "        vertical-align: top;\n",
              "    }\n",
              "\n",
              "    .dataframe thead th {\n",
              "        text-align: right;\n",
              "    }\n",
              "</style>\n",
              "<table border=\"1\" class=\"dataframe\">\n",
              "  <thead>\n",
              "    <tr style=\"text-align: right;\">\n",
              "      <th></th>\n",
              "      <th>country</th>\n",
              "      <th>beer</th>\n",
              "      <th>spirit</th>\n",
              "      <th>wine</th>\n",
              "      <th>liters</th>\n",
              "      <th>continent</th>\n",
              "      <th>beer_level</th>\n",
              "    </tr>\n",
              "  </thead>\n",
              "  <tbody>\n",
              "    <tr>\n",
              "      <th>0</th>\n",
              "      <td>Afghanistan</td>\n",
              "      <td>0</td>\n",
              "      <td>0</td>\n",
              "      <td>0</td>\n",
              "      <td>0.0</td>\n",
              "      <td>AS</td>\n",
              "      <td>low</td>\n",
              "    </tr>\n",
              "    <tr>\n",
              "      <th>102</th>\n",
              "      <td>Malaysia</td>\n",
              "      <td>13</td>\n",
              "      <td>4</td>\n",
              "      <td>0</td>\n",
              "      <td>0.3</td>\n",
              "      <td>AS</td>\n",
              "      <td>low</td>\n",
              "    </tr>\n",
              "    <tr>\n",
              "      <th>103</th>\n",
              "      <td>Maldives</td>\n",
              "      <td>0</td>\n",
              "      <td>0</td>\n",
              "      <td>0</td>\n",
              "      <td>0.0</td>\n",
              "      <td>AS</td>\n",
              "      <td>low</td>\n",
              "    </tr>\n",
              "    <tr>\n",
              "      <th>104</th>\n",
              "      <td>Mali</td>\n",
              "      <td>5</td>\n",
              "      <td>1</td>\n",
              "      <td>1</td>\n",
              "      <td>0.6</td>\n",
              "      <td>AF</td>\n",
              "      <td>low</td>\n",
              "    </tr>\n",
              "    <tr>\n",
              "      <th>106</th>\n",
              "      <td>Marshall Islands</td>\n",
              "      <td>0</td>\n",
              "      <td>0</td>\n",
              "      <td>0</td>\n",
              "      <td>0.0</td>\n",
              "      <td>OC</td>\n",
              "      <td>low</td>\n",
              "    </tr>\n",
              "    <tr>\n",
              "      <th>...</th>\n",
              "      <td>...</td>\n",
              "      <td>...</td>\n",
              "      <td>...</td>\n",
              "      <td>...</td>\n",
              "      <td>...</td>\n",
              "      <td>...</td>\n",
              "      <td>...</td>\n",
              "    </tr>\n",
              "    <tr>\n",
              "      <th>17</th>\n",
              "      <td>Belize</td>\n",
              "      <td>263</td>\n",
              "      <td>114</td>\n",
              "      <td>8</td>\n",
              "      <td>6.8</td>\n",
              "      <td>NA</td>\n",
              "      <td>high</td>\n",
              "    </tr>\n",
              "    <tr>\n",
              "      <th>121</th>\n",
              "      <td>New Zealand</td>\n",
              "      <td>203</td>\n",
              "      <td>79</td>\n",
              "      <td>175</td>\n",
              "      <td>9.3</td>\n",
              "      <td>OC</td>\n",
              "      <td>high</td>\n",
              "    </tr>\n",
              "    <tr>\n",
              "      <th>16</th>\n",
              "      <td>Belgium</td>\n",
              "      <td>295</td>\n",
              "      <td>84</td>\n",
              "      <td>212</td>\n",
              "      <td>10.5</td>\n",
              "      <td>EU</td>\n",
              "      <td>high</td>\n",
              "    </tr>\n",
              "    <tr>\n",
              "      <th>117</th>\n",
              "      <td>Namibia</td>\n",
              "      <td>376</td>\n",
              "      <td>3</td>\n",
              "      <td>1</td>\n",
              "      <td>6.8</td>\n",
              "      <td>AF</td>\n",
              "      <td>high</td>\n",
              "    </tr>\n",
              "    <tr>\n",
              "      <th>120</th>\n",
              "      <td>Netherlands</td>\n",
              "      <td>251</td>\n",
              "      <td>88</td>\n",
              "      <td>190</td>\n",
              "      <td>9.4</td>\n",
              "      <td>EU</td>\n",
              "      <td>high</td>\n",
              "    </tr>\n",
              "  </tbody>\n",
              "</table>\n",
              "<p>193 rows × 7 columns</p>\n",
              "</div>"
            ],
            "text/plain": [
              "              country  beer  spirit  wine  liters continent beer_level\n",
              "0         Afghanistan     0       0     0     0.0        AS        low\n",
              "102          Malaysia    13       4     0     0.3        AS        low\n",
              "103          Maldives     0       0     0     0.0        AS        low\n",
              "104              Mali     5       1     1     0.6        AF        low\n",
              "106  Marshall Islands     0       0     0     0.0        OC        low\n",
              "..                ...   ...     ...   ...     ...       ...        ...\n",
              "17             Belize   263     114     8     6.8        NA       high\n",
              "121       New Zealand   203      79   175     9.3        OC       high\n",
              "16            Belgium   295      84   212    10.5        EU       high\n",
              "117           Namibia   376       3     1     6.8        AF       high\n",
              "120       Netherlands   251      88   190     9.4        EU       high\n",
              "\n",
              "[193 rows x 7 columns]"
            ]
          },
          "execution_count": 105,
          "metadata": {},
          "output_type": "execute_result"
        }
      ],
      "source": [
        "# Convert \"beer_level\" into the \"category\" datatype.\n",
        "drinks['beer_level'] = pd.Categorical(drinks.beer_level, categories=['low', 'med', 'high'])\n",
        "drinks.sort_values('beer_level')   # Sorts by the categorical ordering (low to high)"
      ]
    },
    {
      "cell_type": "code",
      "execution_count": 106,
      "metadata": {
        "id": "SHFwSa9Byg_N",
        "outputId": "7930d1d4-80d1-4818-afd9-dd411e2114d6"
      },
      "outputs": [
        {
          "data": {
            "text/html": [
              "<div>\n",
              "<style scoped>\n",
              "    .dataframe tbody tr th:only-of-type {\n",
              "        vertical-align: middle;\n",
              "    }\n",
              "\n",
              "    .dataframe tbody tr th {\n",
              "        vertical-align: top;\n",
              "    }\n",
              "\n",
              "    .dataframe thead th {\n",
              "        text-align: right;\n",
              "    }\n",
              "</style>\n",
              "<table border=\"1\" class=\"dataframe\">\n",
              "  <thead>\n",
              "    <tr style=\"text-align: right;\">\n",
              "      <th></th>\n",
              "      <th>country</th>\n",
              "      <th>beer_servings</th>\n",
              "      <th>spirit_servings</th>\n",
              "      <th>wine_servings</th>\n",
              "      <th>total_litres_of_pure_alcohol</th>\n",
              "      <th>continent</th>\n",
              "    </tr>\n",
              "  </thead>\n",
              "  <tbody>\n",
              "    <tr>\n",
              "      <th>0</th>\n",
              "      <td>Algeria</td>\n",
              "      <td>25</td>\n",
              "      <td>0</td>\n",
              "      <td>14</td>\n",
              "      <td>0.7</td>\n",
              "      <td>AF</td>\n",
              "    </tr>\n",
              "    <tr>\n",
              "      <th>1</th>\n",
              "      <td>Andorra</td>\n",
              "      <td>245</td>\n",
              "      <td>138</td>\n",
              "      <td>312</td>\n",
              "      <td>12.4</td>\n",
              "      <td>EU</td>\n",
              "    </tr>\n",
              "    <tr>\n",
              "      <th>2</th>\n",
              "      <td>Angola</td>\n",
              "      <td>217</td>\n",
              "      <td>57</td>\n",
              "      <td>45</td>\n",
              "      <td>5.9</td>\n",
              "      <td>AF</td>\n",
              "    </tr>\n",
              "    <tr>\n",
              "      <th>3</th>\n",
              "      <td>Antigua &amp; Barbuda</td>\n",
              "      <td>102</td>\n",
              "      <td>128</td>\n",
              "      <td>45</td>\n",
              "      <td>4.9</td>\n",
              "      <td>NaN</td>\n",
              "    </tr>\n",
              "    <tr>\n",
              "      <th>4</th>\n",
              "      <td>Argentina</td>\n",
              "      <td>193</td>\n",
              "      <td>25</td>\n",
              "      <td>221</td>\n",
              "      <td>8.3</td>\n",
              "      <td>SA</td>\n",
              "    </tr>\n",
              "    <tr>\n",
              "      <th>...</th>\n",
              "      <td>...</td>\n",
              "      <td>...</td>\n",
              "      <td>...</td>\n",
              "      <td>...</td>\n",
              "      <td>...</td>\n",
              "      <td>...</td>\n",
              "    </tr>\n",
              "    <tr>\n",
              "      <th>186</th>\n",
              "      <td>Venezuela</td>\n",
              "      <td>333</td>\n",
              "      <td>100</td>\n",
              "      <td>3</td>\n",
              "      <td>7.7</td>\n",
              "      <td>SA</td>\n",
              "    </tr>\n",
              "    <tr>\n",
              "      <th>187</th>\n",
              "      <td>Vietnam</td>\n",
              "      <td>111</td>\n",
              "      <td>2</td>\n",
              "      <td>1</td>\n",
              "      <td>2.0</td>\n",
              "      <td>AS</td>\n",
              "    </tr>\n",
              "    <tr>\n",
              "      <th>188</th>\n",
              "      <td>Yemen</td>\n",
              "      <td>6</td>\n",
              "      <td>0</td>\n",
              "      <td>0</td>\n",
              "      <td>0.1</td>\n",
              "      <td>AS</td>\n",
              "    </tr>\n",
              "    <tr>\n",
              "      <th>189</th>\n",
              "      <td>Zambia</td>\n",
              "      <td>32</td>\n",
              "      <td>19</td>\n",
              "      <td>4</td>\n",
              "      <td>2.5</td>\n",
              "      <td>AF</td>\n",
              "    </tr>\n",
              "    <tr>\n",
              "      <th>190</th>\n",
              "      <td>Zimbabwe</td>\n",
              "      <td>64</td>\n",
              "      <td>18</td>\n",
              "      <td>4</td>\n",
              "      <td>4.7</td>\n",
              "      <td>AF</td>\n",
              "    </tr>\n",
              "  </tbody>\n",
              "</table>\n",
              "<p>191 rows × 6 columns</p>\n",
              "</div>"
            ],
            "text/plain": [
              "               country  beer_servings  spirit_servings  wine_servings  \\\n",
              "0              Algeria             25                0             14   \n",
              "1              Andorra            245              138            312   \n",
              "2               Angola            217               57             45   \n",
              "3    Antigua & Barbuda            102              128             45   \n",
              "4            Argentina            193               25            221   \n",
              "..                 ...            ...              ...            ...   \n",
              "186          Venezuela            333              100              3   \n",
              "187            Vietnam            111                2              1   \n",
              "188              Yemen              6                0              0   \n",
              "189             Zambia             32               19              4   \n",
              "190           Zimbabwe             64               18              4   \n",
              "\n",
              "     total_litres_of_pure_alcohol continent  \n",
              "0                             0.7        AF  \n",
              "1                            12.4        EU  \n",
              "2                             5.9        AF  \n",
              "3                             4.9       NaN  \n",
              "4                             8.3        SA  \n",
              "..                            ...       ...  \n",
              "186                           7.7        SA  \n",
              "187                           2.0        AS  \n",
              "188                           0.1        AS  \n",
              "189                           2.5        AF  \n",
              "190                           4.7        AF  \n",
              "\n",
              "[191 rows x 6 columns]"
            ]
          },
          "execution_count": 106,
          "metadata": {},
          "output_type": "execute_result"
        }
      ],
      "source": [
        "# Limit which rows are read when reading in a file — useful for large files!\n",
        "pd.read_csv('https://alik-courses.web.app/intro-to-ai/intro-to-pandas/data/drinks.csv', nrows=10)           # Only read first 10 rows\n",
        "pd.read_csv('https://alik-courses.web.app/intro-to-ai/intro-to-pandas/data/drinks.csv', skiprows=[1, 2])    # Skip the first two rows of data"
      ]
    },
    {
      "cell_type": "code",
      "execution_count": null,
      "metadata": {
        "id": "bi9FegOXyg_O"
      },
      "outputs": [],
      "source": [
        "# Write a DataFrame out to a .csv\n",
        "drinks.to_csv('drinks_updated.csv')                 # Index is used as first column\n",
        "drinks.to_csv('drinks_updated.csv', index=False)    # Ignore index"
      ]
    },
    {
      "cell_type": "code",
      "execution_count": null,
      "metadata": {
        "id": "XOQRe69nyg_O",
        "outputId": "0711e8f8-8695-4272-8a0f-086fca8e0db1"
      },
      "outputs": [
        {
          "data": {
            "text/html": [
              "<div>\n",
              "<style scoped>\n",
              "    .dataframe tbody tr th:only-of-type {\n",
              "        vertical-align: middle;\n",
              "    }\n",
              "\n",
              "    .dataframe tbody tr th {\n",
              "        vertical-align: top;\n",
              "    }\n",
              "\n",
              "    .dataframe thead th {\n",
              "        text-align: right;\n",
              "    }\n",
              "</style>\n",
              "<table border=\"1\" class=\"dataframe\">\n",
              "  <thead>\n",
              "    <tr style=\"text-align: right;\">\n",
              "      <th></th>\n",
              "      <th>capital</th>\n",
              "      <th>state</th>\n",
              "    </tr>\n",
              "  </thead>\n",
              "  <tbody>\n",
              "    <tr>\n",
              "      <th>0</th>\n",
              "      <td>Montgomery</td>\n",
              "      <td>AL</td>\n",
              "    </tr>\n",
              "    <tr>\n",
              "      <th>1</th>\n",
              "      <td>Juneau</td>\n",
              "      <td>AK</td>\n",
              "    </tr>\n",
              "    <tr>\n",
              "      <th>2</th>\n",
              "      <td>Phoenix</td>\n",
              "      <td>AZ</td>\n",
              "    </tr>\n",
              "  </tbody>\n",
              "</table>\n",
              "</div>"
            ],
            "text/plain": [
              "      capital state\n",
              "0  Montgomery    AL\n",
              "1      Juneau    AK\n",
              "2     Phoenix    AZ"
            ]
          },
          "execution_count": 130,
          "metadata": {},
          "output_type": "execute_result"
        }
      ],
      "source": [
        "# Create a DataFrame from a dictionary.\n",
        "pd.DataFrame({'capital':['Montgomery', 'Juneau', 'Phoenix'], 'state':['AL', 'AK', 'AZ']})"
      ]
    },
    {
      "cell_type": "code",
      "execution_count": null,
      "metadata": {
        "id": "YicfUbXgyg_O",
        "outputId": "024c05a6-5f83-4c64-827c-bbd48e80558b"
      },
      "outputs": [
        {
          "data": {
            "text/html": [
              "<div>\n",
              "<style scoped>\n",
              "    .dataframe tbody tr th:only-of-type {\n",
              "        vertical-align: middle;\n",
              "    }\n",
              "\n",
              "    .dataframe tbody tr th {\n",
              "        vertical-align: top;\n",
              "    }\n",
              "\n",
              "    .dataframe thead th {\n",
              "        text-align: right;\n",
              "    }\n",
              "</style>\n",
              "<table border=\"1\" class=\"dataframe\">\n",
              "  <thead>\n",
              "    <tr style=\"text-align: right;\">\n",
              "      <th></th>\n",
              "      <th>capital</th>\n",
              "      <th>state</th>\n",
              "    </tr>\n",
              "  </thead>\n",
              "  <tbody>\n",
              "    <tr>\n",
              "      <th>0</th>\n",
              "      <td>Montgomery</td>\n",
              "      <td>AL</td>\n",
              "    </tr>\n",
              "    <tr>\n",
              "      <th>1</th>\n",
              "      <td>Juneau</td>\n",
              "      <td>AK</td>\n",
              "    </tr>\n",
              "    <tr>\n",
              "      <th>2</th>\n",
              "      <td>Phoenix</td>\n",
              "      <td>AZ</td>\n",
              "    </tr>\n",
              "  </tbody>\n",
              "</table>\n",
              "</div>"
            ],
            "text/plain": [
              "      capital state\n",
              "0  Montgomery    AL\n",
              "1      Juneau    AK\n",
              "2     Phoenix    AZ"
            ]
          },
          "execution_count": 131,
          "metadata": {},
          "output_type": "execute_result"
        }
      ],
      "source": [
        "# Create a DataFrame from a list of lists.\n",
        "pd.DataFrame([['Montgomery', 'AL'], ['Juneau', 'AK'], ['Phoenix', 'AZ']], columns=['capital', 'state'])"
      ]
    },
    {
      "cell_type": "code",
      "execution_count": null,
      "metadata": {
        "id": "OvDsdsgyyg_O"
      },
      "outputs": [],
      "source": [
        "# Randomly sample a DataFrame.\n",
        "import numpy as np\n",
        "mask = np.random.rand(len(drinks)) < 0.66   # Create a Series of Booleans\n",
        "train = drinks[mask]                        # Will contain around 66% of the rows\n",
        "test = drinks[~mask]                        # Will contain the remaining rows"
      ]
    },
    {
      "cell_type": "code",
      "execution_count": null,
      "metadata": {
        "colab": {
          "base_uri": "https://localhost:8080/"
        },
        "id": "yB1nNBLQyg_O",
        "outputId": "feeccc03-742d-4eca-e0aa-9f726f502c32"
      },
      "outputs": [
        {
          "name": "stdout",
          "output_type": "stream",
          "text": [
            "                          country  beer  spirit  wine  liters continent\n",
            "0                     Afghanistan     0       0     0     0.0        AS\n",
            "1                         Albania    89     132    54     4.9        EU\n",
            "2                         Algeria    25       0    14     0.7        AF\n",
            "3                         Andorra   245     138   312    12.4        EU\n",
            "4                          Angola   217      57    45     5.9        AF\n",
            "5               Antigua & Barbuda   102     128    45     4.9       NaN\n",
            "6                       Argentina   193      25   221     8.3        SA\n",
            "7                         Armenia    21     179    11     3.8        EU\n",
            "8                       Australia   261      72   212    10.4        OC\n",
            "9                         Austria   279      75   191     9.7        EU\n",
            "10                     Azerbaijan    21      46     5     1.3        EU\n",
            "11                        Bahamas   122     176    51     6.3       NaN\n",
            "12                        Bahrain    42      63     7     2.0        AS\n",
            "13                     Bangladesh     0       0     0     0.0        AS\n",
            "14                       Barbados   143     173    36     6.3       NaN\n",
            "15                        Belarus   142     373    42    14.4        EU\n",
            "16                        Belgium   295      84   212    10.5        EU\n",
            "17                         Belize   263     114     8     6.8       NaN\n",
            "18                          Benin    34       4    13     1.1        AF\n",
            "19                         Bhutan    23       0     0     0.4        AS\n",
            "20                        Bolivia   167      41     8     3.8        SA\n",
            "21             Bosnia-Herzegovina    76     173     8     4.6        EU\n",
            "22                       Botswana   173      35    35     5.4        AF\n",
            "23                         Brazil   245     145    16     7.2        SA\n",
            "24                         Brunei    31       2     1     0.6        AS\n",
            "25                       Bulgaria   231     252    94    10.3        EU\n",
            "26                   Burkina Faso    25       7     7     4.3        AF\n",
            "27                        Burundi    88       0     0     6.3        AF\n",
            "28                  Cote d'Ivoire    37       1     7     4.0        AF\n",
            "29                     Cabo Verde   144      56    16     4.0        AF\n",
            "30                       Cambodia    57      65     1     2.2        AS\n",
            "31                       Cameroon   147       1     4     5.8        AF\n",
            "32                         Canada   240     122   100     8.2       NaN\n",
            "33       Central African Republic    17       2     1     1.8        AF\n",
            "34                           Chad    15       1     1     0.4        AF\n",
            "35                          Chile   130     124   172     7.6        SA\n",
            "36                          China    79     192     8     5.0        AS\n",
            "37                       Colombia   159      76     3     4.2        SA\n",
            "38                        Comoros     1       3     1     0.1        AF\n",
            "39                          Congo    76       1     9     1.7        AF\n",
            "40                   Cook Islands     0     254    74     5.9        OC\n",
            "41                     Costa Rica   149      87    11     4.4       NaN\n",
            "42                        Croatia   230      87   254    10.2        EU\n",
            "43                           Cuba    93     137     5     4.2       NaN\n",
            "44                         Cyprus   192     154   113     8.2        EU\n",
            "45                 Czech Republic   361     170   134    11.8        EU\n",
            "46                    North Korea     0       0     0     0.0        AS\n",
            "47                       DR Congo    32       3     1     2.3        AF\n",
            "48                        Denmark   224      81   278    10.4        EU\n",
            "49                       Djibouti    15      44     3     1.1        AF\n",
            "50                       Dominica    52     286    26     6.6       NaN\n",
            "51             Dominican Republic   193     147     9     6.2       NaN\n",
            "52                        Ecuador   162      74     3     4.2        SA\n",
            "53                          Egypt     6       4     1     0.2        AF\n",
            "54                    El Salvador    52      69     2     2.2       NaN\n",
            "55              Equatorial Guinea    92       0   233     5.8        AF\n",
            "56                        Eritrea    18       0     0     0.5        AF\n",
            "57                        Estonia   224     194    59     9.5        EU\n",
            "58                       Ethiopia    20       3     0     0.7        AF\n",
            "59                           Fiji    77      35     1     2.0        OC\n",
            "60                        Finland   263     133    97    10.0        EU\n",
            "61                         France   127     151   370    11.8        EU\n",
            "62                          Gabon   347      98    59     8.9        AF\n",
            "63                         Gambia     8       0     1     2.4        AF\n",
            "64                        Georgia    52     100   149     5.4        EU\n",
            "65                        Germany   346     117   175    11.3        EU\n",
            "66                          Ghana    31       3    10     1.8        AF\n",
            "67                         Greece   133     112   218     8.3        EU\n",
            "68                        Grenada   199     438    28    11.9       NaN\n",
            "69                      Guatemala    53      69     2     2.2       NaN\n",
            "70                         Guinea     9       0     2     0.2        AF\n",
            "71                  Guinea-Bissau    28      31    21     2.5        AF\n",
            "72                         Guyana    93     302     1     7.1        SA\n",
            "73                          Haiti     1     326     1     5.9       NaN\n",
            "74                       Honduras    69      98     2     3.0       NaN\n",
            "75                        Hungary   234     215   185    11.3        EU\n",
            "76                        Iceland   233      61    78     6.6        EU\n",
            "77                          India     9     114     0     2.2        AS\n",
            "78                      Indonesia     5       1     0     0.1        AS\n",
            "79                           Iran     0       0     0     0.0        AS\n",
            "80                           Iraq     9       3     0     0.2        AS\n",
            "81                        Ireland   313     118   165    11.4        EU\n",
            "82                         Israel    63      69     9     2.5        AS\n",
            "83                          Italy    85      42   237     6.5        EU\n",
            "84                        Jamaica    82      97     9     3.4       NaN\n",
            "85                          Japan    77     202    16     7.0        AS\n",
            "86                         Jordan     6      21     1     0.5        AS\n",
            "87                     Kazakhstan   124     246    12     6.8        AS\n",
            "88                          Kenya    58      22     2     1.8        AF\n",
            "89                       Kiribati    21      34     1     1.0        OC\n",
            "90                         Kuwait     0       0     0     0.0        AS\n",
            "91                     Kyrgyzstan    31      97     6     2.4        AS\n",
            "92                           Laos    62       0   123     6.2        AS\n",
            "93                         Latvia   281     216    62    10.5        EU\n",
            "94                        Lebanon    20      55    31     1.9        AS\n",
            "95                        Lesotho    82      29     0     2.8        AF\n",
            "96                        Liberia    19     152     2     3.1        AF\n",
            "97                          Libya     0       0     0     0.0        AF\n",
            "98                      Lithuania   343     244    56    12.9        EU\n",
            "99                     Luxembourg   236     133   271    11.4        EU\n",
            "100                    Madagascar    26      15     4     0.8        AF\n",
            "101                        Malawi     8      11     1     1.5        AF\n",
            "102                      Malaysia    13       4     0     0.3        AS\n",
            "103                      Maldives     0       0     0     0.0        AS\n",
            "104                          Mali     5       1     1     0.6        AF\n",
            "105                         Malta   149     100   120     6.6        EU\n",
            "106              Marshall Islands     0       0     0     0.0        OC\n",
            "107                    Mauritania     0       0     0     0.0        AF\n",
            "108                     Mauritius    98      31    18     2.6        AF\n",
            "109                        Mexico   238      68     5     5.5       NaN\n",
            "110                    Micronesia    62      50    18     2.3        OC\n",
            "111                        Monaco     0       0     0     0.0        EU\n",
            "112                      Mongolia    77     189     8     4.9        AS\n",
            "113                    Montenegro    31     114   128     4.9        EU\n",
            "114                       Morocco    12       6    10     0.5        AF\n",
            "115                    Mozambique    47      18     5     1.3        AF\n",
            "116                       Myanmar     5       1     0     0.1        AS\n",
            "117                       Namibia   376       3     1     6.8        AF\n",
            "118                         Nauru    49       0     8     1.0        OC\n",
            "119                         Nepal     5       6     0     0.2        AS\n",
            "120                   Netherlands   251      88   190     9.4        EU\n",
            "121                   New Zealand   203      79   175     9.3        OC\n",
            "122                     Nicaragua    78     118     1     3.5       NaN\n",
            "123                         Niger     3       2     1     0.1        AF\n",
            "124                       Nigeria    42       5     2     9.1        AF\n",
            "125                          Niue   188     200     7     7.0        OC\n",
            "126                        Norway   169      71   129     6.7        EU\n",
            "127                          Oman    22      16     1     0.7        AS\n",
            "128                      Pakistan     0       0     0     0.0        AS\n",
            "129                         Palau   306      63    23     6.9        OC\n",
            "130                        Panama   285     104    18     7.2       NaN\n",
            "131              Papua New Guinea    44      39     1     1.5        OC\n",
            "132                      Paraguay   213     117    74     7.3        SA\n",
            "133                          Peru   163     160    21     6.1        SA\n",
            "134                   Philippines    71     186     1     4.6        AS\n",
            "135                        Poland   343     215    56    10.9        EU\n",
            "136                      Portugal   194      67   339    11.0        EU\n",
            "137                         Qatar     1      42     7     0.9        AS\n",
            "138                   South Korea   140      16     9     9.8        AS\n",
            "139                       Moldova   109     226    18     6.3        EU\n",
            "140                       Romania   297     122   167    10.4        EU\n",
            "141            Russian Federation   247     326    73    11.5        AS\n",
            "142                        Rwanda    43       2     0     6.8        AF\n",
            "143             St. Kitts & Nevis   194     205    32     7.7       NaN\n",
            "144                     St. Lucia   171     315    71    10.1       NaN\n",
            "145  St. Vincent & the Grenadines   120     221    11     6.3       NaN\n",
            "146                         Samoa   105      18    24     2.6        OC\n",
            "147                    San Marino     0       0     0     0.0        EU\n",
            "148           Sao Tome & Principe    56      38   140     4.2        AF\n",
            "149                  Saudi Arabia     0       5     0     0.1        AS\n",
            "150                       Senegal     9       1     7     0.3        AF\n",
            "151                        Serbia   283     131   127     9.6        EU\n",
            "152                    Seychelles   157      25    51     4.1        AF\n",
            "153                  Sierra Leone    25       3     2     6.7        AF\n",
            "154                     Singapore    60      12    11     1.5        AS\n",
            "155                      Slovakia   196     293   116    11.4        EU\n",
            "156                      Slovenia   270      51   276    10.6        EU\n",
            "157               Solomon Islands    56      11     1     1.2        OC\n",
            "158                       Somalia     0       0     0     0.0        AF\n",
            "159                  South Africa   225      76    81     8.2        AF\n",
            "160                         Spain   284     157   112    10.0        EU\n",
            "161                     Sri Lanka    16     104     0     2.2        AS\n",
            "162                         Sudan     8      13     0     1.7        AF\n",
            "163                      Suriname   128     178     7     5.6        SA\n",
            "164                     Swaziland    90       2     2     4.7        AF\n",
            "165                        Sweden   152      60   186     7.2        EU\n",
            "166                   Switzerland   185     100   280    10.2        EU\n",
            "167                         Syria     5      35    16     1.0        AS\n",
            "168                    Tajikistan     2      15     0     0.3        AS\n",
            "169                      Thailand    99     258     1     6.4        AS\n",
            "170                     Macedonia   106      27    86     3.9        EU\n",
            "171                   Timor-Leste     1       1     4     0.1        AS\n",
            "172                          Togo    36       2    19     1.3        AF\n",
            "173                         Tonga    36      21     5     1.1        OC\n",
            "174             Trinidad & Tobago   197     156     7     6.4       NaN\n",
            "175                       Tunisia    51       3    20     1.3        AF\n",
            "176                        Turkey    51      22     7     1.4        AS\n",
            "177                  Turkmenistan    19      71    32     2.2        AS\n",
            "178                        Tuvalu     6      41     9     1.0        OC\n",
            "179                        Uganda    45       9     0     8.3        AF\n",
            "180                       Ukraine   206     237    45     8.9        EU\n",
            "181          United Arab Emirates    16     135     5     2.8        AS\n",
            "182                United Kingdom   219     126   195    10.4        EU\n",
            "183                      Tanzania    36       6     1     5.7        AF\n",
            "184                           USA   249     158    84     8.7       NaN\n",
            "185                       Uruguay   115      35   220     6.6        SA\n",
            "186                    Uzbekistan    25     101     8     2.4        AS\n",
            "187                       Vanuatu    21      18    11     0.9        OC\n",
            "188                     Venezuela   333     100     3     7.7        SA\n",
            "189                       Vietnam   111       2     1     2.0        AS\n",
            "190                         Yemen     6       0     0     0.1        AS\n",
            "191                        Zambia    32      19     4     2.5        AF\n",
            "192                      Zimbabwe    64      18     4     4.7        AF\n"
          ]
        }
      ],
      "source": [
        "# Change the maximum number of rows and columns printed ('None' means unlimited).\n",
        "pd.set_option('max_rows', None)     # Default is 60 rows\n",
        "pd.set_option('max_columns', None)  # Default is 20 columns\n",
        "print(drinks)"
      ]
    },
    {
      "cell_type": "code",
      "execution_count": null,
      "metadata": {
        "id": "GgWDXdXiyg_O"
      },
      "outputs": [],
      "source": [
        "# Reset options to defaults.\n",
        "pd.reset_option('max_rows')\n",
        "pd.reset_option('max_columns')"
      ]
    },
    {
      "cell_type": "code",
      "execution_count": null,
      "metadata": {
        "id": "9ZzxU8_xyg_O",
        "outputId": "65989853-793e-45d9-8993-041e909882b2"
      },
      "outputs": [
        {
          "name": "stdout",
          "output_type": "stream",
          "text": [
            "                          country   beer  spirit  wine  liters continent  \\\n",
            "0                     Afghanistan    0.0       0     0     0.0        AS   \n",
            "1                         Albania   89.0     132    54     4.9        EU   \n",
            "2                         Algeria   25.0       0    14     0.7        AF   \n",
            "3                         Andorra  245.0     138   312    12.4        EU   \n",
            "4                          Angola  217.0      57    45     5.9        AF   \n",
            "5               Antigua & Barbuda  102.0     128    45     4.9        NA   \n",
            "6                       Argentina  193.0      25   221     8.3        SA   \n",
            "7                         Armenia   21.0     179    11     3.8        EU   \n",
            "8                       Australia  261.0      72   212    10.4        OC   \n",
            "9                         Austria  279.0      75   191     9.7        EU   \n",
            "10                     Azerbaijan   21.0      46     5     1.3        EU   \n",
            "11                        Bahamas  122.0     176    51     6.3        NA   \n",
            "12                        Bahrain   42.0      63     7     2.0        AS   \n",
            "13                     Bangladesh    0.0       0     0     0.0        AS   \n",
            "14                       Barbados  143.0     173    36     6.3        NA   \n",
            "15                        Belarus  142.0     373    42    14.4        EU   \n",
            "16                        Belgium  295.0      84   212    10.5        EU   \n",
            "17                         Belize  263.0     114     8     6.8        NA   \n",
            "18                          Benin   34.0       4    13     1.1        AF   \n",
            "19                         Bhutan   23.0       0     0     0.4        AS   \n",
            "20                        Bolivia  167.0      41     8     3.8        SA   \n",
            "21             Bosnia-Herzegovina   76.0     173     8     4.6        EU   \n",
            "22                       Botswana  173.0      35    35     5.4        AF   \n",
            "23                         Brazil  245.0     145    16     7.2        SA   \n",
            "24                         Brunei   31.0       2     1     0.6        AS   \n",
            "25                       Bulgaria  231.0     252    94    10.3        EU   \n",
            "26                   Burkina Faso   25.0       7     7     4.3        AF   \n",
            "27                        Burundi   88.0       0     0     6.3        AF   \n",
            "28                  Cote d'Ivoire   37.0       1     7     4.0        AF   \n",
            "29                     Cabo Verde  144.0      56    16     4.0        AF   \n",
            "30                       Cambodia   57.0      65     1     2.2        AS   \n",
            "31                       Cameroon  147.0       1     4     5.8        AF   \n",
            "32                         Canada  240.0     122   100     8.2        NA   \n",
            "33       Central African Republic   17.0       2     1     1.8        AF   \n",
            "34                           Chad   15.0       1     1     0.4        AF   \n",
            "35                          Chile  130.0     124   172     7.6        SA   \n",
            "36                          China   79.0     192     8     5.0        AS   \n",
            "37                       Colombia  159.0      76     3     4.2        SA   \n",
            "38                        Comoros    1.0       3     1     0.1        AF   \n",
            "39                          Congo   76.0       1     9     1.7        AF   \n",
            "40                   Cook Islands    0.0     254    74     5.9        OC   \n",
            "41                     Costa Rica  149.0      87    11     4.4        NA   \n",
            "42                        Croatia  230.0      87   254    10.2        EU   \n",
            "43                           Cuba   93.0     137     5     4.2        NA   \n",
            "44                         Cyprus  192.0     154   113     8.2        EU   \n",
            "45                 Czech Republic  361.0     170   134    11.8        EU   \n",
            "46                    North Korea    0.0       0     0     0.0        AS   \n",
            "47                       DR Congo   32.0       3     1     2.3        AF   \n",
            "48                        Denmark  224.0      81   278    10.4        EU   \n",
            "49                       Djibouti   15.0      44     3     1.1        AF   \n",
            "50                       Dominica   52.0     286    26     6.6        NA   \n",
            "51             Dominican Republic  193.0     147     9     6.2        NA   \n",
            "52                        Ecuador  162.0      74     3     4.2        SA   \n",
            "53                          Egypt    6.0       4     1     0.2        AF   \n",
            "54                    El Salvador   52.0      69     2     2.2        NA   \n",
            "55              Equatorial Guinea   92.0       0   233     5.8        AF   \n",
            "56                        Eritrea   18.0       0     0     0.5        AF   \n",
            "57                        Estonia  224.0     194    59     9.5        EU   \n",
            "58                       Ethiopia   20.0       3     0     0.7        AF   \n",
            "59                           Fiji   77.0      35     1     2.0        OC   \n",
            "60                        Finland  263.0     133    97    10.0        EU   \n",
            "61                         France  127.0     151   370    11.8        EU   \n",
            "62                          Gabon  347.0      98    59     8.9        AF   \n",
            "63                         Gambia    8.0       0     1     2.4        AF   \n",
            "64                        Georgia   52.0     100   149     5.4        EU   \n",
            "65                        Germany  346.0     117   175    11.3        EU   \n",
            "66                          Ghana   31.0       3    10     1.8        AF   \n",
            "67                         Greece  133.0     112   218     8.3        EU   \n",
            "68                        Grenada  199.0     438    28    11.9        NA   \n",
            "69                      Guatemala   53.0      69     2     2.2        NA   \n",
            "70                         Guinea    9.0       0     2     0.2        AF   \n",
            "71                  Guinea-Bissau   28.0      31    21     2.5        AF   \n",
            "72                         Guyana   93.0     302     1     7.1        SA   \n",
            "73                          Haiti    1.0     326     1     5.9        NA   \n",
            "74                       Honduras   69.0      98     2     3.0        NA   \n",
            "75                        Hungary  234.0     215   185    11.3        EU   \n",
            "76                        Iceland  233.0      61    78     6.6        EU   \n",
            "77                          India    9.0     114     0     2.2        AS   \n",
            "78                      Indonesia    5.0       1     0     0.1        AS   \n",
            "79                           Iran    0.0       0     0     0.0        AS   \n",
            "80                           Iraq    9.0       3     0     0.2        AS   \n",
            "81                        Ireland  313.0     118   165    11.4        EU   \n",
            "82                         Israel   63.0      69     9     2.5        AS   \n",
            "83                          Italy   85.0      42   237     6.5        EU   \n",
            "84                        Jamaica   82.0      97     9     3.4        NA   \n",
            "85                          Japan   77.0     202    16     7.0        AS   \n",
            "86                         Jordan    6.0      21     1     0.5        AS   \n",
            "87                     Kazakhstan  124.0     246    12     6.8        AS   \n",
            "88                          Kenya   58.0      22     2     1.8        AF   \n",
            "89                       Kiribati   21.0      34     1     1.0        OC   \n",
            "90                         Kuwait    0.0       0     0     0.0        AS   \n",
            "91                     Kyrgyzstan   31.0      97     6     2.4        AS   \n",
            "92                           Laos   62.0       0   123     6.2        AS   \n",
            "93                         Latvia  281.0     216    62    10.5        EU   \n",
            "94                        Lebanon   20.0      55    31     1.9        AS   \n",
            "95                        Lesotho   82.0      29     0     2.8        AF   \n",
            "96                        Liberia   19.0     152     2     3.1        AF   \n",
            "97                          Libya    0.0       0     0     0.0        AF   \n",
            "98                      Lithuania  343.0     244    56    12.9        EU   \n",
            "99                     Luxembourg  236.0     133   271    11.4        EU   \n",
            "100                    Madagascar   26.0      15     4     0.8        AF   \n",
            "101                        Malawi    8.0      11     1     1.5        AF   \n",
            "102                      Malaysia   13.0       4     0     0.3        AS   \n",
            "103                      Maldives    0.0       0     0     0.0        AS   \n",
            "104                          Mali    5.0       1     1     0.6        AF   \n",
            "105                         Malta  149.0     100   120     6.6        EU   \n",
            "106              Marshall Islands    0.0       0     0     0.0        OC   \n",
            "107                    Mauritania    0.0       0     0     0.0        AF   \n",
            "108                     Mauritius   98.0      31    18     2.6        AF   \n",
            "109                        Mexico  238.0      68     5     5.5        NA   \n",
            "110                    Micronesia   62.0      50    18     2.3        OC   \n",
            "111                        Monaco    0.0       0     0     0.0        EU   \n",
            "112                      Mongolia   77.0     189     8     4.9        AS   \n",
            "113                    Montenegro   31.0     114   128     4.9        EU   \n",
            "114                       Morocco   12.0       6    10     0.5        AF   \n",
            "115                    Mozambique   47.0      18     5     1.3        AF   \n",
            "116                       Myanmar    5.0       1     0     0.1        AS   \n",
            "117                       Namibia  376.0       3     1     6.8        AF   \n",
            "118                         Nauru   49.0       0     8     1.0        OC   \n",
            "119                         Nepal    5.0       6     0     0.2        AS   \n",
            "120                   Netherlands  251.0      88   190     9.4        EU   \n",
            "121                   New Zealand  203.0      79   175     9.3        OC   \n",
            "122                     Nicaragua   78.0     118     1     3.5        NA   \n",
            "123                         Niger    3.0       2     1     0.1        AF   \n",
            "124                       Nigeria   42.0       5     2     9.1        AF   \n",
            "125                          Niue  188.0     200     7     7.0        OC   \n",
            "126                        Norway  169.0      71   129     6.7        EU   \n",
            "127                          Oman   22.0      16     1     0.7        AS   \n",
            "128                      Pakistan    0.0       0     0     0.0        AS   \n",
            "129                         Palau  306.0      63    23     6.9        OC   \n",
            "130                        Panama  285.0     104    18     7.2        NA   \n",
            "131              Papua New Guinea   44.0      39     1     1.5        OC   \n",
            "132                      Paraguay  213.0     117    74     7.3        SA   \n",
            "133                          Peru  163.0     160    21     6.1        SA   \n",
            "134                   Philippines   71.0     186     1     4.6        AS   \n",
            "135                        Poland  343.0     215    56    10.9        EU   \n",
            "136                      Portugal  194.0      67   339    11.0        EU   \n",
            "137                         Qatar    1.0      42     7     0.9        AS   \n",
            "138                   South Korea  140.0      16     9     9.8        AS   \n",
            "139                       Moldova  109.0     226    18     6.3        EU   \n",
            "140                       Romania  297.0     122   167    10.4        EU   \n",
            "141            Russian Federation  247.0     326    73    11.5        AS   \n",
            "142                        Rwanda   43.0       2     0     6.8        AF   \n",
            "143             St. Kitts & Nevis  194.0     205    32     7.7        NA   \n",
            "144                     St. Lucia  171.0     315    71    10.1        NA   \n",
            "145  St. Vincent & the Grenadines  120.0     221    11     6.3        NA   \n",
            "146                         Samoa  105.0      18    24     2.6        OC   \n",
            "147                    San Marino    0.0       0     0     0.0        EU   \n",
            "148           Sao Tome & Principe   56.0      38   140     4.2        AF   \n",
            "149                  Saudi Arabia    0.0       5     0     0.1        AS   \n",
            "150                       Senegal    9.0       1     7     0.3        AF   \n",
            "151                        Serbia  283.0     131   127     9.6        EU   \n",
            "152                    Seychelles  157.0      25    51     4.1        AF   \n",
            "153                  Sierra Leone   25.0       3     2     6.7        AF   \n",
            "154                     Singapore   60.0      12    11     1.5        AS   \n",
            "155                      Slovakia  196.0     293   116    11.4        EU   \n",
            "156                      Slovenia  270.0      51   276    10.6        EU   \n",
            "157               Solomon Islands   56.0      11     1     1.2        OC   \n",
            "158                       Somalia    0.0       0     0     0.0        AF   \n",
            "159                  South Africa  225.0      76    81     8.2        AF   \n",
            "160                         Spain  284.0     157   112    10.0        EU   \n",
            "161                     Sri Lanka   16.0     104     0     2.2        AS   \n",
            "162                         Sudan    8.0      13     0     1.7        AF   \n",
            "163                      Suriname  128.0     178     7     5.6        SA   \n",
            "164                     Swaziland   90.0       2     2     4.7        AF   \n",
            "165                        Sweden  152.0      60   186     7.2        EU   \n",
            "166                   Switzerland  185.0     100   280    10.2        EU   \n",
            "167                         Syria    5.0      35    16     1.0        AS   \n",
            "168                    Tajikistan    2.0      15     0     0.3        AS   \n",
            "169                      Thailand   99.0     258     1     6.4        AS   \n",
            "170                     Macedonia  106.0      27    86     3.9        EU   \n",
            "171                   Timor-Leste    1.0       1     4     0.1        AS   \n",
            "172                          Togo   36.0       2    19     1.3        AF   \n",
            "173                         Tonga   36.0      21     5     1.1        OC   \n",
            "174             Trinidad & Tobago  197.0     156     7     6.4        NA   \n",
            "175                       Tunisia   51.0       3    20     1.3        AF   \n",
            "176                        Turkey   51.0      22     7     1.4        AS   \n",
            "177                  Turkmenistan   19.0      71    32     2.2        AS   \n",
            "178                        Tuvalu    6.0      41     9     1.0        OC   \n",
            "179                        Uganda   45.0       9     0     8.3        AF   \n",
            "180                       Ukraine  206.0     237    45     8.9        EU   \n",
            "181          United Arab Emirates   16.0     135     5     2.8        AS   \n",
            "182                United Kingdom  219.0     126   195    10.4        EU   \n",
            "183                      Tanzania   36.0       6     1     5.7        AF   \n",
            "184                           USA  249.0     158    84     8.7        NA   \n",
            "185                       Uruguay  115.0      35   220     6.6        SA   \n",
            "186                    Uzbekistan   25.0     101     8     2.4        AS   \n",
            "187                       Vanuatu   21.0      18    11     0.9        OC   \n",
            "188                     Venezuela  333.0     100     3     7.7        SA   \n",
            "189                       Vietnam  111.0       2     1     2.0        AS   \n",
            "190                         Yemen    6.0       0     0     0.1        AS   \n",
            "191                        Zambia   32.0      19     4     2.5        AF   \n",
            "192                      Zimbabwe   64.0      18     4     4.7        AF   \n",
            "\n",
            "     cont_AS  cont_EU  cont_NA  cont_OC  cont_SA beer_level  \n",
            "0          1        0        0        0        0        low  \n",
            "1          0        1        0        0        0        low  \n",
            "2          0        0        0        0        0        low  \n",
            "3          0        1        0        0        0       high  \n",
            "4          0        0        0        0        0       high  \n",
            "5          0        0        1        0        0        med  \n",
            "6          0        0        0        0        1        med  \n",
            "7          0        1        0        0        0        low  \n",
            "8          0        0        0        1        0       high  \n",
            "9          0        1        0        0        0       high  \n",
            "10         0        1        0        0        0        low  \n",
            "11         0        0        1        0        0        med  \n",
            "12         1        0        0        0        0        low  \n",
            "13         1        0        0        0        0        low  \n",
            "14         0        0        1        0        0        med  \n",
            "15         0        1        0        0        0        med  \n",
            "16         0        1        0        0        0       high  \n",
            "17         0        0        1        0        0       high  \n",
            "18         0        0        0        0        0        low  \n",
            "19         1        0        0        0        0        low  \n",
            "20         0        0        0        0        1        med  \n",
            "21         0        1        0        0        0        low  \n",
            "22         0        0        0        0        0        med  \n",
            "23         0        0        0        0        1       high  \n",
            "24         1        0        0        0        0        low  \n",
            "25         0        1        0        0        0       high  \n",
            "26         0        0        0        0        0        low  \n",
            "27         0        0        0        0        0        low  \n",
            "28         0        0        0        0        0        low  \n",
            "29         0        0        0        0        0        med  \n",
            "30         1        0        0        0        0        low  \n",
            "31         0        0        0        0        0        med  \n",
            "32         0        0        1        0        0       high  \n",
            "33         0        0        0        0        0        low  \n",
            "34         0        0        0        0        0        low  \n",
            "35         0        0        0        0        1        med  \n",
            "36         1        0        0        0        0        low  \n",
            "37         0        0        0        0        1        med  \n",
            "38         0        0        0        0        0        low  \n",
            "39         0        0        0        0        0        low  \n",
            "40         0        0        0        1        0        low  \n",
            "41         0        0        1        0        0        med  \n",
            "42         0        1        0        0        0       high  \n",
            "43         0        0        1        0        0        low  \n",
            "44         0        1        0        0        0        med  \n",
            "45         0        1        0        0        0       high  \n",
            "46         1        0        0        0        0        low  \n",
            "47         0        0        0        0        0        low  \n",
            "48         0        1        0        0        0       high  \n",
            "49         0        0        0        0        0        low  \n",
            "50         0        0        1        0        0        low  \n",
            "51         0        0        1        0        0        med  \n",
            "52         0        0        0        0        1        med  \n",
            "53         0        0        0        0        0        low  \n",
            "54         0        0        1        0        0        low  \n",
            "55         0        0        0        0        0        low  \n",
            "56         0        0        0        0        0        low  \n",
            "57         0        1        0        0        0       high  \n",
            "58         0        0        0        0        0        low  \n",
            "59         0        0        0        1        0        low  \n",
            "60         0        1        0        0        0       high  \n",
            "61         0        1        0        0        0        med  \n",
            "62         0        0        0        0        0       high  \n",
            "63         0        0        0        0        0        low  \n",
            "64         0        1        0        0        0        low  \n",
            "65         0        1        0        0        0       high  \n",
            "66         0        0        0        0        0        low  \n",
            "67         0        1        0        0        0        med  \n",
            "68         0        0        1        0        0        med  \n",
            "69         0        0        1        0        0        low  \n",
            "70         0        0        0        0        0        low  \n",
            "71         0        0        0        0        0        low  \n",
            "72         0        0        0        0        1        low  \n",
            "73         0        0        1        0        0        low  \n",
            "74         0        0        1        0        0        low  \n",
            "75         0        1        0        0        0       high  \n",
            "76         0        1        0        0        0       high  \n",
            "77         1        0        0        0        0        low  \n",
            "78         1        0        0        0        0        low  \n",
            "79         1        0        0        0        0        low  \n",
            "80         1        0        0        0        0        low  \n",
            "81         0        1        0        0        0       high  \n",
            "82         1        0        0        0        0        low  \n",
            "83         0        1        0        0        0        low  \n",
            "84         0        0        1        0        0        low  \n",
            "85         1        0        0        0        0        low  \n",
            "86         1        0        0        0        0        low  \n",
            "87         1        0        0        0        0        med  \n",
            "88         0        0        0        0        0        low  \n",
            "89         0        0        0        1        0        low  \n",
            "90         1        0        0        0        0        low  \n",
            "91         1        0        0        0        0        low  \n",
            "92         1        0        0        0        0        low  \n",
            "93         0        1        0        0        0       high  \n",
            "94         1        0        0        0        0        low  \n",
            "95         0        0        0        0        0        low  \n",
            "96         0        0        0        0        0        low  \n",
            "97         0        0        0        0        0        low  \n",
            "98         0        1        0        0        0       high  \n",
            "99         0        1        0        0        0       high  \n",
            "100        0        0        0        0        0        low  \n",
            "101        0        0        0        0        0        low  \n",
            "102        1        0        0        0        0        low  \n",
            "103        1        0        0        0        0        low  \n",
            "104        0        0        0        0        0        low  \n",
            "105        0        1        0        0        0        med  \n",
            "106        0        0        0        1        0        low  \n",
            "107        0        0        0        0        0        low  \n",
            "108        0        0        0        0        0        low  \n",
            "109        0        0        1        0        0       high  \n",
            "110        0        0        0        1        0        low  \n",
            "111        0        1        0        0        0        low  \n",
            "112        1        0        0        0        0        low  \n",
            "113        0        1        0        0        0        low  \n",
            "114        0        0        0        0        0        low  \n",
            "115        0        0        0        0        0        low  \n",
            "116        1        0        0        0        0        low  \n",
            "117        0        0        0        0        0       high  \n",
            "118        0        0        0        1        0        low  \n",
            "119        1        0        0        0        0        low  \n",
            "120        0        1        0        0        0       high  \n",
            "121        0        0        0        1        0       high  \n",
            "122        0        0        1        0        0        low  \n",
            "123        0        0        0        0        0        low  \n",
            "124        0        0        0        0        0        low  \n",
            "125        0        0        0        1        0        med  \n",
            "126        0        1        0        0        0        med  \n",
            "127        1        0        0        0        0        low  \n",
            "128        1        0        0        0        0        low  \n",
            "129        0        0        0        1        0       high  \n",
            "130        0        0        1        0        0       high  \n",
            "131        0        0        0        1        0        low  \n",
            "132        0        0        0        0        1       high  \n",
            "133        0        0        0        0        1        med  \n",
            "134        1        0        0        0        0        low  \n",
            "135        0        1        0        0        0       high  \n",
            "136        0        1        0        0        0        med  \n",
            "137        1        0        0        0        0        low  \n",
            "138        1        0        0        0        0        med  \n",
            "139        0        1        0        0        0        med  \n",
            "140        0        1        0        0        0       high  \n",
            "141        1        0        0        0        0       high  \n",
            "142        0        0        0        0        0        low  \n",
            "143        0        0        1        0        0        med  \n",
            "144        0        0        1        0        0        med  \n",
            "145        0        0        1        0        0        med  \n",
            "146        0        0        0        1        0        med  \n",
            "147        0        1        0        0        0        low  \n",
            "148        0        0        0        0        0        low  \n",
            "149        1        0        0        0        0        low  \n",
            "150        0        0        0        0        0        low  \n",
            "151        0        1        0        0        0       high  \n",
            "152        0        0        0        0        0        med  \n",
            "153        0        0        0        0        0        low  \n",
            "154        1        0        0        0        0        low  \n",
            "155        0        1        0        0        0        med  \n",
            "156        0        1        0        0        0       high  \n",
            "157        0        0        0        1        0        low  \n",
            "158        0        0        0        0        0        low  \n",
            "159        0        0        0        0        0       high  \n",
            "160        0        1        0        0        0       high  \n",
            "161        1        0        0        0        0        low  \n",
            "162        0        0        0        0        0        low  \n",
            "163        0        0        0        0        1        med  \n",
            "164        0        0        0        0        0        low  \n",
            "165        0        1        0        0        0        med  \n",
            "166        0        1        0        0        0        med  \n",
            "167        1        0        0        0        0        low  \n",
            "168        1        0        0        0        0        low  \n",
            "169        1        0        0        0        0        low  \n",
            "170        0        1        0        0        0        med  \n",
            "171        1        0        0        0        0        low  \n",
            "172        0        0        0        0        0        low  \n",
            "173        0        0        0        1        0        low  \n",
            "174        0        0        1        0        0        med  \n",
            "175        0        0        0        0        0        low  \n",
            "176        1        0        0        0        0        low  \n",
            "177        1        0        0        0        0        low  \n",
            "178        0        0        0        1        0        low  \n",
            "179        0        0        0        0        0        low  \n",
            "180        0        1        0        0        0       high  \n",
            "181        1        0        0        0        0        low  \n",
            "182        0        1        0        0        0       high  \n",
            "183        0        0        0        0        0        low  \n",
            "184        0        0        1        0        0       high  \n",
            "185        0        0        0        0        1        med  \n",
            "186        1        0        0        0        0        low  \n",
            "187        0        0        0        1        0        low  \n",
            "188        0        0        0        0        1       high  \n",
            "189        1        0        0        0        0        med  \n",
            "190        1        0        0        0        0        low  \n",
            "191        0        0        0        0        0        low  \n",
            "192        0        0        0        0        0        low  \n"
          ]
        }
      ],
      "source": [
        "# Change the options temporarily (settings are restored when you exit the \"with\" block).\n",
        "with pd.option_context('max_rows', None, 'max_columns', None):\n",
        "    print(drinks)"
      ]
    },
    {
      "cell_type": "markdown",
      "metadata": {
        "collapsed": true,
        "id": "bNdWT-P_yg_O"
      },
      "source": [
        "<a id=\"summary\"></a>\n",
        "### Summary\n",
        "\n",
        "Believe it or not, we've only barely touched the surface of everything that Pandas offers. Don't worry if you don't remember most of it — for now, just knowing what exists is key. Remember that the more you use Pandas to manipulate data, the more of these functions you will take interest in, look up, and remember.\n",
        "\n",
        "In this notebook, the most important things to familiarize yourself with are the basics:\n",
        "- Manipulating `DataFrames` and `Series`\n",
        "- Filtering columns and rows\n",
        "- Handling missing values\n",
        "- Split-apply-combine (this one takes some practice!)"
      ]
    }
  ],
  "metadata": {
    "colab": {
      "provenance": []
    },
    "kernelspec": {
      "display_name": "Python 3.10.9 64-bit (microsoft store)",
      "language": "python",
      "name": "python3"
    },
    "language_info": {
      "codemirror_mode": {
        "name": "ipython",
        "version": 3
      },
      "file_extension": ".py",
      "mimetype": "text/x-python",
      "name": "python",
      "nbconvert_exporter": "python",
      "pygments_lexer": "ipython3",
      "version": "3.10.9"
    },
    "vscode": {
      "interpreter": {
        "hash": "1d6971dd49b9794e29936202b7e795af0a71863773ee7feabb9db3f4cad91916"
      }
    }
  },
  "nbformat": 4,
  "nbformat_minor": 0
}
