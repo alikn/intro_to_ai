{
  "cells": [
    {
      "cell_type": "markdown",
      "metadata": {},
      "source": [
        "[![Open In Colab](https://colab.research.google.com/assets/colab-badge.svg)](https://colab.research.google.com/github/alikn/intro_to_ai/blob/master/exploratory_data_analysis_assignment.ipynb)"
      ]
    },
    {
      "cell_type": "markdown",
      "metadata": {
        "id": "9Dok1OFYG4Hj"
      },
      "source": [
        "# Heart disease prediction\n",
        "\n",
        "A medical serivces company has asked your company to create a model for them to be able to predict which patients are at risk of heart disease. This will help them focus their services more on patients who need it the most. The patients flagged by the model will go through a series of tests to confirm the prediction. Doing all the tests for all patients can be very costly and time consuming.\n",
        "\n",
        "Here is the goal of the prediction task: to create a model to predict a patient having heart disease with at least 90% recall and 50% precision.  \n",
        "\n",
        "To help us create the model, they have given us a dataset with more than 70 attributes. A colleague of yours has gone through the dataset and narrowed it down to 13 attributes which they think are associated with the heart disease. \n",
        "\n",
        "You are given the processed dataset and was asked to do a limited-scope exploratory data analysis on it."
      ]
    },
    {
      "cell_type": "markdown",
      "metadata": {
        "id": "KBTlPD0B64W2"
      },
      "source": [
        "## About this assignment\n",
        "\n",
        "- Open this notebook in Colab.\n",
        "- Go through the Colab and answer the questions. Questions are in code cells which include \"Question x\". Add your code to the code cell and run the code cell.  \n",
        "- The cells which start with \"[Discuss in your team]\" are for you to discuss the topic with each other. No need to update those cells.\n",
        "- Materials covered in session 6 of the course can be helpful for this assignment.\n",
        "- Once you are done, download a *ipynb* file of the colab (File > Print > Download > Download .ipynb) and submit it as the deliverable. "
      ]
    },
    {
      "cell_type": "markdown",
      "metadata": {
        "id": "yGi3iN1lLpAj"
      },
      "source": [
        "## Dataset description\n",
        "\n",
        "Here are the columns in the dataset and their description:\n",
        "1. age: age in years\n",
        "2. sex: sex (1 = male; 0 = female)\n",
        "3. cp: chest pain type\n",
        "  - Value 1: typical angina\n",
        "  - Value 2: atypical angina\n",
        "  - Value 3: non-anginal pain\n",
        "  - Value 4: asymptomatic\n",
        "4. trestbps: resting blood pressure (in mm Hg on admission to the hospital)\n",
        "5. chol: serum cholestoral in mg/dl\n",
        "6. fbs: (fasting blood sugar > 120 mg/dl) (1 = true; 0 = false)\n",
        "7. restecg: resting electrocardiographic results\n",
        "  - Value 0: normal\n",
        "  - Value 1: having ST-T wave abnormality (T wave inversions and/or ST elevation or depression of > 0.05 mV)\n",
        "  - Value 2: showing probable or definite left ventricular hypertrophy by Estes' criteria\n",
        "8. thalach: maximum heart rate achieved\n",
        "9. exang: exercise induced angina (1 = yes; 0 = no)\n",
        "10. oldpeak: ST depression induced by exercise relative to rest\n",
        "11. slope: the slope of the peak exercise ST segment\n",
        "  - Value 1: upsloping\n",
        "  - Value 2: flat\n",
        "  - Value 3: downsloping\n",
        "12. ca: number of major vessels (0-3) colored by flourosopy\n",
        "13. thal: 3 = normal; 6 = fixed defect; 7 = reversable defect\n",
        "14. num: (target column) diagnosis of heart disease (angiographic disease status)\n",
        "  - Value 0: < 50% diameter narrowing\n",
        "  - Value 1: > 50% diameter narrowing\n",
        "\n",
        "\n",
        "The target attribute is \"num\" column. What it means is that the eventual goal of the project is to create a model which predicts the value of column 14 given columns 1 to 13.\n",
        "\n",
        "Note that column \"num\" as well as some other columns are categorical variables for which different categories are denoted by numbers. \n",
        "\n",
        "Here is the [source of this dataset](http://archive.ics.uci.edu/ml/datasets/Heart+Disease). Take a look there if you want to see more info about the dataset."
      ]
    },
    {
      "cell_type": "markdown",
      "metadata": {
        "id": "TTwrD_dVFTD8"
      },
      "source": [
        "## Your names"
      ]
    },
    {
      "cell_type": "code",
      "execution_count": null,
      "metadata": {
        "id": "Z45pkrMDFVsa"
      },
      "outputs": [],
      "source": [
        "## Add your names here: "
      ]
    },
    {
      "cell_type": "markdown",
      "metadata": {
        "id": "AtDaLdpNQXeI"
      },
      "source": [
        "## Loading the dataset"
      ]
    },
    {
      "cell_type": "code",
      "execution_count": null,
      "metadata": {
        "id": "2ctfA2pdLleC"
      },
      "outputs": [],
      "source": [
        "import pandas as pd"
      ]
    },
    {
      "cell_type": "code",
      "execution_count": null,
      "metadata": {
        "id": "IrgJwCNlG3UJ"
      },
      "outputs": [],
      "source": [
        "df = pd.read_csv('https://alik-courses.web.app/intro-to-ai/datasets/cleveland_heart_disease.csv')"
      ]
    },
    {
      "cell_type": "markdown",
      "metadata": {
        "id": "yG3BCkK5Qk9H"
      },
      "source": [
        "## Taking a look at the raw data"
      ]
    },
    {
      "cell_type": "code",
      "execution_count": null,
      "metadata": {
        "id": "WScGWRSJRV15"
      },
      "outputs": [],
      "source": [
        "## Question 1: Show the data in the top 10 rows of the dataset.\n",
        "\n",
        "## Add your answer here and run the cell.\n",
        "\n"
      ]
    },
    {
      "cell_type": "markdown",
      "metadata": {
        "id": "iSnF9Hp0SPNf"
      },
      "source": [
        "[Discuss in your team] With your teammate, discuss what are the points you can infer just by looking at the raw data."
      ]
    },
    {
      "cell_type": "markdown",
      "metadata": {
        "id": "o8IEE01qSND_"
      },
      "source": [
        "## Using Pandas to summarize the data"
      ]
    },
    {
      "cell_type": "code",
      "execution_count": null,
      "metadata": {
        "id": "hznfotRizurj"
      },
      "outputs": [],
      "source": [
        "## Question 2: What is the shape of the dataset?\n",
        "\n",
        "## Add your answer here.\n"
      ]
    },
    {
      "cell_type": "code",
      "execution_count": null,
      "metadata": {
        "id": "v0l5YocQSpf-"
      },
      "outputs": [],
      "source": [
        "## Question 3: Use Pandas to get a summary of the data (number of non-null elements, type of elements) in columns.\n",
        "\n",
        "## Add your answer here.\n"
      ]
    },
    {
      "cell_type": "code",
      "execution_count": 1,
      "metadata": {
        "id": "2j3CsXMsS8xU"
      },
      "outputs": [],
      "source": [
        "## Question 4: Use Pandas to describe the columns (some stats for numerical columns and some info about unique categories for non-numerical columns).\n",
        "\n",
        "## Add your answer here.\n"
      ]
    },
    {
      "cell_type": "markdown",
      "metadata": {
        "id": "td2XzTGnTHzK"
      },
      "source": [
        "[Discuss in your team] Using Pandas summary functions gives us some info about the columns. From this info, can you tell if there are null values in any of the columns? \n",
        "\n",
        "Pay attention to medians of different columns. How did Pandas treat the categorical columns which were coded with numbers?"
      ]
    },
    {
      "cell_type": "markdown",
      "metadata": {
        "id": "9vso_l6BT43q"
      },
      "source": [
        "## Numerical features distributions"
      ]
    },
    {
      "cell_type": "code",
      "execution_count": null,
      "metadata": {
        "id": "p7dcf6wL0Nwk"
      },
      "outputs": [],
      "source": [
        "## Question 5: Plot features distributions.\n",
        "\n",
        "## Add your answer here.\n"
      ]
    },
    {
      "cell_type": "markdown",
      "metadata": {
        "id": "dkRJGGYq028c"
      },
      "source": [
        "[Discuss in your team] What is the difference between the distribution of numerically encoded categorical variables and true numerical features?"
      ]
    },
    {
      "cell_type": "markdown",
      "metadata": {
        "id": "nMDoMAC31DTh"
      },
      "source": [
        "## Target feature distribution"
      ]
    },
    {
      "cell_type": "code",
      "execution_count": null,
      "metadata": {
        "id": "GGS1SIy_1SUU"
      },
      "outputs": [],
      "source": [
        "# Question 6: Plot the distribution of the target feature as a bar plot.\n",
        "\n",
        "# Add your answer here.\n"
      ]
    },
    {
      "cell_type": "markdown",
      "metadata": {
        "id": "r9kLEhUD2BUu"
      },
      "source": [
        "## Effect of numerical features on output"
      ]
    },
    {
      "cell_type": "code",
      "execution_count": null,
      "metadata": {
        "id": "lVhSxUwq2Orh"
      },
      "outputs": [],
      "source": [
        "## Question 7: Plot segmentation distributions between output feature and two of the numerical features which intuitively seem to be good predictors for heart disease.\n",
        "\n",
        "## Add your answer here: first segmentation plot\n"
      ]
    },
    {
      "cell_type": "code",
      "execution_count": null,
      "metadata": {
        "id": "nPUgy8GF214O"
      },
      "outputs": [],
      "source": [
        "## Add your answer here: second segmentation plot\n"
      ]
    },
    {
      "cell_type": "markdown",
      "metadata": {
        "id": "QOYQYclg4FEg"
      },
      "source": [
        "[Discuss in your team] Does the boxplots differ for when there is no heart disease (num = 0) and other cases?"
      ]
    },
    {
      "cell_type": "markdown",
      "metadata": {
        "id": "Kcc65f6K4Q7Q"
      },
      "source": [
        "## Update the target column"
      ]
    },
    {
      "cell_type": "markdown",
      "metadata": {
        "id": "CxlhDTXb4bdH"
      },
      "source": [
        "The model we want to eventually create aims at predicting whether or not a patient has a heart problem. The data in the target column includes not only if the patient has a healthy heart (num = 0), but also the severity of the disease (num values 1-4). We need to create a new target column which can have a boolean value of False for no disease and True for disease."
      ]
    },
    {
      "cell_type": "code",
      "execution_count": null,
      "metadata": {
        "id": "Gzcb12bg5Yzs"
      },
      "outputs": [],
      "source": [
        "## Question 8: using Pandas conditional operators, add the new target column to the dataframe.\n",
        "## Hint: take a look at Intro to Pandas notebook if you need a refresher. \n",
        "\n",
        "## Add your answer here.\n"
      ]
    }
  ],
  "metadata": {
    "colab": {
      "provenance": []
    },
    "kernelspec": {
      "display_name": "Python 3.10.9 64-bit (microsoft store)",
      "language": "python",
      "name": "python3"
    },
    "language_info": {
      "codemirror_mode": {
        "name": "ipython",
        "version": 3
      },
      "file_extension": ".py",
      "mimetype": "text/x-python",
      "name": "python",
      "nbconvert_exporter": "python",
      "pygments_lexer": "ipython3",
      "version": "3.10.10"
    },
    "vscode": {
      "interpreter": {
        "hash": "1d6971dd49b9794e29936202b7e795af0a71863773ee7feabb9db3f4cad91916"
      }
    }
  },
  "nbformat": 4,
  "nbformat_minor": 0
}
