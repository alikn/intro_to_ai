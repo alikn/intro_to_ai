{
  "cells": [
    {
      "cell_type": "markdown",
      "metadata": {},
      "source": [
        "[![Open In Colab](https://colab.research.google.com/assets/colab-badge.svg)](https://colab.research.google.com/github/alikn/intro_to_ai/blob/main/intro_to_python.ipynb)"
      ]
    },
    {
      "cell_type": "markdown",
      "metadata": {},
      "source": [
        "This notebook is forked from [mjghorbany](https://github.com/mjghorbany)'s [Machine Learning Fundamentals](https://github.com/mjghorbany/Machine-Learning-Fundamentals) Github repo."
      ]
    },
    {
      "cell_type": "markdown",
      "metadata": {
        "id": "4Y0mN2x9CT3U"
      },
      "source": [
        "<img src=\"https://alik-courses.web.app/intro-to-ai/intro-to-python/images/python.jpg\" height=\"100\" style=\"float:right\"/>\n",
        "\n",
        "# Intro to Python \n",
        "\n"
      ]
    },
    {
      "cell_type": "markdown",
      "metadata": {
        "id": "qJ-lvRj_CT3V"
      },
      "source": [
        "### Why Python?\n",
        "\n",
        "<img src=\"https://alik-courses.web.app/intro-to-ai/intro-to-python/images/whypython.png\" width=\"700\" height=\"500\" align=\"center\"/>"
      ]
    },
    {
      "cell_type": "markdown",
      "metadata": {
        "id": "0dK_0X8ZCT3W"
      },
      "source": [
        "<a id=\"learning-objectives\"></a>\n",
        "### Learning Objectives\n",
        "*In this lesson, we will go over the following:*\n",
        "\n",
        "- Data types in Python.\n",
        "- Functions in Python.\n",
        "- Control flows\n",
        "- Examples Programs."
      ]
    },
    {
      "cell_type": "markdown",
      "metadata": {
        "id": "LM8HPfMsCT3X"
      },
      "source": [
        "### Lesson Guide\n",
        "\n",
        "- [Into to jupyter (10–15 min)](#survey1)\n",
        "- [Common Python Types (15 min)](#types-def)\n",
        "- [Common Types Code-Along (20 min)](#types-codealong)\n",
        "- [Python Control Flows (20 min)](#functions-def)\n",
        "- [Common Python Functions Code-Along (20 min)](#functions-codealong)\n",
        "- [Recap and Requests (5–10 min)](#recap-requests)\n"
      ]
    },
    {
      "cell_type": "markdown",
      "metadata": {
        "id": "oH50YwWdCT3a"
      },
      "source": [
        "<a id=\"types-def\"></a>\n",
        "## Common Python Types\n",
        "\n",
        "---\n"
      ]
    },
    {
      "cell_type": "markdown",
      "metadata": {
        "id": "7qHSSVi4CT3b"
      },
      "source": [
        "### What is a type?\n",
        "\n",
        "> There are several _standard_ data types within Python (and typically any programming language, although it varies as to what is or isn't in a type for each). \n",
        "\n",
        "> A type tells the computer what can or can't be done with a given piece of information in Python (or whichever programming language you are using). For example, we can **add** and **subtract** numbers and we can **count** the number of letters in a word. Rather than try (and fail!) to add two words together or count the number of letters in a number, types let the computer know efficiently what can and cannot be done in a given situation."
      ]
    },
    {
      "cell_type": "markdown",
      "metadata": {
        "id": "v57sdGTDCT3d"
      },
      "source": [
        "<img src=\"https://alik-courses.web.app/intro-to-ai/intro-to-python/images/datatypes.png\" width=\"600\" height=\"600\" align=\"center\"/>"
      ]
    },
    {
      "cell_type": "markdown",
      "metadata": {
        "id": "YEbWYE9ECT3e"
      },
      "source": [
        "### Types in Python\n",
        "\n",
        "\n",
        "There are two basic groups of types in Python — single elements (one item or piece of information) and collections (groups of things, which can be either single elements themselves, other collections, or a mix of both).\n",
        "\n",
        "**Single Elements**\n",
        "\n",
        "- **Integers:** Whole numbers ranging from negative infinity to infinity, such as 1, 0, -5, etc.\n",
        "- **Floats:** Short for \"floating point number;\" usually used with decimals, such as 2.8 or 3.14159.\n",
        "- **Strings:** A series of letters, numbers, or other characters, e.g., \"The fox is quick.\".\n",
        "\n",
        "**Collections**\n",
        "\n",
        "- **Tuples:** An ordered sequence with a fixed number of elements; e.g., in `x = (1, 2, 3)`, the parentheses makes it a tuple. `x = (\"Kirk\", \"Picard\", \"Spock\")` — once you've defined this, you can't change it.\n",
        "- **Lists:** An ordered sequence without a fixed number of elements, e.g., `x = [1, 2, 3]`. Note the square brackets. `x = [\"Lord\", \"of\", \"the\", \"Rings\"]` — this can be changed as you like.\n",
        "- **Dictionaries**: An unordered collection of key-value pairs, e.g., `x = {'Mark': 'Twain', 'Apples': 5}`. To retrieve each value (the part after each colon), use its key (the part before each colon). For example, `x['Apples']` retrieves the value `5`."
      ]
    },
    {
      "cell_type": "markdown",
      "metadata": {
        "id": "V_Vk1G0bCT3f"
      },
      "source": [
        "**In your own words, what is the difference between a list and a dictionary? Can you think of any real-life examples of lists or dictionaries?**"
      ]
    },
    {
      "cell_type": "markdown",
      "metadata": {
        "id": "mhWwWsnBCT3g"
      },
      "source": [
        "### list vs. tuple vs. dictionary \n",
        "\n",
        "Lists have an inherent order (the first element is at index `0`, the second element is at index `1`, etc.) and we can call each element by that ordinal number (such as `x[0]` or `x[100]`). Dictionaries do not have an order (so `x[0]` will fail), but they use the name of the key to return that element.\n",
        "\n",
        "**Example**: Think about the difference between a sign-up list and an address book:\n",
        "- **Sign-up list**: We would refer to the order of who signed up when (i.e., \"the eighth person to sign up\").\n",
        "- **Address book**: We would refer to a person by looking for their name (i.e., \"the contact info for Bill Personson\").\n",
        "\n",
        "Tuples are just like lists with the difference that they do not allow their elements to be changed once they are created. If you want to change an element in a tuple, you need to create a new one."
      ]
    },
    {
      "cell_type": "markdown",
      "metadata": {
        "id": "p5xi45gFCT3h"
      },
      "source": [
        "### Variables\n",
        "\n",
        "Variables are names that have been assigned to specific values or data. These names can be almost anything you want, but there are some restrictions and best practices.\n",
        "\n",
        "\n",
        "#### Best Practices\n",
        "- It is customary in Python (Pythonic) to use underscores ( **_** ) to separate words in a variable's name.\n",
        "\n",
        "my_number = 10"
      ]
    },
    {
      "cell_type": "markdown",
      "metadata": {
        "id": "MRjx2_KOCT3i"
      },
      "source": [
        ">**Instructor Note:** List their rules on the whiteboard and then bring up some of the concepts below.\n",
        "\n",
        "#### Restrictions\n",
        "\n",
        "- Variable names cannot be just a number (i.e., 2, 0.01, 10000).\n",
        "- Variables cannot be assigned the same name as a default or imported function (i.e., 'type', 'print', 'for').\n",
        "- Variable names cannot contain spaces.\n",
        "\n",
        "#### Best Practices\n",
        "\n",
        "- Variable names should be lowercase.\n",
        "- A variable's name should be representative of the value(s) it has been assigned. For example, instead of `a` or `money`, something like `money_usd` tells the user both what is stored in that variable *and* what units it's in."
      ]
    },
    {
      "cell_type": "markdown",
      "metadata": {
        "id": "magAJXhVCT3j"
      },
      "source": [
        "<a id=\"types-codealong\"></a>\n",
        "## Common Types  (Code-Along)\n",
        "\n",
        "\n",
        "<img src=\"https://alik-courses.web.app/intro-to-ai/intro-to-python/images/hands_on.jpg\" width=\"100\" height=\"100\" align=\"center\"/>\n",
        "\n",
        "---\n",
        "\n",
        "In this section, we'll practice establishing some types and common practices. To run each cell, use `shift+enter` or the `run` button in the Jupyter Notebook toolbar.\n",
        "\n",
        "Some common reasons why we need to keep types in mind:\n",
        "\n",
        "1) Different types can lead to different results: <br>\n",
        "     - 1 + 1 results in 2, while '1' + '1' results in the string 11.\n",
        "     \n",
        "2) Operations may not work with specific types: <br>\n",
        "     - len('a word') will return the number of characters in a word, while `len(25)` will return an error because numbers do not have a length."
      ]
    },
    {
      "cell_type": "markdown",
      "metadata": {},
      "source": [
        "### Exercise\n",
        "Create an example of each of these types and assign it to a variable: int, a float, a string and a list. Check the type of each of them using the `type` function."
      ]
    },
    {
      "cell_type": "code",
      "execution_count": 1,
      "metadata": {
        "id": "Ole8Z11sCT3q",
        "outputId": "654c8b96-7293-497c-ce22-ffc4e803772c"
      },
      "outputs": [
        {
          "name": "stdout",
          "output_type": "stream",
          "text": [
            "<class 'int'>\n"
          ]
        }
      ],
      "source": [
        "# Example\n",
        "int_example = 5\n",
        "type(int_example)"
      ]
    },
    {
      "cell_type": "code",
      "execution_count": null,
      "metadata": {},
      "outputs": [],
      "source": [
        "# Create a float"
      ]
    },
    {
      "cell_type": "code",
      "execution_count": null,
      "metadata": {},
      "outputs": [],
      "source": [
        "# Create a string"
      ]
    },
    {
      "cell_type": "code",
      "execution_count": null,
      "metadata": {},
      "outputs": [],
      "source": [
        "# Create a list"
      ]
    },
    {
      "cell_type": "markdown",
      "metadata": {
        "id": "sUBVyFvPCT3s"
      },
      "source": [
        "**Remember that, when we're assigning variables, we are not stating that \"x equals 1,\" we are stating that \"x has been assigned the value of 1.\"**"
      ]
    },
    {
      "cell_type": "markdown",
      "metadata": {
        "id": "0cLky1lvCT3t"
      },
      "source": [
        "### Operators\n",
        "\n",
        "Operators can be used in a mathematical sense to calculate (or create) the sum, difference, product, or quotient of values or variables.\n",
        "\n",
        "Note that `print()` below will print out the values of whatever is inside of the parentheses."
      ]
    },
    {
      "cell_type": "markdown",
      "metadata": {
        "id": "RBZcLSk4CT3t"
      },
      "source": [
        "<img src=\"https://alik-courses.web.app/intro-to-ai/intro-to-python/images/operators.png\" align=\"center\"/>"
      ]
    },
    {
      "cell_type": "code",
      "execution_count": 2,
      "metadata": {
        "colab": {
          "base_uri": "https://localhost:8080/"
        },
        "id": "yFXZSdb-CT3y",
        "outputId": "a0fb7a5d-7a34-4dd9-9fcb-01e09f8b1833"
      },
      "outputs": [
        {
          "name": "stdout",
          "output_type": "stream",
          "text": [
            "3\n",
            "-1\n",
            "2\n",
            "0.5\n"
          ]
        }
      ],
      "source": [
        "# Addition:\n",
        "print(1 + 2)\n",
        "# Subtraction:\n",
        "print(1 - 2)\n",
        "# Multiplication:\n",
        "print(1 * 2)\n",
        "# Division:\n",
        "print(1 / 2)"
      ]
    },
    {
      "cell_type": "markdown",
      "metadata": {
        "id": "v7tmt4wTCT3z"
      },
      "source": [
        " There is also `//` division, whose output will be the rounded-down whole number."
      ]
    },
    {
      "cell_type": "code",
      "execution_count": null,
      "metadata": {
        "id": "nwqSskhPCT30",
        "outputId": "861478d9-4d82-4701-b166-49e70081e25d"
      },
      "outputs": [
        {
          "name": "stdout",
          "output_type": "stream",
          "text": [
            "1.0\n",
            "-2.0\n"
          ]
        }
      ],
      "source": [
        "# Division of float numbers:\n",
        "print(3.0 // 2)\n",
        "print(-3.0 // 2)"
      ]
    },
    {
      "cell_type": "code",
      "execution_count": null,
      "metadata": {
        "colab": {
          "base_uri": "https://localhost:8080/"
        },
        "id": "Ukg-1EU4CT31",
        "outputId": "84b52746-3f3b-4a95-a388-16401d0a95f5"
      },
      "outputs": [
        {
          "data": {
            "text/plain": [
              "8"
            ]
          },
          "execution_count": 12,
          "metadata": {},
          "output_type": "execute_result"
        }
      ],
      "source": [
        "# Exponent power operator:\n",
        "2 ** 3"
      ]
    },
    {
      "cell_type": "code",
      "execution_count": 4,
      "metadata": {
        "id": "rBfNMHUmCT32",
        "outputId": "d6f312c5-ce44-4b35-e078-3d42683642bf"
      },
      "outputs": [
        {
          "data": {
            "text/plain": [
              "1"
            ]
          },
          "execution_count": 4,
          "metadata": {},
          "output_type": "execute_result"
        }
      ],
      "source": [
        "# The modulo operator can be used to get the remainder — what's left over after the term has been cleanly divided:\n",
        "# 7 = 3 * 2 + 1 \n",
        "7 % 2"
      ]
    },
    {
      "cell_type": "markdown",
      "metadata": {
        "id": "5WrcWyX5CT33"
      },
      "source": [
        "### Booleans and Boolean Evaluation Operators"
      ]
    },
    {
      "cell_type": "markdown",
      "metadata": {
        "id": "Lv4ZHsnlCT34"
      },
      "source": [
        ">**Instructor Note:** Guide students to the following definition:\n",
        "\n",
        "Booleans exist as either true or false and are generally used as a means of evaluation."
      ]
    },
    {
      "cell_type": "markdown",
      "metadata": {
        "id": "9twrQLJBCT34"
      },
      "source": [
        "#### Using Booleans\n",
        "\n",
        "Booleans are frequently used to filter data or conditions. Sometimes, we may want all countries with populations greater than 4,000,000 or all people named Bob. Both of these result in a `True` or `False` condition that split our data into the groups we want.\n",
        "\n",
        "In Python, there are several built-in commands for deciding how to filter results:\n",
        "\n",
        "- `and`: Are both A and B true?\n",
        "- `not`: Is A the same as B?\n",
        "- `or`: Is A or B true?"
      ]
    },
    {
      "cell_type": "code",
      "execution_count": null,
      "metadata": {
        "id": "6mbyAHWvCT35",
        "outputId": "460f4046-5978-45a5-8029-cd307c643372"
      },
      "outputs": [
        {
          "data": {
            "text/plain": [
              "False"
            ]
          },
          "execution_count": 8,
          "metadata": {},
          "output_type": "execute_result"
        }
      ],
      "source": [
        "True and False"
      ]
    },
    {
      "cell_type": "code",
      "execution_count": null,
      "metadata": {
        "id": "9cwRE-E1CT37",
        "outputId": "094e9606-a6e8-4b53-8a81-2f47ef5c8d16"
      },
      "outputs": [
        {
          "data": {
            "text/plain": [
              "True"
            ]
          },
          "execution_count": 13,
          "metadata": {},
          "output_type": "execute_result"
        }
      ],
      "source": [
        "not False"
      ]
    },
    {
      "cell_type": "code",
      "execution_count": null,
      "metadata": {
        "id": "SxNammmfCT38",
        "outputId": "f6f1d136-c4fe-4f1a-aed0-3e495bc80e8d"
      },
      "outputs": [
        {
          "data": {
            "text/plain": [
              "True"
            ]
          },
          "execution_count": 14,
          "metadata": {},
          "output_type": "execute_result"
        }
      ],
      "source": [
        "True or False"
      ]
    },
    {
      "cell_type": "markdown",
      "metadata": {
        "id": "EbWRgkNjCT39"
      },
      "source": [
        "**Comparisons**\n",
        "\n",
        "<img src=\"https://alik-courses.web.app/intro-to-ai/intro-to-python/images/comp.png\" height=\"300px\"/>"
      ]
    },
    {
      "cell_type": "code",
      "execution_count": null,
      "metadata": {
        "id": "Yl7eq44nCT39",
        "outputId": "93c9dd34-e32f-4f05-b898-5940d9092891"
      },
      "outputs": [
        {
          "data": {
            "text/plain": [
              "(True, False, False, False, True, True)"
            ]
          },
          "execution_count": 88,
          "metadata": {},
          "output_type": "execute_result"
        }
      ],
      "source": [
        "2 > 1, 2 < 1, 2 > 2, 2 < 2, 2 >= 2, 2 <= 2"
      ]
    },
    {
      "cell_type": "code",
      "execution_count": null,
      "metadata": {
        "id": "BtHyf9G4CT3-",
        "outputId": "6d4d5778-35f5-43b8-ad7c-8bc414eb4b0c"
      },
      "outputs": [
        {
          "data": {
            "text/plain": [
              "True"
            ]
          },
          "execution_count": 6,
          "metadata": {},
          "output_type": "execute_result"
        }
      ],
      "source": [
        "# Equality:\n",
        "[1,2] == [1,2]"
      ]
    },
    {
      "cell_type": "code",
      "execution_count": null,
      "metadata": {
        "id": "NdcMrffqCT3_",
        "outputId": "a3fff437-6375-4a5f-ff28-4f0668ac6935"
      },
      "outputs": [
        {
          "data": {
            "text/plain": [
              "True"
            ]
          },
          "execution_count": 7,
          "metadata": {},
          "output_type": "execute_result"
        }
      ],
      "source": [
        "[1,2] == [1,2] or [2,2] == [2,1]"
      ]
    },
    {
      "cell_type": "markdown",
      "metadata": {
        "id": "oRBidd0ECT4A"
      },
      "source": [
        "## Hands_on Challenge"
      ]
    },
    {
      "cell_type": "markdown",
      "metadata": {
        "id": "LQmdeWfvCT4A"
      },
      "source": [
        "#### Now You Try!\n",
        "<img src=\"https://alik-courses.web.app/intro-to-ai/intro-to-python/images/hands_on.jpg\" width=\"100\" height=\"100\" align=\"right\"/>\n",
        "\n",
        "\n",
        "With a partner, create three comparisons using `!=`, `>=`, and `<`."
      ]
    },
    {
      "cell_type": "code",
      "execution_count": 6,
      "metadata": {
        "colab": {
          "base_uri": "https://localhost:8080/"
        },
        "id": "v8bwz2QzCT4B",
        "outputId": "1f9c1968-1c36-486a-ba27-1b26dfd67464"
      },
      "outputs": [
        {
          "name": "stdout",
          "output_type": "stream",
          "text": [
            "False\n"
          ]
        }
      ],
      "source": [
        "# Example\n",
        "print(3 > 4)\n",
        "\n",
        "# Add your code here\n",
        "\n"
      ]
    },
    {
      "cell_type": "markdown",
      "metadata": {
        "id": "nujjuG7TCT4C"
      },
      "source": [
        "### Strings\n",
        "\n",
        "**What are strings? How would we use them? Can you think of any examples of strings?**"
      ]
    },
    {
      "cell_type": "markdown",
      "metadata": {
        "id": "BBEOeoONCT4D"
      },
      "source": [
        ">**Instructor Note:** Guide your students to the following definition:\n",
        "\n",
        "Strings are essentially any character combination in between quotes. They are most often used as a way of storing text. Strings are used frequently, because most of the data that humans create are text-based, such as restaurant reviews or emails."
      ]
    },
    {
      "cell_type": "code",
      "execution_count": 7,
      "metadata": {
        "colab": {
          "base_uri": "https://localhost:8080/"
        },
        "id": "Vi-hGPfvCT4D",
        "outputId": "744854f3-5932-488f-ab72-72deea805c1a"
      },
      "outputs": [
        {
          "data": {
            "text/plain": [
              "str"
            ]
          },
          "execution_count": 7,
          "metadata": {},
          "output_type": "execute_result"
        }
      ],
      "source": [
        "s = \"Hello world\"\n",
        "type(s)"
      ]
    },
    {
      "cell_type": "code",
      "execution_count": null,
      "metadata": {
        "id": "3OpuiHl2CT4E",
        "outputId": "a1dcc89d-f8b2-420d-8a00-4d6e62ea680b"
      },
      "outputs": [
        {
          "data": {
            "text/plain": [
              "str"
            ]
          },
          "execution_count": 19,
          "metadata": {},
          "output_type": "execute_result"
        }
      ],
      "source": [
        "ss='Hi World!'\n",
        "type(ss)"
      ]
    },
    {
      "cell_type": "markdown",
      "metadata": {
        "id": "cgMRzMOfCT4F"
      },
      "source": [
        "Strings have a lot of associated methods and attributes that allow us to better understand and manipulate them.\n",
        "\n",
        "**In your own words, why would we want to manipulate or change strings?**"
      ]
    },
    {
      "cell_type": "markdown",
      "metadata": {
        "id": "f0ZHFEnRCT4G"
      },
      "source": [
        ">**Instructor Note:** Some examples include:\n",
        "- Fixing misspelled words.\n",
        "- Changing casing (upper, lower).\n",
        "- Looking for specific words."
      ]
    },
    {
      "cell_type": "code",
      "execution_count": null,
      "metadata": {
        "id": "qH8ztYgiCT4G",
        "outputId": "706d8558-0102-405a-dd26-9c27b16ab78c"
      },
      "outputs": [
        {
          "name": "stdout",
          "output_type": "stream",
          "text": [
            "Hello world\n"
          ]
        },
        {
          "data": {
            "text/plain": [
              "11"
            ]
          },
          "execution_count": 10,
          "metadata": {},
          "output_type": "execute_result"
        }
      ],
      "source": [
        "# Finding the length of the string:\n",
        "print(s)\n",
        "len(s)"
      ]
    },
    {
      "cell_type": "code",
      "execution_count": null,
      "metadata": {
        "colab": {
          "base_uri": "https://localhost:8080/"
        },
        "id": "SYmRNmtUmibJ",
        "outputId": "d03de4c0-fada-4625-de3f-aedd64e24054"
      },
      "outputs": [
        {
          "name": "stdout",
          "output_type": "stream",
          "text": [
            "Hello world\n"
          ]
        }
      ],
      "source": [
        "print(s)"
      ]
    },
    {
      "cell_type": "code",
      "execution_count": null,
      "metadata": {
        "colab": {
          "base_uri": "https://localhost:8080/"
        },
        "id": "GAZlX8dOCT4H",
        "outputId": "5b3c6c88-0973-44bc-f9d6-dd5b2dbb2a3c"
      },
      "outputs": [
        {
          "name": "stdout",
          "output_type": "stream",
          "text": [
            "Hello Menlo\n"
          ]
        }
      ],
      "source": [
        "# Replacing an element of a string:\n",
        "s2 = s.replace(\"world\", \"Menlo\")\n",
        "print(s2)"
      ]
    },
    {
      "cell_type": "markdown",
      "metadata": {
        "id": "RU7fUk4WCT4I"
      },
      "source": [
        "### String Indexing\n",
        "\n",
        "In some cases, we may want a part of the string (like the first character for alphabetizing or categorizing). Indexing helps us do that.\n",
        "\n",
        "We can extract characters at specific index locations in a string using indexing."
      ]
    },
    {
      "cell_type": "markdown",
      "metadata": {
        "id": "o5G2PQBVCT4I"
      },
      "source": [
        "### In Python we use [ ] for Indexing (for lists, tuples, disctionaries, ...)"
      ]
    },
    {
      "cell_type": "markdown",
      "metadata": {
        "id": "V47uI0xSCT4J"
      },
      "source": [
        "<img src=\"https://alik-courses.web.app/intro-to-ai/intro-to-python/images/indexing.jpeg\"/>"
      ]
    },
    {
      "cell_type": "code",
      "execution_count": 13,
      "metadata": {},
      "outputs": [
        {
          "data": {
            "text/plain": [
              "'M'"
            ]
          },
          "execution_count": 13,
          "metadata": {},
          "output_type": "execute_result"
        }
      ],
      "source": [
        "test_string = 'Monty Python'"
      ]
    },
    {
      "cell_type": "markdown",
      "metadata": {
        "id": "qae2C6KZCT4K"
      },
      "source": [
        "The number you enter after the variable name in brackets (the `[0]`) is called the index (its plural is indices).\n",
        "\n",
        "_Counting in Python and many other programming languages begins at zero, as opposed to one. This is called zero-based indexing._"
      ]
    },
    {
      "cell_type": "code",
      "execution_count": 15,
      "metadata": {},
      "outputs": [
        {
          "data": {
            "text/plain": [
              "'M'"
            ]
          },
          "execution_count": 15,
          "metadata": {},
          "output_type": "execute_result"
        }
      ],
      "source": [
        "# Indexing the first (index 0) character in the string:\n",
        "test_string[0]"
      ]
    },
    {
      "cell_type": "markdown",
      "metadata": {},
      "source": [
        "We can also select more than one character at a time. To do that, we use a colon to separate the starting chararcter's index (inclusive) and the end character's index (exclusive). This is called slicing."
      ]
    },
    {
      "cell_type": "code",
      "execution_count": 16,
      "metadata": {
        "id": "VkhbtJUlCT4L",
        "outputId": "35f3a51c-b3be-4359-9ec2-625e786630a3"
      },
      "outputs": [
        {
          "data": {
            "text/plain": [
              "'Mon'"
            ]
          },
          "execution_count": 16,
          "metadata": {},
          "output_type": "execute_result"
        }
      ],
      "source": [
        "# Objects at indexes 0, 1, and 2:\n",
        "test_string[0: 3]"
      ]
    },
    {
      "cell_type": "code",
      "execution_count": 14,
      "metadata": {
        "colab": {
          "base_uri": "https://localhost:8080/",
          "height": 35
        },
        "id": "wAHwhP2rCT4J",
        "outputId": "ab2f4476-2d5b-4259-cb35-744edccd4aa9"
      },
      "outputs": [
        {
          "data": {
            "text/plain": [
              "'Mont'"
            ]
          },
          "execution_count": 14,
          "metadata": {},
          "output_type": "execute_result"
        }
      ],
      "source": [
        "test_string[0: 4]"
      ]
    },
    {
      "cell_type": "code",
      "execution_count": 12,
      "metadata": {},
      "outputs": [
        {
          "data": {
            "text/plain": [
              "'ho'"
            ]
          },
          "execution_count": 12,
          "metadata": {},
          "output_type": "execute_result"
        }
      ],
      "source": [
        "test_string[-3:-1]"
      ]
    },
    {
      "cell_type": "markdown",
      "metadata": {
        "id": "f-KdlehTCT4L"
      },
      "source": [
        "## Indexing\n",
        "\n",
        "[start_index : end_index : step_size]"
      ]
    },
    {
      "cell_type": "markdown",
      "metadata": {
        "id": "NgVJtP28CT4M"
      },
      "source": [
        "Most ranges, or functions with ranges, have upper ends that are not inclusive. So, a range of `[0:5]` starts at `0` and stops before `5`.\n",
        "\n",
        "A good mental trick is to look at something like `[5:25]` and say out loud \"Starting at five and going up to (but not including) 25\"."
      ]
    },
    {
      "cell_type": "code",
      "execution_count": 17,
      "metadata": {
        "id": "UCGdKXUACT4N",
        "outputId": "f84be210-aa67-479b-a1d3-adf2d7aca3e8"
      },
      "outputs": [
        {
          "name": "stdout",
          "output_type": "stream",
          "text": [
            "Hello world\n"
          ]
        },
        {
          "data": {
            "text/plain": [
              "'world'"
            ]
          },
          "execution_count": 17,
          "metadata": {},
          "output_type": "execute_result"
        }
      ],
      "source": [
        "# From index 6 up to the end of the string:\n",
        "print(s)\n",
        "s[6:]"
      ]
    },
    {
      "cell_type": "code",
      "execution_count": null,
      "metadata": {
        "id": "YQ62BoqACT4N",
        "outputId": "0e308646-7a31-43df-c108-9b7f88770b47"
      },
      "outputs": [
        {
          "data": {
            "text/plain": [
              "'Hello world'"
            ]
          },
          "execution_count": 98,
          "metadata": {},
          "output_type": "execute_result"
        }
      ],
      "source": [
        "# No start or end specified:\n",
        "s[:]"
      ]
    },
    {
      "cell_type": "code",
      "execution_count": null,
      "metadata": {
        "id": "10EN23bcCT4N",
        "outputId": "08fac82e-a4f3-42e8-9ab6-386fb6d8f408"
      },
      "outputs": [
        {
          "data": {
            "text/plain": [
              "'d'"
            ]
          },
          "execution_count": 99,
          "metadata": {},
          "output_type": "execute_result"
        }
      ],
      "source": [
        "# Can we index from the right side?\n",
        "s[-1]"
      ]
    },
    {
      "cell_type": "markdown",
      "metadata": {
        "id": "LkC6i_WlCT4O"
      },
      "source": [
        "In addition to specifying a range, you can include a step size or character skip rate. This might be helpful if you want every other letter, for example. \n",
        "\n",
        "These indexing methods can also be used on lists, where asking for every other number might be a good use case."
      ]
    },
    {
      "cell_type": "code",
      "execution_count": null,
      "metadata": {
        "id": "jBWI7dixCT4O",
        "outputId": "b3699d28-331e-4818-ad56-7e4464e4b130"
      },
      "outputs": [
        {
          "name": "stdout",
          "output_type": "stream",
          "text": [
            "Hello world\n"
          ]
        },
        {
          "data": {
            "text/plain": [
              "'Hlowr'"
            ]
          },
          "execution_count": 22,
          "metadata": {},
          "output_type": "execute_result"
        }
      ],
      "source": [
        "# Every second character starting at 0 and ending at 10:\n",
        "print(s)\n",
        "s[0:10:2]"
      ]
    },
    {
      "cell_type": "code",
      "execution_count": null,
      "metadata": {
        "id": "dmgg9c_lCT4P",
        "outputId": "d9d18773-9817-4249-bb39-85c2254605b1"
      },
      "outputs": [
        {
          "data": {
            "text/plain": [
              "'Hlowrd'"
            ]
          },
          "execution_count": 101,
          "metadata": {},
          "output_type": "execute_result"
        }
      ],
      "source": [
        "# Define a step size of 2; i.e., every other character:\n",
        "s[::2]"
      ]
    },
    {
      "cell_type": "code",
      "execution_count": null,
      "metadata": {
        "id": "kNwc8cM9CT4P",
        "outputId": "3d765224-439e-470c-83a7-4a525afe4e1c"
      },
      "outputs": [
        {
          "data": {
            "text/plain": [
              "[0, 2, 4, 6]"
            ]
          },
          "execution_count": 12,
          "metadata": {},
          "output_type": "execute_result"
        }
      ],
      "source": [
        "# The same, but for a list of numbers:\n",
        "[0, 1, 2, 3, 4, 5, 6][::2]"
      ]
    },
    {
      "cell_type": "markdown",
      "metadata": {
        "id": "cK49oHKyCT4P"
      },
      "source": [
        "### Concatenating\n",
        "\n",
        "**In your own words, what is concatenating? When might you use it?**\n",
        "\n",
        "To add two strings together, type the first string, a `+` sign, and then the second string."
      ]
    },
    {
      "cell_type": "markdown",
      "metadata": {
        "id": "LLTeLCmFCT4Q"
      },
      "source": [
        "> **Instructor Note:** One easy example is adding a greeting to someone's name: `'Hello ' + name`."
      ]
    },
    {
      "cell_type": "code",
      "execution_count": null,
      "metadata": {
        "id": "x7CzPE88CT4Q",
        "outputId": "488a831c-bdf1-40d2-a49c-636f4644ba18"
      },
      "outputs": [
        {
          "data": {
            "text/plain": [
              "'Hello world'"
            ]
          },
          "execution_count": 13,
          "metadata": {},
          "output_type": "execute_result"
        }
      ],
      "source": [
        "x = 'Hello '\n",
        "y = 'world'\n",
        "\n",
        "x + y"
      ]
    },
    {
      "cell_type": "code",
      "execution_count": null,
      "metadata": {
        "id": "1HewmMSFCT4Q",
        "outputId": "f3354222-9030-4c59-ad9b-b188986e5f1c"
      },
      "outputs": [
        {
          "name": "stdout",
          "output_type": "stream",
          "text": [
            "You rolled a 3.\n"
          ]
        }
      ],
      "source": [
        "# Conversion from int to str is required!\n",
        "\n",
        "dice_roll = 3\n",
        "\n",
        "#print('You rolled a ' + dice_roll + '.')  \n",
        "print('You rolled a ' + str(dice_roll) + '.')  "
      ]
    },
    {
      "cell_type": "markdown",
      "metadata": {
        "id": "nqxfkGG7CT4R"
      },
      "source": [
        "#### Now You Try!\n",
        "<img src=\"https://alik-courses.web.app/intro-to-ai/intro-to-python/images/hands_on.jpg\" width=\"100\" height=\"100\" align=\"right\"/>\n",
        "\n",
        "Create your own string of at least 6 characters or more and:\n",
        "1. Test to make sure that it is at least 6 characters long. <br>\n",
        "1. Use concatenation to add another string to it. <br>"
      ]
    },
    {
      "cell_type": "code",
      "execution_count": 18,
      "metadata": {
        "id": "cw0lwGDtCT4R"
      },
      "outputs": [],
      "source": [
        "# Add your code here\n",
        "\n",
        "\n"
      ]
    },
    {
      "cell_type": "markdown",
      "metadata": {
        "id": "6FUi-9RtCT4S"
      },
      "source": [
        "## Lists\n",
        "\n",
        "**What are some examples of lists? What do you remember from before?**\n",
        "\n",
        "Lists can be composed of ints, floats, strings, or other lists, as well as other data types we haven't covered yet."
      ]
    },
    {
      "cell_type": "code",
      "execution_count": null,
      "metadata": {
        "id": "ns9728AJCT4S",
        "outputId": "c88ad034-d88e-4511-8e9e-f83b07703a7c"
      },
      "outputs": [
        {
          "name": "stdout",
          "output_type": "stream",
          "text": [
            "<class 'list'>\n",
            "[1, 2, 3, 4]\n"
          ]
        }
      ],
      "source": [
        "m = [1, 2, 3, 4]\n",
        "\n",
        "print(type(m))\n",
        "print(m)"
      ]
    },
    {
      "cell_type": "code",
      "execution_count": null,
      "metadata": {
        "id": "h2cxXWVTCT4S"
      },
      "outputs": [],
      "source": [
        "# The a variable's contents can be reassigned to another variable:\n",
        "a = m"
      ]
    },
    {
      "cell_type": "code",
      "execution_count": null,
      "metadata": {
        "id": "P1ngV9g4CT4T",
        "outputId": "fd437afc-d806-4390-c770-d5647f9978dd"
      },
      "outputs": [
        {
          "name": "stdout",
          "output_type": "stream",
          "text": [
            "[1, 2, 3, 4]\n"
          ]
        }
      ],
      "source": [
        "print(a)"
      ]
    },
    {
      "cell_type": "code",
      "execution_count": 19,
      "metadata": {
        "id": "7zblBf8TCT4T",
        "outputId": "ac80ce6b-d953-423e-827c-3395933133f4"
      },
      "outputs": [
        {
          "name": "stdout",
          "output_type": "stream",
          "text": [
            "['Carol', 'Anne', 'Jessica']\n"
          ]
        }
      ],
      "source": [
        "# List of strings:\n",
        "names = ['Carol', 'Anne', 'Jessica']\n",
        "print(names)"
      ]
    },
    {
      "cell_type": "markdown",
      "metadata": {
        "id": "SCCe6keDCT4T"
      },
      "source": [
        "### Methods\n",
        "\n",
        "Many types have what are known as \"methods:\" built-in functionality that allows them to do certain things. We've already seen a couple, such as the `.replace()` method, which lets you replace words in strings. \n",
        "\n",
        "Lists also have several methods that allow us to alter them, such as the `.append()` method, which allows us to add another element to the end of a list."
      ]
    },
    {
      "cell_type": "code",
      "execution_count": null,
      "metadata": {
        "id": "IfMT-YmuCT4U",
        "outputId": "713651fa-b630-4881-9c63-e009d2deb875"
      },
      "outputs": [
        {
          "data": {
            "text/plain": [
              "['Carol', 'Anne', 'Jessica', 'Michelle']"
            ]
          },
          "execution_count": 31,
          "metadata": {},
          "output_type": "execute_result"
        }
      ],
      "source": [
        "names.append('Michelle')\n",
        "names"
      ]
    },
    {
      "cell_type": "markdown",
      "metadata": {
        "id": "KFYjtkbNCT4U"
      },
      "source": [
        "Lists are indexed the same way as strings — this allows us to target a specific value or range of values in a list without having to create a new one."
      ]
    },
    {
      "cell_type": "code",
      "execution_count": null,
      "metadata": {
        "id": "Af4NmbVKCT4V",
        "outputId": "2c3f13ec-1c90-4cb1-8d9d-b7a8656217e1"
      },
      "outputs": [
        {
          "name": "stdout",
          "output_type": "stream",
          "text": [
            "['Anne', 'Jessica']\n",
            "['Carol', 'Jessica']\n"
          ]
        }
      ],
      "source": [
        "print(names[1:3])\n",
        "print(names[::2])   # Increments the index by 2 each time (skips alternate elements)."
      ]
    },
    {
      "cell_type": "code",
      "execution_count": null,
      "metadata": {
        "id": "C--5XmuFCT4V",
        "outputId": "fe5cf89c-ab2d-4e24-cc17-c9a2e16a9729"
      },
      "outputs": [
        {
          "data": {
            "text/plain": [
              "['Carol', 'Anne', 'Jessica', 'Michelle']"
            ]
          },
          "execution_count": 33,
          "metadata": {},
          "output_type": "execute_result"
        }
      ],
      "source": [
        "names"
      ]
    },
    {
      "cell_type": "code",
      "execution_count": null,
      "metadata": {
        "id": "6HONYr9ECT4W",
        "outputId": "5e51d1d8-c45d-4dc1-b059-1d4a25f9a14f"
      },
      "outputs": [
        {
          "data": {
            "text/plain": [
              "'Anne'"
            ]
          },
          "execution_count": 34,
          "metadata": {},
          "output_type": "execute_result"
        }
      ],
      "source": [
        "names[1]"
      ]
    },
    {
      "cell_type": "code",
      "execution_count": null,
      "metadata": {
        "id": "EmqarH7ACT4W",
        "outputId": "f6d3a5b8-6d0d-456c-f621-d07ff5e2b4b6"
      },
      "outputs": [
        {
          "data": {
            "text/plain": [
              "'nne'"
            ]
          },
          "execution_count": 28,
          "metadata": {},
          "output_type": "execute_result"
        }
      ],
      "source": [
        "# We can slice a value in a list as well:\n",
        "names[1][1:]"
      ]
    },
    {
      "cell_type": "markdown",
      "metadata": {
        "id": "OKSqACZACT4X"
      },
      "source": [
        "Note that we always read indexing from left to right. In the example above, the interpreter looks up names and gets the first element, which is the string `\"Anne\"`. Then, the slice (`[1:]`) adds the first index of that string to the end of the original string, evaluating to `\"nne\"`.\n",
        "\n",
        "Interestingly, the following works in the same way. Instead of having to look up the value of names, the list is directly specified (just read the line from left to right!)."
      ]
    },
    {
      "cell_type": "code",
      "execution_count": null,
      "metadata": {
        "id": "XpvXvQG3CT4X",
        "outputId": "be5f7319-3b96-4e99-9ee8-cc826ab2e27b"
      },
      "outputs": [
        {
          "data": {
            "text/plain": [
              "'nne'"
            ]
          },
          "execution_count": 35,
          "metadata": {},
          "output_type": "execute_result"
        }
      ],
      "source": [
        "['Carol', 'Anne', 'Jessica', 'Michelle'][1][1:]"
      ]
    },
    {
      "cell_type": "code",
      "execution_count": null,
      "metadata": {
        "id": "f78H38exCT4X",
        "outputId": "d4910511-a629-487f-8c0c-43ab078b5c5f"
      },
      "outputs": [
        {
          "name": "stdout",
          "output_type": "stream",
          "text": [
            "[1, 'a', 1.0, (1-1j)]\n"
          ]
        }
      ],
      "source": [
        "# Lists don't have to be the same type:\n",
        "l = [1, 'a', 1.0, 1-1j]\n",
        "print(l)"
      ]
    },
    {
      "cell_type": "code",
      "execution_count": null,
      "metadata": {
        "id": "I3DaoMobCT4Y",
        "outputId": "832d8cc9-682b-41e2-f9b5-2dbe15027e00"
      },
      "outputs": [
        {
          "name": "stdout",
          "output_type": "stream",
          "text": [
            "<class 'range'>\n"
          ]
        },
        {
          "data": {
            "text/plain": [
              "[10, 12, 14, 16, 18, 20, 22, 24, 26, 28]"
            ]
          },
          "execution_count": 31,
          "metadata": {},
          "output_type": "execute_result"
        }
      ],
      "source": [
        "# We can create a list of values in a range using the range() function:\n",
        "start = 10\n",
        "stop = 30\n",
        "step = 2\n",
        "print(type(range(start, stop, step)))\n",
        "\n",
        "# range() produces a \"generator,\" which is beyond the scope of this introduction!\n",
        "# It is often convenient to have the generator \n",
        "#    generate all of its values by converting it to a list:\n",
        "list(range(start, stop, step))"
      ]
    },
    {
      "cell_type": "code",
      "execution_count": null,
      "metadata": {
        "id": "yPTS37NFCT4Y",
        "outputId": "110da4cf-7f4a-4802-97ef-da6f48606b2e"
      },
      "outputs": [
        {
          "data": {
            "text/plain": [
              "[1, 3, 5, 7, 9]"
            ]
          },
          "execution_count": 32,
          "metadata": {},
          "output_type": "execute_result"
        }
      ],
      "source": [
        "list(range(1, 10, 2))"
      ]
    },
    {
      "cell_type": "markdown",
      "metadata": {
        "id": "1ubGSlU1CT4Y"
      },
      "source": [
        "Use the `.insert()` method to add values at specific indices."
      ]
    },
    {
      "cell_type": "code",
      "execution_count": null,
      "metadata": {
        "id": "tI_A_T4ECT4Z",
        "outputId": "88a7f19b-1844-4613-9cb4-aca1088ee03d"
      },
      "outputs": [
        {
          "data": {
            "text/plain": [
              "['Carol', 'Anne', 'Jessica', 'Michelle']"
            ]
          },
          "execution_count": 33,
          "metadata": {},
          "output_type": "execute_result"
        }
      ],
      "source": [
        "names"
      ]
    },
    {
      "cell_type": "code",
      "execution_count": null,
      "metadata": {
        "id": "TEXKrdIxCT4Z",
        "outputId": "75228dd1-8512-4dc0-a28d-75dcbbe8d85b"
      },
      "outputs": [
        {
          "data": {
            "text/plain": [
              "['Carol', 'Anne', 'Ellen', 'Jessica', 'Michelle']"
            ]
          },
          "execution_count": 34,
          "metadata": {},
          "output_type": "execute_result"
        }
      ],
      "source": [
        "names.insert(2, 'Ellen')\n",
        "names"
      ]
    },
    {
      "cell_type": "markdown",
      "metadata": {
        "id": "8M2MU3ZfCT4Z"
      },
      "source": [
        "The `.remove()` method can be used to remove specific values if they appear in a list."
      ]
    },
    {
      "cell_type": "code",
      "execution_count": null,
      "metadata": {
        "id": "ZRtoc2ENCT4a",
        "outputId": "83237ab6-f663-414f-e584-c69f052ecb89"
      },
      "outputs": [
        {
          "name": "stdout",
          "output_type": "stream",
          "text": [
            "['Carol', 'Anne', 'Ellen', 'Jessica', 'Michelle', 'Jeremy']\n",
            "['Carol', 'Anne', 'Ellen', 'Jessica', 'Michelle']\n"
          ]
        }
      ],
      "source": [
        "names.append('Jeremy')\n",
        "print(names)\n",
        "names.remove('Jeremy')\n",
        "print(names)"
      ]
    },
    {
      "cell_type": "markdown",
      "metadata": {
        "id": "PPZFJR0TCT4a"
      },
      "source": [
        "#### Now You Try!\n",
        "\n",
        "<img src=\"https://alik-courses.web.app/intro-to-ai/intro-to-python/images/hands_on.jpg\" width=\"100\" height=\"100\" align=\"right\"/>\n",
        "\n",
        "\n",
        "Create a list of five elements and do the following:\n",
        "\n",
        "1) Print the last three elements. <br>\n",
        "2) Insert two new elements at index 2 and append one element to the end. <br>\n",
        "3) Remove one element of your choice. <br>\n",
        "4) Print every other element in your list. <br>"
      ]
    },
    {
      "cell_type": "code",
      "execution_count": 29,
      "metadata": {
        "colab": {
          "base_uri": "https://localhost:8080/"
        },
        "id": "SKu3_FukCT4a",
        "outputId": "81e5027a-40b6-4bd8-a172-b69d2ea11427"
      },
      "outputs": [],
      "source": [
        "# Add your code here"
      ]
    },
    {
      "cell_type": "markdown",
      "metadata": {
        "id": "CWSro-14CT4b"
      },
      "source": [
        "## Tuples\n",
        "\n",
        "Tuples are similar to lists in that they store a sequence of various separate values. However, tuples are not mutable in that, once they are created, their values cannot be changed.\n",
        "\n",
        "**In your own words, why would creating something that cannot be changed later be helpful?**"
      ]
    },
    {
      "cell_type": "markdown",
      "metadata": {
        "id": "V683VkRzCT4c"
      },
      "source": [
        ">**Instructor Note:** Guide students to think about safety — what if you absolutely needed to make sure that one or two numbers or values stayed the same?"
      ]
    },
    {
      "cell_type": "code",
      "execution_count": null,
      "metadata": {
        "id": "TSg4FnNaCT4c",
        "outputId": "2dc37274-acc9-400a-d59f-07a6a062d010"
      },
      "outputs": [
        {
          "name": "stdout",
          "output_type": "stream",
          "text": [
            "(10, 20)\n",
            "<class 'tuple'>\n"
          ]
        }
      ],
      "source": [
        "point = (10, 20)\n",
        "print(point)\n",
        "print(type(point))"
      ]
    },
    {
      "cell_type": "code",
      "execution_count": null,
      "metadata": {
        "id": "Qv7gBUbUCT4d",
        "outputId": "c21205b4-3785-4ebd-ed54-22b92df8260b"
      },
      "outputs": [
        {
          "data": {
            "text/plain": [
              "10"
            ]
          },
          "execution_count": 32,
          "metadata": {},
          "output_type": "execute_result"
        }
      ],
      "source": [
        "# They can be sliced, just like lists and strings:\n",
        "point[0]"
      ]
    },
    {
      "cell_type": "code",
      "execution_count": null,
      "metadata": {
        "id": "yZwFjiyeCT4d",
        "outputId": "b3089896-e77a-4a47-d427-053a0b2ec524"
      },
      "outputs": [
        {
          "ename": "TypeError",
          "evalue": "'tuple' object does not support item assignment",
          "output_type": "error",
          "traceback": [
            "\u001b[0;31m---------------------------------------------------------------------------\u001b[0m",
            "\u001b[0;31mTypeError\u001b[0m                                 Traceback (most recent call last)",
            "\u001b[0;32m<ipython-input-33-b8b6783ec193>\u001b[0m in \u001b[0;36m<module>\u001b[0;34m()\u001b[0m\n\u001b[0;32m----> 1\u001b[0;31m \u001b[0mpoint\u001b[0m\u001b[0;34m[\u001b[0m\u001b[0;36m0\u001b[0m\u001b[0;34m]\u001b[0m\u001b[0;34m=\u001b[0m\u001b[0;36m23\u001b[0m\u001b[0;34m\u001b[0m\u001b[0;34m\u001b[0m\u001b[0m\n\u001b[0m",
            "\u001b[0;31mTypeError\u001b[0m: 'tuple' object does not support item assignment"
          ]
        }
      ],
      "source": [
        "point[0] = 23"
      ]
    },
    {
      "cell_type": "markdown",
      "metadata": {
        "id": "2zaByf4-CT4d"
      },
      "source": [
        "## Dictionaries\n",
        "\n",
        "Dictionaries are a non-ordered Python data type. Instead of using an ordered index to access data stored in a dictionary, we use a system of key-value pairs.\n",
        "\n",
        "**In your own words, why would we use this when we could just use a list?**\n",
        "\n",
        "- A key is similar to a variable name.\n",
        "- A value is similar to the value assigned to the variable.\n",
        "- Curly braces (`{ }`) enclose dictionaries. The first input in a dictionary pair is the \"key.\" The second input in a dictionary pair is the \"value.\" Remember to make `key:value` pairs!\n",
        "\n",
        "The general format looks like this:\n",
        "\n",
        "```\n",
        "my_dictionary = {\n",
        "    'key1': 'value1',\n",
        "    'key2': 'value2'\n",
        "}"
      ]
    },
    {
      "cell_type": "markdown",
      "metadata": {
        "id": "PqUELQ12CT4e"
      },
      "source": [
        ">**Instructor Note:** Some answers might include:\n",
        "- When there are lots of elements and we don't want to remember which element number is which.\n",
        "- When we don't care about the order in which things happen.\n",
        "     - As opposed to a list, which is a sequence of elements."
      ]
    },
    {
      "cell_type": "code",
      "execution_count": null,
      "metadata": {
        "id": "jesz7jQ_CT4e",
        "outputId": "366e35a3-47a0-4b28-a001-7591ec59bba9"
      },
      "outputs": [
        {
          "name": "stdout",
          "output_type": "stream",
          "text": [
            "<class 'dict'>\n",
            "{'key1': 1.0, 'key2': 2.0, 'key3': 3.0}\n"
          ]
        }
      ],
      "source": [
        "params = {'key1' : 1.0,\n",
        "          'key2' : 2.0,\n",
        "          'key3' : 3.0,}\n",
        "\n",
        "print(type(params))\n",
        "print(params)"
      ]
    },
    {
      "cell_type": "markdown",
      "metadata": {
        "id": "8EIcTjwdCT4e"
      },
      "source": [
        "The keys stay the same, but the values are changeable. You can also only have one occurrence of a key in a dictionary, but you can have all of the values be the same."
      ]
    },
    {
      "cell_type": "code",
      "execution_count": null,
      "metadata": {
        "id": "8Y1DcQdcCT4f",
        "outputId": "b707cf46-2bf7-4e23-fd6c-e7b7182d45d6"
      },
      "outputs": [
        {
          "data": {
            "text/plain": [
              "2.0"
            ]
          },
          "execution_count": 25,
          "metadata": {},
          "output_type": "execute_result"
        }
      ],
      "source": [
        "# Value for parameter2 in the params dictionary:\n",
        "params['key2']"
      ]
    },
    {
      "cell_type": "code",
      "execution_count": null,
      "metadata": {
        "id": "CvlGkkSnCT4f"
      },
      "outputs": [],
      "source": [
        "# Adding a new dictionary entry:\n",
        "params['key4'] = 'D'"
      ]
    },
    {
      "cell_type": "code",
      "execution_count": null,
      "metadata": {
        "id": "OJ4OWSHWCT4f",
        "outputId": "e2db15f1-e0f2-4284-d2c4-4b2c1b434a30"
      },
      "outputs": [
        {
          "name": "stdout",
          "output_type": "stream",
          "text": [
            "{'key1': 1.0, 'key2': 2.0, 'key3': 3.0, 'key4': 'D'}\n"
          ]
        }
      ],
      "source": [
        "print(params)"
      ]
    },
    {
      "cell_type": "code",
      "execution_count": null,
      "metadata": {
        "id": "k0ZEsvdFCT4g"
      },
      "outputs": [],
      "source": [
        "# Reassigning the value of a key-value pair in the dictionary:\n",
        "params['key1'] = 'A'\n",
        "params['key2'] = 'B'"
      ]
    },
    {
      "cell_type": "code",
      "execution_count": null,
      "metadata": {
        "id": "lckFvbVlCT4g",
        "outputId": "6661c513-9f6d-4368-d68a-54cbd8a6c4da"
      },
      "outputs": [
        {
          "name": "stdout",
          "output_type": "stream",
          "text": [
            "{'key1': 'A', 'key2': 'B', 'key3': 3.0, 'key4': 'D'}\n"
          ]
        }
      ],
      "source": [
        "print(params)"
      ]
    },
    {
      "cell_type": "code",
      "execution_count": null,
      "metadata": {
        "id": "EPoNBqYaCT4g",
        "outputId": "c4146207-b807-4461-cfd1-e70458826dc0"
      },
      "outputs": [
        {
          "name": "stdout",
          "output_type": "stream",
          "text": [
            "Key 1 = A\n",
            "Key 2 = B\n",
            "Key 3 = 3.0\n",
            "Key 4 = D\n"
          ]
        }
      ],
      "source": [
        "print('Key 1 = ' + str(params['key1']))\n",
        "print('Key 2 = ' + str(params['key2']))\n",
        "print('Key 3 = ' + str(params['key3']))\n",
        "print('Key 4 = ' + str(params['key4']))"
      ]
    },
    {
      "cell_type": "markdown",
      "metadata": {},
      "source": [
        "Dictionaries also have methods.\n",
        "\n",
        "Convert a dictionary to a list of tuples (key-value pairs). This is later used to conveniently loop through a dictionary."
      ]
    },
    {
      "cell_type": "code",
      "execution_count": null,
      "metadata": {
        "id": "bryDUM7fCT4h",
        "outputId": "5cc2ee3d-eeca-4bb0-93b5-61632d4b972e"
      },
      "outputs": [
        {
          "data": {
            "text/plain": [
              "[('key1', 'A'), ('key2', 'B'), ('key3', 3.0), ('key4', 'D')]"
            ]
          },
          "execution_count": 32,
          "metadata": {},
          "output_type": "execute_result"
        }
      ],
      "source": [
        "list(params.items())"
      ]
    },
    {
      "cell_type": "code",
      "execution_count": null,
      "metadata": {
        "id": "tw62SffzCT4i",
        "outputId": "0f0996e8-9c41-42c2-a2c6-e9f785e5d7ee"
      },
      "outputs": [
        {
          "data": {
            "text/plain": [
              "dict_keys(['key1', 'key2', 'key3', 'key4'])"
            ]
          },
          "execution_count": 35,
          "metadata": {},
          "output_type": "execute_result"
        }
      ],
      "source": [
        "params.keys()"
      ]
    },
    {
      "cell_type": "code",
      "execution_count": null,
      "metadata": {
        "id": "xzGPICRFCT4i",
        "outputId": "cd7ff3bf-a420-4afb-8a1f-5788f0a9d084"
      },
      "outputs": [
        {
          "data": {
            "text/plain": [
              "dict_values(['A', 'B', 3.0, 'D'])"
            ]
          },
          "execution_count": 36,
          "metadata": {},
          "output_type": "execute_result"
        }
      ],
      "source": [
        "params.values()"
      ]
    },
    {
      "cell_type": "markdown",
      "metadata": {
        "id": "i8MwF9itCT4j"
      },
      "source": [
        "<a id=\"types-quiz\"></a>\n",
        "## Practice: Types\n",
        "\n",
        "<img src=\"https://alik-courses.web.app/intro-to-ai/intro-to-python/images/hands_on.jpg\" width=\"100\" height=\"100\" align=\"right\"/>\n",
        "\n",
        "\n",
        "\n",
        "---\n",
        "\n",
        "_Identify the variable types of the following five items:_\n",
        "\n",
        "- `1`\n",
        "- `-1.0`\n",
        "- `1000000`\n",
        "- `'10'`\n",
        "- `('twenty-four')`\n",
        "\n",
        "\n",
        "### Challenge \n",
        "_Create a list of all numbers between `1` and `100`, inclusive, using the `range()` function discussed above. Can you slice the list so that we see every fifth number, starting at `4` and ending at `82`?_"
      ]
    },
    {
      "cell_type": "code",
      "execution_count": null,
      "metadata": {
        "id": "rTyBxmTxCT4j"
      },
      "outputs": [],
      "source": [
        "# Add your code here\n",
        "\n"
      ]
    },
    {
      "cell_type": "markdown",
      "metadata": {
        "id": "H5pKtOFgCT4j"
      },
      "source": [
        "<a id=\"functions-def\"></a>\n",
        "## Common Python Functions and Control Flow\n",
        "---\n",
        "\n",
        "\n",
        "<img src=\"https://alik-courses.web.app/intro-to-ai/intro-to-python/images/control.png\"/>\n",
        "\n",
        "---\n",
        "In this section, we are going to tackle some common design patterns in Python. The first is the concept of control flow — this is how our programs will return different results based on specific inputs. Second, we'll cover basic functions — these let us create snippets of code that we can call later in a script, which creates code that's easier to read and maintain. Remember, we're going to be reading code much more often than writing it!"
      ]
    },
    {
      "cell_type": "markdown",
      "metadata": {
        "id": "UNUjpfOaCT4k"
      },
      "source": [
        "## `if… else` Statements\n",
        "\n",
        "In Python, indentation matters! This is especially true when we look at the control structures in this lesson. In each case, a block of indented code is only run some of the time. There will always be a condition in the line preceding the indented block that determines whether the indented code is run or skipped.\n",
        "\n",
        "### `if` Statement\n",
        "The simplest example of a control structure is the `if` statement. We start with `if`, followed by something that can evaluate to `True` or `False` (such as any of the comparison operators we discussed earlier)."
      ]
    },
    {
      "cell_type": "code",
      "execution_count": null,
      "metadata": {
        "id": "vx6u84s1CT4k",
        "outputId": "718c2eba-6280-4010-c712-6d68c8ced9c6"
      },
      "outputs": [
        {
          "name": "stdout",
          "output_type": "stream",
          "text": [
            "The integer 1 is equal to the integer 1.\n",
            "Is the next indented line run, too?\n"
          ]
        }
      ],
      "source": [
        "if 1 == 1:\n",
        "    print('The integer 1 is equal to the integer 1.')\n",
        "    print('Is the next indented line run, too?')"
      ]
    },
    {
      "cell_type": "code",
      "execution_count": null,
      "metadata": {
        "id": "PJhGW8o7CT4l"
      },
      "outputs": [],
      "source": [
        "if 'one' == 'two':\n",
        "    print(\"The string 'one' is equal to the string 'two'.\")\n",
        "\n",
        "print('---')\n",
        "print('These two lines are not indented, so they are always run next.')"
      ]
    },
    {
      "cell_type": "markdown",
      "metadata": {
        "id": "ky6RsultCT4l"
      },
      "source": [
        "Notice that, in Python, the line before every indented block must end with a colon (`:`). In fact, it turns out that the `if` statement has a very specific syntax:\n",
        "\n",
        "```\n",
        "if <expression>:\n",
        "    <one or more indented lines>\n",
        "```\n",
        "\n",
        "When the `if` statement is run, the expression is evaluated to `True` or `False` by applying the built-in `bool()` function. If the expression evaluates to `True`, the code block is run; otherwise, it is skipped."
      ]
    },
    {
      "cell_type": "markdown",
      "metadata": {
        "id": "Zy88WUxWCT4m"
      },
      "source": [
        "#### Now You Try!\n",
        "<img src=\"https://alik-courses.web.app/intro-to-ai/intro-to-python/images/hands_on.jpg\" width=\"100\" height=\"100\" align=\"right\"/>\n",
        "\n",
        "\n",
        "Create your own string called `test_string`, then fill in the blanks here to create an `if... else` statement for whether or not the first character in `test_string` is a lowercase `a`."
      ]
    },
    {
      "cell_type": "code",
      "execution_count": null,
      "metadata": {
        "id": "hhUKkUkkCT4m"
      },
      "outputs": [],
      "source": [
        "# Add your code here\n",
        "    "
      ]
    },
    {
      "cell_type": "markdown",
      "metadata": {
        "id": "bWkJz7MZCT4m"
      },
      "source": [
        "#### `if` ... `else`\n",
        "\n",
        "In many cases, you may want to run some code if the expression evaluates to `True` and some other code if it evaluates to `False`. This is done using `else`. Note how it is at the same indentation level as the `if` statement, followed by a colon, followed by a code block. Let's see it in action."
      ]
    },
    {
      "cell_type": "code",
      "execution_count": null,
      "metadata": {
        "id": "OqwQ4MDkCT4n",
        "outputId": "5b2569d4-cb04-439e-96c3-d9c8ed0a2818"
      },
      "outputs": [
        {
          "name": "stdout",
          "output_type": "stream",
          "text": [
            "50 >= 30.\n",
            "The else code block was run instead of the first block.\n",
            "---\n",
            "These two lines are not indented, so they are always run next.\n"
          ]
        }
      ],
      "source": [
        "if 50 < 30:\n",
        "    print(\"50 < 30.\")\n",
        "else:\n",
        "    print(\"50 >= 30.\")\n",
        "    print(\"The else code block was run instead of the first block.\")\n",
        "\n",
        "print('---')\n",
        "print('These two lines are not indented, so they are always run next.')"
      ]
    },
    {
      "cell_type": "markdown",
      "metadata": {
        "id": "bIxfQCZ0CT4o"
      },
      "source": [
        "#### `if` ... `elif` ... `else`\n",
        "\n",
        "Sometimes, you might want to run one specific code block out of several. For example, perhaps we provide the user with three choices and want something different to happen with each one.\n",
        "\n",
        "`elif` stands for `else if`. It belongs on a line between the initial `if` statement and an (optional) `else`. "
      ]
    },
    {
      "cell_type": "code",
      "execution_count": null,
      "metadata": {
        "id": "58U8xCySCT4o",
        "outputId": "33e65318-5c01-4846-bef5-59acae53e421"
      },
      "outputs": [
        {
          "name": "stdout",
          "output_type": "stream",
          "text": [
            "Your health is average.\n",
            "Exercise and eat healthily!\n",
            "---\n",
            "These two lines are not indented, so they are always run next.\n"
          ]
        }
      ],
      "source": [
        "health = 55\n",
        "\n",
        "if health > 70 :\n",
        "    print('You are in great health!')\n",
        "elif health > 40:\n",
        "    print('Your health is average.') \n",
        "    print('Exercise and eat healthily!')\n",
        "elif health > 20:\n",
        "    print('Your health is ok.')\n",
        "    print('Dont eat meat!')\n",
        "else:\n",
        "    print('Your health is low.')\n",
        "    print('Please see a doctor now.')\n",
        "\n",
        "print('---')\n",
        "print('These two lines are not indented, so they are always run next.')"
      ]
    },
    {
      "cell_type": "markdown",
      "metadata": {
        "id": "QnRyLWn-CT4p"
      },
      "source": [
        "This code works by evaluating each condition in order. If a condition evaluates to `True`, the rest are skipped.\n",
        "\n",
        "**Let's walk through the code.** First, we let `health = 55`. We move to the next line at the same indentation level — the `if`. We evaluate `health > 70` to be `False`, so its code block is skipped. Next, the interpreter moves to the next line at the same outer indentation level, which happens to be the `elif`. It evaluates its expression, `health > 40`, to be `True`, so its code block is run. Now, because a code block was run, the rest of the `if` statement is skipped."
      ]
    },
    {
      "cell_type": "markdown",
      "metadata": {
        "id": "xp-BkJIUCT4q"
      },
      "source": [
        "## `for` Loops\n",
        "---\n",
        "<img src=\"https://alik-courses.web.app/intro-to-ai/intro-to-python/images/for.png\" align=\"center\"/>\n",
        "\n",
        "\n",
        "\n",
        "One of the primary purposes of using a programming language is to automate repetitive tasks. One example is the `for` loop.\n",
        "\n",
        "The `for` loop allows you to perform a task repeatedly on every element within an object, such as every name in a list.\n",
        "\n",
        "\n",
        "Let's see how the pseudocode works:\n",
        "\n",
        "```\n",
        "For each individual object in the list\n",
        "    perform task_A on said object.\n",
        "    Once task_A has been completed, move to next object in the list.\n",
        "```\n",
        "\n",
        "Let's say we wanted to print each of the names in the list, as well as \"is Awesome!\" In this case, we'd create a temporary variable for each element in the collection (`for name in names` would put each name, in sequence, under the temporary variable `name`) and then do something with it."
      ]
    },
    {
      "cell_type": "code",
      "execution_count": null,
      "metadata": {
        "colab": {
          "base_uri": "https://localhost:8080/"
        },
        "id": "B5YjQna8CT4r",
        "outputId": "e53d206a-539d-4d0b-cded-36da6db51900"
      },
      "outputs": [
        {
          "name": "stdout",
          "output_type": "stream",
          "text": [
            "Rebecca Bunch Is Awesome!\n",
            "Paula Proctor Is Awesome!\n",
            "Heather Davis Is Awesome!\n"
          ]
        }
      ],
      "source": [
        "names = ['Rebecca Bunch', 'Paula Proctor', 'Heather Davis']\n",
        "\n",
        "for item in names:\n",
        "    print(item + ' Is Awesome!')"
      ]
    },
    {
      "cell_type": "markdown",
      "metadata": {},
      "source": [
        "We can also, use the `range` function to get list elements by their indices."
      ]
    },
    {
      "cell_type": "code",
      "execution_count": null,
      "metadata": {
        "colab": {
          "base_uri": "https://localhost:8080/"
        },
        "id": "P4Lbjn1FzFkM",
        "outputId": "1ba4df00-ed6e-4731-d3fe-d803f6d64c22"
      },
      "outputs": [
        {
          "name": "stdout",
          "output_type": "stream",
          "text": [
            "Rebecca Bunch\n",
            "Paula Proctor\n",
            "Heather Davis\n"
          ]
        }
      ],
      "source": [
        "for i in range(3):\n",
        "  print(names[i])"
      ]
    },
    {
      "cell_type": "markdown",
      "metadata": {
        "id": "pb66e7NjCT4s"
      },
      "source": [
        "We can also combine `if... else` statements and `for` loops:"
      ]
    },
    {
      "cell_type": "code",
      "execution_count": null,
      "metadata": {
        "id": "0Res-6kxCT4s",
        "outputId": "91046bbe-3ded-4b64-a69d-1464f81df4f6"
      },
      "outputs": [
        {
          "data": {
            "text/plain": [
              "['Rebecca Bunch', 'Paula Proctor', 'Heather Davis']"
            ]
          },
          "execution_count": 60,
          "metadata": {},
          "output_type": "execute_result"
        }
      ],
      "source": [
        "names"
      ]
    },
    {
      "cell_type": "code",
      "execution_count": null,
      "metadata": {
        "id": "1P8NW-DDCT4t",
        "outputId": "2f2f693b-9270-41d1-c070-7c51edcec3de"
      },
      "outputs": [
        {
          "name": "stdout",
          "output_type": "stream",
          "text": [
            "Rebecca Bunch Is Awesome!\n",
            "Paula Proctor Is REALLY AWESOME!\n",
            "Heather Davis Is Awesome!\n"
          ]
        }
      ],
      "source": [
        "for item in names:\n",
        "    if item == 'Paula Proctor':\n",
        "        print(item + ' Is REALLY AWESOME!')\n",
        "    else:\n",
        "        print(item + ' Is Awesome!')"
      ]
    },
    {
      "cell_type": "markdown",
      "metadata": {
        "id": "rON6PkvOCT4t"
      },
      "source": [
        "#### Now You Try!\n",
        "<img src=\"https://alik-courses.web.app/intro-to-ai/intro-to-python/images/hands_on.jpg\" width=\"100\" height=\"100\" align=\"right\"/>\n",
        "Create a new `if... elif... else` and `for` loop combination, using the given list. "
      ]
    },
    {
      "cell_type": "code",
      "execution_count": 30,
      "metadata": {
        "id": "IKFjEe0UCT4u"
      },
      "outputs": [],
      "source": [
        "nums = [1, 23, 4, 6, 7, 76, 77, 35]\n",
        "\n",
        "# Loop over the elements of the list and print the even numbers.\n",
        "# Add your code here\n",
        "\n",
        "        \n"
      ]
    },
    {
      "cell_type": "markdown",
      "metadata": {
        "id": "HjuaxnprCT4u"
      },
      "source": [
        "## Functions\n",
        "---\n",
        "\n",
        "**When would you want to call the same code over and over again? What benefit does that have in programming?**\n",
        "\n"
      ]
    },
    {
      "cell_type": "markdown",
      "metadata": {
        "id": "r10TAYrJCT4u"
      },
      "source": [
        ">**Instructor Note:** Guide students to think about how using functions can make programming easier and ensure that we will only need to make changes/define options once in a script instead of multiple times."
      ]
    },
    {
      "cell_type": "markdown",
      "metadata": {
        "id": "MhUoc3zVCT4u"
      },
      "source": [
        "Similar to the way we can use `for` loops as a means of performing repetitive tasks on a series of objects, we can also create functions to perform repetitive tasks. Within a function, we can write a large block of action and then call the function whenever we want to use it.  \n",
        "\n",
        "\n",
        "```\n",
        "Define the function name and the requirements it needs.\n",
        "    Perform actions.\n",
        "    Optional: Return output.\n",
        "```\n",
        "\n",
        "A function is defined like this:\n",
        "\n",
        "```python\n",
        "def function_name(arguments):\n",
        "    # Do things here.\n",
        "    return value\n",
        "```\n",
        "\n",
        "We start with `def` and the name of our function, then a set of parentheses. The terms we put in the parentheses will be passed into the function and stored in those variables. Finally, if we want to store the results of the function, we use `return`, which will let us take some value and store it once the function has run, like this:\n",
        "\n",
        "```python\n",
        "x = function_name(20)\n",
        "```\n",
        "\n",
        "Whatever follows `return` when the function is defined will be passed out of the function and stored in `x`.\n",
        "\n",
        "Let's create a function that takes two numbers as arguments and returns their sum, difference, and product. "
      ]
    },
    {
      "cell_type": "code",
      "execution_count": null,
      "metadata": {
        "id": "CP2EhP3OCT4v",
        "outputId": "4ecfd62d-2b3a-49bf-9d47-136abb42a654",
        "scrolled": true
      },
      "outputs": [
        {
          "name": "stdout",
          "output_type": "stream",
          "text": [
            "8\n",
            "-2\n",
            "15\n"
          ]
        }
      ],
      "source": [
        "def arithmetic(num1, num2):\n",
        "    print(num1 + num2)\n",
        "    print(num1 - num2)\n",
        "    print(num1 * num2)\n",
        "\n",
        "    \n",
        "arithmetic(3,5)"
      ]
    },
    {
      "cell_type": "markdown",
      "metadata": {
        "id": "DMm4iU12CT4v"
      },
      "source": [
        "<a id=\"functions-codealong\"></a>\n",
        "## Common Functions Code-Along\n",
        "\n",
        "\n",
        "<img src=\"https://alik-courses.web.app/intro-to-ai/intro-to-python/images/hands_on.jpg\" width=\"100\" height=\"100\" align=\"right\"/>\n",
        "---\n",
        "\n",
        "In this section, we'll run through some basic functions and how we might use them."
      ]
    },
    {
      "cell_type": "markdown",
      "metadata": {
        "id": "Of_urcRQCT4w"
      },
      "source": [
        ">**Instructor Note:** In this section, we'll run through some basic function generation so students can see the process of how to create and use functions. It can be helpful to walk through the code and ask students what each line does. A good suggestion would be to delete the latter sections of code and create them for your students in person so that they can see your thought process. "
      ]
    },
    {
      "cell_type": "markdown",
      "metadata": {
        "id": "tuAZdLJ1CT4w"
      },
      "source": [
        "Write a function that takes the length of a side of a square as an argument and returns its area."
      ]
    },
    {
      "cell_type": "code",
      "execution_count": null,
      "metadata": {
        "id": "D5f2h_niCT4w",
        "outputId": "e0b962f6-0b76-492d-ce14-a618f6b7ba9d"
      },
      "outputs": [
        {
          "name": "stdout",
          "output_type": "stream",
          "text": [
            "16\n"
          ]
        }
      ],
      "source": [
        "def area_square(length):\n",
        "    return length ** 2\n",
        "\n",
        "print(area_square(4))"
      ]
    },
    {
      "cell_type": "markdown",
      "metadata": {
        "id": "JOmGr8AFCT4x"
      },
      "source": [
        "Write a function that takes the height and width of a triangle and returns its area."
      ]
    },
    {
      "cell_type": "code",
      "execution_count": 31,
      "metadata": {
        "id": "YjWFKyv0CT4x",
        "outputId": "6fa3ae0d-d3cb-4140-c7f7-6bc9b2036203"
      },
      "outputs": [
        {
          "name": "stdout",
          "output_type": "stream",
          "text": [
            "6.0\n"
          ]
        }
      ],
      "source": [
        "def area_triangle(height, base):\n",
        "    return 0.5 * height * base\n",
        "\n",
        "print(area_triangle(2, 6))"
      ]
    },
    {
      "cell_type": "markdown",
      "metadata": {
        "id": "dV7LaMHICT4x"
      },
      "source": [
        "Write a function that takes a string as an argument and returns a tuple consisting of two elements:\n",
        "\n",
        "- A list of all of the characters in the string.\n",
        "- A count of the number of characters in the string."
      ]
    },
    {
      "cell_type": "code",
      "execution_count": null,
      "metadata": {
        "id": "uYi-X1v3CT4y",
        "outputId": "21331ddf-177c-48ec-cdf9-1fb0bbab33dc"
      },
      "outputs": [
        {
          "name": "stdout",
          "output_type": "stream",
          "text": [
            "(['L', 'i', 's', 'a', ' ', 'S', 'i', 'm', 'p', 's', 'o', 'n'], 12)\n"
          ]
        }
      ],
      "source": [
        "def list_and_count(word):\n",
        "    list_of_characters = []\n",
        "    for char in word:\n",
        "        list_of_characters.append(char)\n",
        "    return list_of_characters, len(word)\n",
        "\n",
        "print(list_and_count('Lisa Simpson'))"
      ]
    },
    {
      "cell_type": "markdown",
      "metadata": {
        "id": "qw2EwWtfCT4y"
      },
      "source": [
        "#### Now You Try!\n",
        "\n",
        "Write a function that takes two integers, passed as strings, and returns the sum, difference, and product as a tuple (with all values as integers)."
      ]
    },
    {
      "cell_type": "code",
      "execution_count": null,
      "metadata": {
        "id": "Yj4_o5NrCT4y"
      },
      "outputs": [],
      "source": [
        "#Add your code here\n",
        "\n"
      ]
    },
    {
      "cell_type": "markdown",
      "metadata": {
        "id": "fQs3sS1bCT4z"
      },
      "source": [
        "Write a function that takes a list as the argument and returns a tuple consisting of two elements:\n",
        "\n",
        "- A list with the items in reverse order.\n",
        "- A list of the items in the original list that have an odd index."
      ]
    },
    {
      "cell_type": "markdown",
      "metadata": {
        "id": "NZ5P0mY5CT4z"
      },
      "source": [
        "> **Instructor Note:** This function is a good example for introducing a couple of more advanced topics and could be written together with students versus walking them through it as it appears."
      ]
    },
    {
      "cell_type": "code",
      "execution_count": null,
      "metadata": {
        "id": "RNlz0DgVCT40",
        "outputId": "50d6a566-18d8-4cc6-f491-ab80aa76441d"
      },
      "outputs": [
        {
          "data": {
            "text/plain": [
              "(['Heather Davis', 'Paula Proctor', 'Rebecca Bunch'], ['Paula Proctor'])"
            ]
          },
          "execution_count": 145,
          "metadata": {},
          "output_type": "execute_result"
        }
      ],
      "source": [
        "def reverse_and_odd(input_list):\n",
        "    reversed_list = input_list[::-1]\n",
        "    odd_indices = []\n",
        "    for i in range(len(input_list)):\n",
        "        if i % 2 == 1:\n",
        "            odd_indices.append(input_list[i])\n",
        "    return reversed_list, odd_indices\n",
        "\n",
        "reverse_and_odd(names)"
      ]
    },
    {
      "cell_type": "markdown",
      "metadata": {
        "id": "pyFGdjdWCT44"
      },
      "source": [
        "## Take Home Practice: Functions\n",
        "\n",
        "<img src=\"https://alik-courses.web.app/intro-to-ai/intro-to-python/images/hands_on.jpg\" width=\"100\" height=\"100\" align=\"right\"/>\n",
        "\n",
        "---\n",
        "\n",
        "Can you tackle these challenges on your own?\n",
        "\n",
        "_Write a function that takes a word as an argument and returns the number of vowels in the word._\n"
      ]
    },
    {
      "cell_type": "code",
      "execution_count": null,
      "metadata": {
        "id": "Kkp3FhtuCT44"
      },
      "outputs": [],
      "source": [
        "# Add your code here"
      ]
    },
    {
      "cell_type": "markdown",
      "metadata": {},
      "source": [
        "_Write a function that takes in a list of animals. Have it print out each animal's name in FULL CAPITAL LETTERS._ \n",
        "\n",
        "- **Note:** You may need to do some outside research to find out how Python can capitalize all letters in a string! "
      ]
    },
    {
      "cell_type": "code",
      "execution_count": null,
      "metadata": {},
      "outputs": [],
      "source": [
        "# Add your code here"
      ]
    }
  ],
  "metadata": {
    "celltoolbar": "Slideshow",
    "colab": {
      "collapsed_sections": [
        "LQmdeWfvCT4A",
        "nujjuG7TCT4C",
        "RU7fUk4WCT4I",
        "nqxfkGG7CT4R",
        "PPZFJR0TCT4a",
        "CWSro-14CT4b",
        "2zaByf4-CT4d",
        "i8MwF9itCT4j",
        "H5pKtOFgCT4j",
        "Zy88WUxWCT4m",
        "bWkJz7MZCT4m",
        "bIxfQCZ0CT4o",
        "rON6PkvOCT4t",
        "HjuaxnprCT4u",
        "apa97l3dCT42",
        "pyFGdjdWCT44",
        "qu4jSnhNCT45"
      ],
      "provenance": []
    },
    "kernelspec": {
      "display_name": "Python 3.10.9 64-bit (microsoft store)",
      "language": "python",
      "name": "python3"
    },
    "language_info": {
      "codemirror_mode": {
        "name": "ipython",
        "version": 3
      },
      "file_extension": ".py",
      "mimetype": "text/x-python",
      "name": "python",
      "nbconvert_exporter": "python",
      "pygments_lexer": "ipython3",
      "version": "3.10.9"
    },
    "vscode": {
      "interpreter": {
        "hash": "1d6971dd49b9794e29936202b7e795af0a71863773ee7feabb9db3f4cad91916"
      }
    }
  },
  "nbformat": 4,
  "nbformat_minor": 0
}
